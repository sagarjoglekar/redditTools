{
 "cells": [
  {
   "cell_type": "code",
   "execution_count": 78,
   "metadata": {
    "ExecuteTime": {
     "end_time": "2019-07-04T13:53:37.066478Z",
     "start_time": "2019-07-04T13:53:36.963611Z"
    },
    "editable": false
   },
   "outputs": [],
   "source": [
    "import bz2\n",
    "import json\n",
    "import requests as rq\n",
    "import time"
   ]
  },
  {
   "cell_type": "code",
   "execution_count": 79,
   "metadata": {},
   "outputs": [],
   "source": [
    "import lzma"
   ]
  },
  {
   "cell_type": "code",
   "execution_count": 98,
   "metadata": {
    "ExecuteTime": {
     "end_time": "2019-07-04T13:53:37.474496Z",
     "start_time": "2019-07-04T13:53:37.470248Z"
    }
   },
   "outputs": [],
   "source": [
    "dump = \"/10TBdrive/datashare/Reddit/submissions/RS_2017-02.bz2\"\n",
    "# dump = \"/10TBdrive/datashare/Reddit/submissions/RS_2017-12.xz\""
   ]
  },
  {
   "cell_type": "code",
   "execution_count": 99,
   "metadata": {
    "ExecuteTime": {
     "end_time": "2019-07-04T13:53:38.583551Z",
     "start_time": "2019-07-04T13:53:38.337917Z"
    }
   },
   "outputs": [],
   "source": [
    "openedDump = bz2.BZ2File(dump, \"r\")\n",
    "# openedDump = lzma.open(dump)"
   ]
  },
  {
   "cell_type": "code",
   "execution_count": 100,
   "metadata": {
    "ExecuteTime": {
     "end_time": "2019-07-04T13:53:39.973331Z",
     "start_time": "2019-07-04T13:53:39.873451Z"
    }
   },
   "outputs": [
    {
     "name": "stdout",
     "output_type": "stream",
     "text": [
      "b'{\"contest_mode\":false,\"subreddit_id\":\"t5_2qwwd\",\"url\":\"https://i.reddituploads.com/572369dcd4ba4c09a2469699b541d0c2?fit=max&amp;h=1536&amp;w=1536&amp;s=cd34212ff8b47a01a272ce361df1bb08\",\"subreddit\":\"Honda\",\"archived\":false,\"selftext\":\"\",\"permalink\":\"/r/Honda/comments/5rc1f2/the_new_s2000/\",\"media\":null,\"author_flair_css_class\":null,\"suggested_sort\":null,\"score\":90,\"link_flair_text\":null,\"is_self\":false,\"preview\":{\"images\":[{\"resolutions\":[{\"height\":60,\"width\":108,\"url\":\"https://i.redditmedia.com/B3QKyDOIh83D7ergRLCM96dQJqvwS9DQL5GS9i-LYaI.jpg?fit=crop&amp;crop=faces%2Centropy&amp;arh=2&amp;w=108&amp;s=748620ea3d18e5a2469cddcc6aedea7f\"},{\"width\":216,\"url\":\"https://i.redditmedia.com/B3QKyDOIh83D7ergRLCM96dQJqvwS9DQL5GS9i-LYaI.jpg?fit=crop&amp;crop=faces%2Centropy&amp;arh=2&amp;w=216&amp;s=c169b1567750606290557e235aa5f67f\",\"height\":121},{\"height\":180,\"width\":320,\"url\":\"https://i.redditmedia.com/B3QKyDOIh83D7ergRLCM96dQJqvwS9DQL5GS9i-LYaI.jpg?fit=crop&amp;crop=faces%2Centropy&amp;arh=2&amp;w=320&amp;s=d16f5ba3a72e4083a30f1eb291adf315\"},{\"url\":\"https://i.redditmedia.com/B3QKyDOIh83D7ergRLCM96dQJqvwS9DQL5GS9i-LYaI.jpg?fit=crop&amp;crop=faces%2Centropy&amp;arh=2&amp;w=640&amp;s=2e57e0acfc9a80a7de13884460f83b91\",\"width\":640,\"height\":360},{\"url\":\"https://i.redditmedia.com/B3QKyDOIh83D7ergRLCM96dQJqvwS9DQL5GS9i-LYaI.jpg?fit=crop&amp;crop=faces%2Centropy&amp;arh=2&amp;w=960&amp;s=a260ba5d3acb453e18f77aad6b0253d2\",\"width\":960,\"height\":540},{\"width\":1080,\"url\":\"https://i.redditmedia.com/B3QKyDOIh83D7ergRLCM96dQJqvwS9DQL5GS9i-LYaI.jpg?fit=crop&amp;crop=faces%2Centropy&amp;arh=2&amp;w=1080&amp;s=bcc39d1cf9ef6e6b80920c75401b9232\",\"height\":607}],\"variants\":{},\"id\":\"J4LOQ3Q43zdJZx0uQm-qX7uQMns8jegaaGP5Gyh9dbg\",\"source\":{\"height\":864,\"url\":\"https://i.redditmedia.com/B3QKyDOIh83D7ergRLCM96dQJqvwS9DQL5GS9i-LYaI.jpg?s=672ceb0d5f55a28924f496973a80c1fe\",\"width\":1536}}],\"enabled\":true},\"hide_score\":false,\"author_flair_text\":null,\"edited\":false,\"gilded\":0,\"media_embed\":{},\"brand_safe\":true,\"post_hint\":\"link\",\"over_18\":false,\"link_flair_css_class\":null,\"distinguished\":null,\"locked\":false,\"spoiler\":false,\"created_utc\":1485907200,\"thumbnail\":\"https://b.thumbs.redditmedia.com/G3hptpUsmSmhEbauaMSxMp_m50dss1oTWIMehoTg8PA.jpg\",\"retrieved_on\":1489495262,\"stickied\":false,\"hidden\":false,\"quarantine\":false,\"id\":\"5rc1f2\",\"num_comments\":14,\"domain\":\"i.reddituploads.com\",\"secure_media\":null,\"author\":\"SRASC\",\"title\":\"The new S2000?\",\"secure_media_embed\":{}}\\n'\n",
      "b'{\"link_flair_text\":null,\"is_self\":true,\"author_flair_text\":null,\"edited\":false,\"hide_score\":false,\"gilded\":0,\"over_18\":false,\"media_embed\":{},\"brand_safe\":true,\"subreddit_id\":\"t5_2qh72\",\"contest_mode\":false,\"url\":\"https://www.reddit.com/r/Jokes/comments/5rc1f3/a_dyslexic_man/\",\"subreddit\":\"Jokes\",\"selftext\":\"[deleted]\",\"archived\":false,\"permalink\":\"/r/Jokes/comments/5rc1f3/a_dyslexic_man/\",\"author_flair_css_class\":null,\"score\":4,\"suggested_sort\":null,\"media\":null,\"retrieved_on\":1489495262,\"quarantine\":false,\"stickied\":false,\"hidden\":false,\"num_comments\":0,\"id\":\"5rc1f3\",\"author\":\"[deleted]\",\"secure_media_embed\":{},\"title\":\"a dyslexic man...\",\"domain\":\"self.Jokes\",\"secure_media\":null,\"link_flair_css_class\":null,\"distinguished\":null,\"locked\":false,\"spoiler\":false,\"thumbnail\":\"default\",\"created_utc\":1485907200}\\n'\n",
      "b'{\"link_flair_css_class\":null,\"locked\":false,\"spoiler\":false,\"created_utc\":1485907201,\"thumbnail\":\"https://b.thumbs.redditmedia.com/JCVdFJSsrNrECVdVOCV4yhgXTbNZgAzHDS9J6zlbQXY.jpg\",\"distinguished\":null,\"stickied\":false,\"hidden\":false,\"quarantine\":false,\"retrieved_on\":1489495262,\"domain\":\"youtu.be\",\"secure_media\":{\"oembed\":{\"version\":\"1.0\",\"width\":600,\"author_name\":\"Joe Rabone\",\"thumbnail_url\":\"https://i.ytimg.com/vi/BDNuqRGwRGA/hqdefault.jpg\",\"provider_name\":\"YouTube\",\"thumbnail_height\":360,\"author_url\":\"https://www.youtube.com/user/rabone1234\",\"type\":\"video\",\"provider_url\":\"https://www.youtube.com/\",\"html\":\"&lt;iframe width=\\\\\"600\\\\\" height=\\\\\"338\\\\\" src=\\\\\"https://www.youtube.com/embed/BDNuqRGwRGA?feature=oembed\\\\\" frameborder=\\\\\"0\\\\\" allowfullscreen&gt;&lt;/iframe&gt;\",\"title\":\"New England Patriots - NFL Super Bowl LI - Do Your Job - Motivational\",\"thumbnail_width\":480,\"height\":338},\"type\":\"youtube.com\"},\"author\":\"JRabone\",\"title\":\"I made a video for SB LI supporting our Pats!\",\"secure_media_embed\":{\"height\":338,\"content\":\"&lt;iframe width=\\\\\"600\\\\\" height=\\\\\"338\\\\\" src=\\\\\"https://www.youtube.com/embed/BDNuqRGwRGA?feature=oembed\\\\\" frameborder=\\\\\"0\\\\\" allowfullscreen&gt;&lt;/iframe&gt;\",\"scrolling\":false,\"width\":600},\"id\":\"5rc1f4\",\"num_comments\":1,\"archived\":false,\"selftext\":\"\",\"permalink\":\"/r/Patriots/comments/5rc1f4/i_made_a_video_for_sb_li_supporting_our_pats/\",\"contest_mode\":false,\"subreddit_id\":\"t5_2rx57\",\"url\":\"https://youtu.be/BDNuqRGwRGA\",\"subreddit\":\"Patriots\",\"media\":{\"type\":\"youtube.com\",\"oembed\":{\"thumbnail_url\":\"https://i.ytimg.com/vi/BDNuqRGwRGA/hqdefault.jpg\",\"provider_name\":\"YouTube\",\"thumbnail_height\":360,\"author_url\":\"https://www.youtube.com/user/rabone1234\",\"version\":\"1.0\",\"width\":600,\"author_name\":\"Joe Rabone\",\"html\":\"&lt;iframe width=\\\\\"600\\\\\" height=\\\\\"338\\\\\" src=\\\\\"https://www.youtube.com/embed/BDNuqRGwRGA?feature=oembed\\\\\" frameborder=\\\\\"0\\\\\" allowfullscreen&gt;&lt;/iframe&gt;\",\"title\":\"New England Patriots - NFL Super Bowl LI - Do Your Job - Motivational\",\"thumbnail_width\":480,\"height\":338,\"type\":\"video\",\"provider_url\":\"https://www.youtube.com/\"}},\"author_flair_css_class\":null,\"score\":0,\"suggested_sort\":null,\"preview\":{\"images\":[{\"resolutions\":[{\"height\":81,\"url\":\"https://i.redditmedia.com/gfiDzXszqlkfJAvRrln-EVReXwvUnx5bhbCB8CoeGYY.jpg?fit=crop&amp;crop=faces%2Centropy&amp;arh=2&amp;w=108&amp;s=6e23d48936591a89e97370c022cba978\",\"width\":108},{\"url\":\"https://i.redditmedia.com/gfiDzXszqlkfJAvRrln-EVReXwvUnx5bhbCB8CoeGYY.jpg?fit=crop&amp;crop=faces%2Centropy&amp;arh=2&amp;w=216&amp;s=6f11b856bb4b89c56ef1246fce5c3dd6\",\"width\":216,\"height\":162},{\"height\":240,\"width\":320,\"url\":\"https://i.redditmedia.com/gfiDzXszqlkfJAvRrln-EVReXwvUnx5bhbCB8CoeGYY.jpg?fit=crop&amp;crop=faces%2Centropy&amp;arh=2&amp;w=320&amp;s=d71eae53da57163340f8d88cd1b5153b\"}],\"id\":\"L_G3BWBxE9QbxtY5FrS_z9djZSKBbh05HI-rozWHpew\",\"source\":{\"height\":360,\"width\":480,\"url\":\"https://i.redditmedia.com/gfiDzXszqlkfJAvRrln-EVReXwvUnx5bhbCB8CoeGYY.jpg?s=b3fba69fa673c623fec831a64120bc03\"},\"variants\":{}}],\"enabled\":false},\"hide_score\":false,\"author_flair_text\":null,\"edited\":false,\"is_self\":false,\"link_flair_text\":null,\"over_18\":false,\"media_embed\":{\"width\":600,\"height\":338,\"content\":\"&lt;iframe width=\\\\\"600\\\\\" height=\\\\\"338\\\\\" src=\\\\\"https://www.youtube.com/embed/BDNuqRGwRGA?feature=oembed\\\\\" frameborder=\\\\\"0\\\\\" allowfullscreen&gt;&lt;/iframe&gt;\",\"scrolling\":false},\"brand_safe\":true,\"post_hint\":\"rich:video\",\"gilded\":0}\\n'\n",
      "b'{\"link_flair_css_class\":null,\"distinguished\":null,\"locked\":false,\"spoiler\":false,\"thumbnail\":\"default\",\"created_utc\":1485907201,\"retrieved_on\":1489495262,\"quarantine\":false,\"stickied\":false,\"hidden\":false,\"num_comments\":1,\"id\":\"5rc1f5\",\"author\":\"adamorn\",\"title\":\"Trump supporters - Do you feel that he is doing a good job so far? (Im trying to see things from another perspective)\",\"secure_media_embed\":{},\"secure_media\":null,\"domain\":\"self.AskReddit\",\"contest_mode\":false,\"subreddit_id\":\"t5_2qh1i\",\"subreddit\":\"AskReddit\",\"url\":\"https://www.reddit.com/r/AskReddit/comments/5rc1f5/trump_supporters_do_you_feel_that_he_is_doing_a/\",\"archived\":false,\"selftext\":\"[removed]\",\"permalink\":\"/r/AskReddit/comments/5rc1f5/trump_supporters_do_you_feel_that_he_is_doing_a/\",\"author_flair_css_class\":null,\"suggested_sort\":null,\"score\":1,\"media\":null,\"link_flair_text\":null,\"is_self\":true,\"author_flair_text\":null,\"edited\":false,\"hide_score\":false,\"gilded\":0,\"brand_safe\":true,\"media_embed\":{},\"over_18\":false}\\n'\n",
      "b'{\"selftext\":\"Now this is definetly a rumour. Talking to a few people i know who are pretty reliable but i wouldn\\'t give a 100% guarantee. Talk is Ben is having personal issues and has had a fallout with WB. They don\\'t know why the fallout happen, but they assume it\\'s over the push for The Batman Film before Ben is ready. Talks are going on at the moment if Ben isn\\'t happy with the new director he could step away. However i would assume Ben would stay on and do The Batman and maybe take a step back for a year or two until they plan on the next team up movie. No news on who the new Director is.\\\\n\\\\nAlso heard a rumour the Flash is delayed and they\\'re planning on using it as universe reset. I imagine if Justice League, Wonder Woman and The Batman don\\'t work out this could be a possibility. But as of now i doubt this one personally.\",\"archived\":false,\"permalink\":\"/r/DCEUleaks/comments/5rc1f6/rumour_ben_affleck_could_step_away_from_the_dceu/\",\"subreddit_id\":\"t5_3d4ob\",\"contest_mode\":false,\"subreddit\":\"DCEUleaks\",\"url\":\"https://www.reddit.com/r/DCEUleaks/comments/5rc1f6/rumour_ben_affleck_could_step_away_from_the_dceu/\",\"author_flair_css_class\":null,\"suggested_sort\":null,\"score\":0,\"media\":null,\"author_flair_text\":null,\"edited\":false,\"hide_score\":false,\"is_self\":true,\"link_flair_text\":null,\"media_embed\":{},\"brand_safe\":true,\"over_18\":false,\"gilded\":0,\"link_flair_css_class\":null,\"spoiler\":false,\"locked\":false,\"thumbnail\":\"self\",\"created_utc\":1485907202,\"distinguished\":null,\"quarantine\":false,\"stickied\":false,\"hidden\":false,\"retrieved_on\":1489495262,\"author\":\"lordarc\",\"secure_media_embed\":{},\"title\":\"RUMOUR: Ben Affleck could step away from the DCEU after JL and Batman.\",\"domain\":\"self.DCEUleaks\",\"secure_media\":null,\"num_comments\":27,\"id\":\"5rc1f6\"}\\n'\n",
      "b'{\"gilded\":0,\"media_embed\":{},\"brand_safe\":false,\"over_18\":true,\"is_self\":false,\"link_flair_text\":null,\"edited\":false,\"author_flair_text\":null,\"hide_score\":false,\"suggested_sort\":null,\"score\":1,\"author_flair_css_class\":null,\"media\":null,\"subreddit\":\"JACOMO\",\"url\":\"http://jacomo-xxx.com/%e2%80%93-white-monstersofcock-parker-kiki-%e2%80%93-video_a54da525b.html\",\"subreddit_id\":\"t5_3ez74\",\"contest_mode\":false,\"permalink\":\"/r/JACOMO/comments/5rc1f7/white_monstersofcock_parker_kiki/\",\"selftext\":\"\",\"archived\":false,\"num_comments\":0,\"id\":\"5rc1f7\",\"title\":\"\\\\u2013 White MonstersOfCock Parker Kiki \\\\u2013\",\"secure_media_embed\":{},\"author\":\"i_adore\",\"domain\":\"jacomo-xxx.com\",\"secure_media\":null,\"retrieved_on\":1489495262,\"quarantine\":false,\"hidden\":false,\"stickied\":false,\"distinguished\":null,\"created_utc\":1485907203,\"thumbnail\":\"default\",\"locked\":false,\"spoiler\":false,\"link_flair_css_class\":null}\\n'\n",
      "b'{\"brand_safe\":true,\"media_embed\":{},\"over_18\":false,\"gilded\":0,\"author_flair_text\":\"Capaldi\",\"edited\":false,\"hide_score\":false,\"link_flair_text\":\"Meme\",\"is_self\":false,\"author_flair_css_class\":\"capaldi\",\"score\":1,\"suggested_sort\":null,\"media\":null,\"selftext\":\"\",\"archived\":false,\"permalink\":\"/r/doctorwho/comments/5rc1f8/the_13th_doctor_we_deserve/\",\"contest_mode\":false,\"subreddit_id\":\"t5_2qhek\",\"subreddit\":\"doctorwho\",\"url\":\"https://i.redd.it/uklcvqqfz4dy.jpg\",\"author\":\"JakeM917\",\"secure_media_embed\":{},\"title\":\"The 13th Doctor we deserve\",\"domain\":\"i.redd.it\",\"secure_media\":null,\"num_comments\":2,\"id\":\"5rc1f8\",\"quarantine\":false,\"stickied\":false,\"hidden\":false,\"retrieved_on\":1489495262,\"spoiler\":false,\"locked\":false,\"thumbnail\":\"default\",\"created_utc\":1485907203,\"distinguished\":null,\"link_flair_css_class\":\"Removed\"}\\n'\n",
      "b'{\"permalink\":\"/r/chen/comments/5rc1f9/daily_chen_just_look_at_this_cat/\",\"archived\":false,\"selftext\":\"\",\"url\":\"https://i.imgur.com/BhWOnQU.png\",\"subreddit\":\"chen\",\"contest_mode\":false,\"subreddit_id\":\"t5_2rn60\",\"suggested_sort\":null,\"score\":27,\"author_flair_css_class\":null,\"media\":null,\"edited\":false,\"author_flair_text\":null,\"hide_score\":false,\"preview\":{\"images\":[{\"id\":\"q3nGQiJZvFFFYE5Fob_POPZXU4FDu_fXjC8dvwHcGxA\",\"source\":{\"height\":600,\"width\":600,\"url\":\"https://i.redditmedia.com/boVuZoE9ufCicpPgdFYn2c5CJVnQIIBRosLtfc9GgTg.png?s=f6871fd58829383a51e19badb12121d1\"},\"variants\":{},\"resolutions\":[{\"height\":108,\"url\":\"https://i.redditmedia.com/boVuZoE9ufCicpPgdFYn2c5CJVnQIIBRosLtfc9GgTg.png?fit=crop&amp;crop=faces%2Centropy&amp;arh=2&amp;w=108&amp;s=22a8a3436ec89894ae2f3f85724c3f32\",\"width\":108},{\"url\":\"https://i.redditmedia.com/boVuZoE9ufCicpPgdFYn2c5CJVnQIIBRosLtfc9GgTg.png?fit=crop&amp;crop=faces%2Centropy&amp;arh=2&amp;w=216&amp;s=eb603ae8ac57d30a1598fb5889215f15\",\"width\":216,\"height\":216},{\"height\":320,\"width\":320,\"url\":\"https://i.redditmedia.com/boVuZoE9ufCicpPgdFYn2c5CJVnQIIBRosLtfc9GgTg.png?fit=crop&amp;crop=faces%2Centropy&amp;arh=2&amp;w=320&amp;s=46d9da5ab2f09576d4b6c71749f09d61\"}]}],\"enabled\":true},\"link_flair_text\":null,\"is_self\":false,\"media_embed\":{},\"post_hint\":\"image\",\"brand_safe\":false,\"over_18\":false,\"gilded\":0,\"link_flair_css_class\":null,\"thumbnail\":\"https://b.thumbs.redditmedia.com/CtKrBVd7Gp3-8PwFuaz8T_b6UPmKkCMh9oM3tcYBHqU.jpg\",\"created_utc\":1485907203,\"spoiler\":false,\"locked\":false,\"distinguished\":null,\"quarantine\":false,\"hidden\":false,\"stickied\":false,\"retrieved_on\":1489495262,\"secure_media_embed\":{},\"title\":\"Daily Chen! Just look at this cat. \\\\ud83d\\\\ude3c\",\"author\":\"BobisOnlyBob\",\"secure_media\":null,\"domain\":\"i.imgur.com\",\"num_comments\":2,\"id\":\"5rc1f9\"}\\n'\n",
      "b'{\"author_flair_css_class\":null,\"score\":9,\"suggested_sort\":\"new\",\"media\":null,\"contest_mode\":false,\"subreddit_id\":\"t5_2r344\",\"url\":\"https://www.reddit.com/r/analog/comments/5rc1fa/monthly_self_promotion_february/\",\"subreddit\":\"analog\",\"selftext\":\"This thread is for you to promote your blog / flickr / 500px / web site / etc, but it must be about analog photography. To begin with, this thread will be monthly, but will be adjusted as needed. \\\\n\\\\nA new thread is created every month. To see the previous community threads, see [here](http://www.reddit.com/r/analog/search?q=flair%3A%22community%22&amp;restrict_sr=on&amp;sort=new&amp;t=all).\",\"archived\":false,\"permalink\":\"/r/analog/comments/5rc1fa/monthly_self_promotion_february/\",\"gilded\":0,\"over_18\":false,\"media_embed\":{},\"brand_safe\":true,\"is_self\":true,\"link_flair_text\":\"Community\",\"author_flair_text\":null,\"edited\":false,\"hide_score\":false,\"distinguished\":\"moderator\",\"locked\":false,\"spoiler\":false,\"created_utc\":1485907203,\"thumbnail\":\"self\",\"link_flair_css_class\":\"one\",\"num_comments\":37,\"id\":\"5rc1fa\",\"author\":\"ranalog\",\"title\":\"Monthly \\'Self Promotion\\' - February\",\"secure_media_embed\":{},\"secure_media\":null,\"domain\":\"self.analog\",\"retrieved_on\":1489495262,\"quarantine\":false,\"stickied\":false,\"hidden\":false}\\n'\n",
      "b'{\"media_embed\":{},\"over_18\":false,\"brand_safe\":false,\"gilded\":0,\"edited\":false,\"author_flair_text\":null,\"hide_score\":false,\"link_flair_text\":\"Game Thread\",\"is_self\":true,\"score\":11,\"suggested_sort\":\"qa\",\"author_flair_css_class\":null,\"media\":null,\"permalink\":\"/r/nbastreams/comments/5rc1fb/game_thread_houston_rockets_vs_sacramento_kings/\",\"selftext\":\"[removed]\",\"archived\":false,\"url\":\"https://www.reddit.com/r/nbastreams/comments/5rc1fb/game_thread_houston_rockets_vs_sacramento_kings/\",\"subreddit\":\"nbastreams\",\"subreddit_id\":\"t5_340mn\",\"contest_mode\":false,\"secure_media_embed\":{},\"title\":\"Game Thread: Houston Rockets vs Sacramento Kings (20:00:00 ET)\",\"author\":\"[deleted]\",\"domain\":\"self.nbastreams\",\"secure_media\":null,\"num_comments\":17,\"id\":\"5rc1fb\",\"quarantine\":false,\"hidden\":false,\"stickied\":false,\"retrieved_on\":1489495262,\"created_utc\":1485907203,\"thumbnail\":\"default\",\"locked\":false,\"spoiler\":false,\"distinguished\":null,\"link_flair_css_class\":\"gamethread\"}\\n'\n",
      "b'{\"hide_score\":false,\"preview\":{\"enabled\":false,\"images\":[{\"id\":\"h-9-bgrrQkLwIJQOYUFPzqG0SxFcCcGP9wNmU2SnjgU\",\"source\":{\"height\":647,\"url\":\"https://i.redditmedia.com/UYSMUqzH9gRn1Y6qt9aGyr1qN5k0NIlT_2ym8oX4C7k.jpg?s=6391df91093416a3785db1ba754341d4\",\"width\":1024},\"variants\":{},\"resolutions\":[{\"height\":68,\"url\":\"https://i.redditmedia.com/UYSMUqzH9gRn1Y6qt9aGyr1qN5k0NIlT_2ym8oX4C7k.jpg?fit=crop&amp;crop=faces%2Centropy&amp;arh=2&amp;w=108&amp;s=8215f34072aa04ae630a8590f2e89135\",\"width\":108},{\"width\":216,\"url\":\"https://i.redditmedia.com/UYSMUqzH9gRn1Y6qt9aGyr1qN5k0NIlT_2ym8oX4C7k.jpg?fit=crop&amp;crop=faces%2Centropy&amp;arh=2&amp;w=216&amp;s=cf3e63b6d5e1950eacf58ea917b5fafc\",\"height\":136},{\"height\":202,\"url\":\"https://i.redditmedia.com/UYSMUqzH9gRn1Y6qt9aGyr1qN5k0NIlT_2ym8oX4C7k.jpg?fit=crop&amp;crop=faces%2Centropy&amp;arh=2&amp;w=320&amp;s=de832d85716013c868971a2b89023a58\",\"width\":320},{\"url\":\"https://i.redditmedia.com/UYSMUqzH9gRn1Y6qt9aGyr1qN5k0NIlT_2ym8oX4C7k.jpg?fit=crop&amp;crop=faces%2Centropy&amp;arh=2&amp;w=640&amp;s=00fad6f3ed82a1dd9504c6147e77572f\",\"width\":640,\"height\":404},{\"height\":606,\"width\":960,\"url\":\"https://i.redditmedia.com/UYSMUqzH9gRn1Y6qt9aGyr1qN5k0NIlT_2ym8oX4C7k.jpg?fit=crop&amp;crop=faces%2Centropy&amp;arh=2&amp;w=960&amp;s=eb54e7a8dd47ff482771ce41be3e1685\"}]}]},\"edited\":false,\"author_flair_text\":null,\"is_self\":false,\"link_flair_text\":\"News Story\",\"media_embed\":{},\"brand_safe\":false,\"over_18\":false,\"post_hint\":\"link\",\"gilded\":0,\"permalink\":\"/r/DonaldTrumpWhiteHouse/comments/5rc1fc/exclusive_president_trumps_supreme_court_pick/\",\"selftext\":\"\",\"archived\":false,\"url\":\"http://ijr.com/2017/01/790802-exclusive-president-trumps-supreme-court-pick-confirmed/\",\"subreddit\":\"DonaldTrumpWhiteHouse\",\"subreddit_id\":\"t5_3iphx\",\"contest_mode\":false,\"media\":null,\"score\":1,\"suggested_sort\":null,\"author_flair_css_class\":null,\"hidden\":false,\"stickied\":false,\"quarantine\":false,\"retrieved_on\":1489495262,\"domain\":\"ijr.com\",\"secure_media\":null,\"secure_media_embed\":{},\"title\":\"Exclusive: President Trump\\'s Supreme Court Pick, Confirmed by Two High-Ranking Officials\",\"author\":\"pushshift_bot\",\"id\":\"5rc1fc\",\"num_comments\":1,\"link_flair_css_class\":\"news\",\"created_utc\":1485907203,\"thumbnail\":\"https://b.thumbs.redditmedia.com/0cbYJPTCZLM0LpYydacBZ71yi40dEketJ1Ov7iQ4a3k.jpg\",\"spoiler\":false,\"locked\":false,\"distinguished\":null}\\n'\n"
     ]
    }
   ],
   "source": [
    "count = 0\n",
    "for line in openedDump:\n",
    "    if count > 10:\n",
    "        break\n",
    "    print(repr(line))\n",
    "    count+=1"
   ]
  },
  {
   "cell_type": "code",
   "execution_count": 101,
   "metadata": {
    "ExecuteTime": {
     "end_time": "2019-07-04T13:53:49.652373Z",
     "start_time": "2019-07-04T13:53:49.573794Z"
    }
   },
   "outputs": [],
   "source": [
    "def getJson(url):\n",
    "    session_headers = {\n",
    "    'Host': 'www.reddit.com',\n",
    "    'Connection': 'keep-alive',\n",
    "    'Cache-Control': 'max-age=0',\n",
    "    'Upgrade-Insecure-Requests': '1',\n",
    "    'User-Agent': 'Mozilla/5.0 (Macintosh; Intel Mac OS X 10_13_1) AppleWebKit/537.36 (KHTML, like Gecko) Chrome/61.0.3163.100 Safari/537.36',\n",
    "    'Accept': 'text/html,application/xhtml+xml,application/xml;q=0.9,image/webp,image/apng,*/*;q=0.8',\n",
    "    #'Referer': 'http://localhost:9000/notebooks/Reddit/Notebooks/SuicideWatchSubreddit.ipynb'\n",
    "    'Accept-Encoding': 'gzip, deflate, br',\n",
    "    'Accept-Language': 'en-GB,en-US;q=0.8,en;q=0.6',\n",
    "    'Cookie': \"loid=00000000000gslzvdi.2.1507591930964.Z0FBQUFBQlozQWI3M243MTdFMUgzNWtQNzNVbzg5Z3NXYmxpLUdRTWVXdEpWQzBfbkxBSVNNVVF3dE1zQlN5cVMzeGtxZXlmT0JQY2JvTld2NWlVeGlGeFpkNnBYM2ZIYlNNR2xMWGFFS3hieDZpWEJ5OVlyTng0MUFZZjNYdjQ0ZURFNTFlSmlVRGw; edgebucket=T8nkTF0z7WPnNzlE8B; __gads=ID=ab9c1b0fcb7eaefc:T=1507591936:S=ALNI_Mao2tvEoyJzEDEuxxhfZBlOQHXlsA; eu_cookie_v2=3; _ga=GA1.2.1088810883.1507591931; __utma=55650728.1088810883.1507591931.1507912304.1507912553.14; __utmz=55650728.1507912553.14.11.utmcsr=reddit|utmccn=(not%20set)|utmcmd=hot|utmcct=comments; aa=1; _recentclicks2=t3_7cfzsx%2Ct3_7cfw08%2Ct3_7cdofu%2Ct3_7caog1%2Ct3_7cdvud; _recent_srs=t5_2qpzs%2Ct5_2qh1q%2Ct5_2qh49%2Ct5_2rtff%2Ct5_36buk%2Ct5_2r7yd%2Ct5_2rks3%2Ct5_3j2jr%2Ct5_2sumw%2Ct5_2xp2o; pc=r3; session_tracker=tPgx9U9yPt99jYRDqC.0.1510585492994.Z0FBQUFBQmFDYlNWcWZHclI5WWxDWW9kQ0dURk9FRU9BZjFJTURWZElzaldRbkROaEJUOWE1czRQUWxPUzUwOFFwY3R3ckI5VkNDUlhJc01NVEtEeHVWd25CdUpXWEI1X012RkJaS3cyNXdNbk5vOE9DSXp5ZlhuTzF3a2pxT2dLZ3laMDhtQlhib3k; initref=localhost\"\n",
    "    }\n",
    "\n",
    "    client = rq.session()\n",
    "    resp = client.get(url , headers=session_headers)\n",
    "    if resp.status_code == 200:\n",
    "        json_data = resp.json()\n",
    "        return json_data\n",
    "    else:\n",
    "        print(\"Failed to get page\")\n",
    "        return None\n",
    "def getSubredditId(json):\n",
    "    if type(json) == dict:\n",
    "        sub_id = json['data']['children'][0]['data']['subreddit_id']\n",
    "        return sub_id\n",
    "    else: \n",
    "        print(\"Invalid Format\")\n",
    "        return None\n",
    "\n",
    "def makeSubUrl(name):\n",
    "    return \"https://www.reddit.com/r/\" + name + \"/.json\"\n",
    "\n",
    "def getSubIds(RedditList):\n",
    "    subIds = {}\n",
    "    for name in RedditList:\n",
    "        json = getJson(makeSubUrl(name))\n",
    "        print (getSubredditId(json))\n",
    "        subIds[name] = getSubredditId(json)\n",
    "    return subIds\n",
    "\n",
    "def filterDumpbySub(filePath , subID_dict, limit=None):\n",
    "    import json\n",
    "    import bz2\n",
    "    \n",
    "    openedDump = bz2.BZ2File(filePath, \"r\")\n",
    "    count = 0\n",
    "    returnData = dict()\n",
    "    print(\"=============Parsing============\")\n",
    "    print (subID_dict)\n",
    "    st = time.time()\n",
    "    for line in openedDump:\n",
    "        lineData = json.loads(line.strip())\n",
    "        if (limit!=None and count > limit):\n",
    "            return returnData\n",
    "        if lineData['subreddit'] in subID_dict:\n",
    "            if lineData['subreddit'] not in returnData:\n",
    "                returnData[lineData['subreddit']] = []\n",
    "            postId = lineData['link_id'].strip().split('_')[1]\n",
    "            \n",
    "            if postId not in returnData[lineData['subreddit']]:\n",
    "                returnData[lineData['subreddit']].append(postId)\n",
    "        if count%100000 == 0:\n",
    "            end = time.time()\n",
    "            print(\"Done parsing %d posts in %d seconds\",(count,(end-st)))\n",
    "            st = time.time()\n",
    "        count+=1\n",
    "    return returnData\n",
    "\n",
    "\n",
    "def filterSubmissionsbySub(filePath , subID_dict, limit=None):\n",
    "    import json\n",
    "    import bz2\n",
    "    \n",
    "    openedDump = bz2.BZ2File(filePath, \"r\")\n",
    "    count = 0\n",
    "    returnData = dict()\n",
    "    print(\"=============Parsing============\")\n",
    "    print (subID_dict)\n",
    "    st = time.time()\n",
    "    for line in openedDump:\n",
    "        lineData = json.loads(line.strip())\n",
    "        if (limit!=None and count > limit):\n",
    "            return returnData\n",
    "        if lineData['subreddit_id'] in subID_dict:\n",
    "            if lineData['subreddit_id'] not in returnData:\n",
    "                returnData[lineData['subreddit_id']] = []\n",
    "            postId = lineData['id']\n",
    "            \n",
    "            if postId not in returnData[lineData['subreddit_id']]:\n",
    "                returnData[lineData['subreddit_id']].append(postId)\n",
    "        if count%100000 == 0:\n",
    "            end = time.time()\n",
    "            print(\"Done parsing %d posts in %d seconds\",(count,(end-st)))\n",
    "            st = time.time()\n",
    "        count+=1\n",
    "    return returnData\n",
    "\n",
    "\n",
    "\n",
    "def getSubmissionPermalinks(filePath , comments_Thresh = 20 , limit=None):\n",
    "    import json\n",
    "    import bz2\n",
    "    import lzma\n",
    "    \n",
    "    ext = filePath.split('.')[-1]\n",
    "    \n",
    "    if ext == 'bz2':\n",
    "        openedDump = bz2.BZ2File(filePath, \"r\")\n",
    "    elif ext == 'xz':\n",
    "        openedDump = lzma.open(dump)\n",
    "    else:\n",
    "        print (\"Invalid file type\")\n",
    "    count = 0\n",
    "    returnData = {}\n",
    "    print(\"=============Parsing============\")\n",
    "    print (subID_dict)\n",
    "    st = time.time()\n",
    "    for line in openedDump:\n",
    "        lineData = json.loads(line.strip())\n",
    "        if lineData['num_comments'] > comments_Thresh:\n",
    "            if (limit!=None and count > limit):\n",
    "                return returnData\n",
    "            try:\n",
    "                returnData[lineData['id']] = lineData['permalink']\n",
    "            except:\n",
    "                print(\"Permalink not found, moving on!\")\n",
    "        if count%100000 == 0:\n",
    "            end = time.time()\n",
    "            print(\"Done parsing %d posts in %d seconds\",(count,(end-st)))\n",
    "            st = time.time()\n",
    "        count+=1\n",
    "    return returnData"
   ]
  },
  {
   "cell_type": "code",
   "execution_count": 102,
   "metadata": {
    "ExecuteTime": {
     "end_time": "2019-07-04T13:54:05.445997Z",
     "start_time": "2019-07-04T13:54:05.441827Z"
    }
   },
   "outputs": [],
   "source": [
    "subreddits = [\"bipolar\" , \"BipolarReddit\" , \"BipolarSOs\" , \"Health\" , \"addiction\", \"depression\",\"SuicideWatch\",\"Anxiety\",\"Chicago\"] "
   ]
  },
  {
   "cell_type": "code",
   "execution_count": 103,
   "metadata": {
    "ExecuteTime": {
     "end_time": "2019-07-04T13:54:10.382836Z",
     "start_time": "2019-07-04T13:54:06.013875Z"
    }
   },
   "outputs": [
    {
     "name": "stdout",
     "output_type": "stream",
     "text": [
      "t5_2qnv4\n",
      "t5_2qzru\n",
      "t5_2zww6\n",
      "t5_2qh9z\n",
      "t5_2qwvc\n",
      "t5_2qqqf\n",
      "t5_2qpzs\n",
      "t5_2qmij\n",
      "t5_2qh2t\n"
     ]
    }
   ],
   "source": [
    "subID_dict = getSubIds(subreddits)"
   ]
  },
  {
   "cell_type": "code",
   "execution_count": 104,
   "metadata": {
    "ExecuteTime": {
     "end_time": "2019-07-04T13:54:35.404639Z",
     "start_time": "2019-07-04T13:54:35.386345Z"
    }
   },
   "outputs": [
    {
     "data": {
      "text/plain": [
       "{'Anxiety': 't5_2qmij',\n",
       " 'BipolarReddit': 't5_2qzru',\n",
       " 'BipolarSOs': 't5_2zww6',\n",
       " 'Chicago': 't5_2qh2t',\n",
       " 'Health': 't5_2qh9z',\n",
       " 'SuicideWatch': 't5_2qpzs',\n",
       " 'addiction': 't5_2qwvc',\n",
       " 'bipolar': 't5_2qnv4',\n",
       " 'depression': 't5_2qqqf'}"
      ]
     },
     "execution_count": 104,
     "metadata": {},
     "output_type": "execute_result"
    }
   ],
   "source": [
    "subID_dict"
   ]
  },
  {
   "cell_type": "code",
   "execution_count": 105,
   "metadata": {
    "ExecuteTime": {
     "start_time": "2019-07-04T13:55:09.042Z"
    }
   },
   "outputs": [
    {
     "name": "stdout",
     "output_type": "stream",
     "text": [
      "=============Parsing============\n",
      "{'bipolar': 't5_2qnv4', 'BipolarReddit': 't5_2qzru', 'BipolarSOs': 't5_2zww6', 'Health': 't5_2qh9z', 'addiction': 't5_2qwvc', 'depression': 't5_2qqqf', 'SuicideWatch': 't5_2qpzs', 'Anxiety': 't5_2qmij', 'Chicago': 't5_2qh2t'}\n",
      "Done parsing %d posts in %d seconds (0, 0.04129910469055176)\n",
      "Done parsing %d posts in %d seconds (100000, 9.788041114807129)\n",
      "Done parsing %d posts in %d seconds (200000, 9.797199487686157)\n",
      "Done parsing %d posts in %d seconds (300000, 10.040953159332275)\n",
      "Done parsing %d posts in %d seconds (400000, 9.609859228134155)\n",
      "Done parsing %d posts in %d seconds (500000, 9.667799472808838)\n",
      "Done parsing %d posts in %d seconds (600000, 9.889967203140259)\n",
      "Done parsing %d posts in %d seconds (700000, 9.680508852005005)\n",
      "Done parsing %d posts in %d seconds (800000, 9.499156951904297)\n",
      "Done parsing %d posts in %d seconds (900000, 9.932097911834717)\n",
      "Done parsing %d posts in %d seconds (1000000, 9.732749700546265)\n",
      "Done parsing %d posts in %d seconds (1100000, 9.438021421432495)\n",
      "Done parsing %d posts in %d seconds (1200000, 9.787269115447998)\n",
      "Done parsing %d posts in %d seconds (1300000, 9.59460186958313)\n",
      "Done parsing %d posts in %d seconds (1400000, 9.873613595962524)\n",
      "Done parsing %d posts in %d seconds (1500000, 9.710455656051636)\n",
      "Done parsing %d posts in %d seconds (1600000, 9.229313135147095)\n",
      "Done parsing %d posts in %d seconds (1700000, 9.68119215965271)\n",
      "Done parsing %d posts in %d seconds (1800000, 9.856078386306763)\n",
      "Done parsing %d posts in %d seconds (1900000, 9.672076940536499)\n",
      "Done parsing %d posts in %d seconds (2000000, 9.543843984603882)\n",
      "Done parsing %d posts in %d seconds (2100000, 9.882056713104248)\n",
      "Done parsing %d posts in %d seconds (2200000, 9.662194967269897)\n",
      "Done parsing %d posts in %d seconds (2300000, 9.480275392532349)\n",
      "Done parsing %d posts in %d seconds (2400000, 9.952917098999023)\n",
      "Done parsing %d posts in %d seconds (2500000, 9.858692646026611)\n",
      "Done parsing %d posts in %d seconds (2600000, 9.713979482650757)\n",
      "Done parsing %d posts in %d seconds (2700000, 9.874581098556519)\n",
      "Done parsing %d posts in %d seconds (2800000, 9.819016695022583)\n",
      "Done parsing %d posts in %d seconds (2900000, 9.537526607513428)\n",
      "Done parsing %d posts in %d seconds (3000000, 9.754247426986694)\n",
      "Done parsing %d posts in %d seconds (3100000, 9.909459829330444)\n",
      "Done parsing %d posts in %d seconds (3200000, 9.572255373001099)\n",
      "Done parsing %d posts in %d seconds (3300000, 9.188953161239624)\n",
      "Done parsing %d posts in %d seconds (3400000, 9.648070096969604)\n",
      "Done parsing %d posts in %d seconds (3500000, 9.680881023406982)\n",
      "Done parsing %d posts in %d seconds (3600000, 9.594624757766724)\n",
      "Done parsing %d posts in %d seconds (3700000, 9.53833818435669)\n",
      "Done parsing %d posts in %d seconds (3800000, 9.602047681808472)\n",
      "Done parsing %d posts in %d seconds (3900000, 10.078951358795166)\n",
      "Done parsing %d posts in %d seconds (4000000, 9.906097173690796)\n",
      "Done parsing %d posts in %d seconds (4100000, 9.524897336959839)\n",
      "Done parsing %d posts in %d seconds (4200000, 9.680658102035522)\n",
      "Done parsing %d posts in %d seconds (4300000, 9.752194881439209)\n",
      "Done parsing %d posts in %d seconds (4400000, 9.693930625915527)\n",
      "Done parsing %d posts in %d seconds (4500000, 9.404033422470093)\n",
      "Done parsing %d posts in %d seconds (4600000, 9.727473735809326)\n",
      "Done parsing %d posts in %d seconds (4700000, 9.835781574249268)\n",
      "Done parsing %d posts in %d seconds (4800000, 9.412843227386475)\n",
      "Done parsing %d posts in %d seconds (4900000, 9.944427251815796)\n",
      "Done parsing %d posts in %d seconds (5000000, 9.764197826385498)\n",
      "Done parsing %d posts in %d seconds (5100000, 9.911581039428711)\n",
      "Done parsing %d posts in %d seconds (5200000, 10.06195592880249)\n",
      "Done parsing %d posts in %d seconds (5300000, 9.988408088684082)\n",
      "Done parsing %d posts in %d seconds (5400000, 9.79311203956604)\n",
      "Done parsing %d posts in %d seconds (5500000, 9.98831844329834)\n",
      "Done parsing %d posts in %d seconds (5600000, 9.892346143722534)\n",
      "Done parsing %d posts in %d seconds (5700000, 9.914342164993286)\n",
      "Done parsing %d posts in %d seconds (5800000, 10.064409255981445)\n",
      "Done parsing %d posts in %d seconds (5900000, 9.77272343635559)\n",
      "Done parsing %d posts in %d seconds (6000000, 9.843841791152954)\n",
      "Done parsing %d posts in %d seconds (6100000, 10.032942771911621)\n",
      "Done parsing %d posts in %d seconds (6200000, 9.66203260421753)\n",
      "Done parsing %d posts in %d seconds (6300000, 10.25054669380188)\n",
      "Done parsing %d posts in %d seconds (6400000, 9.955703496932983)\n",
      "Done parsing %d posts in %d seconds (6500000, 9.688531875610352)\n",
      "Done parsing %d posts in %d seconds (6600000, 9.660031080245972)\n",
      "Done parsing %d posts in %d seconds (6700000, 9.951028108596802)\n",
      "Done parsing %d posts in %d seconds (6800000, 9.531012773513794)\n",
      "Done parsing %d posts in %d seconds (6900000, 9.28674864768982)\n",
      "Done parsing %d posts in %d seconds (7000000, 9.901687145233154)\n",
      "Done parsing %d posts in %d seconds (7100000, 9.860914468765259)\n",
      "Done parsing %d posts in %d seconds (7200000, 9.591004848480225)\n",
      "Done parsing %d posts in %d seconds (7300000, 9.878403186798096)\n",
      "Done parsing %d posts in %d seconds (7400000, 9.900643825531006)\n",
      "Done parsing %d posts in %d seconds (7500000, 9.882152557373047)\n",
      "Done parsing %d posts in %d seconds (7600000, 9.835759401321411)\n",
      "Done parsing %d posts in %d seconds (7700000, 9.834267854690552)\n",
      "Done parsing %d posts in %d seconds (7800000, 9.632667064666748)\n",
      "Done parsing %d posts in %d seconds (7900000, 9.913090944290161)\n",
      "Done parsing %d posts in %d seconds (8000000, 9.72943377494812)\n",
      "Done parsing %d posts in %d seconds (8100000, 9.491975545883179)\n",
      "Done parsing %d posts in %d seconds (8200000, 9.890039682388306)\n",
      "Done parsing %d posts in %d seconds (8300000, 9.81122374534607)\n",
      "Done parsing %d posts in %d seconds (8400000, 9.474990844726562)\n",
      "Done parsing %d posts in %d seconds (8500000, 9.630634546279907)\n"
     ]
    }
   ],
   "source": [
    "# postData = filterDumpbySub(dump,subID_dict)\n",
    "postData = getSubmissionPermalinks(dump,comments_Thresh= 10)"
   ]
  },
  {
   "cell_type": "code",
   "execution_count": 106,
   "metadata": {
    "ExecuteTime": {
     "start_time": "2019-07-04T13:58:00.690Z"
    }
   },
   "outputs": [
    {
     "data": {
      "text/plain": [
       "1126118"
      ]
     },
     "execution_count": 106,
     "metadata": {},
     "output_type": "execute_result"
    }
   ],
   "source": [
    "len(postData)"
   ]
  },
  {
   "cell_type": "code",
   "execution_count": 107,
   "metadata": {},
   "outputs": [],
   "source": [
    "import pickle as pkl\n",
    "pkl.dump(file=open('/10TBdrive/datashare/Reddit/Submissions022017_atleast10.pkl','wb'),obj=postData)"
   ]
  },
  {
   "cell_type": "code",
   "execution_count": 97,
   "metadata": {
    "ExecuteTime": {
     "start_time": "2019-07-04T13:58:03.528Z"
    }
   },
   "outputs": [
    {
     "data": {
      "text/plain": [
       "'/r/nba/comments/5lcgjd/game_thread_new_york_knicks_1616_houston_rockets/'"
      ]
     },
     "execution_count": 97,
     "metadata": {},
     "output_type": "execute_result"
    }
   ],
   "source": [
    "postData[list(postData.keys())[1]]"
   ]
  },
  {
   "cell_type": "code",
   "execution_count": 31,
   "metadata": {
    "ExecuteTime": {
     "end_time": "2019-01-09T18:05:00.306696Z",
     "start_time": "2019-01-09T18:05:00.302890Z"
    }
   },
   "outputs": [],
   "source": [
    "# import pickle as pkl\n",
    "# with open(\"/datasets_1/sagarj/IoPPN_collab/MentalHealth_2017_posts.pkl\",'w') as f:\n",
    "#     pkl.dump(postData,f)"
   ]
  },
  {
   "cell_type": "code",
   "execution_count": 32,
   "metadata": {
    "ExecuteTime": {
     "end_time": "2019-01-09T18:05:00.584451Z",
     "start_time": "2019-01-09T18:05:00.576583Z"
    }
   },
   "outputs": [
    {
     "ename": "KeyError",
     "evalue": "'depression'",
     "output_type": "error",
     "traceback": [
      "\u001b[0;31m---------------------------------------------------------------------------\u001b[0m",
      "\u001b[0;31mKeyError\u001b[0m                                  Traceback (most recent call last)",
      "\u001b[0;32m<ipython-input-32-ff7dd13c6c7b>\u001b[0m in \u001b[0;36m<module>\u001b[0;34m()\u001b[0m\n\u001b[0;32m----> 1\u001b[0;31m \u001b[0mlen\u001b[0m\u001b[0;34m(\u001b[0m\u001b[0mlist\u001b[0m\u001b[0;34m(\u001b[0m\u001b[0mset\u001b[0m\u001b[0;34m(\u001b[0m\u001b[0mpostData\u001b[0m\u001b[0;34m[\u001b[0m\u001b[0;34m'depression'\u001b[0m\u001b[0;34m]\u001b[0m\u001b[0;34m)\u001b[0m\u001b[0;34m)\u001b[0m\u001b[0;34m)\u001b[0m\u001b[0;34m\u001b[0m\u001b[0m\n\u001b[0m",
      "\u001b[0;31mKeyError\u001b[0m: 'depression'"
     ]
    }
   ],
   "source": [
    "len(list(set(postData['depression'])))"
   ]
  },
  {
   "cell_type": "code",
   "execution_count": null,
   "metadata": {
    "ExecuteTime": {
     "start_time": "2019-01-05T14:57:19.528Z"
    }
   },
   "outputs": [],
   "source": [
    "# import pickle as pkl\n",
    "# with open(\"ChangemyView2017.pkl\",'w') as f:\n",
    "#     pkl.dump(postData['changemyview'],f)"
   ]
  },
  {
   "cell_type": "code",
   "execution_count": null,
   "metadata": {
    "ExecuteTime": {
     "start_time": "2019-01-05T14:57:19.767Z"
    }
   },
   "outputs": [],
   "source": [
    "# with open(\"Filtered_posts_2017.json\",'w') as f:\n",
    "#     json.dump(postData,f)"
   ]
  },
  {
   "cell_type": "code",
   "execution_count": null,
   "metadata": {
    "collapsed": true
   },
   "outputs": [],
   "source": []
  }
 ],
 "metadata": {
  "kernelspec": {
   "display_name": "Python 3",
   "language": "python",
   "name": "python3"
  },
  "language_info": {
   "codemirror_mode": {
    "name": "ipython",
    "version": 3
   },
   "file_extension": ".py",
   "mimetype": "text/x-python",
   "name": "python",
   "nbconvert_exporter": "python",
   "pygments_lexer": "ipython3",
   "version": "3.6.3"
  },
  "toc": {
   "colors": {
    "hover_highlight": "#DAA520",
    "navigate_num": "#000000",
    "navigate_text": "#333333",
    "running_highlight": "#FF0000",
    "selected_highlight": "#FFD700",
    "sidebar_border": "#EEEEEE",
    "wrapper_background": "#FFFFFF"
   },
   "moveMenuLeft": true,
   "nav_menu": {
    "height": "12px",
    "width": "252px"
   },
   "navigate_menu": true,
   "number_sections": true,
   "sideBar": true,
   "threshold": 4,
   "toc_cell": false,
   "toc_section_display": "block",
   "toc_window_display": false,
   "widenNotebook": false
  }
 },
 "nbformat": 4,
 "nbformat_minor": 2
}
