{
 "cells": [
  {
   "cell_type": "code",
   "execution_count": 78,
   "metadata": {
    "ExecuteTime": {
     "end_time": "2019-07-04T13:53:37.066478Z",
     "start_time": "2019-07-04T13:53:36.963611Z"
    },
    "collapsed": true,
    "deletable": false,
    "editable": false
   },
   "outputs": [],
   "source": [
    "import bz2\n",
    "import json\n",
    "import requests as rq\n",
    "import time"
   ]
  },
  {
   "cell_type": "code",
   "execution_count": 79,
   "metadata": {
    "collapsed": true
   },
   "outputs": [],
   "source": [
    "import lzma"
   ]
  },
  {
   "cell_type": "code",
   "execution_count": 108,
   "metadata": {
    "ExecuteTime": {
     "end_time": "2019-07-04T13:53:37.474496Z",
     "start_time": "2019-07-04T13:53:37.470248Z"
    },
    "collapsed": true
   },
   "outputs": [],
   "source": [
    "dump = \"/10TBdrive/datashare/Reddit/submissions/RS_2017-03.bz2\"\n",
    "# dump = \"/10TBdrive/datashare/Reddit/submissions/RS_2017-12.xz\""
   ]
  },
  {
   "cell_type": "code",
   "execution_count": 109,
   "metadata": {
    "ExecuteTime": {
     "end_time": "2019-07-04T13:53:38.583551Z",
     "start_time": "2019-07-04T13:53:38.337917Z"
    },
    "collapsed": true
   },
   "outputs": [],
   "source": [
    "openedDump = bz2.BZ2File(dump, \"r\")\n",
    "# openedDump = lzma.open(dump)"
   ]
  },
  {
   "cell_type": "code",
   "execution_count": 110,
   "metadata": {
    "ExecuteTime": {
     "end_time": "2019-07-04T13:53:39.973331Z",
     "start_time": "2019-07-04T13:53:39.873451Z"
    }
   },
   "outputs": [
    {
     "name": "stdout",
     "output_type": "stream",
     "text": [
      "b'{\"subreddit\":\"49ers\",\"author\":\"PleaseNoTheDownvotes\",\"hidden\":false,\"link_flair_css_class\":null,\"id\":\"5wrk5g\",\"is_self\":true,\"edited\":false,\"selftext\":\"That\\'s the equivalent of him saying fuck off to the Redskins LTD right? I understand we have lots of cap and a coach he\\'s comfortable with. But doesn\\'t it feel like a slight at the Redskins because it\\'s like he saying, \\\\\"I\\'d much rather be in another place, with that guy you fired.\\\\\"\",\"score\":0,\"retrieved_on\":1489598541,\"domain\":\"self.49ers\",\"brand_safe\":true,\"contest_mode\":false,\"media\":null,\"secure_media_embed\":{},\"created_utc\":1488326400,\"archived\":false,\"distinguished\":null,\"secure_media\":null,\"locked\":false,\"thumbnail\":\"self\",\"url\":\"https://www.reddit.com/r/49ers/comments/5wrk5g/if_kirk_really_wants_to_be_in_sf/\",\"link_flair_text\":null,\"over_18\":false,\"author_flair_text\":null,\"suggested_sort\":null,\"quarantine\":false,\"subreddit_id\":\"t5_2rebv\",\"spoiler\":false,\"stickied\":false,\"hide_score\":false,\"author_flair_css_class\":null,\"permalink\":\"/r/49ers/comments/5wrk5g/if_kirk_really_wants_to_be_in_sf/\",\"media_embed\":{},\"title\":\"If Kirk really wants to be in SF...\",\"gilded\":0,\"num_comments\":6}\\n'\n",
      "b'{\"link_flair_css_class\":null,\"id\":\"5wrk5h\",\"is_self\":false,\"edited\":false,\"selftext\":\"\",\"score\":1,\"subreddit\":\"GoneWild_Curvy_Teens\",\"author\":\"Nidlet\",\"hidden\":false,\"secure_media\":null,\"distinguished\":null,\"locked\":false,\"domain\":\"gonwild.cf\",\"retrieved_on\":1489598541,\"brand_safe\":false,\"contest_mode\":false,\"media\":null,\"secure_media_embed\":{},\"created_utc\":1488326400,\"archived\":false,\"suggested_sort\":null,\"quarantine\":false,\"subreddit_id\":\"t5_3i0oa\",\"spoiler\":false,\"thumbnail\":\"default\",\"over_18\":true,\"link_flair_text\":null,\"url\":\"http://gonwild.cf/Q6WaFrD\",\"author_flair_text\":null,\"gilded\":0,\"num_comments\":0,\"stickied\":false,\"author_flair_css_class\":null,\"hide_score\":false,\"permalink\":\"/r/GoneWild_Curvy_Teens/comments/5wrk5h/just_trying_it_on/\",\"media_embed\":{},\"title\":\"Just trying it on\"}\\n'\n",
      "b'{\"stickied\":false,\"preview\":{\"images\":[{\"resolutions\":[{\"url\":\"https://i.redditmedia.com/vYZcf3_zF-9dwXIEbTcADqmxXhF-8CYTkoQhYtENMSU.jpg?fit=crop&amp;crop=faces%2Centropy&amp;arh=2&amp;w=108&amp;s=a2a97e7163094e44f7087bfc57717ef7\",\"height\":108,\"width\":108},{\"width\":216,\"height\":216,\"url\":\"https://i.redditmedia.com/vYZcf3_zF-9dwXIEbTcADqmxXhF-8CYTkoQhYtENMSU.jpg?fit=crop&amp;crop=faces%2Centropy&amp;arh=2&amp;w=216&amp;s=7b30e89e3ea6addbd97aa584f3131c51\"},{\"height\":320,\"url\":\"https://i.redditmedia.com/vYZcf3_zF-9dwXIEbTcADqmxXhF-8CYTkoQhYtENMSU.jpg?fit=crop&amp;crop=faces%2Centropy&amp;arh=2&amp;w=320&amp;s=ccab8b9a75080861b10dfda1fd1b166a\",\"width\":320},{\"width\":640,\"url\":\"https://i.redditmedia.com/vYZcf3_zF-9dwXIEbTcADqmxXhF-8CYTkoQhYtENMSU.jpg?fit=crop&amp;crop=faces%2Centropy&amp;arh=2&amp;w=640&amp;s=df239c61e68e14261214eec0c40aa767\",\"height\":640}],\"source\":{\"url\":\"https://i.redditmedia.com/vYZcf3_zF-9dwXIEbTcADqmxXhF-8CYTkoQhYtENMSU.jpg?s=6a3eeec3bf82fa69fa1e4306e05ca948\",\"height\":940,\"width\":940},\"variants\":{},\"id\":\"0uPFpWtOnAVRM-E073_MNWSUcu3gKzSjRlnWtm3WClQ\"}],\"enabled\":true},\"author_flair_css_class\":null,\"hide_score\":false,\"permalink\":\"/r/Turkey/comments/5wrk5i/is_this_all_true/\",\"media_embed\":{},\"title\":\"Is this all true?\",\"post_hint\":\"image\",\"gilded\":0,\"num_comments\":38,\"thumbnail\":\"https://b.thumbs.redditmedia.com/S3lg8cM-wjfJ3ANmgpfyfslmM4fI2E2Ez8_pqm3tAVc.jpg\",\"over_18\":false,\"link_flair_text\":null,\"url\":\"https://i.redd.it/m243t4oaooiy.jpg\",\"author_flair_text\":null,\"suggested_sort\":null,\"quarantine\":false,\"subreddit_id\":\"t5_2qlnu\",\"spoiler\":false,\"domain\":\"i.redd.it\",\"retrieved_on\":1489598541,\"brand_safe\":true,\"contest_mode\":false,\"media\":null,\"secure_media_embed\":{},\"archived\":false,\"created_utc\":1488326400,\"distinguished\":null,\"secure_media\":null,\"locked\":false,\"subreddit\":\"Turkey\",\"author\":\"serefafc\",\"hidden\":false,\"link_flair_css_class\":null,\"id\":\"5wrk5i\",\"is_self\":false,\"edited\":false,\"selftext\":\"\",\"score\":0}\\n'\n",
      "b'{\"quarantine\":false,\"suggested_sort\":null,\"spoiler\":false,\"subreddit_id\":\"t5_2qh33\",\"url\":\"https://i.redd.it/wpj7dcrrnoiy.png\",\"link_flair_text\":null,\"over_18\":false,\"thumbnail\":\"https://b.thumbs.redditmedia.com/a8fyJ1qbcRzrmDnwwHOBWEB-R5j5Al7xX4jYYjSutSQ.jpg\",\"author_flair_text\":null,\"post_hint\":\"image\",\"num_comments\":11,\"gilded\":0,\"stickied\":false,\"preview\":{\"images\":[{\"id\":\"h2igR7bLLSPs9lk16g5jZYYJc9mEQS0YJ57DxTzxGac\",\"variants\":{},\"source\":{\"width\":640,\"height\":640,\"url\":\"https://i.redditmedia.com/6n9BznGOqrL-7pLnhr9F5JJVYGeRgyh6SNY8DWpRDjg.png?s=2cf61886613a29e68ab1ed5ecd357b2c\"},\"resolutions\":[{\"height\":108,\"url\":\"https://i.redditmedia.com/6n9BznGOqrL-7pLnhr9F5JJVYGeRgyh6SNY8DWpRDjg.png?fit=crop&amp;crop=faces%2Centropy&amp;arh=2&amp;w=108&amp;s=6422fba8d33f0d3e430e7c2c1c432f48\",\"width\":108},{\"url\":\"https://i.redditmedia.com/6n9BznGOqrL-7pLnhr9F5JJVYGeRgyh6SNY8DWpRDjg.png?fit=crop&amp;crop=faces%2Centropy&amp;arh=2&amp;w=216&amp;s=5b88bc49826c4cfb3b420656ac193116\",\"height\":216,\"width\":216},{\"width\":320,\"height\":320,\"url\":\"https://i.redditmedia.com/6n9BznGOqrL-7pLnhr9F5JJVYGeRgyh6SNY8DWpRDjg.png?fit=crop&amp;crop=faces%2Centropy&amp;arh=2&amp;w=320&amp;s=d09e9d32ed8b8675f01b80f071b47c25\"},{\"url\":\"https://i.redditmedia.com/6n9BznGOqrL-7pLnhr9F5JJVYGeRgyh6SNY8DWpRDjg.png?fit=crop&amp;crop=faces%2Centropy&amp;arh=2&amp;w=640&amp;s=16e9c5329bfee9ee9f1c267e2ea4244d\",\"height\":640,\"width\":640}]}],\"enabled\":true},\"permalink\":\"/r/funny/comments/5wrk5j/this_lizard_must_be_fitting_in_at_his_middle/\",\"media_embed\":{},\"title\":\"This Lizard must be fitting in at his middle school\",\"hide_score\":false,\"author_flair_css_class\":null,\"is_self\":false,\"edited\":false,\"link_flair_css_class\":null,\"id\":\"5wrk5j\",\"selftext\":\"\",\"score\":130,\"subreddit\":\"funny\",\"author\":\"dmb453\",\"hidden\":false,\"distinguished\":null,\"secure_media\":null,\"locked\":false,\"contest_mode\":false,\"retrieved_on\":1489598541,\"domain\":\"i.redd.it\",\"brand_safe\":true,\"created_utc\":1488326400,\"archived\":false,\"media\":null,\"secure_media_embed\":{}}\\n'\n",
      "b'{\"link_flair_text\":\"OTHER\",\"over_18\":false,\"url\":\"https://www.youtube.com/watch?v=x6ThicKkfT4\",\"thumbnail\":\"default\",\"author_flair_text\":null,\"quarantine\":false,\"suggested_sort\":null,\"spoiler\":false,\"subreddit_id\":\"t5_3aw4y\",\"stickied\":false,\"title\":\"Creator named Punker remixes Whitewoods - Beach Walk, it\\'s one of the best remixes I\\'ve ever heard\",\"media_embed\":{\"width\":600,\"scrolling\":false,\"height\":338,\"content\":\"&lt;iframe width=\\\\\"600\\\\\" height=\\\\\"338\\\\\" src=\\\\\"https://www.youtube.com/embed/x6ThicKkfT4?feature=oembed\\\\\" frameborder=\\\\\"0\\\\\" allowfullscreen&gt;&lt;/iframe&gt;\"},\"permalink\":\"/r/pyrocynical/comments/5wrk5k/creator_named_punker_remixes_whitewoods_beach/\",\"author_flair_css_class\":null,\"hide_score\":false,\"num_comments\":0,\"gilded\":0,\"author\":\"[deleted]\",\"subreddit\":\"pyrocynical\",\"hidden\":false,\"edited\":false,\"is_self\":false,\"id\":\"5wrk5k\",\"link_flair_css_class\":\"orange\",\"score\":1,\"selftext\":\"[deleted]\",\"contest_mode\":false,\"brand_safe\":true,\"domain\":\"youtube.com\",\"retrieved_on\":1489598541,\"archived\":false,\"created_utc\":1488326400,\"secure_media_embed\":{\"width\":600,\"height\":338,\"scrolling\":false,\"content\":\"&lt;iframe width=\\\\\"600\\\\\" height=\\\\\"338\\\\\" src=\\\\\"https://www.youtube.com/embed/x6ThicKkfT4?feature=oembed\\\\\" frameborder=\\\\\"0\\\\\" allowfullscreen&gt;&lt;/iframe&gt;\"},\"media\":{\"type\":\"youtube.com\",\"oembed\":{\"author_url\":\"https://www.youtube.com/user/itsZerryX\",\"version\":\"1.0\",\"width\":600,\"thumbnail_width\":480,\"provider_name\":\"YouTube\",\"title\":\"Pyrocynicals Intro Remix\",\"type\":\"video\",\"thumbnail_height\":360,\"author_name\":\"PUNKER\",\"html\":\"&lt;iframe width=\\\\\"600\\\\\" height=\\\\\"338\\\\\" src=\\\\\"https://www.youtube.com/embed/x6ThicKkfT4?feature=oembed\\\\\" frameborder=\\\\\"0\\\\\" allowfullscreen&gt;&lt;/iframe&gt;\",\"height\":338,\"provider_url\":\"https://www.youtube.com/\",\"thumbnail_url\":\"https://i.ytimg.com/vi/x6ThicKkfT4/hqdefault.jpg\"}},\"locked\":false,\"distinguished\":null,\"secure_media\":{\"oembed\":{\"provider_url\":\"https://www.youtube.com/\",\"thumbnail_url\":\"https://i.ytimg.com/vi/x6ThicKkfT4/hqdefault.jpg\",\"html\":\"&lt;iframe width=\\\\\"600\\\\\" height=\\\\\"338\\\\\" src=\\\\\"https://www.youtube.com/embed/x6ThicKkfT4?feature=oembed\\\\\" frameborder=\\\\\"0\\\\\" allowfullscreen&gt;&lt;/iframe&gt;\",\"height\":338,\"author_name\":\"PUNKER\",\"thumbnail_height\":360,\"type\":\"video\",\"title\":\"Pyrocynicals Intro Remix\",\"provider_name\":\"YouTube\",\"thumbnail_width\":480,\"version\":\"1.0\",\"width\":600,\"author_url\":\"https://www.youtube.com/user/itsZerryX\"},\"type\":\"youtube.com\"}}\\n'\n",
      "b'{\"brand_safe\":true,\"retrieved_on\":1489598541,\"domain\":\"tomgarrett.house.gov\",\"contest_mode\":false,\"secure_media_embed\":{},\"media\":null,\"archived\":false,\"created_utc\":1488326401,\"locked\":false,\"distinguished\":null,\"secure_media\":null,\"author\":\"Anen-o-me\",\"subreddit\":\"GoldandBlack\",\"hidden\":false,\"id\":\"5wrk5l\",\"link_flair_css_class\":null,\"edited\":false,\"is_self\":false,\"score\":67,\"selftext\":\"\",\"preview\":{\"enabled\":false,\"images\":[{\"resolutions\":[{\"height\":108,\"url\":\"https://i.redditmedia.com/klAyKKz511iq8wFf-aln781q2veS5PsSRGBzZR4xiZs.jpg?fit=crop&amp;crop=faces%2Centropy&amp;arh=2&amp;w=108&amp;s=f4fa938fb677f9a3f83f19cdebbc0cb3\",\"width\":108},{\"height\":216,\"url\":\"https://i.redditmedia.com/klAyKKz511iq8wFf-aln781q2veS5PsSRGBzZR4xiZs.jpg?fit=crop&amp;crop=faces%2Centropy&amp;arh=2&amp;w=216&amp;s=52e0d740d518731d9058098585c4b10a\",\"width\":216},{\"width\":320,\"height\":320,\"url\":\"https://i.redditmedia.com/klAyKKz511iq8wFf-aln781q2veS5PsSRGBzZR4xiZs.jpg?fit=crop&amp;crop=faces%2Centropy&amp;arh=2&amp;w=320&amp;s=44d92af4d0134ffe5a55f716a5b48e27\"}],\"source\":{\"height\":480,\"url\":\"https://i.redditmedia.com/klAyKKz511iq8wFf-aln781q2veS5PsSRGBzZR4xiZs.jpg?s=237f358760b7e6c65c59cac8819dd6dd\",\"width\":480},\"variants\":{},\"id\":\"l_FU64QoycHDjAURK2zdlD_qY-zdSG0ITBZ-EODexig\"}]},\"stickied\":false,\"hide_score\":false,\"author_flair_css_class\":\"\",\"title\":\"Garrett introduces legislation to remove marijuana from controlled substances list\",\"media_embed\":{},\"permalink\":\"/r/GoldandBlack/comments/5wrk5l/garrett_introduces_legislation_to_remove/\",\"post_hint\":\"link\",\"gilded\":0,\"num_comments\":17,\"thumbnail\":\"https://b.thumbs.redditmedia.com/Q2tIW4heFiCCh4ozq4W6dAC6YjcZZ6Ny7G6mB7eSWGA.jpg\",\"over_18\":false,\"link_flair_text\":null,\"url\":\"https://tomgarrett.house.gov/media/press-releases/garrett-introduces-legislation-remove-marijuana-controlled-substances-list\",\"author_flair_text\":\"\\\\ud808\\\\udcbc\\\\ud808\\\\udd04\",\"suggested_sort\":null,\"quarantine\":false,\"subreddit_id\":\"t5_3ffci\",\"spoiler\":false}\\n'\n",
      "b'{\"hidden\":false,\"author\":\"[deleted]\",\"subreddit\":\"trees\",\"score\":1,\"selftext\":\"[deleted]\",\"id\":\"5wrk5m\",\"link_flair_css_class\":null,\"edited\":false,\"is_self\":false,\"secure_media_embed\":{},\"media\":null,\"archived\":false,\"created_utc\":1488326401,\"brand_safe\":false,\"retrieved_on\":1489598541,\"domain\":\"huffingtonpost.com\",\"contest_mode\":false,\"locked\":false,\"distinguished\":null,\"secure_media\":null,\"author_flair_text\":null,\"thumbnail\":\"default\",\"link_flair_text\":null,\"url\":\"http://www.huffingtonpost.com/entry/jeff-sessions-warns-america-marijuana-grocery-store_us_58b58d8de4b0a8a9b7863d93\",\"over_18\":false,\"subreddit_id\":\"t5_2r9vp\",\"spoiler\":false,\"suggested_sort\":null,\"quarantine\":false,\"author_flair_css_class\":null,\"hide_score\":false,\"media_embed\":{},\"title\":\"Jeff Sessions Warns Of An America With \\\\u2018Marijuana Sold At Every Corner Grocery Store\\\\u2019\",\"permalink\":\"/r/trees/comments/5wrk5m/jeff_sessions_warns_of_an_america_with_marijuana/\",\"stickied\":false,\"gilded\":0,\"num_comments\":1}\\n'\n",
      "b'{\"num_comments\":1,\"gilded\":0,\"media_embed\":{},\"title\":\"Can I get a tan while not harming my skin?\",\"permalink\":\"/r/SkincareAddiction/comments/5wrk5n/can_i_get_a_tan_while_not_harming_my_skin/\",\"author_flair_css_class\":null,\"hide_score\":false,\"stickied\":false,\"spoiler\":false,\"subreddit_id\":\"t5_2tbbg\",\"quarantine\":false,\"suggested_sort\":null,\"author_flair_text\":null,\"link_flair_text\":null,\"over_18\":false,\"url\":\"https://www.reddit.com/r/SkincareAddiction/comments/5wrk5n/can_i_get_a_tan_while_not_harming_my_skin/\",\"thumbnail\":\"default\",\"locked\":false,\"distinguished\":null,\"secure_media\":null,\"created_utc\":1488326402,\"archived\":false,\"secure_media_embed\":{},\"media\":null,\"contest_mode\":false,\"brand_safe\":true,\"domain\":\"self.SkincareAddiction\",\"retrieved_on\":1489598541,\"score\":1,\"selftext\":\"[removed]\",\"edited\":false,\"is_self\":true,\"id\":\"5wrk5n\",\"link_flair_css_class\":null,\"hidden\":false,\"author\":\"Somedude92929\",\"subreddit\":\"SkincareAddiction\"}\\n'\n",
      "b'{\"id\":\"5wrk5o\",\"link_flair_css_class\":null,\"edited\":false,\"is_self\":false,\"score\":1,\"selftext\":\"[deleted]\",\"author\":\"[deleted]\",\"subreddit\":\"AbandonedPorn\",\"hidden\":false,\"locked\":false,\"distinguished\":null,\"secure_media\":null,\"brand_safe\":true,\"retrieved_on\":1489598541,\"domain\":\"i.redd.it\",\"contest_mode\":false,\"secure_media_embed\":{},\"media\":null,\"archived\":false,\"created_utc\":1488326402,\"suggested_sort\":null,\"quarantine\":false,\"subreddit_id\":\"t5_2sh6t\",\"spoiler\":false,\"thumbnail\":\"default\",\"url\":\"https://i.redd.it/vam37ou6ooiy.jpg\",\"link_flair_text\":null,\"over_18\":false,\"author_flair_text\":null,\"gilded\":0,\"num_comments\":0,\"stickied\":false,\"hide_score\":false,\"author_flair_css_class\":null,\"media_embed\":{},\"title\":\"[OC] Abandoned school bus, in the country side of rural Kansas [4320 \\\\u00d7 2432]\",\"permalink\":\"/r/AbandonedPorn/comments/5wrk5o/oc_abandoned_school_bus_in_the_country_side_of/\"}\\n'\n",
      "b'{\"hide_score\":false,\"author_flair_css_class\":null,\"media_embed\":{},\"title\":\"Reddit is one heluva drug.\",\"permalink\":\"/r/guns/comments/5wrk5p/reddit_is_one_heluva_drug/\",\"stickied\":false,\"gilded\":0,\"num_comments\":1,\"author_flair_text\":null,\"thumbnail\":\"default\",\"url\":\"https://i.redd.it/7y3aqkmaooiy.jpg\",\"link_flair_text\":null,\"over_18\":false,\"subreddit_id\":\"t5_2qhc8\",\"spoiler\":false,\"suggested_sort\":null,\"quarantine\":false,\"secure_media_embed\":{},\"media\":null,\"created_utc\":1488326402,\"archived\":false,\"brand_safe\":false,\"domain\":\"i.redd.it\",\"retrieved_on\":1489598541,\"contest_mode\":false,\"locked\":false,\"distinguished\":null,\"secure_media\":null,\"hidden\":false,\"author\":\"[deleted]\",\"subreddit\":\"guns\",\"score\":0,\"selftext\":\"[deleted]\",\"id\":\"5wrk5p\",\"link_flair_css_class\":null,\"edited\":false,\"is_self\":false}\\n'\n",
      "b'{\"locked\":false,\"distinguished\":null,\"secure_media\":null,\"contest_mode\":false,\"brand_safe\":true,\"domain\":\"politicalvelcraft.org\",\"retrieved_on\":1489598541,\"created_utc\":1488326402,\"archived\":false,\"secure_media_embed\":{},\"media\":null,\"edited\":false,\"is_self\":false,\"id\":\"5wrk5q\",\"link_flair_css_class\":null,\"score\":1,\"selftext\":\"\",\"author\":\"Rasica\",\"subreddit\":\"news\",\"hidden\":false,\"num_comments\":0,\"gilded\":0,\"stickied\":false,\"media_embed\":{},\"title\":\"Brzezinski, McCain Behind Banker\\'s Trilateral Commission\",\"permalink\":\"/r/news/comments/5wrk5q/brzezinski_mccain_behind_bankers_trilateral/\",\"hide_score\":false,\"author_flair_css_class\":null,\"quarantine\":false,\"suggested_sort\":null,\"spoiler\":false,\"subreddit_id\":\"t5_2qh3l\",\"link_flair_text\":null,\"url\":\"https://politicalvelcraft.org/2012/10/24/brzezinski-mccain-behind-bankers-trilateral-commission/\",\"over_18\":false,\"thumbnail\":\"default\",\"author_flair_text\":null}\\n'\n"
     ]
    }
   ],
   "source": [
    "count = 0\n",
    "for line in openedDump:\n",
    "    if count > 10:\n",
    "        break\n",
    "    print(repr(line))\n",
    "    count+=1"
   ]
  },
  {
   "cell_type": "code",
   "execution_count": 111,
   "metadata": {
    "ExecuteTime": {
     "end_time": "2019-07-04T13:53:49.652373Z",
     "start_time": "2019-07-04T13:53:49.573794Z"
    },
    "collapsed": true
   },
   "outputs": [],
   "source": [
    "def getJson(url):\n",
    "    session_headers = {\n",
    "    'Host': 'www.reddit.com',\n",
    "    'Connection': 'keep-alive',\n",
    "    'Cache-Control': 'max-age=0',\n",
    "    'Upgrade-Insecure-Requests': '1',\n",
    "    'User-Agent': 'Mozilla/5.0 (Macintosh; Intel Mac OS X 10_13_1) AppleWebKit/537.36 (KHTML, like Gecko) Chrome/61.0.3163.100 Safari/537.36',\n",
    "    'Accept': 'text/html,application/xhtml+xml,application/xml;q=0.9,image/webp,image/apng,*/*;q=0.8',\n",
    "    #'Referer': 'http://localhost:9000/notebooks/Reddit/Notebooks/SuicideWatchSubreddit.ipynb'\n",
    "    'Accept-Encoding': 'gzip, deflate, br',\n",
    "    'Accept-Language': 'en-GB,en-US;q=0.8,en;q=0.6',\n",
    "    'Cookie': \"loid=00000000000gslzvdi.2.1507591930964.Z0FBQUFBQlozQWI3M243MTdFMUgzNWtQNzNVbzg5Z3NXYmxpLUdRTWVXdEpWQzBfbkxBSVNNVVF3dE1zQlN5cVMzeGtxZXlmT0JQY2JvTld2NWlVeGlGeFpkNnBYM2ZIYlNNR2xMWGFFS3hieDZpWEJ5OVlyTng0MUFZZjNYdjQ0ZURFNTFlSmlVRGw; edgebucket=T8nkTF0z7WPnNzlE8B; __gads=ID=ab9c1b0fcb7eaefc:T=1507591936:S=ALNI_Mao2tvEoyJzEDEuxxhfZBlOQHXlsA; eu_cookie_v2=3; _ga=GA1.2.1088810883.1507591931; __utma=55650728.1088810883.1507591931.1507912304.1507912553.14; __utmz=55650728.1507912553.14.11.utmcsr=reddit|utmccn=(not%20set)|utmcmd=hot|utmcct=comments; aa=1; _recentclicks2=t3_7cfzsx%2Ct3_7cfw08%2Ct3_7cdofu%2Ct3_7caog1%2Ct3_7cdvud; _recent_srs=t5_2qpzs%2Ct5_2qh1q%2Ct5_2qh49%2Ct5_2rtff%2Ct5_36buk%2Ct5_2r7yd%2Ct5_2rks3%2Ct5_3j2jr%2Ct5_2sumw%2Ct5_2xp2o; pc=r3; session_tracker=tPgx9U9yPt99jYRDqC.0.1510585492994.Z0FBQUFBQmFDYlNWcWZHclI5WWxDWW9kQ0dURk9FRU9BZjFJTURWZElzaldRbkROaEJUOWE1czRQUWxPUzUwOFFwY3R3ckI5VkNDUlhJc01NVEtEeHVWd25CdUpXWEI1X012RkJaS3cyNXdNbk5vOE9DSXp5ZlhuTzF3a2pxT2dLZ3laMDhtQlhib3k; initref=localhost\"\n",
    "    }\n",
    "\n",
    "    client = rq.session()\n",
    "    resp = client.get(url , headers=session_headers)\n",
    "    if resp.status_code == 200:\n",
    "        json_data = resp.json()\n",
    "        return json_data\n",
    "    else:\n",
    "        print(\"Failed to get page\")\n",
    "        return None\n",
    "def getSubredditId(json):\n",
    "    if type(json) == dict:\n",
    "        sub_id = json['data']['children'][0]['data']['subreddit_id']\n",
    "        return sub_id\n",
    "    else: \n",
    "        print(\"Invalid Format\")\n",
    "        return None\n",
    "\n",
    "def makeSubUrl(name):\n",
    "    return \"https://www.reddit.com/r/\" + name + \"/.json\"\n",
    "\n",
    "def getSubIds(RedditList):\n",
    "    subIds = {}\n",
    "    for name in RedditList:\n",
    "        json = getJson(makeSubUrl(name))\n",
    "        print (getSubredditId(json))\n",
    "        subIds[name] = getSubredditId(json)\n",
    "    return subIds\n",
    "\n",
    "def filterDumpbySub(filePath , subID_dict, limit=None):\n",
    "    import json\n",
    "    import bz2\n",
    "    \n",
    "    openedDump = bz2.BZ2File(filePath, \"r\")\n",
    "    count = 0\n",
    "    returnData = dict()\n",
    "    print(\"=============Parsing============\")\n",
    "    print (subID_dict)\n",
    "    st = time.time()\n",
    "    for line in openedDump:\n",
    "        lineData = json.loads(line.strip())\n",
    "        if (limit!=None and count > limit):\n",
    "            return returnData\n",
    "        if lineData['subreddit'] in subID_dict:\n",
    "            if lineData['subreddit'] not in returnData:\n",
    "                returnData[lineData['subreddit']] = []\n",
    "            postId = lineData['link_id'].strip().split('_')[1]\n",
    "            \n",
    "            if postId not in returnData[lineData['subreddit']]:\n",
    "                returnData[lineData['subreddit']].append(postId)\n",
    "        if count%100000 == 0:\n",
    "            end = time.time()\n",
    "            print(\"Done parsing %d posts in %d seconds\",(count,(end-st)))\n",
    "            st = time.time()\n",
    "        count+=1\n",
    "    return returnData\n",
    "\n",
    "\n",
    "def filterSubmissionsbySub(filePath , subID_dict, limit=None):\n",
    "    import json\n",
    "    import bz2\n",
    "    \n",
    "    openedDump = bz2.BZ2File(filePath, \"r\")\n",
    "    count = 0\n",
    "    returnData = dict()\n",
    "    print(\"=============Parsing============\")\n",
    "    print (subID_dict)\n",
    "    st = time.time()\n",
    "    for line in openedDump:\n",
    "        lineData = json.loads(line.strip())\n",
    "        if (limit!=None and count > limit):\n",
    "            return returnData\n",
    "        if lineData['subreddit_id'] in subID_dict:\n",
    "            if lineData['subreddit_id'] not in returnData:\n",
    "                returnData[lineData['subreddit_id']] = []\n",
    "            postId = lineData['id']\n",
    "            \n",
    "            if postId not in returnData[lineData['subreddit_id']]:\n",
    "                returnData[lineData['subreddit_id']].append(postId)\n",
    "        if count%100000 == 0:\n",
    "            end = time.time()\n",
    "            print(\"Done parsing %d posts in %d seconds\",(count,(end-st)))\n",
    "            st = time.time()\n",
    "        count+=1\n",
    "    return returnData\n",
    "\n",
    "\n",
    "\n",
    "def getSubmissionPermalinks(filePath , comments_Thresh = 20 , limit=None):\n",
    "    import json\n",
    "    import bz2\n",
    "    import lzma\n",
    "    \n",
    "    ext = filePath.split('.')[-1]\n",
    "    \n",
    "    if ext == 'bz2':\n",
    "        openedDump = bz2.BZ2File(filePath, \"r\")\n",
    "    elif ext == 'xz':\n",
    "        openedDump = lzma.open(dump)\n",
    "    else:\n",
    "        print (\"Invalid file type\")\n",
    "    count = 0\n",
    "    returnData = {}\n",
    "    print(\"=============Parsing============\")\n",
    "    print (subID_dict)\n",
    "    st = time.time()\n",
    "    for line in openedDump:\n",
    "        lineData = json.loads(line.strip())\n",
    "        if lineData['num_comments'] > comments_Thresh:\n",
    "            if (limit!=None and count > limit):\n",
    "                return returnData\n",
    "            try:\n",
    "                returnData[lineData['id']] = lineData['permalink']\n",
    "            except:\n",
    "                print(\"Permalink not found, moving on!\")\n",
    "        if count%100000 == 0:\n",
    "            end = time.time()\n",
    "            print(\"Done parsing %d posts in %d seconds\",(count,(end-st)))\n",
    "            st = time.time()\n",
    "        count+=1\n",
    "    return returnData"
   ]
  },
  {
   "cell_type": "code",
   "execution_count": 112,
   "metadata": {
    "ExecuteTime": {
     "end_time": "2019-07-04T13:54:05.445997Z",
     "start_time": "2019-07-04T13:54:05.441827Z"
    },
    "collapsed": true
   },
   "outputs": [],
   "source": [
    "subreddits = [\"bipolar\" , \"BipolarReddit\" , \"BipolarSOs\" , \"Health\" , \"addiction\", \"depression\",\"SuicideWatch\",\"Anxiety\",\"Chicago\"] "
   ]
  },
  {
   "cell_type": "code",
   "execution_count": 113,
   "metadata": {
    "ExecuteTime": {
     "end_time": "2019-07-04T13:54:10.382836Z",
     "start_time": "2019-07-04T13:54:06.013875Z"
    }
   },
   "outputs": [
    {
     "name": "stdout",
     "output_type": "stream",
     "text": [
      "t5_2qnv4\n",
      "t5_2qzru\n",
      "t5_2zww6\n",
      "t5_2qh9z\n",
      "t5_2qwvc\n",
      "t5_2qqqf\n",
      "t5_2qpzs\n",
      "t5_2qmij\n",
      "t5_2qh2t\n"
     ]
    }
   ],
   "source": [
    "subID_dict = getSubIds(subreddits)"
   ]
  },
  {
   "cell_type": "code",
   "execution_count": null,
   "metadata": {
    "ExecuteTime": {
     "end_time": "2019-07-04T13:54:35.404639Z",
     "start_time": "2019-07-04T13:54:35.386345Z"
    }
   },
   "outputs": [
    {
     "data": {
      "text/plain": [
       "{'Anxiety': 't5_2qmij',\n",
       " 'BipolarReddit': 't5_2qzru',\n",
       " 'BipolarSOs': 't5_2zww6',\n",
       " 'Chicago': 't5_2qh2t',\n",
       " 'Health': 't5_2qh9z',\n",
       " 'SuicideWatch': 't5_2qpzs',\n",
       " 'addiction': 't5_2qwvc',\n",
       " 'bipolar': 't5_2qnv4',\n",
       " 'depression': 't5_2qqqf'}"
      ]
     },
     "execution_count": 114,
     "metadata": {},
     "output_type": "execute_result"
    }
   ],
   "source": [
    "subID_dict"
   ]
  },
  {
   "cell_type": "code",
   "execution_count": null,
   "metadata": {
    "ExecuteTime": {
     "start_time": "2019-07-04T13:55:09.042Z"
    }
   },
   "outputs": [
    {
     "name": "stdout",
     "output_type": "stream",
     "text": [
      "=============Parsing============\n",
      "{'bipolar': 't5_2qnv4', 'BipolarReddit': 't5_2qzru', 'BipolarSOs': 't5_2zww6', 'Health': 't5_2qh9z', 'addiction': 't5_2qwvc', 'depression': 't5_2qqqf', 'SuicideWatch': 't5_2qpzs', 'Anxiety': 't5_2qmij', 'Chicago': 't5_2qh2t'}\n",
      "Done parsing %d posts in %d seconds (0, 0.033522844314575195)\n",
      "Done parsing %d posts in %d seconds (100000, 9.98129653930664)\n",
      "Done parsing %d posts in %d seconds (200000, 10.41993522644043)\n",
      "Done parsing %d posts in %d seconds (300000, 10.165717124938965)\n",
      "Done parsing %d posts in %d seconds (400000, 10.193071365356445)\n",
      "Done parsing %d posts in %d seconds (500000, 9.758701086044312)\n",
      "Done parsing %d posts in %d seconds (600000, 9.903562545776367)\n",
      "Done parsing %d posts in %d seconds (700000, 9.867722511291504)\n",
      "Done parsing %d posts in %d seconds (800000, 10.346718549728394)\n",
      "Done parsing %d posts in %d seconds (900000, 9.891074657440186)\n",
      "Done parsing %d posts in %d seconds (1000000, 10.027259826660156)\n",
      "Done parsing %d posts in %d seconds (1100000, 9.624680995941162)\n",
      "Done parsing %d posts in %d seconds (1200000, 10.10809588432312)\n",
      "Done parsing %d posts in %d seconds (1300000, 10.327620267868042)\n",
      "Done parsing %d posts in %d seconds (1400000, 9.796053886413574)\n",
      "Done parsing %d posts in %d seconds (1500000, 9.972900390625)\n",
      "Done parsing %d posts in %d seconds (1600000, 9.804832458496094)\n",
      "Done parsing %d posts in %d seconds (1700000, 9.62687087059021)\n",
      "Done parsing %d posts in %d seconds (1800000, 9.961615562438965)\n",
      "Done parsing %d posts in %d seconds (1900000, 9.865488767623901)\n",
      "Done parsing %d posts in %d seconds (2000000, 9.593601942062378)\n",
      "Done parsing %d posts in %d seconds (2100000, 9.417275428771973)\n",
      "Done parsing %d posts in %d seconds (2200000, 9.649844408035278)\n"
     ]
    }
   ],
   "source": [
    "# postData = filterDumpbySub(dump,subID_dict)\n",
    "postData = getSubmissionPermalinks(dump,comments_Thresh= 10)"
   ]
  },
  {
   "cell_type": "code",
   "execution_count": null,
   "metadata": {
    "ExecuteTime": {
     "start_time": "2019-07-04T13:58:00.690Z"
    },
    "collapsed": true
   },
   "outputs": [],
   "source": [
    "len(postData)"
   ]
  },
  {
   "cell_type": "code",
   "execution_count": null,
   "metadata": {
    "collapsed": true
   },
   "outputs": [],
   "source": [
    "import pickle as pkl\n",
    "pkl.dump(file=open('/10TBdrive/datashare/Reddit/Submissions032017_atleast10.pkl','wb'),obj=postData)"
   ]
  },
  {
   "cell_type": "code",
   "execution_count": 97,
   "metadata": {
    "ExecuteTime": {
     "start_time": "2019-07-04T13:58:03.528Z"
    }
   },
   "outputs": [
    {
     "data": {
      "text/plain": [
       "'/r/nba/comments/5lcgjd/game_thread_new_york_knicks_1616_houston_rockets/'"
      ]
     },
     "execution_count": 97,
     "metadata": {},
     "output_type": "execute_result"
    }
   ],
   "source": [
    "postData[list(postData.keys())[1]]"
   ]
  },
  {
   "cell_type": "code",
   "execution_count": 31,
   "metadata": {
    "ExecuteTime": {
     "end_time": "2019-01-09T18:05:00.306696Z",
     "start_time": "2019-01-09T18:05:00.302890Z"
    },
    "collapsed": true
   },
   "outputs": [],
   "source": [
    "# import pickle as pkl\n",
    "# with open(\"/datasets_1/sagarj/IoPPN_collab/MentalHealth_2017_posts.pkl\",'w') as f:\n",
    "#     pkl.dump(postData,f)"
   ]
  },
  {
   "cell_type": "code",
   "execution_count": 32,
   "metadata": {
    "ExecuteTime": {
     "end_time": "2019-01-09T18:05:00.584451Z",
     "start_time": "2019-01-09T18:05:00.576583Z"
    }
   },
   "outputs": [
    {
     "ename": "KeyError",
     "evalue": "'depression'",
     "output_type": "error",
     "traceback": [
      "\u001b[0;31m---------------------------------------------------------------------------\u001b[0m",
      "\u001b[0;31mKeyError\u001b[0m                                  Traceback (most recent call last)",
      "\u001b[0;32m<ipython-input-32-ff7dd13c6c7b>\u001b[0m in \u001b[0;36m<module>\u001b[0;34m()\u001b[0m\n\u001b[0;32m----> 1\u001b[0;31m \u001b[0mlen\u001b[0m\u001b[0;34m(\u001b[0m\u001b[0mlist\u001b[0m\u001b[0;34m(\u001b[0m\u001b[0mset\u001b[0m\u001b[0;34m(\u001b[0m\u001b[0mpostData\u001b[0m\u001b[0;34m[\u001b[0m\u001b[0;34m'depression'\u001b[0m\u001b[0;34m]\u001b[0m\u001b[0;34m)\u001b[0m\u001b[0;34m)\u001b[0m\u001b[0;34m)\u001b[0m\u001b[0;34m\u001b[0m\u001b[0m\n\u001b[0m",
      "\u001b[0;31mKeyError\u001b[0m: 'depression'"
     ]
    }
   ],
   "source": [
    "len(list(set(postData['depression'])))"
   ]
  },
  {
   "cell_type": "code",
   "execution_count": null,
   "metadata": {
    "ExecuteTime": {
     "start_time": "2019-01-05T14:57:19.528Z"
    },
    "collapsed": true
   },
   "outputs": [],
   "source": [
    "# import pickle as pkl\n",
    "# with open(\"ChangemyView2017.pkl\",'w') as f:\n",
    "#     pkl.dump(postData['changemyview'],f)"
   ]
  },
  {
   "cell_type": "code",
   "execution_count": null,
   "metadata": {
    "ExecuteTime": {
     "start_time": "2019-01-05T14:57:19.767Z"
    },
    "collapsed": true
   },
   "outputs": [],
   "source": [
    "# with open(\"Filtered_posts_2017.json\",'w') as f:\n",
    "#     json.dump(postData,f)"
   ]
  },
  {
   "cell_type": "code",
   "execution_count": null,
   "metadata": {
    "collapsed": true
   },
   "outputs": [],
   "source": []
  }
 ],
 "metadata": {
  "kernelspec": {
   "display_name": "Python 3",
   "language": "python",
   "name": "python3"
  },
  "language_info": {
   "codemirror_mode": {
    "name": "ipython",
    "version": 3
   },
   "file_extension": ".py",
   "mimetype": "text/x-python",
   "name": "python",
   "nbconvert_exporter": "python",
   "pygments_lexer": "ipython3",
   "version": "3.6.3"
  },
  "latex_envs": {
   "LaTeX_envs_menu_present": true,
   "autoclose": false,
   "autocomplete": true,
   "bibliofile": "biblio.bib",
   "cite_by": "apalike",
   "current_citInitial": 1,
   "eqLabelWithNumbers": true,
   "eqNumInitial": 1,
   "hotkeys": {
    "equation": "Ctrl-E",
    "itemize": "Ctrl-I"
   },
   "labels_anchors": false,
   "latex_user_defs": false,
   "report_style_numbering": false,
   "user_envs_cfg": false
  },
  "toc": {
   "base_numbering": 1,
   "nav_menu": {
    "height": "12px",
    "width": "252px"
   },
   "number_sections": true,
   "sideBar": true,
   "skip_h1_title": false,
   "title_cell": "Table of Contents",
   "title_sidebar": "Contents",
   "toc_cell": false,
   "toc_position": {},
   "toc_section_display": "block",
   "toc_window_display": false
  },
  "varInspector": {
   "cols": {
    "lenName": 16,
    "lenType": 16,
    "lenVar": 40
   },
   "kernels_config": {
    "python": {
     "delete_cmd_postfix": "",
     "delete_cmd_prefix": "del ",
     "library": "var_list.py",
     "varRefreshCmd": "print(var_dic_list())"
    },
    "r": {
     "delete_cmd_postfix": ") ",
     "delete_cmd_prefix": "rm(",
     "library": "var_list.r",
     "varRefreshCmd": "cat(var_dic_list()) "
    }
   },
   "types_to_exclude": [
    "module",
    "function",
    "builtin_function_or_method",
    "instance",
    "_Feature"
   ],
   "window_display": false
  }
 },
 "nbformat": 4,
 "nbformat_minor": 2
}
