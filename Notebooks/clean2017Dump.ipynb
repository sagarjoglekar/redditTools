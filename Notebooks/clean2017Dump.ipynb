{
 "cells": [
  {
   "cell_type": "code",
   "execution_count": 1,
   "metadata": {
    "ExecuteTime": {
     "end_time": "2019-01-05T11:17:06.385401Z",
     "start_time": "2019-01-05T11:17:06.275731Z"
    },
    "editable": false
   },
   "outputs": [],
   "source": [
    "import bz2\n",
    "import json\n",
    "import requests as rq\n",
    "import time"
   ]
  },
  {
   "cell_type": "code",
   "execution_count": 2,
   "metadata": {
    "ExecuteTime": {
     "end_time": "2019-01-05T11:17:06.778408Z",
     "start_time": "2019-01-05T11:17:06.773953Z"
    }
   },
   "outputs": [],
   "source": [
    "dump = \"/datasets_1/sagarj/reddit_all_2017/RC_2017-02.bz2\""
   ]
  },
  {
   "cell_type": "code",
   "execution_count": 3,
   "metadata": {
    "ExecuteTime": {
     "end_time": "2019-01-05T11:17:07.196896Z",
     "start_time": "2019-01-05T11:17:07.181597Z"
    }
   },
   "outputs": [],
   "source": [
    "openedDump = bz2.BZ2File(dump, \"r\")"
   ]
  },
  {
   "cell_type": "code",
   "execution_count": 4,
   "metadata": {
    "ExecuteTime": {
     "end_time": "2019-01-05T11:17:07.909934Z",
     "start_time": "2019-01-05T11:17:07.823500Z"
    }
   },
   "outputs": [
    {
     "name": "stdout",
     "output_type": "stream",
     "text": [
      "'{\"author_flair_text\":null,\"id\":\"dd61ge9\",\"edited\":false,\"subreddit_id\":\"t5_2zgmb\",\"stickied\":false,\"retrieved_on\":1488453514,\"author_flair_css_class\":null,\"created_utc\":1485907200,\"controversiality\":0,\"link_id\":\"t3_5qxrvb\",\"parent_id\":\"t1_dd3vflb\",\"subreddit\":\"AshevilleMusic\",\"author\":\"Durgroth\",\"distinguished\":null,\"body\":\"I have no idea what these places are other than the Mothlight, but I\\'ll definitely check them out!\",\"gilded\":0,\"score\":1}\\n'\n",
      "'{\"edited\":false,\"stickied\":false,\"retrieved_on\":1488453514,\"subreddit_id\":\"t5_2qh33\",\"id\":\"dd61gea\",\"author_flair_text\":null,\"distinguished\":null,\"author\":\"SlothOfDoom\",\"parent_id\":\"t1_dd5zw81\",\"subreddit\":\"funny\",\"score\":16,\"gilded\":0,\"body\":\"She was also one of the very first Federation ships built specifically as a warship (although officially it is an \\'escort\\' so the Federation can still look touchy-feely)\",\"created_utc\":1485907200,\"author_flair_css_class\":null,\"link_id\":\"t3_5r9d4o\",\"controversiality\":0}\\n'\n",
      "'{\"edited\":false,\"stickied\":false,\"retrieved_on\":1488453514,\"subreddit_id\":\"t5_2qhqb\",\"id\":\"dd61geb\",\"author_flair_text\":\"Lancashire\",\"distinguished\":null,\"author\":\"The_Bravinator\",\"parent_id\":\"t1_dd60rbj\",\"subreddit\":\"unitedkingdom\",\"score\":28,\"gilded\":0,\"body\":\"The problem with Moffat was that it was shallow but overcomplicated. There were plots I can\\'t imagine a child following that still managed to fall flat emotionally probably because they are riddled with plot holes).\\\\n\\\\nYou need a story that\\'s simple enough to allow the kids to keep up while hitting deeper emotional notes. It\\'s certainly possible. There are kids\\' cartoons that are great for the little ones but which have also made me cry buckets (I\\'m looking at you, Avatar: TLB and Steven Universe).\",\"created_utc\":1485907200,\"author_flair_css_class\":\"lancashire\",\"link_id\":\"t3_5r9ke7\",\"controversiality\":0}\\n'\n",
      "'{\"id\":\"dd61gec\",\"author_flair_text\":\"America\",\"subreddit_id\":\"t5_2cneq\",\"stickied\":false,\"retrieved_on\":1488453514,\"edited\":false,\"controversiality\":0,\"link_id\":\"t3_5rbv31\",\"created_utc\":1485907200,\"author_flair_css_class\":\"us-flag\",\"body\":\"She\\'s currently prepping for a post-WH turn on The Walking Dead.\",\"score\":1,\"gilded\":0,\"author\":\"VacationAwayFromWork\",\"subreddit\":\"politics\",\"parent_id\":\"t1_dd60uwx\",\"distinguished\":null}\\n'\n",
      "'{\"controversiality\":0,\"link_id\":\"t3_5rbyze\",\"created_utc\":1485907200,\"author_flair_css_class\":\"default litten\",\"body\":\"Regigigas and mega alakazam\",\"score\":1,\"gilded\":0,\"author\":\"crash787\",\"subreddit\":\"pokemontrades\",\"parent_id\":\"t3_5rbyze\",\"distinguished\":null,\"id\":\"dd61ged\",\"author_flair_text\":\"0233-0821-5070 || Crash (\\\\u03b1S, S)\",\"subreddit_id\":\"t5_2rmov\",\"retrieved_on\":1488453514,\"stickied\":false,\"edited\":false}\\n'\n",
      "'{\"gilded\":0,\"score\":14,\"body\":\"I think we deserve more time! \",\"distinguished\":null,\"parent_id\":\"t1_dd611y1\",\"subreddit\":\"Amd\",\"author\":\"Cuntosaurous\",\"link_id\":\"t3_5rbq4j\",\"controversiality\":0,\"author_flair_css_class\":\"\",\"created_utc\":1485907200,\"stickied\":false,\"retrieved_on\":1488453514,\"subreddit_id\":\"t5_2rw0n\",\"edited\":false,\"author_flair_text\":\"FX-8370-MSI GTX 1070/ FX-8320-MSI GTX 960\",\"id\":\"dd61gee\"}\\n'\n",
      "'{\"distinguished\":null,\"subreddit\":\"KitchenConfidential\",\"parent_id\":\"t3_5r8yzx\",\"author\":\"dwmills\",\"gilded\":0,\"score\":2,\"body\":\"You looking for a gig? In Oak cliff may need someone.\",\"author_flair_css_class\":null,\"created_utc\":1485907200,\"link_id\":\"t3_5r8yzx\",\"controversiality\":0,\"edited\":false,\"stickied\":false,\"retrieved_on\":1488453514,\"subreddit_id\":\"t5_2sa8b\",\"author_flair_text\":null,\"id\":\"dd61gef\"}\\n'\n",
      "'{\"subreddit_id\":\"t5_2tqlz\",\"stickied\":false,\"retrieved_on\":1488453514,\"edited\":false,\"author_flair_text\":null,\"id\":\"dd61geg\",\"body\":\"Yeah, that\\'s fair. I\\'m just trying to pose an argument.\",\"gilded\":0,\"score\":1,\"parent_id\":\"t1_dd61a5m\",\"subreddit\":\"youtubehaiku\",\"author\":\"Shitposter2016\",\"distinguished\":null,\"controversiality\":0,\"link_id\":\"t3_5r4u5g\",\"author_flair_css_class\":null,\"created_utc\":1485907200}\\n'\n",
      "'{\"author_flair_css_class\":\"\",\"created_utc\":1485907200,\"link_id\":\"t3_5rbm4k\",\"controversiality\":0,\"distinguished\":null,\"subreddit\":\"Vaping\",\"parent_id\":\"t3_5rbm4k\",\"author\":\"Darth_Immitis\",\"gilded\":0,\"score\":2,\"body\":\"Shout out to Lineage Vapor\\'s in Lunenburg Mass!\",\"author_flair_text\":\"ASMODUS=LOVE\",\"id\":\"dd61geh\",\"edited\":false,\"retrieved_on\":1488453514,\"stickied\":false,\"subreddit_id\":\"t5_2rg4n\"}\\n'\n",
      "'{\"subreddit_id\":\"t5_2qn0o\",\"retrieved_on\":1488453514,\"stickied\":false,\"edited\":false,\"id\":\"dd61gei\",\"author_flair_text\":\"\",\"body\":\"Just asking but being a dick helped \",\"score\":-4,\"gilded\":0,\"author\":\"GodsGiftInBeef\",\"parent_id\":\"t1_dd5vmsq\",\"subreddit\":\"LiverpoolFC\",\"distinguished\":null,\"controversiality\":1,\"link_id\":\"t3_5rb6gd\",\"created_utc\":1485907200,\"author_flair_css_class\":\"lfc12\"}\\n'\n",
      "'{\"edited\":false,\"stickied\":false,\"retrieved_on\":1488453514,\"subreddit_id\":\"t5_2qhcv\",\"author_flair_text\":\"Transhumanist libertarian monarchy\",\"id\":\"dd61gej\",\"distinguished\":null,\"subreddit\":\"ukpolitics\",\"parent_id\":\"t1_dd52q7y\",\"author\":\"GreenCoffeeMug\",\"gilded\":0,\"score\":2,\"body\":\"I\\'m *pretty* sure Japan is a democracy. \",\"author_flair_css_class\":\"\",\"created_utc\":1485907200,\"link_id\":\"t3_5r7r1h\",\"controversiality\":0}\\n'\n"
     ]
    }
   ],
   "source": [
    "count = 0\n",
    "for line in openedDump:\n",
    "    if count > 10:\n",
    "        break\n",
    "    print repr(line)\n",
    "    count+=1"
   ]
  },
  {
   "cell_type": "code",
   "execution_count": 15,
   "metadata": {
    "ExecuteTime": {
     "end_time": "2019-01-05T12:31:49.811647Z",
     "start_time": "2019-01-05T12:31:49.736709Z"
    }
   },
   "outputs": [],
   "source": [
    "def getJson(url):\n",
    "    session_headers = {\n",
    "    'Host': 'www.reddit.com',\n",
    "    'Connection': 'keep-alive',\n",
    "    'Cache-Control': 'max-age=0',\n",
    "    'Upgrade-Insecure-Requests': '1',\n",
    "    'User-Agent': 'Mozilla/5.0 (Macintosh; Intel Mac OS X 10_13_1) AppleWebKit/537.36 (KHTML, like Gecko) Chrome/61.0.3163.100 Safari/537.36',\n",
    "    'Accept': 'text/html,application/xhtml+xml,application/xml;q=0.9,image/webp,image/apng,*/*;q=0.8',\n",
    "    #'Referer': 'http://localhost:9000/notebooks/Reddit/Notebooks/SuicideWatchSubreddit.ipynb'\n",
    "    'Accept-Encoding': 'gzip, deflate, br',\n",
    "    'Accept-Language': 'en-GB,en-US;q=0.8,en;q=0.6',\n",
    "    'Cookie': \"loid=00000000000gslzvdi.2.1507591930964.Z0FBQUFBQlozQWI3M243MTdFMUgzNWtQNzNVbzg5Z3NXYmxpLUdRTWVXdEpWQzBfbkxBSVNNVVF3dE1zQlN5cVMzeGtxZXlmT0JQY2JvTld2NWlVeGlGeFpkNnBYM2ZIYlNNR2xMWGFFS3hieDZpWEJ5OVlyTng0MUFZZjNYdjQ0ZURFNTFlSmlVRGw; edgebucket=T8nkTF0z7WPnNzlE8B; __gads=ID=ab9c1b0fcb7eaefc:T=1507591936:S=ALNI_Mao2tvEoyJzEDEuxxhfZBlOQHXlsA; eu_cookie_v2=3; _ga=GA1.2.1088810883.1507591931; __utma=55650728.1088810883.1507591931.1507912304.1507912553.14; __utmz=55650728.1507912553.14.11.utmcsr=reddit|utmccn=(not%20set)|utmcmd=hot|utmcct=comments; aa=1; _recentclicks2=t3_7cfzsx%2Ct3_7cfw08%2Ct3_7cdofu%2Ct3_7caog1%2Ct3_7cdvud; _recent_srs=t5_2qpzs%2Ct5_2qh1q%2Ct5_2qh49%2Ct5_2rtff%2Ct5_36buk%2Ct5_2r7yd%2Ct5_2rks3%2Ct5_3j2jr%2Ct5_2sumw%2Ct5_2xp2o; pc=r3; session_tracker=tPgx9U9yPt99jYRDqC.0.1510585492994.Z0FBQUFBQmFDYlNWcWZHclI5WWxDWW9kQ0dURk9FRU9BZjFJTURWZElzaldRbkROaEJUOWE1czRQUWxPUzUwOFFwY3R3ckI5VkNDUlhJc01NVEtEeHVWd25CdUpXWEI1X012RkJaS3cyNXdNbk5vOE9DSXp5ZlhuTzF3a2pxT2dLZ3laMDhtQlhib3k; initref=localhost\"\n",
    "    }\n",
    "\n",
    "    client = rq.session()\n",
    "    resp = client.get(url , headers=session_headers)\n",
    "    if resp.status_code == 200:\n",
    "        json_data = resp.json()\n",
    "        return json_data\n",
    "    else:\n",
    "        print \"Failed to get page\"\n",
    "        return None\n",
    "def getSubredditId(json):\n",
    "    if type(json) == dict:\n",
    "        sub_id = json['data']['children'][0]['data']['subreddit_id']\n",
    "        return sub_id\n",
    "    else: \n",
    "        print \"Invalid Format\"\n",
    "        return None\n",
    "\n",
    "def makeSubUrl(name):\n",
    "    return \"https://www.reddit.com/r/\" + name + \"/.json\"\n",
    "\n",
    "def getSubIds(RedditList):\n",
    "    subIds = {}\n",
    "    for name in RedditList:\n",
    "        json = getJson(makeSubUrl(name))\n",
    "        subIds[name] = getSubredditId(json)\n",
    "    return subIds\n",
    "\n",
    "def filterDumpbySub(filePath , subID_dict, limit=None):\n",
    "    import json\n",
    "    import bz2\n",
    "    \n",
    "    openedDump = bz2.BZ2File(filePath, \"r\")\n",
    "    count = 0\n",
    "    returnData = dict()\n",
    "    print \"=============Parsing============\"\n",
    "    print subID_dict\n",
    "    st = time.time()\n",
    "    for line in openedDump:\n",
    "        lineData = json.loads(line.strip())\n",
    "        if (limit!=None and count > limit):\n",
    "            return returnData\n",
    "        if lineData['subreddit'] in subID_dict:\n",
    "            if lineData['subreddit'] not in returnData:\n",
    "                returnData[lineData['subreddit']] = []\n",
    "            postId = lineData['link_id'].strip().split('_')[1]\n",
    "            \n",
    "            if postId not in returnData[lineData['subreddit']]:\n",
    "                returnData[lineData['subreddit']].append(postId)\n",
    "        if count%100000 == 0:\n",
    "            end = time.time()\n",
    "            print \"Done parsing %d posts in %d seconds\"%(count,(end-st))\n",
    "            st = time.time()\n",
    "        count+=1\n",
    "    return returnData"
   ]
  },
  {
   "cell_type": "code",
   "execution_count": 47,
   "metadata": {
    "ExecuteTime": {
     "end_time": "2019-01-05T14:57:13.309860Z",
     "start_time": "2019-01-05T14:57:13.305356Z"
    }
   },
   "outputs": [],
   "source": [
    "subreddits = [\"mentalhealth\",\"cripplingalcoholism\" , \"disorder\" , \"Health\" , \"addiction\" , \"ADHD\", \"depression\",'TheDonald' , 'SuicideWatch'] \n",
    "# subreddits = ['depression','bipolar','suicidewatch' ]"
   ]
  },
  {
   "cell_type": "code",
   "execution_count": 48,
   "metadata": {
    "ExecuteTime": {
     "end_time": "2019-01-05T14:57:16.936653Z",
     "start_time": "2019-01-05T14:57:13.498985Z"
    }
   },
   "outputs": [],
   "source": [
    "subID_dict = getSubIds(subreddits)"
   ]
  },
  {
   "cell_type": "code",
   "execution_count": 49,
   "metadata": {
    "ExecuteTime": {
     "end_time": "2019-01-05T14:57:16.946106Z",
     "start_time": "2019-01-05T14:57:16.939991Z"
    }
   },
   "outputs": [
    {
     "data": {
      "text/plain": [
       "{'ADHD': u't5_2qnwb',\n",
       " 'Health': u't5_2qh9z',\n",
       " 'SuicideWatch': u't5_2qpzs',\n",
       " 'TheDonald': u't5_2ve48',\n",
       " 'addiction': u't5_2qwvc',\n",
       " 'cripplingalcoholism': u't5_2s68b',\n",
       " 'depression': u't5_2qqqf',\n",
       " 'disorder': u't5_2qrlr',\n",
       " 'mentalhealth': u't5_2qirg'}"
      ]
     },
     "execution_count": 49,
     "metadata": {},
     "output_type": "execute_result"
    }
   ],
   "source": [
    "subID_dict"
   ]
  },
  {
   "cell_type": "code",
   "execution_count": null,
   "metadata": {
    "ExecuteTime": {
     "start_time": "2019-01-05T14:57:14.209Z"
    }
   },
   "outputs": [
    {
     "name": "stdout",
     "output_type": "stream",
     "text": [
      "=============Parsing============\n",
      "{'mentalhealth': u't5_2qirg', 'SuicideWatch': u't5_2qpzs', 'cripplingalcoholism': u't5_2s68b', 'Health': u't5_2qh9z', 'ADHD': u't5_2qnwb', 'TheDonald': u't5_2ve48', 'addiction': u't5_2qwvc', 'disorder': u't5_2qrlr', 'depression': u't5_2qqqf'}\n",
      "Done parsing 0 posts in 0 seconds\n",
      "Done parsing 100000 posts in 3 seconds\n",
      "Done parsing 200000 posts in 3 seconds\n",
      "Done parsing 300000 posts in 3 seconds\n",
      "Done parsing 400000 posts in 2 seconds\n"
     ]
    }
   ],
   "source": [
    "postData = filterDumpbySub(dump,subID_dict)"
   ]
  },
  {
   "cell_type": "code",
   "execution_count": null,
   "metadata": {
    "ExecuteTime": {
     "start_time": "2019-01-05T14:57:14.693Z"
    }
   },
   "outputs": [],
   "source": [
    "postData.keys()"
   ]
  },
  {
   "cell_type": "code",
   "execution_count": null,
   "metadata": {
    "ExecuteTime": {
     "start_time": "2019-01-05T14:57:15.272Z"
    }
   },
   "outputs": [],
   "source": [
    "len(postData['bipolar'])"
   ]
  },
  {
   "cell_type": "code",
   "execution_count": null,
   "metadata": {
    "ExecuteTime": {
     "start_time": "2019-01-05T14:57:16.026Z"
    }
   },
   "outputs": [],
   "source": [
    "import pickle as pkl\n",
    "with open(\"/datasets_1/sagarj/IoPPN_collab/MentalHealth_2017_posts.pkl\",'w') as f:\n",
    "    pkl.dump(postData,f)"
   ]
  },
  {
   "cell_type": "code",
   "execution_count": null,
   "metadata": {
    "ExecuteTime": {
     "start_time": "2019-01-05T14:57:17.736Z"
    }
   },
   "outputs": [],
   "source": [
    "len(list(set(postData['depression'])))"
   ]
  },
  {
   "cell_type": "code",
   "execution_count": null,
   "metadata": {
    "ExecuteTime": {
     "start_time": "2019-01-05T14:57:19.528Z"
    }
   },
   "outputs": [],
   "source": [
    "# import pickle as pkl\n",
    "# with open(\"ChangemyView2017.pkl\",'w') as f:\n",
    "#     pkl.dump(postData['changemyview'],f)"
   ]
  },
  {
   "cell_type": "code",
   "execution_count": null,
   "metadata": {
    "ExecuteTime": {
     "start_time": "2019-01-05T14:57:19.767Z"
    }
   },
   "outputs": [],
   "source": [
    "# with open(\"Filtered_posts_2017.json\",'w') as f:\n",
    "#     json.dump(postData,f)"
   ]
  },
  {
   "cell_type": "code",
   "execution_count": null,
   "metadata": {
    "collapsed": true
   },
   "outputs": [],
   "source": []
  }
 ],
 "metadata": {
  "kernelspec": {
   "display_name": "Python 2",
   "language": "python",
   "name": "python2"
  },
  "language_info": {
   "codemirror_mode": {
    "name": "ipython",
    "version": 2
   },
   "file_extension": ".py",
   "mimetype": "text/x-python",
   "name": "python",
   "nbconvert_exporter": "python",
   "pygments_lexer": "ipython2",
   "version": "2.7.12"
  },
  "toc": {
   "colors": {
    "hover_highlight": "#DAA520",
    "navigate_num": "#000000",
    "navigate_text": "#333333",
    "running_highlight": "#FF0000",
    "selected_highlight": "#FFD700",
    "sidebar_border": "#EEEEEE",
    "wrapper_background": "#FFFFFF"
   },
   "moveMenuLeft": true,
   "nav_menu": {
    "height": "12px",
    "width": "252px"
   },
   "navigate_menu": true,
   "number_sections": true,
   "sideBar": true,
   "threshold": 4,
   "toc_cell": false,
   "toc_section_display": "block",
   "toc_window_display": false,
   "widenNotebook": false
  }
 },
 "nbformat": 4,
 "nbformat_minor": 2
}
