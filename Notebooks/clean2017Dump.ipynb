{
 "cells": [
  {
   "cell_type": "code",
   "execution_count": 1,
   "metadata": {
    "ExecuteTime": {
     "end_time": "2019-07-04T13:53:37.066478Z",
     "start_time": "2019-07-04T13:53:36.963611Z"
    },
    "editable": false
   },
   "outputs": [],
   "source": [
    "import bz2\n",
    "import json\n",
    "import requests as rq\n",
    "import time"
   ]
  },
  {
   "cell_type": "code",
   "execution_count": 2,
   "metadata": {
    "ExecuteTime": {
     "end_time": "2019-07-04T13:53:37.474496Z",
     "start_time": "2019-07-04T13:53:37.470248Z"
    }
   },
   "outputs": [],
   "source": [
    "dump = \"/datasets_1/sagarj/reddit_all_2017/RC_2017-02.bz2\""
   ]
  },
  {
   "cell_type": "code",
   "execution_count": 3,
   "metadata": {
    "ExecuteTime": {
     "end_time": "2019-07-04T13:53:38.583551Z",
     "start_time": "2019-07-04T13:53:38.337917Z"
    }
   },
   "outputs": [],
   "source": [
    "openedDump = bz2.BZ2File(dump, \"r\")"
   ]
  },
  {
   "cell_type": "code",
   "execution_count": 4,
   "metadata": {
    "ExecuteTime": {
     "end_time": "2019-07-04T13:53:39.973331Z",
     "start_time": "2019-07-04T13:53:39.873451Z"
    }
   },
   "outputs": [
    {
     "name": "stdout",
     "output_type": "stream",
     "text": [
      "'{\"author_flair_text\":null,\"id\":\"dd61ge9\",\"edited\":false,\"subreddit_id\":\"t5_2zgmb\",\"stickied\":false,\"retrieved_on\":1488453514,\"author_flair_css_class\":null,\"created_utc\":1485907200,\"controversiality\":0,\"link_id\":\"t3_5qxrvb\",\"parent_id\":\"t1_dd3vflb\",\"subreddit\":\"AshevilleMusic\",\"author\":\"Durgroth\",\"distinguished\":null,\"body\":\"I have no idea what these places are other than the Mothlight, but I\\'ll definitely check them out!\",\"gilded\":0,\"score\":1}\\n'\n",
      "'{\"edited\":false,\"stickied\":false,\"retrieved_on\":1488453514,\"subreddit_id\":\"t5_2qh33\",\"id\":\"dd61gea\",\"author_flair_text\":null,\"distinguished\":null,\"author\":\"SlothOfDoom\",\"parent_id\":\"t1_dd5zw81\",\"subreddit\":\"funny\",\"score\":16,\"gilded\":0,\"body\":\"She was also one of the very first Federation ships built specifically as a warship (although officially it is an \\'escort\\' so the Federation can still look touchy-feely)\",\"created_utc\":1485907200,\"author_flair_css_class\":null,\"link_id\":\"t3_5r9d4o\",\"controversiality\":0}\\n'\n",
      "'{\"edited\":false,\"stickied\":false,\"retrieved_on\":1488453514,\"subreddit_id\":\"t5_2qhqb\",\"id\":\"dd61geb\",\"author_flair_text\":\"Lancashire\",\"distinguished\":null,\"author\":\"The_Bravinator\",\"parent_id\":\"t1_dd60rbj\",\"subreddit\":\"unitedkingdom\",\"score\":28,\"gilded\":0,\"body\":\"The problem with Moffat was that it was shallow but overcomplicated. There were plots I can\\'t imagine a child following that still managed to fall flat emotionally probably because they are riddled with plot holes).\\\\n\\\\nYou need a story that\\'s simple enough to allow the kids to keep up while hitting deeper emotional notes. It\\'s certainly possible. There are kids\\' cartoons that are great for the little ones but which have also made me cry buckets (I\\'m looking at you, Avatar: TLB and Steven Universe).\",\"created_utc\":1485907200,\"author_flair_css_class\":\"lancashire\",\"link_id\":\"t3_5r9ke7\",\"controversiality\":0}\\n'\n",
      "'{\"id\":\"dd61gec\",\"author_flair_text\":\"America\",\"subreddit_id\":\"t5_2cneq\",\"stickied\":false,\"retrieved_on\":1488453514,\"edited\":false,\"controversiality\":0,\"link_id\":\"t3_5rbv31\",\"created_utc\":1485907200,\"author_flair_css_class\":\"us-flag\",\"body\":\"She\\'s currently prepping for a post-WH turn on The Walking Dead.\",\"score\":1,\"gilded\":0,\"author\":\"VacationAwayFromWork\",\"subreddit\":\"politics\",\"parent_id\":\"t1_dd60uwx\",\"distinguished\":null}\\n'\n",
      "'{\"controversiality\":0,\"link_id\":\"t3_5rbyze\",\"created_utc\":1485907200,\"author_flair_css_class\":\"default litten\",\"body\":\"Regigigas and mega alakazam\",\"score\":1,\"gilded\":0,\"author\":\"crash787\",\"subreddit\":\"pokemontrades\",\"parent_id\":\"t3_5rbyze\",\"distinguished\":null,\"id\":\"dd61ged\",\"author_flair_text\":\"0233-0821-5070 || Crash (\\\\u03b1S, S)\",\"subreddit_id\":\"t5_2rmov\",\"retrieved_on\":1488453514,\"stickied\":false,\"edited\":false}\\n'\n",
      "'{\"gilded\":0,\"score\":14,\"body\":\"I think we deserve more time! \",\"distinguished\":null,\"parent_id\":\"t1_dd611y1\",\"subreddit\":\"Amd\",\"author\":\"Cuntosaurous\",\"link_id\":\"t3_5rbq4j\",\"controversiality\":0,\"author_flair_css_class\":\"\",\"created_utc\":1485907200,\"stickied\":false,\"retrieved_on\":1488453514,\"subreddit_id\":\"t5_2rw0n\",\"edited\":false,\"author_flair_text\":\"FX-8370-MSI GTX 1070/ FX-8320-MSI GTX 960\",\"id\":\"dd61gee\"}\\n'\n",
      "'{\"distinguished\":null,\"subreddit\":\"KitchenConfidential\",\"parent_id\":\"t3_5r8yzx\",\"author\":\"dwmills\",\"gilded\":0,\"score\":2,\"body\":\"You looking for a gig? In Oak cliff may need someone.\",\"author_flair_css_class\":null,\"created_utc\":1485907200,\"link_id\":\"t3_5r8yzx\",\"controversiality\":0,\"edited\":false,\"stickied\":false,\"retrieved_on\":1488453514,\"subreddit_id\":\"t5_2sa8b\",\"author_flair_text\":null,\"id\":\"dd61gef\"}\\n'\n",
      "'{\"subreddit_id\":\"t5_2tqlz\",\"stickied\":false,\"retrieved_on\":1488453514,\"edited\":false,\"author_flair_text\":null,\"id\":\"dd61geg\",\"body\":\"Yeah, that\\'s fair. I\\'m just trying to pose an argument.\",\"gilded\":0,\"score\":1,\"parent_id\":\"t1_dd61a5m\",\"subreddit\":\"youtubehaiku\",\"author\":\"Shitposter2016\",\"distinguished\":null,\"controversiality\":0,\"link_id\":\"t3_5r4u5g\",\"author_flair_css_class\":null,\"created_utc\":1485907200}\\n'\n",
      "'{\"author_flair_css_class\":\"\",\"created_utc\":1485907200,\"link_id\":\"t3_5rbm4k\",\"controversiality\":0,\"distinguished\":null,\"subreddit\":\"Vaping\",\"parent_id\":\"t3_5rbm4k\",\"author\":\"Darth_Immitis\",\"gilded\":0,\"score\":2,\"body\":\"Shout out to Lineage Vapor\\'s in Lunenburg Mass!\",\"author_flair_text\":\"ASMODUS=LOVE\",\"id\":\"dd61geh\",\"edited\":false,\"retrieved_on\":1488453514,\"stickied\":false,\"subreddit_id\":\"t5_2rg4n\"}\\n'\n",
      "'{\"subreddit_id\":\"t5_2qn0o\",\"retrieved_on\":1488453514,\"stickied\":false,\"edited\":false,\"id\":\"dd61gei\",\"author_flair_text\":\"\",\"body\":\"Just asking but being a dick helped \",\"score\":-4,\"gilded\":0,\"author\":\"GodsGiftInBeef\",\"parent_id\":\"t1_dd5vmsq\",\"subreddit\":\"LiverpoolFC\",\"distinguished\":null,\"controversiality\":1,\"link_id\":\"t3_5rb6gd\",\"created_utc\":1485907200,\"author_flair_css_class\":\"lfc12\"}\\n'\n",
      "'{\"edited\":false,\"stickied\":false,\"retrieved_on\":1488453514,\"subreddit_id\":\"t5_2qhcv\",\"author_flair_text\":\"Transhumanist libertarian monarchy\",\"id\":\"dd61gej\",\"distinguished\":null,\"subreddit\":\"ukpolitics\",\"parent_id\":\"t1_dd52q7y\",\"author\":\"GreenCoffeeMug\",\"gilded\":0,\"score\":2,\"body\":\"I\\'m *pretty* sure Japan is a democracy. \",\"author_flair_css_class\":\"\",\"created_utc\":1485907200,\"link_id\":\"t3_5r7r1h\",\"controversiality\":0}\\n'\n"
     ]
    }
   ],
   "source": [
    "count = 0\n",
    "for line in openedDump:\n",
    "    if count > 10:\n",
    "        break\n",
    "    print repr(line)\n",
    "    count+=1"
   ]
  },
  {
   "cell_type": "code",
   "execution_count": 5,
   "metadata": {
    "ExecuteTime": {
     "end_time": "2019-07-04T13:53:49.652373Z",
     "start_time": "2019-07-04T13:53:49.573794Z"
    }
   },
   "outputs": [],
   "source": [
    "def getJson(url):\n",
    "    session_headers = {\n",
    "    'Host': 'www.reddit.com',\n",
    "    'Connection': 'keep-alive',\n",
    "    'Cache-Control': 'max-age=0',\n",
    "    'Upgrade-Insecure-Requests': '1',\n",
    "    'User-Agent': 'Mozilla/5.0 (Macintosh; Intel Mac OS X 10_13_1) AppleWebKit/537.36 (KHTML, like Gecko) Chrome/61.0.3163.100 Safari/537.36',\n",
    "    'Accept': 'text/html,application/xhtml+xml,application/xml;q=0.9,image/webp,image/apng,*/*;q=0.8',\n",
    "    #'Referer': 'http://localhost:9000/notebooks/Reddit/Notebooks/SuicideWatchSubreddit.ipynb'\n",
    "    'Accept-Encoding': 'gzip, deflate, br',\n",
    "    'Accept-Language': 'en-GB,en-US;q=0.8,en;q=0.6',\n",
    "    'Cookie': \"loid=00000000000gslzvdi.2.1507591930964.Z0FBQUFBQlozQWI3M243MTdFMUgzNWtQNzNVbzg5Z3NXYmxpLUdRTWVXdEpWQzBfbkxBSVNNVVF3dE1zQlN5cVMzeGtxZXlmT0JQY2JvTld2NWlVeGlGeFpkNnBYM2ZIYlNNR2xMWGFFS3hieDZpWEJ5OVlyTng0MUFZZjNYdjQ0ZURFNTFlSmlVRGw; edgebucket=T8nkTF0z7WPnNzlE8B; __gads=ID=ab9c1b0fcb7eaefc:T=1507591936:S=ALNI_Mao2tvEoyJzEDEuxxhfZBlOQHXlsA; eu_cookie_v2=3; _ga=GA1.2.1088810883.1507591931; __utma=55650728.1088810883.1507591931.1507912304.1507912553.14; __utmz=55650728.1507912553.14.11.utmcsr=reddit|utmccn=(not%20set)|utmcmd=hot|utmcct=comments; aa=1; _recentclicks2=t3_7cfzsx%2Ct3_7cfw08%2Ct3_7cdofu%2Ct3_7caog1%2Ct3_7cdvud; _recent_srs=t5_2qpzs%2Ct5_2qh1q%2Ct5_2qh49%2Ct5_2rtff%2Ct5_36buk%2Ct5_2r7yd%2Ct5_2rks3%2Ct5_3j2jr%2Ct5_2sumw%2Ct5_2xp2o; pc=r3; session_tracker=tPgx9U9yPt99jYRDqC.0.1510585492994.Z0FBQUFBQmFDYlNWcWZHclI5WWxDWW9kQ0dURk9FRU9BZjFJTURWZElzaldRbkROaEJUOWE1czRQUWxPUzUwOFFwY3R3ckI5VkNDUlhJc01NVEtEeHVWd25CdUpXWEI1X012RkJaS3cyNXdNbk5vOE9DSXp5ZlhuTzF3a2pxT2dLZ3laMDhtQlhib3k; initref=localhost\"\n",
    "    }\n",
    "\n",
    "    client = rq.session()\n",
    "    resp = client.get(url , headers=session_headers)\n",
    "    if resp.status_code == 200:\n",
    "        json_data = resp.json()\n",
    "        return json_data\n",
    "    else:\n",
    "        print \"Failed to get page\"\n",
    "        return None\n",
    "def getSubredditId(json):\n",
    "    if type(json) == dict:\n",
    "        sub_id = json['data']['children'][0]['data']['subreddit_id']\n",
    "        return sub_id\n",
    "    else: \n",
    "        print \"Invalid Format\"\n",
    "        return None\n",
    "\n",
    "def makeSubUrl(name):\n",
    "    return \"https://www.reddit.com/r/\" + name + \"/.json\"\n",
    "\n",
    "def getSubIds(RedditList):\n",
    "    subIds = {}\n",
    "    for name in RedditList:\n",
    "        json = getJson(makeSubUrl(name))\n",
    "        print getSubredditId(json)\n",
    "        subIds[name] = getSubredditId(json)\n",
    "    return subIds\n",
    "\n",
    "def filterDumpbySub(filePath , subID_dict, limit=None):\n",
    "    import json\n",
    "    import bz2\n",
    "    \n",
    "    openedDump = bz2.BZ2File(filePath, \"r\")\n",
    "    count = 0\n",
    "    returnData = dict()\n",
    "    print \"=============Parsing============\"\n",
    "    print subID_dict\n",
    "    st = time.time()\n",
    "    for line in openedDump:\n",
    "        lineData = json.loads(line.strip())\n",
    "        if (limit!=None and count > limit):\n",
    "            return returnData\n",
    "        if lineData['subreddit'] in subID_dict:\n",
    "            if lineData['subreddit'] not in returnData:\n",
    "                returnData[lineData['subreddit']] = []\n",
    "            postId = lineData['link_id'].strip().split('_')[1]\n",
    "            \n",
    "            if postId not in returnData[lineData['subreddit']]:\n",
    "                returnData[lineData['subreddit']].append(postId)\n",
    "        if count%100000 == 0:\n",
    "            end = time.time()\n",
    "            print \"Done parsing %d posts in %d seconds\"%(count,(end-st))\n",
    "            st = time.time()\n",
    "        count+=1\n",
    "    return returnData"
   ]
  },
  {
   "cell_type": "code",
   "execution_count": 7,
   "metadata": {
    "ExecuteTime": {
     "end_time": "2019-07-04T13:54:05.445997Z",
     "start_time": "2019-07-04T13:54:05.441827Z"
    }
   },
   "outputs": [],
   "source": [
    "subreddits = [\"bipolar\" , \"BipolarReddit\" , \"BipolarSOs\" , \"Health\" , \"addiction\", \"depression\",\"SuicideWatch\",\"Anxiety\",\"Chicago\"] "
   ]
  },
  {
   "cell_type": "code",
   "execution_count": 8,
   "metadata": {
    "ExecuteTime": {
     "end_time": "2019-07-04T13:54:10.382836Z",
     "start_time": "2019-07-04T13:54:06.013875Z"
    }
   },
   "outputs": [
    {
     "name": "stdout",
     "output_type": "stream",
     "text": [
      "t5_2qnv4\n",
      "t5_2qzru\n",
      "t5_2zww6\n",
      "t5_2qh9z\n",
      "t5_2qwvc\n",
      "t5_2qqqf\n",
      "t5_2qpzs\n",
      "t5_2qmij\n",
      "t5_2qh2t\n"
     ]
    }
   ],
   "source": [
    "subID_dict = getSubIds(subreddits)"
   ]
  },
  {
   "cell_type": "code",
   "execution_count": 9,
   "metadata": {
    "ExecuteTime": {
     "end_time": "2019-07-04T13:54:35.404639Z",
     "start_time": "2019-07-04T13:54:35.386345Z"
    }
   },
   "outputs": [
    {
     "data": {
      "text/plain": [
       "{'Anxiety': u't5_2qmij',\n",
       " 'BipolarReddit': u't5_2qzru',\n",
       " 'BipolarSOs': u't5_2zww6',\n",
       " 'Chicago': u't5_2qh2t',\n",
       " 'Health': u't5_2qh9z',\n",
       " 'SuicideWatch': u't5_2qpzs',\n",
       " 'addiction': u't5_2qwvc',\n",
       " 'bipolar': u't5_2qnv4',\n",
       " 'depression': u't5_2qqqf'}"
      ]
     },
     "execution_count": 9,
     "metadata": {},
     "output_type": "execute_result"
    }
   ],
   "source": [
    "subID_dict"
   ]
  },
  {
   "cell_type": "code",
   "execution_count": null,
   "metadata": {
    "ExecuteTime": {
     "start_time": "2019-07-04T13:55:09.042Z"
    }
   },
   "outputs": [
    {
     "name": "stdout",
     "output_type": "stream",
     "text": [
      "=============Parsing============\n",
      "{'Anxiety': u't5_2qmij', 'Chicago': u't5_2qh2t', 'SuicideWatch': u't5_2qpzs', 'bipolar': u't5_2qnv4', 'Health': u't5_2qh9z', 'BipolarSOs': u't5_2zww6', 'BipolarReddit': u't5_2qzru', 'addiction': u't5_2qwvc', 'depression': u't5_2qqqf'}\n",
      "Done parsing 0 posts in 0 seconds\n",
      "Done parsing 100000 posts in 3 seconds\n",
      "Done parsing 200000 posts in 3 seconds\n",
      "Done parsing 300000 posts in 3 seconds\n",
      "Done parsing 400000 posts in 3 seconds\n",
      "Done parsing 500000 posts in 3 seconds\n",
      "Done parsing 600000 posts in 3 seconds\n",
      "Done parsing 700000 posts in 3 seconds\n",
      "Done parsing 800000 posts in 3 seconds\n",
      "Done parsing 900000 posts in 3 seconds\n",
      "Done parsing 1000000 posts in 3 seconds\n",
      "Done parsing 1100000 posts in 3 seconds\n",
      "Done parsing 1200000 posts in 3 seconds\n",
      "Done parsing 1300000 posts in 3 seconds\n",
      "Done parsing 1400000 posts in 3 seconds\n",
      "Done parsing 1500000 posts in 3 seconds\n",
      "Done parsing 1600000 posts in 3 seconds\n",
      "Done parsing 1700000 posts in 3 seconds\n",
      "Done parsing 1800000 posts in 3 seconds\n",
      "Done parsing 1900000 posts in 3 seconds\n",
      "Done parsing 2000000 posts in 3 seconds\n",
      "Done parsing 2100000 posts in 3 seconds\n",
      "Done parsing 2200000 posts in 3 seconds\n",
      "Done parsing 2300000 posts in 3 seconds\n",
      "Done parsing 2400000 posts in 3 seconds\n",
      "Done parsing 2500000 posts in 3 seconds\n",
      "Done parsing 2600000 posts in 3 seconds\n",
      "Done parsing 2700000 posts in 3 seconds\n",
      "Done parsing 2800000 posts in 3 seconds\n",
      "Done parsing 2900000 posts in 3 seconds\n",
      "Done parsing 3000000 posts in 3 seconds\n",
      "Done parsing 3100000 posts in 3 seconds\n",
      "Done parsing 3200000 posts in 3 seconds\n",
      "Done parsing 3300000 posts in 3 seconds\n",
      "Done parsing 3400000 posts in 3 seconds\n",
      "Done parsing 3500000 posts in 3 seconds\n",
      "Done parsing 3600000 posts in 3 seconds\n",
      "Done parsing 3700000 posts in 3 seconds\n",
      "Done parsing 3800000 posts in 3 seconds\n",
      "Done parsing 3900000 posts in 3 seconds\n",
      "Done parsing 4000000 posts in 3 seconds\n",
      "Done parsing 4100000 posts in 3 seconds\n",
      "Done parsing 4200000 posts in 3 seconds\n",
      "Done parsing 4300000 posts in 3 seconds\n",
      "Done parsing 4400000 posts in 3 seconds\n",
      "Done parsing 4500000 posts in 3 seconds\n",
      "Done parsing 4600000 posts in 3 seconds\n",
      "Done parsing 4700000 posts in 3 seconds\n",
      "Done parsing 4800000 posts in 3 seconds\n",
      "Done parsing 4900000 posts in 3 seconds\n",
      "Done parsing 5000000 posts in 3 seconds\n",
      "Done parsing 5100000 posts in 3 seconds\n",
      "Done parsing 5200000 posts in 3 seconds\n",
      "Done parsing 5300000 posts in 3 seconds\n",
      "Done parsing 5400000 posts in 3 seconds\n",
      "Done parsing 5500000 posts in 3 seconds\n",
      "Done parsing 5600000 posts in 3 seconds\n",
      "Done parsing 5700000 posts in 3 seconds\n",
      "Done parsing 5800000 posts in 3 seconds\n",
      "Done parsing 5900000 posts in 3 seconds\n",
      "Done parsing 6000000 posts in 3 seconds\n",
      "Done parsing 6100000 posts in 3 seconds\n",
      "Done parsing 6200000 posts in 3 seconds\n",
      "Done parsing 6300000 posts in 3 seconds\n",
      "Done parsing 6400000 posts in 3 seconds\n",
      "Done parsing 6500000 posts in 3 seconds\n",
      "Done parsing 6600000 posts in 3 seconds\n",
      "Done parsing 6700000 posts in 3 seconds\n",
      "Done parsing 6800000 posts in 3 seconds\n",
      "Done parsing 6900000 posts in 3 seconds\n",
      "Done parsing 7000000 posts in 3 seconds\n",
      "Done parsing 7100000 posts in 3 seconds\n",
      "Done parsing 7200000 posts in 3 seconds\n",
      "Done parsing 7300000 posts in 3 seconds\n",
      "Done parsing 7400000 posts in 3 seconds\n",
      "Done parsing 7500000 posts in 3 seconds\n",
      "Done parsing 7600000 posts in 3 seconds\n",
      "Done parsing 7700000 posts in 3 seconds\n",
      "Done parsing 7800000 posts in 3 seconds\n",
      "Done parsing 7900000 posts in 3 seconds\n",
      "Done parsing 8000000 posts in 3 seconds\n",
      "Done parsing 8100000 posts in 3 seconds\n",
      "Done parsing 8200000 posts in 3 seconds\n",
      "Done parsing 8300000 posts in 3 seconds\n",
      "Done parsing 8400000 posts in 3 seconds\n",
      "Done parsing 8500000 posts in 3 seconds\n",
      "Done parsing 8600000 posts in 2 seconds\n",
      "Done parsing 8700000 posts in 3 seconds\n",
      "Done parsing 8800000 posts in 3 seconds\n",
      "Done parsing 8900000 posts in 3 seconds\n",
      "Done parsing 9000000 posts in 3 seconds\n",
      "Done parsing 9100000 posts in 3 seconds\n",
      "Done parsing 9200000 posts in 3 seconds\n",
      "Done parsing 9300000 posts in 3 seconds\n",
      "Done parsing 9400000 posts in 3 seconds\n",
      "Done parsing 9500000 posts in 3 seconds\n",
      "Done parsing 9600000 posts in 3 seconds\n",
      "Done parsing 9700000 posts in 3 seconds\n",
      "Done parsing 9800000 posts in 3 seconds\n",
      "Done parsing 9900000 posts in 3 seconds\n",
      "Done parsing 10000000 posts in 3 seconds\n",
      "Done parsing 10100000 posts in 3 seconds\n",
      "Done parsing 10200000 posts in 3 seconds\n",
      "Done parsing 10300000 posts in 3 seconds\n",
      "Done parsing 10400000 posts in 3 seconds\n",
      "Done parsing 10500000 posts in 3 seconds\n",
      "Done parsing 10600000 posts in 3 seconds\n",
      "Done parsing 10700000 posts in 2 seconds\n",
      "Done parsing 10800000 posts in 2 seconds\n",
      "Done parsing 10900000 posts in 3 seconds\n",
      "Done parsing 11000000 posts in 2 seconds\n",
      "Done parsing 11100000 posts in 3 seconds\n",
      "Done parsing 11200000 posts in 3 seconds\n",
      "Done parsing 11300000 posts in 3 seconds\n",
      "Done parsing 11400000 posts in 3 seconds\n",
      "Done parsing 11500000 posts in 3 seconds\n",
      "Done parsing 11600000 posts in 3 seconds\n",
      "Done parsing 11700000 posts in 3 seconds\n",
      "Done parsing 11800000 posts in 3 seconds\n",
      "Done parsing 11900000 posts in 3 seconds\n",
      "Done parsing 12000000 posts in 3 seconds\n",
      "Done parsing 12100000 posts in 3 seconds\n",
      "Done parsing 12200000 posts in 3 seconds\n",
      "Done parsing 12300000 posts in 3 seconds\n",
      "Done parsing 12400000 posts in 3 seconds\n",
      "Done parsing 12500000 posts in 3 seconds\n",
      "Done parsing 12600000 posts in 3 seconds\n",
      "Done parsing 12700000 posts in 2 seconds\n",
      "Done parsing 12800000 posts in 2 seconds\n",
      "Done parsing 12900000 posts in 2 seconds\n",
      "Done parsing 13000000 posts in 2 seconds\n",
      "Done parsing 13100000 posts in 2 seconds\n",
      "Done parsing 13200000 posts in 2 seconds\n",
      "Done parsing 13300000 posts in 2 seconds\n",
      "Done parsing 13400000 posts in 3 seconds\n",
      "Done parsing 13500000 posts in 3 seconds\n",
      "Done parsing 13600000 posts in 3 seconds\n",
      "Done parsing 13700000 posts in 3 seconds\n",
      "Done parsing 13800000 posts in 3 seconds\n",
      "Done parsing 13900000 posts in 3 seconds\n",
      "Done parsing 14000000 posts in 3 seconds\n",
      "Done parsing 14100000 posts in 3 seconds\n",
      "Done parsing 14200000 posts in 3 seconds\n",
      "Done parsing 14300000 posts in 3 seconds\n",
      "Done parsing 14400000 posts in 3 seconds\n",
      "Done parsing 14500000 posts in 3 seconds\n",
      "Done parsing 14600000 posts in 3 seconds\n",
      "Done parsing 14700000 posts in 3 seconds\n",
      "Done parsing 14800000 posts in 3 seconds\n",
      "Done parsing 14900000 posts in 3 seconds\n",
      "Done parsing 15000000 posts in 3 seconds\n",
      "Done parsing 15100000 posts in 3 seconds\n",
      "Done parsing 15200000 posts in 3 seconds\n",
      "Done parsing 15300000 posts in 3 seconds\n",
      "Done parsing 15400000 posts in 3 seconds\n",
      "Done parsing 15500000 posts in 3 seconds\n",
      "Done parsing 15600000 posts in 2 seconds\n",
      "Done parsing 15700000 posts in 3 seconds\n",
      "Done parsing 15800000 posts in 3 seconds\n",
      "Done parsing 15900000 posts in 3 seconds\n",
      "Done parsing 16000000 posts in 3 seconds\n",
      "Done parsing 16100000 posts in 3 seconds\n",
      "Done parsing 16200000 posts in 3 seconds\n",
      "Done parsing 16300000 posts in 3 seconds\n",
      "Done parsing 16400000 posts in 3 seconds\n",
      "Done parsing 16500000 posts in 3 seconds\n",
      "Done parsing 16600000 posts in 3 seconds\n",
      "Done parsing 16700000 posts in 3 seconds\n",
      "Done parsing 16800000 posts in 3 seconds\n",
      "Done parsing 16900000 posts in 3 seconds\n",
      "Done parsing 17000000 posts in 3 seconds\n",
      "Done parsing 17100000 posts in 3 seconds\n",
      "Done parsing 17200000 posts in 3 seconds\n",
      "Done parsing 17300000 posts in 3 seconds\n",
      "Done parsing 17400000 posts in 3 seconds\n",
      "Done parsing 17500000 posts in 3 seconds\n",
      "Done parsing 17600000 posts in 3 seconds\n",
      "Done parsing 17700000 posts in 3 seconds\n",
      "Done parsing 17800000 posts in 3 seconds\n",
      "Done parsing 17900000 posts in 3 seconds\n",
      "Done parsing 18000000 posts in 3 seconds\n",
      "Done parsing 18100000 posts in 3 seconds\n",
      "Done parsing 18200000 posts in 3 seconds\n",
      "Done parsing 18300000 posts in 3 seconds\n",
      "Done parsing 18400000 posts in 3 seconds\n",
      "Done parsing 18500000 posts in 3 seconds\n",
      "Done parsing 18600000 posts in 3 seconds\n",
      "Done parsing 18700000 posts in 3 seconds\n",
      "Done parsing 18800000 posts in 3 seconds\n",
      "Done parsing 18900000 posts in 3 seconds\n",
      "Done parsing 19000000 posts in 3 seconds\n",
      "Done parsing 19100000 posts in 3 seconds\n",
      "Done parsing 19200000 posts in 3 seconds\n",
      "Done parsing 19300000 posts in 3 seconds\n",
      "Done parsing 19400000 posts in 3 seconds\n",
      "Done parsing 19500000 posts in 3 seconds\n",
      "Done parsing 19600000 posts in 3 seconds\n"
     ]
    },
    {
     "name": "stdout",
     "output_type": "stream",
     "text": [
      "Done parsing 19700000 posts in 3 seconds\n",
      "Done parsing 19800000 posts in 3 seconds\n",
      "Done parsing 19900000 posts in 3 seconds\n",
      "Done parsing 20000000 posts in 3 seconds\n",
      "Done parsing 20100000 posts in 3 seconds\n",
      "Done parsing 20200000 posts in 3 seconds\n",
      "Done parsing 20300000 posts in 3 seconds\n",
      "Done parsing 20400000 posts in 3 seconds\n",
      "Done parsing 20500000 posts in 3 seconds\n",
      "Done parsing 20600000 posts in 3 seconds\n",
      "Done parsing 20700000 posts in 3 seconds\n",
      "Done parsing 20800000 posts in 3 seconds\n",
      "Done parsing 20900000 posts in 3 seconds\n",
      "Done parsing 21000000 posts in 3 seconds\n",
      "Done parsing 21100000 posts in 3 seconds\n",
      "Done parsing 21200000 posts in 3 seconds\n",
      "Done parsing 21300000 posts in 3 seconds\n",
      "Done parsing 21400000 posts in 3 seconds\n",
      "Done parsing 21500000 posts in 3 seconds\n",
      "Done parsing 21600000 posts in 3 seconds\n",
      "Done parsing 21700000 posts in 3 seconds\n",
      "Done parsing 21800000 posts in 3 seconds\n",
      "Done parsing 21900000 posts in 3 seconds\n",
      "Done parsing 22000000 posts in 3 seconds\n",
      "Done parsing 22100000 posts in 3 seconds\n",
      "Done parsing 22200000 posts in 3 seconds\n",
      "Done parsing 22300000 posts in 3 seconds\n",
      "Done parsing 22400000 posts in 3 seconds\n",
      "Done parsing 22500000 posts in 3 seconds\n",
      "Done parsing 22600000 posts in 3 seconds\n",
      "Done parsing 22700000 posts in 3 seconds\n",
      "Done parsing 22800000 posts in 3 seconds\n",
      "Done parsing 22900000 posts in 3 seconds\n",
      "Done parsing 23000000 posts in 3 seconds\n",
      "Done parsing 23100000 posts in 3 seconds\n",
      "Done parsing 23200000 posts in 3 seconds\n",
      "Done parsing 23300000 posts in 3 seconds\n",
      "Done parsing 23400000 posts in 3 seconds\n",
      "Done parsing 23500000 posts in 3 seconds\n",
      "Done parsing 23600000 posts in 3 seconds\n",
      "Done parsing 23700000 posts in 3 seconds\n",
      "Done parsing 23800000 posts in 3 seconds\n",
      "Done parsing 23900000 posts in 3 seconds\n",
      "Done parsing 24000000 posts in 3 seconds\n",
      "Done parsing 24100000 posts in 3 seconds\n",
      "Done parsing 24200000 posts in 3 seconds\n",
      "Done parsing 24300000 posts in 3 seconds\n",
      "Done parsing 24400000 posts in 3 seconds\n",
      "Done parsing 24500000 posts in 3 seconds\n",
      "Done parsing 24600000 posts in 3 seconds\n",
      "Done parsing 24700000 posts in 3 seconds\n",
      "Done parsing 24800000 posts in 3 seconds\n",
      "Done parsing 24900000 posts in 3 seconds\n",
      "Done parsing 25000000 posts in 3 seconds\n",
      "Done parsing 25100000 posts in 3 seconds\n",
      "Done parsing 25200000 posts in 3 seconds\n",
      "Done parsing 25300000 posts in 3 seconds\n",
      "Done parsing 25400000 posts in 3 seconds\n",
      "Done parsing 25500000 posts in 3 seconds\n",
      "Done parsing 25600000 posts in 3 seconds\n",
      "Done parsing 25700000 posts in 3 seconds\n",
      "Done parsing 25800000 posts in 3 seconds\n",
      "Done parsing 25900000 posts in 3 seconds\n",
      "Done parsing 26000000 posts in 3 seconds\n",
      "Done parsing 26100000 posts in 3 seconds\n",
      "Done parsing 26200000 posts in 3 seconds\n",
      "Done parsing 26300000 posts in 3 seconds\n",
      "Done parsing 26400000 posts in 3 seconds\n",
      "Done parsing 26500000 posts in 3 seconds\n",
      "Done parsing 26600000 posts in 3 seconds\n",
      "Done parsing 26700000 posts in 3 seconds\n",
      "Done parsing 26800000 posts in 3 seconds\n",
      "Done parsing 26900000 posts in 3 seconds\n",
      "Done parsing 27000000 posts in 3 seconds\n",
      "Done parsing 27100000 posts in 3 seconds\n",
      "Done parsing 27200000 posts in 3 seconds\n",
      "Done parsing 27300000 posts in 3 seconds\n",
      "Done parsing 27400000 posts in 3 seconds\n",
      "Done parsing 27500000 posts in 3 seconds\n"
     ]
    }
   ],
   "source": [
    "postData = filterDumpbySub(dump[:100000],subID_dict)"
   ]
  },
  {
   "cell_type": "code",
   "execution_count": null,
   "metadata": {
    "ExecuteTime": {
     "start_time": "2019-07-04T13:58:00.690Z"
    }
   },
   "outputs": [],
   "source": [
    "postData.keys()"
   ]
  },
  {
   "cell_type": "code",
   "execution_count": null,
   "metadata": {
    "ExecuteTime": {
     "start_time": "2019-07-04T13:58:03.528Z"
    }
   },
   "outputs": [],
   "source": [
    "len(postData['Anxiety'])"
   ]
  },
  {
   "cell_type": "code",
   "execution_count": 81,
   "metadata": {
    "ExecuteTime": {
     "end_time": "2019-01-09T18:05:00.306696Z",
     "start_time": "2019-01-09T18:05:00.302890Z"
    }
   },
   "outputs": [],
   "source": [
    "# import pickle as pkl\n",
    "# with open(\"/datasets_1/sagarj/IoPPN_collab/MentalHealth_2017_posts.pkl\",'w') as f:\n",
    "#     pkl.dump(postData,f)"
   ]
  },
  {
   "cell_type": "code",
   "execution_count": 82,
   "metadata": {
    "ExecuteTime": {
     "end_time": "2019-01-09T18:05:00.584451Z",
     "start_time": "2019-01-09T18:05:00.576583Z"
    }
   },
   "outputs": [
    {
     "data": {
      "text/plain": [
       "7260"
      ]
     },
     "execution_count": 82,
     "metadata": {},
     "output_type": "execute_result"
    }
   ],
   "source": [
    "len(list(set(postData['depression'])))"
   ]
  },
  {
   "cell_type": "code",
   "execution_count": null,
   "metadata": {
    "ExecuteTime": {
     "start_time": "2019-01-05T14:57:19.528Z"
    }
   },
   "outputs": [],
   "source": [
    "# import pickle as pkl\n",
    "# with open(\"ChangemyView2017.pkl\",'w') as f:\n",
    "#     pkl.dump(postData['changemyview'],f)"
   ]
  },
  {
   "cell_type": "code",
   "execution_count": null,
   "metadata": {
    "ExecuteTime": {
     "start_time": "2019-01-05T14:57:19.767Z"
    }
   },
   "outputs": [],
   "source": [
    "# with open(\"Filtered_posts_2017.json\",'w') as f:\n",
    "#     json.dump(postData,f)"
   ]
  },
  {
   "cell_type": "code",
   "execution_count": null,
   "metadata": {
    "collapsed": true
   },
   "outputs": [],
   "source": []
  }
 ],
 "metadata": {
  "kernelspec": {
   "display_name": "Python 2",
   "language": "python",
   "name": "python2"
  },
  "language_info": {
   "codemirror_mode": {
    "name": "ipython",
    "version": 2
   },
   "file_extension": ".py",
   "mimetype": "text/x-python",
   "name": "python",
   "nbconvert_exporter": "python",
   "pygments_lexer": "ipython2",
   "version": "2.7.12"
  },
  "toc": {
   "colors": {
    "hover_highlight": "#DAA520",
    "navigate_num": "#000000",
    "navigate_text": "#333333",
    "running_highlight": "#FF0000",
    "selected_highlight": "#FFD700",
    "sidebar_border": "#EEEEEE",
    "wrapper_background": "#FFFFFF"
   },
   "moveMenuLeft": true,
   "nav_menu": {
    "height": "12px",
    "width": "252px"
   },
   "navigate_menu": true,
   "number_sections": true,
   "sideBar": true,
   "threshold": 4,
   "toc_cell": false,
   "toc_section_display": "block",
   "toc_window_display": false,
   "widenNotebook": false
  }
 },
 "nbformat": 4,
 "nbformat_minor": 2
}
