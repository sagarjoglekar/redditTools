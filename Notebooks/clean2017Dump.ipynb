{
 "cells": [
  {
   "cell_type": "code",
   "execution_count": 1,
   "metadata": {
    "ExecuteTime": {
     "end_time": "2019-07-04T13:53:37.066478Z",
     "start_time": "2019-07-04T13:53:36.963611Z"
    },
    "editable": false
   },
   "outputs": [],
   "source": [
    "import bz2\n",
    "import json\n",
    "import requests as rq\n",
    "import time"
   ]
  },
  {
   "cell_type": "code",
   "execution_count": 50,
   "metadata": {},
   "outputs": [],
   "source": [
    "import lzma"
   ]
  },
  {
   "cell_type": "code",
   "execution_count": 46,
   "metadata": {
    "ExecuteTime": {
     "end_time": "2019-07-04T13:53:37.474496Z",
     "start_time": "2019-07-04T13:53:37.470248Z"
    }
   },
   "outputs": [],
   "source": [
    "# dump = \"/datasets_1/sagarj/reddit_all_2017/RC_2017-02.bz2\"\n",
    "dump = \"/10TBdrive/datashare/Reddit/submissions/RS_2017-12.xz\""
   ]
  },
  {
   "cell_type": "code",
   "execution_count": 51,
   "metadata": {
    "ExecuteTime": {
     "end_time": "2019-07-04T13:53:38.583551Z",
     "start_time": "2019-07-04T13:53:38.337917Z"
    }
   },
   "outputs": [],
   "source": [
    "# openedDump = bz2.BZ2File(dump, \"r\")\n",
    "openedDump = lzma.open(dump)"
   ]
  },
  {
   "cell_type": "code",
   "execution_count": 52,
   "metadata": {
    "ExecuteTime": {
     "end_time": "2019-07-04T13:53:39.973331Z",
     "start_time": "2019-07-04T13:53:39.873451Z"
    }
   },
   "outputs": [
    {
     "name": "stdout",
     "output_type": "stream",
     "text": [
      "b'{\"archived\":false,\"author\":\"MortallyHolyRunaway\",\"author_flair_css_class\":null,\"author_flair_text\":null,\"brand_safe\":true,\"contest_mode\":false,\"created_utc\":1512086408,\"distinguished\":null,\"domain\":\"v.redd.it\",\"edited\":false,\"gilded\":0,\"hidden\":false,\"hide_score\":false,\"id\":\"7gqv9t\",\"is_crosspostable\":false,\"is_reddit_media_domain\":true,\"is_self\":false,\"is_video\":true,\"link_flair_css_class\":\"video\",\"link_flair_text\":\"Video\",\"locked\":false,\"media\":{\"reddit_video\":{\"dash_url\":\"https://v.redd.it/mfps4a7za7101/DASHPlaylist.mpd\",\"duration\":49,\"fallback_url\":\"https://v.redd.it/mfps4a7za7101/DASH_1_2_M\",\"height\":360,\"hls_url\":\"https://v.redd.it/mfps4a7za7101/HLSPlaylist.m3u8\",\"is_gif\":true,\"scrubber_media_url\":\"https://v.redd.it/mfps4a7za7101/DASH_600_K\",\"transcoding_status\":\"completed\",\"width\":640}},\"media_embed\":{},\"num_comments\":0,\"num_crossposts\":0,\"over_18\":false,\"parent_whitelist_status\":\"all_ads\",\"permalink\":\"/r/cats/comments/7gqv9t/my_little_rose_trying_to_get_into_my_bedroom/\",\"pinned\":false,\"post_hint\":\"hosted:video\",\"preview\":{\"enabled\":false,\"images\":[{\"id\":\"C3m8HRnXyI1KXFOhX15nmJZz797TsV2R5qRR1wvDwK4\",\"resolutions\":[{\"height\":60,\"url\":\"https://i.redditmedia.com/cSqC5teHOL5llf8angRLGIlNv54s1efJ4ThsAfkroXo.png?fit=crop&amp;crop=faces%2Centropy&amp;arh=2&amp;w=108&amp;s=ad9fc54f19884ebc3468fa977d7b3b39\",\"width\":108},{\"height\":121,\"url\":\"https://i.redditmedia.com/cSqC5teHOL5llf8angRLGIlNv54s1efJ4ThsAfkroXo.png?fit=crop&amp;crop=faces%2Centropy&amp;arh=2&amp;w=216&amp;s=85401660dff313cbe4f78179b6128030\",\"width\":216},{\"height\":180,\"url\":\"https://i.redditmedia.com/cSqC5teHOL5llf8angRLGIlNv54s1efJ4ThsAfkroXo.png?fit=crop&amp;crop=faces%2Centropy&amp;arh=2&amp;w=320&amp;s=0e6d96aaf6eac7702bc1df42d1dafa9d\",\"width\":320},{\"height\":360,\"url\":\"https://i.redditmedia.com/cSqC5teHOL5llf8angRLGIlNv54s1efJ4ThsAfkroXo.png?fit=crop&amp;crop=faces%2Centropy&amp;arh=2&amp;w=640&amp;s=bb979c35192f6e7570ad85aeef361e9e\",\"width\":640}],\"source\":{\"height\":406,\"url\":\"https://i.redditmedia.com/cSqC5teHOL5llf8angRLGIlNv54s1efJ4ThsAfkroXo.png?s=fee8e82760ab4428e59652cdaeb96367\",\"width\":720},\"variants\":{}}]},\"retrieved_on\":1512329913,\"score\":17,\"secure_media\":null,\"secure_media_embed\":{},\"selftext\":\"\",\"spoiler\":false,\"stickied\":false,\"subreddit\":\"cats\",\"subreddit_id\":\"t5_2qhta\",\"subreddit_type\":\"public\",\"suggested_sort\":null,\"thumbnail\":\"https://b.thumbs.redditmedia.com/KIuceT5zLJ6jhOXYJfA9JdaDlZcLy6FI-xKwp_PO4RM.jpg\",\"thumbnail_height\":78,\"thumbnail_width\":140,\"title\":\"My little Rose trying to get into my bedroom.\",\"url\":\"https://v.redd.it/mfps4a7za7101\",\"whitelist_status\":\"all_ads\"}\\n'\n",
      "b'{\"archived\":false,\"author\":\"krieger_out\",\"author_flair_css_class\":null,\"author_flair_text\":null,\"brand_safe\":true,\"contest_mode\":false,\"created_utc\":1512086400,\"distinguished\":null,\"domain\":\"self.AskReddit\",\"edited\":false,\"gilded\":0,\"hidden\":false,\"hide_score\":false,\"id\":\"7gqvc2\",\"is_crosspostable\":false,\"is_reddit_media_domain\":false,\"is_self\":true,\"is_video\":false,\"link_flair_css_class\":null,\"link_flair_text\":null,\"locked\":false,\"media\":null,\"media_embed\":{},\"num_comments\":4,\"num_crossposts\":0,\"over_18\":true,\"parent_whitelist_status\":\"all_ads\",\"permalink\":\"/r/AskReddit/comments/7gqvc2/in_the_current_climate_of_unmasking_sexual/\",\"pinned\":false,\"retrieved_on\":1512329914,\"score\":9,\"secure_media\":null,\"secure_media_embed\":{},\"selftext\":\"[removed]\",\"spoiler\":false,\"stickied\":false,\"subreddit\":\"AskReddit\",\"subreddit_id\":\"t5_2qh1i\",\"subreddit_type\":\"public\",\"suggested_sort\":null,\"thumbnail\":\"default\",\"thumbnail_height\":null,\"thumbnail_width\":null,\"title\":\"In the current climate of unmasking sexual misconduct, should men expose women who tried to use sex or provocative behavior to get something?\",\"url\":\"https://www.reddit.com/r/AskReddit/comments/7gqvc2/in_the_current_climate_of_unmasking_sexual/\",\"whitelist_status\":\"promo_adult_nsfw\"}\\n'\n",
      "b'{\"archived\":false,\"author\":\"illfuckyourmother\",\"author_flair_css_class\":null,\"author_flair_text\":null,\"brand_safe\":true,\"contest_mode\":false,\"created_utc\":1512086400,\"distinguished\":null,\"domain\":\"self.AskReddit\",\"edited\":false,\"gilded\":0,\"hidden\":false,\"hide_score\":false,\"id\":\"7gqvc3\",\"is_crosspostable\":false,\"is_reddit_media_domain\":false,\"is_self\":true,\"is_video\":false,\"link_flair_css_class\":null,\"link_flair_text\":null,\"locked\":false,\"media\":null,\"media_embed\":{},\"num_comments\":3,\"num_crossposts\":0,\"over_18\":false,\"parent_whitelist_status\":\"all_ads\",\"permalink\":\"/r/AskReddit/comments/7gqvc3/what_ungilded_commentpost_in_all_of_reddit_is/\",\"pinned\":false,\"retrieved_on\":1512329914,\"score\":2,\"secure_media\":null,\"secure_media_embed\":{},\"selftext\":\"\",\"spoiler\":false,\"stickied\":false,\"subreddit\":\"AskReddit\",\"subreddit_id\":\"t5_2qh1i\",\"subreddit_type\":\"public\",\"suggested_sort\":null,\"thumbnail\":\"self\",\"thumbnail_height\":null,\"thumbnail_width\":null,\"title\":\"What ungilded comment/post in all of Reddit is underrated and needs a gild?\",\"url\":\"https://www.reddit.com/r/AskReddit/comments/7gqvc3/what_ungilded_commentpost_in_all_of_reddit_is/\",\"whitelist_status\":\"all_ads\"}\\n'\n",
      "b'{\"archived\":false,\"author\":\"[deleted]\",\"author_flair_css_class\":null,\"author_flair_text\":null,\"brand_safe\":false,\"contest_mode\":false,\"created_utc\":1512086401,\"distinguished\":null,\"domain\":\"i.redd.it\",\"edited\":false,\"gilded\":0,\"hidden\":false,\"hide_score\":false,\"id\":\"7gqvc4\",\"is_crosspostable\":false,\"is_reddit_media_domain\":true,\"is_self\":false,\"is_video\":false,\"link_flair_css_class\":null,\"link_flair_text\":null,\"locked\":false,\"media\":null,\"media_embed\":{},\"num_comments\":0,\"num_crossposts\":0,\"over_18\":false,\"parent_whitelist_status\":null,\"permalink\":\"/r/twitchstreams/comments/7gqvc4/battlefront_2/\",\"pinned\":false,\"retrieved_on\":1512329914,\"score\":1,\"secure_media\":null,\"secure_media_embed\":{},\"selftext\":\"[deleted]\",\"spoiler\":false,\"stickied\":false,\"subreddit\":\"twitchstreams\",\"subreddit_id\":\"t5_2ywzs\",\"subreddit_type\":\"public\",\"suggested_sort\":null,\"thumbnail\":\"default\",\"thumbnail_height\":140,\"thumbnail_width\":140,\"title\":\"Battlefront 2\",\"url\":\"https://i.redd.it/0tn9wz9o77101.jpg\",\"whitelist_status\":null}\\n'\n",
      "b'{\"archived\":false,\"author\":\"N-11101\",\"author_flair_css_class\":null,\"author_flair_text\":null,\"brand_safe\":true,\"contest_mode\":false,\"created_utc\":1512086401,\"distinguished\":null,\"domain\":\"self.RocketLeagueExchange\",\"edited\":false,\"gilded\":0,\"hidden\":false,\"hide_score\":false,\"id\":\"7gqvc5\",\"is_crosspostable\":false,\"is_reddit_media_domain\":false,\"is_self\":true,\"is_video\":false,\"link_flair_css_class\":\"xbox\",\"link_flair_text\":\"Xbox\",\"locked\":false,\"media\":null,\"media_embed\":{},\"num_comments\":15,\"num_crossposts\":0,\"over_18\":false,\"parent_whitelist_status\":\"all_ads\",\"permalink\":\"/r/RocketLeagueExchange/comments/7gqvc5/xbox_h_black_roulette_w_offers/\",\"pinned\":false,\"retrieved_on\":1512329914,\"score\":1,\"secure_media\":null,\"secure_media_embed\":{},\"selftext\":\"\",\"spoiler\":false,\"stickied\":false,\"subreddit\":\"RocketLeagueExchange\",\"subreddit_id\":\"t5_3g4tc\",\"subreddit_type\":\"public\",\"suggested_sort\":null,\"thumbnail\":\"self\",\"thumbnail_height\":null,\"thumbnail_width\":null,\"title\":\"[XBOX] [H] Black Roulette [W] Offers\",\"url\":\"https://www.reddit.com/r/RocketLeagueExchange/comments/7gqvc5/xbox_h_black_roulette_w_offers/\",\"whitelist_status\":\"all_ads\"}\\n'\n",
      "b'{\"archived\":false,\"author\":\"usatvchansbot\",\"author_flair_css_class\":null,\"author_flair_text\":null,\"brand_safe\":false,\"contest_mode\":false,\"created_utc\":1512086401,\"distinguished\":\"moderator\",\"domain\":\"usatv.ch\",\"edited\":false,\"gilded\":0,\"hidden\":false,\"hide_score\":false,\"id\":\"7gqvc6\",\"is_crosspostable\":false,\"is_reddit_media_domain\":false,\"is_self\":false,\"is_video\":false,\"link_flair_css_class\":\"one\",\"link_flair_text\":\"NEW EPISODE\",\"locked\":false,\"media\":null,\"media_embed\":{},\"num_comments\":0,\"num_crossposts\":0,\"over_18\":false,\"parent_whitelist_status\":null,\"permalink\":\"/r/USATVChannels/comments/7gqvc6/2000_supernatural_the_cw/\",\"pinned\":false,\"retrieved_on\":1512329914,\"score\":1,\"secure_media\":null,\"secure_media_embed\":{},\"selftext\":\"\",\"spoiler\":false,\"stickied\":false,\"subreddit\":\"USATVChannels\",\"subreddit_id\":\"t5_3mnso\",\"subreddit_type\":\"public\",\"suggested_sort\":\"new\",\"thumbnail\":\"default\",\"thumbnail_height\":126,\"thumbnail_width\":140,\"title\":\"20:00 Supernatural (The CW)\",\"url\":\"http://www.usatv.ch/cw-live-stream.html\",\"whitelist_status\":null}\\n'\n",
      "b'{\"archived\":false,\"author\":\"autotldr\",\"author_flair_css_class\":null,\"author_flair_text\":null,\"brand_safe\":false,\"contest_mode\":false,\"created_utc\":1512086401,\"distinguished\":null,\"domain\":\"self.autotldr\",\"edited\":false,\"gilded\":0,\"hidden\":false,\"hide_score\":false,\"id\":\"7gqvc7\",\"is_crosspostable\":false,\"is_reddit_media_domain\":false,\"is_self\":true,\"is_video\":false,\"link_flair_css_class\":null,\"link_flair_text\":null,\"locked\":false,\"media\":null,\"media_embed\":{},\"num_comments\":0,\"num_crossposts\":0,\"over_18\":false,\"parent_whitelist_status\":null,\"permalink\":\"/r/autotldr/comments/7gqvc7/intelligence_veterans_blast_tom_cotton_as/\",\"pinned\":false,\"post_hint\":\"self\",\"preview\":{\"enabled\":false,\"images\":[{\"id\":\"ut08iXrL7Hs7Mn8aYjThaqEond12mz87dHH9bA8InvM\",\"resolutions\":[{\"height\":54,\"url\":\"https://i.redditmedia.com/vUNz_Z8W9WRw_7vUQGwf6JLwaui726oafCEYfJ_svDM.jpg?fit=crop&amp;crop=faces%2Centropy&amp;arh=2&amp;w=108&amp;s=90919cae293be89f1b0c0de7e944b528\",\"width\":108},{\"height\":108,\"url\":\"https://i.redditmedia.com/vUNz_Z8W9WRw_7vUQGwf6JLwaui726oafCEYfJ_svDM.jpg?fit=crop&amp;crop=faces%2Centropy&amp;arh=2&amp;w=216&amp;s=eefdf5ec82741640dbf5e7e09ea85819\",\"width\":216},{\"height\":160,\"url\":\"https://i.redditmedia.com/vUNz_Z8W9WRw_7vUQGwf6JLwaui726oafCEYfJ_svDM.jpg?fit=crop&amp;crop=faces%2Centropy&amp;arh=2&amp;w=320&amp;s=8fcdfc08db42fd4a73bce0fd26585fab\",\"width\":320},{\"height\":320,\"url\":\"https://i.redditmedia.com/vUNz_Z8W9WRw_7vUQGwf6JLwaui726oafCEYfJ_svDM.jpg?fit=crop&amp;crop=faces%2Centropy&amp;arh=2&amp;w=640&amp;s=d03cf6ee92c7ee57fc440e3f081c801e\",\"width\":640},{\"height\":480,\"url\":\"https://i.redditmedia.com/vUNz_Z8W9WRw_7vUQGwf6JLwaui726oafCEYfJ_svDM.jpg?fit=crop&amp;crop=faces%2Centropy&amp;arh=2&amp;w=960&amp;s=d959c771809c8fa438dbd90321b22a91\",\"width\":960},{\"height\":540,\"url\":\"https://i.redditmedia.com/vUNz_Z8W9WRw_7vUQGwf6JLwaui726oafCEYfJ_svDM.jpg?fit=crop&amp;crop=faces%2Centropy&amp;arh=2&amp;w=1080&amp;s=78f1ac303498520712ef8831da95f101\",\"width\":1080}],\"source\":{\"height\":595,\"url\":\"https://i.redditmedia.com/vUNz_Z8W9WRw_7vUQGwf6JLwaui726oafCEYfJ_svDM.jpg?s=0ba2746341bcd924ba3a61f6ba5d912b\",\"width\":1190},\"variants\":{}}]},\"retrieved_on\":1512329914,\"score\":5,\"secure_media\":null,\"secure_media_embed\":{},\"selftext\":\"This is the best tl;dr I could make, [original](http://www.businessinsider.com/reaction-to-tom-cotton-potentially-replacing-mike-pompeo-as-cia-director-2017-11) reduced by 79%. (I\\'m a bot)\\\\n*****\\\\n&gt; President Donald Trump is weighing a national security shakeup that could involve replacing CIA Director Mike Pompeo with Arkansas Sen.Tom Cotton.\\\\n\\\\n&gt; Several CIA veterans reacted with alarm on Thursday to news that Republican Sen. Tom Cotton could replace Mike Pompeo as head of the intelligence agency within the next two months.\\\\n\\\\n&gt; Trump&amp;#039;s chief of staff John Kelly is reportedly spearheading a national security shake-up that would involve installing Pompeo as secretary of state and Cotton as CIA director.\\\\n\\\\n&gt; Former CIA analyst Ned Price, who served as a National Security Council spokesman under Obama, shared concerns over the future of the US&amp;#039;s relationship with Iran if placed in the hands of Pompeo at the State Department and Cotton at the CIA. &amp;quot;I certainly think Cotton will continue much of what Pompeo started,&amp;quot; Price said, referring to a common perception of Pompeo&amp;#039;s CIA leadership as partisan and motivated, at least in part, by loyalty to Trump.\\\\n\\\\n&gt; Former congressional intelligence staffer Mieke Eoyang, now the vice president for the national security program at the think tank Third Way, said on Twitter that one upside to Cotton running the CIA is that he would be forced to suppress his partisan outbursts.\\\\n\\\\n&gt; Carle, who wrote a book about his involvement in the interrogation of a man believed in the early 2000&amp;#039;s to be a top Al-Qaeda member, said that Cotton is &amp;quot;Wholly unfit&amp;quot; to be CIA director.\\\\n\\\\n\\\\n*****\\\\n[**Summary Source**](http://smmry.com/http://www.businessinsider.com/reaction-to-tom-cotton-potentially-replacing-mike-pompeo-as-cia-director-2017-11) | [FAQ](http://autotldr.io/ \\\\\"249189 summaries so far.\\\\\") | [Feedback](http://www.reddit.com/message/compose?to=%23autotldr \\\\\"PM\\'s and comments are monitored, constructive feedback is welcome.\\\\\") | *Top* *keywords*: **Cotton**^#1 **CIA**^#2 **Iran**^#3 **intelligence**^#4 **Pompeo**^#5\\\\n\\\\nPost found in [/r/politics](http://np.reddit.com/r/politics/comments/7gqcta/intelligence_veterans_blast_tom_cotton_as/), [/r/badgovnofreedom](http://np.reddit.com/r/badgovnofreedom/comments/7gpqx4/intelligence_veterans_blast_tom_cotton_as/), [/r/littlenews](http://np.reddit.com/r/littlenews/comments/7gq0kl/intelligence_veterans_blast_tom_cotton_as/) and [/r/EndlessWar](http://np.reddit.com/r/EndlessWar/comments/7gpqwl/intelligence_veterans_blast_tom_cotton_as/).\\\\n\\\\n*NOTICE*: This thread is for discussing the submission topic. Please do not discuss the concept of the [autotldr](http://www.reddit.com/user/autotldr) bot here.\",\"spoiler\":false,\"stickied\":false,\"subreddit\":\"autotldr\",\"subreddit_id\":\"t5_2thsh\",\"subreddit_type\":\"restricted\",\"suggested_sort\":\"top\",\"thumbnail\":\"self\",\"thumbnail_height\":null,\"thumbnail_width\":null,\"title\":\"Intelligence veterans blast Tom Cotton as pro-torture, \\'partisan,\\' and \\'wholly unfit\\' to lead the CIA\",\"url\":\"https://www.reddit.com/r/autotldr/comments/7gqvc7/intelligence_veterans_blast_tom_cotton_as/\",\"whitelist_status\":null}\\n'\n",
      "b'{\"archived\":false,\"author\":\"[deleted]\",\"author_flair_css_class\":null,\"author_flair_text\":null,\"brand_safe\":true,\"contest_mode\":false,\"created_utc\":1512086401,\"distinguished\":null,\"domain\":\"self.vikingstv\",\"edited\":false,\"gilded\":0,\"hidden\":false,\"hide_score\":false,\"id\":\"7gqvc8\",\"is_crosspostable\":false,\"is_reddit_media_domain\":false,\"is_self\":true,\"is_video\":false,\"link_flair_css_class\":null,\"link_flair_text\":null,\"locked\":false,\"media\":null,\"media_embed\":{},\"num_comments\":1,\"num_crossposts\":0,\"over_18\":false,\"parent_whitelist_status\":\"all_ads\",\"permalink\":\"/r/vikingstv/comments/7gqvc8/so_how_do_the_episodes_work/\",\"pinned\":false,\"retrieved_on\":1512329914,\"score\":1,\"secure_media\":null,\"secure_media_embed\":{},\"selftext\":\"[removed]\",\"spoiler\":false,\"stickied\":false,\"subreddit\":\"vikingstv\",\"subreddit_id\":\"t5_2wj4c\",\"subreddit_type\":\"public\",\"suggested_sort\":null,\"thumbnail\":\"default\",\"thumbnail_height\":null,\"thumbnail_width\":null,\"title\":\"So how do the episodes work?\",\"url\":\"https://www.reddit.com/r/vikingstv/comments/7gqvc8/so_how_do_the_episodes_work/\",\"whitelist_status\":\"all_ads\"}\\n'\n",
      "b'{\"archived\":false,\"author\":\"[deleted]\",\"author_flair_css_class\":null,\"author_flair_text\":null,\"brand_safe\":false,\"contest_mode\":false,\"created_utc\":1512086402,\"distinguished\":null,\"domain\":\"tuit.es\",\"edited\":false,\"gilded\":0,\"hidden\":false,\"hide_score\":false,\"id\":\"7gqvc9\",\"is_crosspostable\":false,\"is_reddit_media_domain\":false,\"is_self\":false,\"is_video\":false,\"link_flair_css_class\":null,\"link_flair_text\":null,\"locked\":false,\"media\":null,\"media_embed\":{},\"num_comments\":0,\"num_crossposts\":0,\"over_18\":true,\"parent_whitelist_status\":\"promo_adult_nsfw\",\"permalink\":\"/r/cheatingwives/comments/7gqvc9/you_had_to_leave_the_party_early_but_your_friend/\",\"pinned\":false,\"retrieved_on\":1512329914,\"score\":1,\"secure_media\":null,\"secure_media_embed\":{},\"selftext\":\"[deleted]\",\"spoiler\":false,\"stickied\":false,\"subreddit\":\"cheatingwives\",\"subreddit_id\":\"t5_3557y\",\"subreddit_type\":\"public\",\"suggested_sort\":null,\"thumbnail\":\"default\",\"thumbnail_height\":116,\"thumbnail_width\":140,\"title\":\"You had to leave the party early, but your friend kindly offered to take your girlfriend back home in a taxi later\\\\u2026 [gif]\",\"url\":\"http://tuit.es/X6tzh\",\"whitelist_status\":\"promo_adult_nsfw\"}\\n'\n",
      "b'{\"archived\":false,\"author\":\"AnimatedPixelArtBot\",\"author_flair_css_class\":null,\"author_flair_text\":null,\"brand_safe\":false,\"contest_mode\":false,\"created_utc\":1512086402,\"distinguished\":null,\"domain\":\"i.redd.it\",\"edited\":false,\"gilded\":0,\"hidden\":false,\"hide_score\":false,\"id\":\"7gqvca\",\"is_crosspostable\":false,\"is_reddit_media_domain\":true,\"is_self\":false,\"is_video\":false,\"link_flair_css_class\":null,\"link_flair_text\":null,\"locked\":false,\"media\":null,\"media_embed\":{},\"num_comments\":0,\"num_crossposts\":0,\"over_18\":false,\"parent_whitelist_status\":null,\"permalink\":\"/r/AnimatedPixelArt/comments/7gqvca/tried_my_hand_at_making_a_logo_its_a_bank_called/\",\"pinned\":false,\"retrieved_on\":1512329914,\"score\":1,\"secure_media\":null,\"secure_media_embed\":{},\"selftext\":\"\",\"spoiler\":false,\"stickied\":false,\"subreddit\":\"AnimatedPixelArt\",\"subreddit_id\":\"t5_3njtc\",\"subreddit_type\":\"public\",\"suggested_sort\":null,\"thumbnail\":\"default\",\"thumbnail_height\":null,\"thumbnail_width\":null,\"title\":\"Tried my hand at making a logo! It\\'s a bank called Griffin Corp. by wkhalidman2\",\"url\":\"https://i.redd.it/p87nsx6097101.gif\",\"whitelist_status\":null}\\n'\n",
      "b'{\"archived\":false,\"author\":\"ranalog\",\"author_flair_css_class\":null,\"author_flair_text\":null,\"brand_safe\":true,\"contest_mode\":false,\"created_utc\":1512086402,\"distinguished\":\"moderator\",\"domain\":\"self.analog\",\"edited\":false,\"gilded\":0,\"hidden\":false,\"hide_score\":false,\"id\":\"7gqvcb\",\"is_crosspostable\":false,\"is_reddit_media_domain\":false,\"is_self\":true,\"is_video\":false,\"link_flair_css_class\":\"one\",\"link_flair_text\":\"Community\",\"locked\":false,\"media\":null,\"media_embed\":{},\"num_comments\":21,\"num_crossposts\":0,\"over_18\":false,\"parent_whitelist_status\":\"all_ads\",\"permalink\":\"/r/analog/comments/7gqvcb/monthly_self_promotion_december/\",\"pinned\":false,\"retrieved_on\":1512329914,\"score\":5,\"secure_media\":null,\"secure_media_embed\":{},\"selftext\":\"This thread is for you to promote your blog / flickr / 500px / web site / etc, but it must be about analog photography. To begin with, this thread will be monthly, but will be adjusted as needed. \\\\n\\\\nA new thread is created every month. To see the previous community threads, see [here](http://www.reddit.com/r/analog/search?q=flair%3A%22community%22&amp;restrict_sr=on&amp;sort=new&amp;t=all).\",\"spoiler\":false,\"stickied\":false,\"subreddit\":\"analog\",\"subreddit_id\":\"t5_2r344\",\"subreddit_type\":\"public\",\"suggested_sort\":\"new\",\"thumbnail\":\"self\",\"thumbnail_height\":null,\"thumbnail_width\":null,\"title\":\"Monthly \\'Self Promotion\\' - December\",\"url\":\"https://www.reddit.com/r/analog/comments/7gqvcb/monthly_self_promotion_december/\",\"whitelist_status\":\"all_ads\"}\\n'\n"
     ]
    }
   ],
   "source": [
    "count = 0\n",
    "for line in openedDump:\n",
    "    if count > 10:\n",
    "        break\n",
    "    print(repr(line))\n",
    "    count+=1"
   ]
  },
  {
   "cell_type": "code",
   "execution_count": 54,
   "metadata": {
    "ExecuteTime": {
     "end_time": "2019-07-04T13:53:49.652373Z",
     "start_time": "2019-07-04T13:53:49.573794Z"
    }
   },
   "outputs": [],
   "source": [
    "def getJson(url):\n",
    "    session_headers = {\n",
    "    'Host': 'www.reddit.com',\n",
    "    'Connection': 'keep-alive',\n",
    "    'Cache-Control': 'max-age=0',\n",
    "    'Upgrade-Insecure-Requests': '1',\n",
    "    'User-Agent': 'Mozilla/5.0 (Macintosh; Intel Mac OS X 10_13_1) AppleWebKit/537.36 (KHTML, like Gecko) Chrome/61.0.3163.100 Safari/537.36',\n",
    "    'Accept': 'text/html,application/xhtml+xml,application/xml;q=0.9,image/webp,image/apng,*/*;q=0.8',\n",
    "    #'Referer': 'http://localhost:9000/notebooks/Reddit/Notebooks/SuicideWatchSubreddit.ipynb'\n",
    "    'Accept-Encoding': 'gzip, deflate, br',\n",
    "    'Accept-Language': 'en-GB,en-US;q=0.8,en;q=0.6',\n",
    "    'Cookie': \"loid=00000000000gslzvdi.2.1507591930964.Z0FBQUFBQlozQWI3M243MTdFMUgzNWtQNzNVbzg5Z3NXYmxpLUdRTWVXdEpWQzBfbkxBSVNNVVF3dE1zQlN5cVMzeGtxZXlmT0JQY2JvTld2NWlVeGlGeFpkNnBYM2ZIYlNNR2xMWGFFS3hieDZpWEJ5OVlyTng0MUFZZjNYdjQ0ZURFNTFlSmlVRGw; edgebucket=T8nkTF0z7WPnNzlE8B; __gads=ID=ab9c1b0fcb7eaefc:T=1507591936:S=ALNI_Mao2tvEoyJzEDEuxxhfZBlOQHXlsA; eu_cookie_v2=3; _ga=GA1.2.1088810883.1507591931; __utma=55650728.1088810883.1507591931.1507912304.1507912553.14; __utmz=55650728.1507912553.14.11.utmcsr=reddit|utmccn=(not%20set)|utmcmd=hot|utmcct=comments; aa=1; _recentclicks2=t3_7cfzsx%2Ct3_7cfw08%2Ct3_7cdofu%2Ct3_7caog1%2Ct3_7cdvud; _recent_srs=t5_2qpzs%2Ct5_2qh1q%2Ct5_2qh49%2Ct5_2rtff%2Ct5_36buk%2Ct5_2r7yd%2Ct5_2rks3%2Ct5_3j2jr%2Ct5_2sumw%2Ct5_2xp2o; pc=r3; session_tracker=tPgx9U9yPt99jYRDqC.0.1510585492994.Z0FBQUFBQmFDYlNWcWZHclI5WWxDWW9kQ0dURk9FRU9BZjFJTURWZElzaldRbkROaEJUOWE1czRQUWxPUzUwOFFwY3R3ckI5VkNDUlhJc01NVEtEeHVWd25CdUpXWEI1X012RkJaS3cyNXdNbk5vOE9DSXp5ZlhuTzF3a2pxT2dLZ3laMDhtQlhib3k; initref=localhost\"\n",
    "    }\n",
    "\n",
    "    client = rq.session()\n",
    "    resp = client.get(url , headers=session_headers)\n",
    "    if resp.status_code == 200:\n",
    "        json_data = resp.json()\n",
    "        return json_data\n",
    "    else:\n",
    "        print(\"Failed to get page\")\n",
    "        return None\n",
    "def getSubredditId(json):\n",
    "    if type(json) == dict:\n",
    "        sub_id = json['data']['children'][0]['data']['subreddit_id']\n",
    "        return sub_id\n",
    "    else: \n",
    "        print(\"Invalid Format\")\n",
    "        return None\n",
    "\n",
    "def makeSubUrl(name):\n",
    "    return \"https://www.reddit.com/r/\" + name + \"/.json\"\n",
    "\n",
    "def getSubIds(RedditList):\n",
    "    subIds = {}\n",
    "    for name in RedditList:\n",
    "        json = getJson(makeSubUrl(name))\n",
    "        print (getSubredditId(json))\n",
    "        subIds[name] = getSubredditId(json)\n",
    "    return subIds\n",
    "\n",
    "def filterDumpbySub(filePath , subID_dict, limit=None):\n",
    "    import json\n",
    "    import bz2\n",
    "    \n",
    "    openedDump = bz2.BZ2File(filePath, \"r\")\n",
    "    count = 0\n",
    "    returnData = dict()\n",
    "    print(\"=============Parsing============\")\n",
    "    print (subID_dict)\n",
    "    st = time.time()\n",
    "    for line in openedDump:\n",
    "        lineData = json.loads(line.strip())\n",
    "        if (limit!=None and count > limit):\n",
    "            return returnData\n",
    "        if lineData['subreddit'] in subID_dict:\n",
    "            if lineData['subreddit'] not in returnData:\n",
    "                returnData[lineData['subreddit']] = []\n",
    "            postId = lineData['link_id'].strip().split('_')[1]\n",
    "            \n",
    "            if postId not in returnData[lineData['subreddit']]:\n",
    "                returnData[lineData['subreddit']].append(postId)\n",
    "        if count%100000 == 0:\n",
    "            end = time.time()\n",
    "            print(\"Done parsing %d posts in %d seconds\",(count,(end-st)))\n",
    "            st = time.time()\n",
    "        count+=1\n",
    "    return returnData\n",
    "\n",
    "\n",
    "def filterSubmissionsbySub(filePath , subID_dict, limit=None):\n",
    "    import json\n",
    "    import bz2\n",
    "    \n",
    "    openedDump = bz2.BZ2File(filePath, \"r\")\n",
    "    count = 0\n",
    "    returnData = dict()\n",
    "    print(\"=============Parsing============\")\n",
    "    print (subID_dict)\n",
    "    st = time.time()\n",
    "    for line in openedDump:\n",
    "        lineData = json.loads(line.strip())\n",
    "        if (limit!=None and count > limit):\n",
    "            return returnData\n",
    "        if lineData['subreddit_id'] in subID_dict:\n",
    "            if lineData['subreddit_id'] not in returnData:\n",
    "                returnData[lineData['subreddit_id']] = []\n",
    "            postId = lineData['id']\n",
    "            \n",
    "            if postId not in returnData[lineData['subreddit_id']]:\n",
    "                returnData[lineData['subreddit_id']].append(postId)\n",
    "        if count%100000 == 0:\n",
    "            end = time.time()\n",
    "            print(\"Done parsing %d posts in %d seconds\",(count,(end-st)))\n",
    "            st = time.time()\n",
    "        count+=1\n",
    "    return returnData\n",
    "\n",
    "\n",
    "\n",
    "def getSubmissionPermalinks(filePath , comments_Thresh = 20 , limit=None):\n",
    "    import json\n",
    "    import bz2\n",
    "    import lzma\n",
    "    \n",
    "    ext = filePath.split('.')[-1]\n",
    "    \n",
    "    if ext == 'bz2':\n",
    "        openedDump = bz2.BZ2File(filePath, \"r\")\n",
    "    elif ext == 'xz':\n",
    "        openedDump = lzma.open(dump)\n",
    "    else:\n",
    "        print (\"Invalid file type\")\n",
    "    count = 0\n",
    "    returnData = []\n",
    "    print(\"=============Parsing============\")\n",
    "    print (subID_dict)\n",
    "    st = time.time()\n",
    "    for line in openedDump:\n",
    "        lineData = json.loads(line.strip())\n",
    "        if lineData['num_comments'] > comments_Thresh:\n",
    "            if (limit!=None and count > limit):\n",
    "                return returnData\n",
    "            try:\n",
    "                returnData.append(lineData['permalink'])\n",
    "            except:\n",
    "                print(\"Permalink not found, moving on!\")\n",
    "        if count%100000 == 0:\n",
    "            end = time.time()\n",
    "            print(\"Done parsing %d posts in %d seconds\",(count,(end-st)))\n",
    "            st = time.time()\n",
    "        count+=1\n",
    "    return returnData"
   ]
  },
  {
   "cell_type": "code",
   "execution_count": 22,
   "metadata": {
    "ExecuteTime": {
     "end_time": "2019-07-04T13:54:05.445997Z",
     "start_time": "2019-07-04T13:54:05.441827Z"
    }
   },
   "outputs": [],
   "source": [
    "subreddits = [\"bipolar\" , \"BipolarReddit\" , \"BipolarSOs\" , \"Health\" , \"addiction\", \"depression\",\"SuicideWatch\",\"Anxiety\",\"Chicago\"] "
   ]
  },
  {
   "cell_type": "code",
   "execution_count": 23,
   "metadata": {
    "ExecuteTime": {
     "end_time": "2019-07-04T13:54:10.382836Z",
     "start_time": "2019-07-04T13:54:06.013875Z"
    }
   },
   "outputs": [
    {
     "name": "stdout",
     "output_type": "stream",
     "text": [
      "t5_2qnv4\n",
      "t5_2qzru\n",
      "t5_2zww6\n",
      "t5_2qh9z\n",
      "t5_2qwvc\n",
      "t5_2qqqf\n",
      "t5_2qpzs\n",
      "t5_2qmij\n",
      "t5_2qh2t\n"
     ]
    }
   ],
   "source": [
    "subID_dict = getSubIds(subreddits)"
   ]
  },
  {
   "cell_type": "code",
   "execution_count": 24,
   "metadata": {
    "ExecuteTime": {
     "end_time": "2019-07-04T13:54:35.404639Z",
     "start_time": "2019-07-04T13:54:35.386345Z"
    }
   },
   "outputs": [
    {
     "data": {
      "text/plain": [
       "{'Anxiety': 't5_2qmij',\n",
       " 'BipolarReddit': 't5_2qzru',\n",
       " 'BipolarSOs': 't5_2zww6',\n",
       " 'Chicago': 't5_2qh2t',\n",
       " 'Health': 't5_2qh9z',\n",
       " 'SuicideWatch': 't5_2qpzs',\n",
       " 'addiction': 't5_2qwvc',\n",
       " 'bipolar': 't5_2qnv4',\n",
       " 'depression': 't5_2qqqf'}"
      ]
     },
     "execution_count": 24,
     "metadata": {},
     "output_type": "execute_result"
    }
   ],
   "source": [
    "subID_dict"
   ]
  },
  {
   "cell_type": "code",
   "execution_count": 57,
   "metadata": {
    "ExecuteTime": {
     "start_time": "2019-07-04T13:55:09.042Z"
    }
   },
   "outputs": [
    {
     "name": "stdout",
     "output_type": "stream",
     "text": [
      "=============Parsing============\n",
      "{'bipolar': 't5_2qnv4', 'BipolarReddit': 't5_2qzru', 'BipolarSOs': 't5_2zww6', 'Health': 't5_2qh9z', 'addiction': 't5_2qwvc', 'depression': 't5_2qqqf', 'SuicideWatch': 't5_2qpzs', 'Anxiety': 't5_2qmij', 'Chicago': 't5_2qh2t'}\n",
      "Done parsing %d posts in %d seconds (0, 0.00078582763671875)\n",
      "Done parsing %d posts in %d seconds (100000, 5.783618450164795)\n",
      "Done parsing %d posts in %d seconds (200000, 5.64851975440979)\n",
      "Done parsing %d posts in %d seconds (300000, 5.70309853553772)\n",
      "Done parsing %d posts in %d seconds (400000, 5.7416112422943115)\n",
      "Done parsing %d posts in %d seconds (500000, 5.6409711837768555)\n",
      "Done parsing %d posts in %d seconds (600000, 5.804859638214111)\n",
      "Done parsing %d posts in %d seconds (700000, 5.7712132930755615)\n",
      "Done parsing %d posts in %d seconds (800000, 5.66406774520874)\n",
      "Done parsing %d posts in %d seconds (900000, 5.907747268676758)\n",
      "Done parsing %d posts in %d seconds (1000000, 6.20794939994812)\n",
      "Done parsing %d posts in %d seconds (1100000, 5.553173780441284)\n",
      "Done parsing %d posts in %d seconds (1200000, 5.693228721618652)\n",
      "Done parsing %d posts in %d seconds (1300000, 5.745593786239624)\n",
      "Done parsing %d posts in %d seconds (1400000, 5.654517889022827)\n",
      "Done parsing %d posts in %d seconds (1500000, 5.589427947998047)\n",
      "Done parsing %d posts in %d seconds (1600000, 5.697725772857666)\n",
      "Done parsing %d posts in %d seconds (1700000, 5.725909233093262)\n",
      "Done parsing %d posts in %d seconds (1800000, 5.694636821746826)\n",
      "Done parsing %d posts in %d seconds (1900000, 5.552986145019531)\n",
      "Done parsing %d posts in %d seconds (2000000, 5.717177867889404)\n",
      "Done parsing %d posts in %d seconds (2100000, 5.676353693008423)\n",
      "Done parsing %d posts in %d seconds (2200000, 5.652121305465698)\n",
      "Done parsing %d posts in %d seconds (2300000, 5.533827543258667)\n",
      "Done parsing %d posts in %d seconds (2400000, 5.670281648635864)\n",
      "Done parsing %d posts in %d seconds (2500000, 5.741727352142334)\n",
      "Done parsing %d posts in %d seconds (2600000, 5.572479248046875)\n",
      "Done parsing %d posts in %d seconds (2700000, 5.699488639831543)\n",
      "Done parsing %d posts in %d seconds (2800000, 5.723402500152588)\n",
      "Done parsing %d posts in %d seconds (2900000, 5.662989854812622)\n",
      "Done parsing %d posts in %d seconds (3000000, 5.660703897476196)\n",
      "Done parsing %d posts in %d seconds (3100000, 5.8048412799835205)\n",
      "Done parsing %d posts in %d seconds (3200000, 5.730824947357178)\n",
      "Done parsing %d posts in %d seconds (3300000, 5.6598029136657715)\n",
      "Done parsing %d posts in %d seconds (3400000, 5.783390283584595)\n",
      "Done parsing %d posts in %d seconds (3500000, 5.665315389633179)\n",
      "Done parsing %d posts in %d seconds (3600000, 5.620835065841675)\n",
      "Done parsing %d posts in %d seconds (3700000, 5.672688007354736)\n",
      "Done parsing %d posts in %d seconds (3800000, 5.6538918018341064)\n",
      "Done parsing %d posts in %d seconds (3900000, 5.645470857620239)\n",
      "Done parsing %d posts in %d seconds (4000000, 5.589893341064453)\n",
      "Done parsing %d posts in %d seconds (4100000, 5.700261354446411)\n",
      "Done parsing %d posts in %d seconds (4200000, 5.7112510204315186)\n",
      "Done parsing %d posts in %d seconds (4300000, 5.6265411376953125)\n",
      "Done parsing %d posts in %d seconds (4400000, 5.56830096244812)\n",
      "Done parsing %d posts in %d seconds (4500000, 5.742947816848755)\n",
      "Done parsing %d posts in %d seconds (4600000, 5.765614748001099)\n",
      "Done parsing %d posts in %d seconds (4700000, 5.6311891078948975)\n",
      "Done parsing %d posts in %d seconds (4800000, 5.642226696014404)\n",
      "Done parsing %d posts in %d seconds (4900000, 6.351912498474121)\n",
      "Done parsing %d posts in %d seconds (5000000, 5.592190980911255)\n",
      "Done parsing %d posts in %d seconds (5100000, 5.5528178215026855)\n",
      "Done parsing %d posts in %d seconds (5200000, 5.72167444229126)\n",
      "Done parsing %d posts in %d seconds (5300000, 5.751484394073486)\n",
      "Done parsing %d posts in %d seconds (5400000, 5.666273593902588)\n",
      "Done parsing %d posts in %d seconds (5500000, 5.714947938919067)\n",
      "Done parsing %d posts in %d seconds (5600000, 5.762692213058472)\n",
      "Done parsing %d posts in %d seconds (5700000, 5.660145044326782)\n",
      "Done parsing %d posts in %d seconds (5800000, 5.793085098266602)\n",
      "Done parsing %d posts in %d seconds (5900000, 5.826148748397827)\n",
      "Done parsing %d posts in %d seconds (6000000, 5.685869216918945)\n",
      "Done parsing %d posts in %d seconds (6100000, 5.590874433517456)\n",
      "Done parsing %d posts in %d seconds (6200000, 5.80168080329895)\n",
      "Done parsing %d posts in %d seconds (6300000, 5.739699840545654)\n",
      "Done parsing %d posts in %d seconds (6400000, 5.654874324798584)\n",
      "Done parsing %d posts in %d seconds (6500000, 5.644899845123291)\n",
      "Done parsing %d posts in %d seconds (6600000, 5.786596775054932)\n",
      "Done parsing %d posts in %d seconds (6700000, 5.749505996704102)\n",
      "Done parsing %d posts in %d seconds (6800000, 5.665435314178467)\n",
      "Done parsing %d posts in %d seconds (6900000, 5.73880410194397)\n",
      "Done parsing %d posts in %d seconds (7000000, 5.78396463394165)\n",
      "Done parsing %d posts in %d seconds (7100000, 5.691301345825195)\n",
      "Done parsing %d posts in %d seconds (7200000, 5.573720455169678)\n",
      "Done parsing %d posts in %d seconds (7300000, 5.771459579467773)\n",
      "Done parsing %d posts in %d seconds (7400000, 5.752765655517578)\n",
      "Done parsing %d posts in %d seconds (7500000, 5.638742208480835)\n",
      "Done parsing %d posts in %d seconds (7600000, 5.684144735336304)\n",
      "Done parsing %d posts in %d seconds (7700000, 5.783528089523315)\n",
      "Done parsing %d posts in %d seconds (7800000, 5.705626487731934)\n",
      "Done parsing %d posts in %d seconds (7900000, 5.6407012939453125)\n",
      "Done parsing %d posts in %d seconds (8000000, 5.837244987487793)\n",
      "Done parsing %d posts in %d seconds (8100000, 5.676886796951294)\n",
      "Done parsing %d posts in %d seconds (8200000, 5.739433765411377)\n",
      "Done parsing %d posts in %d seconds (8300000, 5.822079658508301)\n",
      "Done parsing %d posts in %d seconds (8400000, 5.681533575057983)\n",
      "Done parsing %d posts in %d seconds (8500000, 5.7265098094940186)\n",
      "Done parsing %d posts in %d seconds (8600000, 5.73452353477478)\n",
      "Done parsing %d posts in %d seconds (8700000, 5.568086385726929)\n",
      "Done parsing %d posts in %d seconds (8800000, 5.725118398666382)\n",
      "Done parsing %d posts in %d seconds (8900000, 5.736522912979126)\n",
      "Done parsing %d posts in %d seconds (9000000, 5.673227548599243)\n",
      "Done parsing %d posts in %d seconds (9100000, 5.646610498428345)\n",
      "Done parsing %d posts in %d seconds (9200000, 5.814399719238281)\n",
      "Done parsing %d posts in %d seconds (9300000, 5.70100736618042)\n",
      "Done parsing %d posts in %d seconds (9400000, 5.608962297439575)\n",
      "Done parsing %d posts in %d seconds (9500000, 5.860948324203491)\n",
      "Done parsing %d posts in %d seconds (9600000, 5.861487627029419)\n",
      "Done parsing %d posts in %d seconds (9700000, 5.669798135757446)\n",
      "Done parsing %d posts in %d seconds (9800000, 5.646374464035034)\n",
      "Done parsing %d posts in %d seconds (9900000, 5.726330041885376)\n",
      "Done parsing %d posts in %d seconds (10000000, 5.738849878311157)\n",
      "Done parsing %d posts in %d seconds (10100000, 5.700892448425293)\n",
      "Done parsing %d posts in %d seconds (10200000, 5.892123222351074)\n",
      "Done parsing %d posts in %d seconds (10300000, 6.172817707061768)\n",
      "Done parsing %d posts in %d seconds (10400000, 6.765091896057129)\n",
      "Done parsing %d posts in %d seconds (10500000, 7.18559455871582)\n"
     ]
    }
   ],
   "source": [
    "# postData = filterDumpbySub(dump[:1000],subID_dict)\n",
    "postData = getSubmissionPermalinks(dump[:1000],comments_Thresh= 2)"
   ]
  },
  {
   "cell_type": "code",
   "execution_count": 58,
   "metadata": {
    "ExecuteTime": {
     "start_time": "2019-07-04T13:58:00.690Z"
    }
   },
   "outputs": [
    {
     "data": {
      "text/plain": [
       "3499709"
      ]
     },
     "execution_count": 58,
     "metadata": {},
     "output_type": "execute_result"
    }
   ],
   "source": [
    "len(postData)"
   ]
  },
  {
   "cell_type": "code",
   "execution_count": 59,
   "metadata": {
    "ExecuteTime": {
     "start_time": "2019-07-04T13:58:03.528Z"
    }
   },
   "outputs": [
    {
     "data": {
      "text/plain": [
       "'/r/AskReddit/comments/7gqvc3/what_ungilded_commentpost_in_all_of_reddit_is/'"
      ]
     },
     "execution_count": 59,
     "metadata": {},
     "output_type": "execute_result"
    }
   ],
   "source": [
    "postData[1]"
   ]
  },
  {
   "cell_type": "code",
   "execution_count": 31,
   "metadata": {
    "ExecuteTime": {
     "end_time": "2019-01-09T18:05:00.306696Z",
     "start_time": "2019-01-09T18:05:00.302890Z"
    }
   },
   "outputs": [],
   "source": [
    "# import pickle as pkl\n",
    "# with open(\"/datasets_1/sagarj/IoPPN_collab/MentalHealth_2017_posts.pkl\",'w') as f:\n",
    "#     pkl.dump(postData,f)"
   ]
  },
  {
   "cell_type": "code",
   "execution_count": 32,
   "metadata": {
    "ExecuteTime": {
     "end_time": "2019-01-09T18:05:00.584451Z",
     "start_time": "2019-01-09T18:05:00.576583Z"
    }
   },
   "outputs": [
    {
     "ename": "KeyError",
     "evalue": "'depression'",
     "output_type": "error",
     "traceback": [
      "\u001b[0;31m---------------------------------------------------------------------------\u001b[0m",
      "\u001b[0;31mKeyError\u001b[0m                                  Traceback (most recent call last)",
      "\u001b[0;32m<ipython-input-32-ff7dd13c6c7b>\u001b[0m in \u001b[0;36m<module>\u001b[0;34m()\u001b[0m\n\u001b[0;32m----> 1\u001b[0;31m \u001b[0mlen\u001b[0m\u001b[0;34m(\u001b[0m\u001b[0mlist\u001b[0m\u001b[0;34m(\u001b[0m\u001b[0mset\u001b[0m\u001b[0;34m(\u001b[0m\u001b[0mpostData\u001b[0m\u001b[0;34m[\u001b[0m\u001b[0;34m'depression'\u001b[0m\u001b[0;34m]\u001b[0m\u001b[0;34m)\u001b[0m\u001b[0;34m)\u001b[0m\u001b[0;34m)\u001b[0m\u001b[0;34m\u001b[0m\u001b[0m\n\u001b[0m",
      "\u001b[0;31mKeyError\u001b[0m: 'depression'"
     ]
    }
   ],
   "source": [
    "len(list(set(postData['depression'])))"
   ]
  },
  {
   "cell_type": "code",
   "execution_count": null,
   "metadata": {
    "ExecuteTime": {
     "start_time": "2019-01-05T14:57:19.528Z"
    }
   },
   "outputs": [],
   "source": [
    "# import pickle as pkl\n",
    "# with open(\"ChangemyView2017.pkl\",'w') as f:\n",
    "#     pkl.dump(postData['changemyview'],f)"
   ]
  },
  {
   "cell_type": "code",
   "execution_count": null,
   "metadata": {
    "ExecuteTime": {
     "start_time": "2019-01-05T14:57:19.767Z"
    }
   },
   "outputs": [],
   "source": [
    "# with open(\"Filtered_posts_2017.json\",'w') as f:\n",
    "#     json.dump(postData,f)"
   ]
  },
  {
   "cell_type": "code",
   "execution_count": null,
   "metadata": {
    "collapsed": true
   },
   "outputs": [],
   "source": []
  }
 ],
 "metadata": {
  "kernelspec": {
   "display_name": "Python 3",
   "language": "python",
   "name": "python3"
  },
  "language_info": {
   "codemirror_mode": {
    "name": "ipython",
    "version": 3
   },
   "file_extension": ".py",
   "mimetype": "text/x-python",
   "name": "python",
   "nbconvert_exporter": "python",
   "pygments_lexer": "ipython3",
   "version": "3.6.3"
  },
  "toc": {
   "colors": {
    "hover_highlight": "#DAA520",
    "navigate_num": "#000000",
    "navigate_text": "#333333",
    "running_highlight": "#FF0000",
    "selected_highlight": "#FFD700",
    "sidebar_border": "#EEEEEE",
    "wrapper_background": "#FFFFFF"
   },
   "moveMenuLeft": true,
   "nav_menu": {
    "height": "12px",
    "width": "252px"
   },
   "navigate_menu": true,
   "number_sections": true,
   "sideBar": true,
   "threshold": 4,
   "toc_cell": false,
   "toc_section_display": "block",
   "toc_window_display": false,
   "widenNotebook": false
  }
 },
 "nbformat": 4,
 "nbformat_minor": 2
}
