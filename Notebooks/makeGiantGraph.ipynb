{
 "cells": [
  {
   "cell_type": "code",
   "execution_count": 1,
   "metadata": {
    "ExecuteTime": {
     "end_time": "2018-01-29T18:06:48.040579Z",
     "start_time": "2018-01-29T18:06:47.276253Z"
    },
    "collapsed": true
   },
   "outputs": [],
   "source": [
    "import pickle as pkl\n",
    "import numpy as np\n",
    "import pandas as pd\n",
    "import random\n",
    "import requests as rq\n",
    "import json\n",
    "import networkx as nx\n",
    "%matplotlib inline\n",
    "import matplotlib.pyplot as plt\n",
    "import seaborn as sns\n",
    "from networkx.drawing.nx_agraph import graphviz_layout\n",
    "import matplotlib.cm as cm\n",
    "from empath import Empath\n",
    "import math\n",
    "%matplotlib inline\n",
    "import matplotlib.pyplot as plt\n",
    "import matplotlib.cm as cm\n",
    "import sys\n",
    "import pyLDAvis\n",
    "import pyLDAvis.gensim\n",
    "import operator\n",
    "stdout = sys.stdout\n",
    "reload(sys)\n",
    "sys.setdefaultencoding('utf-8')\n",
    "sys.stdout = stdout"
   ]
  },
  {
   "cell_type": "code",
   "execution_count": 2,
   "metadata": {
    "ExecuteTime": {
     "end_time": "2018-01-29T18:06:49.318001Z",
     "start_time": "2018-01-29T18:06:49.313131Z"
    },
    "collapsed": true
   },
   "outputs": [],
   "source": [
    "Allgraphs_SW = \"../Data/reddit_suicideWatch/SW_allValidThreads_graphs/SW_Allvalid_Graphs.pkl\""
   ]
  },
  {
   "cell_type": "code",
   "execution_count": 3,
   "metadata": {
    "ExecuteTime": {
     "end_time": "2018-01-29T18:07:06.849006Z",
     "start_time": "2018-01-29T18:06:49.788354Z"
    },
    "collapsed": true
   },
   "outputs": [],
   "source": [
    "allGraphs_SW = pkl.load(open(Allgraphs_SW,'rb'))"
   ]
  },
  {
   "cell_type": "code",
   "execution_count": 4,
   "metadata": {
    "ExecuteTime": {
     "end_time": "2018-01-29T18:07:06.859245Z",
     "start_time": "2018-01-29T18:07:06.854495Z"
    }
   },
   "outputs": [
    {
     "data": {
      "text/plain": [
       "50754"
      ]
     },
     "execution_count": 4,
     "metadata": {},
     "output_type": "execute_result"
    }
   ],
   "source": [
    "len(allGraphs_SW)"
   ]
  },
  {
   "cell_type": "code",
   "execution_count": 5,
   "metadata": {
    "ExecuteTime": {
     "end_time": "2018-01-29T18:07:06.880000Z",
     "start_time": "2018-01-29T18:07:06.861571Z"
    },
    "collapsed": true
   },
   "outputs": [],
   "source": [
    "def createGiantGraph(allGraphs,deletedUsers=None):\n",
    "    userGraph = nx.DiGraph()\n",
    "    for i in allGraphs:\n",
    "        deleted = nx.get_node_attributes(allGraphs[i], 'author').values().count('[deleted]')\n",
    "        if deletedUsers:\n",
    "            if deleted > deletedUsers:\n",
    "                continue\n",
    "#         userGraph = nx.DiGraph()\n",
    "        nodes = nx.get_node_attributes(allGraphs[i],'author')\n",
    "        for e in allGraphs[i].edges():\n",
    "            if e[0] not in nodes and e[1] not in nodes:\n",
    "                continue\n",
    "            elif e[0] not in nodes:\n",
    "                src = \"deleted\"\n",
    "                dst = nodes[e[1]]\n",
    "            elif e[1] not in nodes:\n",
    "                src = nodes[e[0]]\n",
    "                dst = \"deleted\"\n",
    "            else:\n",
    "                src = nodes[e[0]]\n",
    "                dst = nodes[e[1]]\n",
    "            if not userGraph.has_node(src):\n",
    "                userGraph.add_node(src)\n",
    "            if not userGraph.has_node(dst):\n",
    "                userGraph.add_node(dst)  \n",
    "            if not userGraph.has_edge(src,dst):\n",
    "                userGraph.add_edge(src, dst , weight=1 )\n",
    "            else:\n",
    "                userGraph[src][dst]['weight'] += 1\n",
    "#         userGraphs[i] = userGraph\n",
    "    return userGraph"
   ]
  },
  {
   "cell_type": "code",
   "execution_count": 6,
   "metadata": {
    "ExecuteTime": {
     "end_time": "2018-01-29T18:07:08.538853Z",
     "start_time": "2018-01-29T18:07:06.882103Z"
    },
    "collapsed": true
   },
   "outputs": [],
   "source": [
    "all_userGraph = createGiantGraph(allGraphs_SW)"
   ]
  },
  {
   "cell_type": "code",
   "execution_count": 9,
   "metadata": {
    "ExecuteTime": {
     "end_time": "2018-01-29T18:08:45.685589Z",
     "start_time": "2018-01-29T18:08:45.680583Z"
    }
   },
   "outputs": [
    {
     "data": {
      "text/plain": [
       "<networkx.classes.digraph.DiGraph at 0x7f4a9892a4d0>"
      ]
     },
     "execution_count": 9,
     "metadata": {},
     "output_type": "execute_result"
    }
   ],
   "source": [
    "all_userGraph"
   ]
  },
  {
   "cell_type": "code",
   "execution_count": 12,
   "metadata": {
    "ExecuteTime": {
     "end_time": "2018-01-29T18:14:56.324100Z",
     "start_time": "2018-01-29T18:14:51.103771Z"
    }
   },
   "outputs": [],
   "source": [
    "# with open(\"../../node2vec/graph/completeSW.pkl\",'wb') as f: \n",
    "#     pkl.dump(all_userGraph,f)"
   ]
  },
  {
   "cell_type": "code",
   "execution_count": 14,
   "metadata": {
    "ExecuteTime": {
     "end_time": "2018-01-29T18:25:30.428237Z",
     "start_time": "2018-01-29T18:25:28.779529Z"
    },
    "collapsed": true
   },
   "outputs": [],
   "source": [
    "# nx.write_gpickle(all_userGraph,\"../../node2vec/graph/completeSW.gpkl\")"
   ]
  },
  {
   "cell_type": "code",
   "execution_count": 13,
   "metadata": {
    "ExecuteTime": {
     "end_time": "2018-01-29T18:15:39.622699Z",
     "start_time": "2018-01-29T18:15:34.092744Z"
    },
    "collapsed": true
   },
   "outputs": [],
   "source": [
    "# nx.write_gexf(all_userGraph, \"SW_allUsers.gexf\")"
   ]
  },
  {
   "cell_type": "code",
   "execution_count": null,
   "metadata": {
    "collapsed": true
   },
   "outputs": [],
   "source": []
  }
 ],
 "metadata": {
  "kernelspec": {
   "display_name": "Python 2",
   "language": "python",
   "name": "python2"
  },
  "language_info": {
   "codemirror_mode": {
    "name": "ipython",
    "version": 2
   },
   "file_extension": ".py",
   "mimetype": "text/x-python",
   "name": "python",
   "nbconvert_exporter": "python",
   "pygments_lexer": "ipython2",
   "version": "2.7.12"
  },
  "toc": {
   "colors": {
    "hover_highlight": "#DAA520",
    "navigate_num": "#000000",
    "navigate_text": "#333333",
    "running_highlight": "#FF0000",
    "selected_highlight": "#FFD700",
    "sidebar_border": "#EEEEEE",
    "wrapper_background": "#FFFFFF"
   },
   "moveMenuLeft": true,
   "nav_menu": {
    "height": "12px",
    "width": "252px"
   },
   "navigate_menu": true,
   "number_sections": true,
   "sideBar": true,
   "threshold": 4,
   "toc_cell": false,
   "toc_section_display": "block",
   "toc_window_display": false,
   "widenNotebook": false
  }
 },
 "nbformat": 4,
 "nbformat_minor": 2
}
