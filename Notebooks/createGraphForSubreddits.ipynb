{
 "cells": [
  {
   "cell_type": "code",
   "execution_count": 1,
   "metadata": {
    "ExecuteTime": {
     "end_time": "2020-06-25T10:21:53.598782Z",
     "start_time": "2020-06-25T10:21:53.183208Z"
    },
    "collapsed": true
   },
   "outputs": [],
   "source": [
    "import pandas as pd"
   ]
  },
  {
   "cell_type": "code",
   "execution_count": 2,
   "metadata": {
    "ExecuteTime": {
     "end_time": "2020-06-25T10:36:26.092767Z",
     "start_time": "2020-06-25T10:22:04.258180Z"
    },
    "collapsed": true
   },
   "outputs": [],
   "source": [
    "data = pd.read_csv('/10TBdrive/datashare/Reddit/AllParsedData_2017_V6.csv', sep='|')"
   ]
  },
  {
   "cell_type": "code",
   "execution_count": 3,
   "metadata": {
    "ExecuteTime": {
     "end_time": "2020-06-25T10:36:26.373916Z",
     "start_time": "2020-06-25T10:36:26.279694Z"
    }
   },
   "outputs": [
    {
     "data": {
      "text/html": [
       "<div>\n",
       "<style scoped>\n",
       "    .dataframe tbody tr th:only-of-type {\n",
       "        vertical-align: middle;\n",
       "    }\n",
       "\n",
       "    .dataframe tbody tr th {\n",
       "        vertical-align: top;\n",
       "    }\n",
       "\n",
       "    .dataframe thead th {\n",
       "        text-align: right;\n",
       "    }\n",
       "</style>\n",
       "<table border=\"1\" class=\"dataframe\">\n",
       "  <thead>\n",
       "    <tr style=\"text-align: right;\">\n",
       "      <th></th>\n",
       "      <th>author</th>\n",
       "      <th>downs</th>\n",
       "      <th>ups</th>\n",
       "      <th>text</th>\n",
       "      <th>time</th>\n",
       "      <th>src_id</th>\n",
       "      <th>dest_id</th>\n",
       "      <th>dest_author</th>\n",
       "      <th>depth</th>\n",
       "      <th>subreddit</th>\n",
       "    </tr>\n",
       "  </thead>\n",
       "  <tbody>\n",
       "    <tr>\n",
       "      <th>0</th>\n",
       "      <td>kemorsky</td>\n",
       "      <td>0</td>\n",
       "      <td>29</td>\n",
       "      <td>Armin reverted back in a matter of seconds, I ...</td>\n",
       "      <td>1.497463e+09</td>\n",
       "      <td>t1_diwhbo2</td>\n",
       "      <td>t3_6h89c5</td>\n",
       "      <td>NwD_</td>\n",
       "      <td>0</td>\n",
       "      <td>ShingekiNoKyojin</td>\n",
       "    </tr>\n",
       "    <tr>\n",
       "      <th>1</th>\n",
       "      <td>DogmanLordman</td>\n",
       "      <td>0</td>\n",
       "      <td>28</td>\n",
       "      <td>&amp;gt; Armin reverted back in a matter of second...</td>\n",
       "      <td>1.497464e+09</td>\n",
       "      <td>t1_diwi5o5</td>\n",
       "      <td>t1_diwhbo2</td>\n",
       "      <td>kemorsky</td>\n",
       "      <td>1</td>\n",
       "      <td>ShingekiNoKyojin</td>\n",
       "    </tr>\n",
       "    <tr>\n",
       "      <th>2</th>\n",
       "      <td>Avertus</td>\n",
       "      <td>0</td>\n",
       "      <td>3</td>\n",
       "      <td>Or it takes about 24 hours for a newly-Titaniz...</td>\n",
       "      <td>1.497492e+09</td>\n",
       "      <td>t1_dix5h96</td>\n",
       "      <td>t1_diwi5o5</td>\n",
       "      <td>DogmanLordman</td>\n",
       "      <td>2</td>\n",
       "      <td>ShingekiNoKyojin</td>\n",
       "    </tr>\n",
       "    <tr>\n",
       "      <th>3</th>\n",
       "      <td>Shaka1277</td>\n",
       "      <td>0</td>\n",
       "      <td>2</td>\n",
       "      <td>It's also shown *really* clearly in Season 2 o...</td>\n",
       "      <td>1.497467e+09</td>\n",
       "      <td>t1_diwl148</td>\n",
       "      <td>t1_diwkui1</td>\n",
       "      <td>DogmanLordman</td>\n",
       "      <td>4</td>\n",
       "      <td>ShingekiNoKyojin</td>\n",
       "    </tr>\n",
       "    <tr>\n",
       "      <th>4</th>\n",
       "      <td>NwD_</td>\n",
       "      <td>0</td>\n",
       "      <td>-1</td>\n",
       "      <td>&amp;gt;The human body is still located in the nap...</td>\n",
       "      <td>1.497468e+09</td>\n",
       "      <td>t1_diwlhen</td>\n",
       "      <td>t1_diwkui1</td>\n",
       "      <td>DogmanLordman</td>\n",
       "      <td>4</td>\n",
       "      <td>ShingekiNoKyojin</td>\n",
       "    </tr>\n",
       "  </tbody>\n",
       "</table>\n",
       "</div>"
      ],
      "text/plain": [
       "          author  downs  ups  \\\n",
       "0       kemorsky      0   29   \n",
       "1  DogmanLordman      0   28   \n",
       "2        Avertus      0    3   \n",
       "3      Shaka1277      0    2   \n",
       "4           NwD_      0   -1   \n",
       "\n",
       "                                                text          time  \\\n",
       "0  Armin reverted back in a matter of seconds, I ...  1.497463e+09   \n",
       "1  &gt; Armin reverted back in a matter of second...  1.497464e+09   \n",
       "2  Or it takes about 24 hours for a newly-Titaniz...  1.497492e+09   \n",
       "3  It's also shown *really* clearly in Season 2 o...  1.497467e+09   \n",
       "4  &gt;The human body is still located in the nap...  1.497468e+09   \n",
       "\n",
       "       src_id     dest_id    dest_author  depth         subreddit  \n",
       "0  t1_diwhbo2   t3_6h89c5           NwD_      0  ShingekiNoKyojin  \n",
       "1  t1_diwi5o5  t1_diwhbo2       kemorsky      1  ShingekiNoKyojin  \n",
       "2  t1_dix5h96  t1_diwi5o5  DogmanLordman      2  ShingekiNoKyojin  \n",
       "3  t1_diwl148  t1_diwkui1  DogmanLordman      4  ShingekiNoKyojin  \n",
       "4  t1_diwlhen  t1_diwkui1  DogmanLordman      4  ShingekiNoKyojin  "
      ]
     },
     "execution_count": 3,
     "metadata": {},
     "output_type": "execute_result"
    }
   ],
   "source": [
    "data.head()"
   ]
  },
  {
   "cell_type": "code",
   "execution_count": 4,
   "metadata": {
    "ExecuteTime": {
     "end_time": "2020-06-25T10:36:26.432182Z",
     "start_time": "2020-06-25T10:36:26.423182Z"
    },
    "collapsed": true
   },
   "outputs": [],
   "source": [
    "vaccine = ['philosophy','TrueAntiVaccination','DebateVaccines','PhilosophyofScience','PhilosophyofReligion','PhilosophyMemes']"
   ]
  },
  {
   "cell_type": "code",
   "execution_count": 5,
   "metadata": {
    "ExecuteTime": {
     "end_time": "2020-06-25T10:36:36.814099Z",
     "start_time": "2020-06-25T10:36:26.472938Z"
    },
    "collapsed": true
   },
   "outputs": [],
   "source": [
    "vaccine_data = data[data['subreddit'].isin(vaccine)]"
   ]
  },
  {
   "cell_type": "code",
   "execution_count": 6,
   "metadata": {
    "ExecuteTime": {
     "end_time": "2020-06-25T10:36:36.903984Z",
     "start_time": "2020-06-25T10:36:36.898585Z"
    }
   },
   "outputs": [
    {
     "data": {
      "text/plain": [
       "40933"
      ]
     },
     "execution_count": 6,
     "metadata": {},
     "output_type": "execute_result"
    }
   ],
   "source": [
    "len(vaccine_data)"
   ]
  },
  {
   "cell_type": "code",
   "execution_count": 7,
   "metadata": {
    "ExecuteTime": {
     "end_time": "2020-06-25T10:36:38.373459Z",
     "start_time": "2020-06-25T10:36:36.997876Z"
    },
    "collapsed": true
   },
   "outputs": [],
   "source": [
    "vaccine_data.to_csv('Sanja_vaccine_data_v3.csv',sep='|')"
   ]
  },
  {
   "cell_type": "code",
   "execution_count": 8,
   "metadata": {
    "ExecuteTime": {
     "end_time": "2020-06-25T10:36:38.787210Z",
     "start_time": "2020-06-25T10:36:38.446910Z"
    },
    "collapsed": true
   },
   "outputs": [],
   "source": [
    "vaccine_data = pd.read_csv('Sanja_vaccine_data_v3.csv',sep='|')"
   ]
  },
  {
   "cell_type": "code",
   "execution_count": 9,
   "metadata": {
    "ExecuteTime": {
     "end_time": "2020-06-25T10:36:39.149195Z",
     "start_time": "2020-06-25T10:36:38.848875Z"
    }
   },
   "outputs": [
    {
     "data": {
      "text/html": [
       "<div>\n",
       "<style scoped>\n",
       "    .dataframe tbody tr th:only-of-type {\n",
       "        vertical-align: middle;\n",
       "    }\n",
       "\n",
       "    .dataframe tbody tr th {\n",
       "        vertical-align: top;\n",
       "    }\n",
       "\n",
       "    .dataframe thead th {\n",
       "        text-align: right;\n",
       "    }\n",
       "</style>\n",
       "<table border=\"1\" class=\"dataframe\">\n",
       "  <thead>\n",
       "    <tr style=\"text-align: right;\">\n",
       "      <th></th>\n",
       "      <th>Unnamed: 0</th>\n",
       "      <th>author</th>\n",
       "      <th>downs</th>\n",
       "      <th>ups</th>\n",
       "      <th>text</th>\n",
       "      <th>time</th>\n",
       "      <th>src_id</th>\n",
       "      <th>dest_id</th>\n",
       "      <th>dest_author</th>\n",
       "      <th>depth</th>\n",
       "      <th>subreddit</th>\n",
       "    </tr>\n",
       "    <tr>\n",
       "      <th>subreddit</th>\n",
       "      <th></th>\n",
       "      <th></th>\n",
       "      <th></th>\n",
       "      <th></th>\n",
       "      <th></th>\n",
       "      <th></th>\n",
       "      <th></th>\n",
       "      <th></th>\n",
       "      <th></th>\n",
       "      <th></th>\n",
       "      <th></th>\n",
       "    </tr>\n",
       "  </thead>\n",
       "  <tbody>\n",
       "    <tr>\n",
       "      <th>DebateVaccines</th>\n",
       "      <td>432</td>\n",
       "      <td>18</td>\n",
       "      <td>1</td>\n",
       "      <td>7</td>\n",
       "      <td>426</td>\n",
       "      <td>431</td>\n",
       "      <td>432</td>\n",
       "      <td>346</td>\n",
       "      <td>15</td>\n",
       "      <td>29</td>\n",
       "      <td>1</td>\n",
       "    </tr>\n",
       "    <tr>\n",
       "      <th>PhilosophyofReligion</th>\n",
       "      <td>126</td>\n",
       "      <td>22</td>\n",
       "      <td>1</td>\n",
       "      <td>10</td>\n",
       "      <td>126</td>\n",
       "      <td>126</td>\n",
       "      <td>126</td>\n",
       "      <td>102</td>\n",
       "      <td>19</td>\n",
       "      <td>30</td>\n",
       "      <td>1</td>\n",
       "    </tr>\n",
       "    <tr>\n",
       "      <th>PhilosophyofScience</th>\n",
       "      <td>335</td>\n",
       "      <td>123</td>\n",
       "      <td>1</td>\n",
       "      <td>17</td>\n",
       "      <td>334</td>\n",
       "      <td>335</td>\n",
       "      <td>335</td>\n",
       "      <td>227</td>\n",
       "      <td>80</td>\n",
       "      <td>34</td>\n",
       "      <td>1</td>\n",
       "    </tr>\n",
       "    <tr>\n",
       "      <th>philosophy</th>\n",
       "      <td>40039</td>\n",
       "      <td>14407</td>\n",
       "      <td>1</td>\n",
       "      <td>366</td>\n",
       "      <td>39853</td>\n",
       "      <td>39918</td>\n",
       "      <td>40039</td>\n",
       "      <td>24298</td>\n",
       "      <td>8944</td>\n",
       "      <td>46</td>\n",
       "      <td>1</td>\n",
       "    </tr>\n",
       "  </tbody>\n",
       "</table>\n",
       "</div>"
      ],
      "text/plain": [
       "                      Unnamed: 0  author  downs  ups   text   time  src_id  \\\n",
       "subreddit                                                                    \n",
       "DebateVaccines               432      18      1    7    426    431     432   \n",
       "PhilosophyofReligion         126      22      1   10    126    126     126   \n",
       "PhilosophyofScience          335     123      1   17    334    335     335   \n",
       "philosophy                 40039   14407      1  366  39853  39918   40039   \n",
       "\n",
       "                      dest_id  dest_author  depth  subreddit  \n",
       "subreddit                                                     \n",
       "DebateVaccines            346           15     29          1  \n",
       "PhilosophyofReligion      102           19     30          1  \n",
       "PhilosophyofScience       227           80     34          1  \n",
       "philosophy              24298         8944     46          1  "
      ]
     },
     "execution_count": 9,
     "metadata": {},
     "output_type": "execute_result"
    }
   ],
   "source": [
    "vaccine_data.groupby('subreddit').nunique()"
   ]
  },
  {
   "cell_type": "code",
   "execution_count": 10,
   "metadata": {
    "ExecuteTime": {
     "end_time": "2020-06-25T11:08:59.824114Z",
     "start_time": "2020-06-25T11:08:59.804164Z"
    }
   },
   "outputs": [
    {
     "data": {
      "text/html": [
       "<div>\n",
       "<style scoped>\n",
       "    .dataframe tbody tr th:only-of-type {\n",
       "        vertical-align: middle;\n",
       "    }\n",
       "\n",
       "    .dataframe tbody tr th {\n",
       "        vertical-align: top;\n",
       "    }\n",
       "\n",
       "    .dataframe thead th {\n",
       "        text-align: right;\n",
       "    }\n",
       "</style>\n",
       "<table border=\"1\" class=\"dataframe\">\n",
       "  <thead>\n",
       "    <tr style=\"text-align: right;\">\n",
       "      <th></th>\n",
       "      <th>Unnamed: 0</th>\n",
       "      <th>author</th>\n",
       "      <th>downs</th>\n",
       "      <th>ups</th>\n",
       "      <th>text</th>\n",
       "      <th>time</th>\n",
       "      <th>src_id</th>\n",
       "      <th>dest_id</th>\n",
       "      <th>dest_author</th>\n",
       "      <th>depth</th>\n",
       "      <th>subreddit</th>\n",
       "    </tr>\n",
       "  </thead>\n",
       "  <tbody>\n",
       "    <tr>\n",
       "      <th>0</th>\n",
       "      <td>1041149</td>\n",
       "      <td>BernardJOrtcutt</td>\n",
       "      <td>0</td>\n",
       "      <td>1</td>\n",
       "      <td>Thank you for your post to /r/philosophy. Unfo...</td>\n",
       "      <td>1.492196e+09</td>\n",
       "      <td>t1_dg9ks2t</td>\n",
       "      <td>t3_65e118</td>\n",
       "      <td>antioxidant_666</td>\n",
       "      <td>0.0</td>\n",
       "      <td>philosophy</td>\n",
       "    </tr>\n",
       "    <tr>\n",
       "      <th>1</th>\n",
       "      <td>1041150</td>\n",
       "      <td>geyges</td>\n",
       "      <td>0</td>\n",
       "      <td>7</td>\n",
       "      <td>1. See reading list on the sidebar.\\n2. ask qu...</td>\n",
       "      <td>1.492193e+09</td>\n",
       "      <td>t1_dg9hrel</td>\n",
       "      <td>t3_65e118</td>\n",
       "      <td>antioxidant_666</td>\n",
       "      <td>0.0</td>\n",
       "      <td>philosophy</td>\n",
       "    </tr>\n",
       "    <tr>\n",
       "      <th>2</th>\n",
       "      <td>1041151</td>\n",
       "      <td>oscbsc</td>\n",
       "      <td>0</td>\n",
       "      <td>6</td>\n",
       "      <td>Try Sophie's World for a good novel that also ...</td>\n",
       "      <td>1.492193e+09</td>\n",
       "      <td>t1_dg9i1bh</td>\n",
       "      <td>t3_65e118</td>\n",
       "      <td>antioxidant_666</td>\n",
       "      <td>0.0</td>\n",
       "      <td>philosophy</td>\n",
       "    </tr>\n",
       "    <tr>\n",
       "      <th>3</th>\n",
       "      <td>1041152</td>\n",
       "      <td>this_will_go_poorly</td>\n",
       "      <td>0</td>\n",
       "      <td>4</td>\n",
       "      <td>I spent 3 years of college digging into it. Hi...</td>\n",
       "      <td>1.492193e+09</td>\n",
       "      <td>t1_dg9i5ep</td>\n",
       "      <td>t3_65e118</td>\n",
       "      <td>antioxidant_666</td>\n",
       "      <td>0.0</td>\n",
       "      <td>philosophy</td>\n",
       "    </tr>\n",
       "    <tr>\n",
       "      <th>4</th>\n",
       "      <td>1041153</td>\n",
       "      <td>thehoodedidiot</td>\n",
       "      <td>0</td>\n",
       "      <td>1</td>\n",
       "      <td>I'm curious what did you do with a major in it?</td>\n",
       "      <td>1.492195e+09</td>\n",
       "      <td>t1_dg9jcgt</td>\n",
       "      <td>t1_dg9i5ep</td>\n",
       "      <td>this_will_go_poorly</td>\n",
       "      <td>1.0</td>\n",
       "      <td>philosophy</td>\n",
       "    </tr>\n",
       "  </tbody>\n",
       "</table>\n",
       "</div>"
      ],
      "text/plain": [
       "  Unnamed: 0               author downs ups  \\\n",
       "0    1041149      BernardJOrtcutt     0   1   \n",
       "1    1041150               geyges     0   7   \n",
       "2    1041151               oscbsc     0   6   \n",
       "3    1041152  this_will_go_poorly     0   4   \n",
       "4    1041153       thehoodedidiot     0   1   \n",
       "\n",
       "                                                text          time  \\\n",
       "0  Thank you for your post to /r/philosophy. Unfo...  1.492196e+09   \n",
       "1  1. See reading list on the sidebar.\\n2. ask qu...  1.492193e+09   \n",
       "2  Try Sophie's World for a good novel that also ...  1.492193e+09   \n",
       "3  I spent 3 years of college digging into it. Hi...  1.492193e+09   \n",
       "4    I'm curious what did you do with a major in it?  1.492195e+09   \n",
       "\n",
       "       src_id     dest_id          dest_author  depth   subreddit  \n",
       "0  t1_dg9ks2t   t3_65e118      antioxidant_666    0.0  philosophy  \n",
       "1  t1_dg9hrel   t3_65e118      antioxidant_666    0.0  philosophy  \n",
       "2  t1_dg9i1bh   t3_65e118      antioxidant_666    0.0  philosophy  \n",
       "3  t1_dg9i5ep   t3_65e118      antioxidant_666    0.0  philosophy  \n",
       "4  t1_dg9jcgt  t1_dg9i5ep  this_will_go_poorly    1.0  philosophy  "
      ]
     },
     "execution_count": 10,
     "metadata": {},
     "output_type": "execute_result"
    }
   ],
   "source": [
    "vaccine_data.head()"
   ]
  },
  {
   "cell_type": "code",
   "execution_count": null,
   "metadata": {
    "collapsed": true
   },
   "outputs": [],
   "source": []
  }
 ],
 "metadata": {
  "kernelspec": {
   "display_name": "Python [conda env:root] *",
   "language": "python",
   "name": "conda-root-py"
  },
  "language_info": {
   "codemirror_mode": {
    "name": "ipython",
    "version": 3
   },
   "file_extension": ".py",
   "mimetype": "text/x-python",
   "name": "python",
   "nbconvert_exporter": "python",
   "pygments_lexer": "ipython3",
   "version": "3.6.3"
  },
  "latex_envs": {
   "LaTeX_envs_menu_present": true,
   "autoclose": false,
   "autocomplete": true,
   "bibliofile": "biblio.bib",
   "cite_by": "apalike",
   "current_citInitial": 1,
   "eqLabelWithNumbers": true,
   "eqNumInitial": 1,
   "hotkeys": {
    "equation": "Ctrl-E",
    "itemize": "Ctrl-I"
   },
   "labels_anchors": false,
   "latex_user_defs": false,
   "report_style_numbering": false,
   "user_envs_cfg": false
  },
  "toc": {
   "base_numbering": 1,
   "nav_menu": {},
   "number_sections": true,
   "sideBar": true,
   "skip_h1_title": false,
   "title_cell": "Table of Contents",
   "title_sidebar": "Contents",
   "toc_cell": false,
   "toc_position": {},
   "toc_section_display": true,
   "toc_window_display": false
  },
  "varInspector": {
   "cols": {
    "lenName": 16,
    "lenType": 16,
    "lenVar": 40
   },
   "kernels_config": {
    "python": {
     "delete_cmd_postfix": "",
     "delete_cmd_prefix": "del ",
     "library": "var_list.py",
     "varRefreshCmd": "print(var_dic_list())"
    },
    "r": {
     "delete_cmd_postfix": ") ",
     "delete_cmd_prefix": "rm(",
     "library": "var_list.r",
     "varRefreshCmd": "cat(var_dic_list()) "
    }
   },
   "types_to_exclude": [
    "module",
    "function",
    "builtin_function_or_method",
    "instance",
    "_Feature"
   ],
   "window_display": false
  }
 },
 "nbformat": 4,
 "nbformat_minor": 2
}
