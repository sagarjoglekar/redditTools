{
 "cells": [
  {
   "cell_type": "code",
   "execution_count": 1,
   "metadata": {
    "ExecuteTime": {
     "end_time": "2020-04-03T14:01:54.063744Z",
     "start_time": "2020-04-03T14:01:53.237866Z"
    },
    "collapsed": true
   },
   "outputs": [],
   "source": [
    "import networkx as nx \n",
    "from glob import glob\n",
    "import pandas as pd \n",
    "import pickle as pkl\n",
    "import csv\n",
    "from tqdm import tqdm"
   ]
  },
  {
   "cell_type": "code",
   "execution_count": 2,
   "metadata": {
    "ExecuteTime": {
     "end_time": "2020-04-03T14:02:13.385798Z",
     "start_time": "2020-04-03T14:01:54.079239Z"
    },
    "collapsed": true
   },
   "outputs": [],
   "source": [
    "graphs = glob('/10TBdrive/datashare/Reddit/graphs/*.pkl')"
   ]
  },
  {
   "cell_type": "code",
   "execution_count": 3,
   "metadata": {
    "ExecuteTime": {
     "end_time": "2020-04-03T14:02:16.428490Z",
     "start_time": "2020-04-03T14:02:16.421940Z"
    },
    "collapsed": true
   },
   "outputs": [],
   "source": [
    "submissions = glob('/10TBdrive/datashare/Reddit/*.pkl')"
   ]
  },
  {
   "cell_type": "code",
   "execution_count": 4,
   "metadata": {
    "ExecuteTime": {
     "end_time": "2020-04-03T14:02:40.645759Z",
     "start_time": "2020-04-03T14:02:18.868569Z"
    },
    "collapsed": true
   },
   "outputs": [],
   "source": [
    "graph_to_sub_map = {}\n",
    "for s in submissions:\n",
    "    sub = pkl.load(open(s,'rb'))\n",
    "    for k in sub:\n",
    "        subreddit = sub[k].split('/')[2]\n",
    "        graph_to_sub_map[k] = subreddit\n"
   ]
  },
  {
   "cell_type": "code",
   "execution_count": 5,
   "metadata": {
    "ExecuteTime": {
     "end_time": "2020-04-03T14:02:49.798062Z",
     "start_time": "2020-04-03T14:02:49.354762Z"
    }
   },
   "outputs": [
    {
     "data": {
      "text/plain": [
       "{'6ej15y': 'seinfeld', '6ej167': 'stevenuniverse'}"
      ]
     },
     "execution_count": 5,
     "metadata": {},
     "output_type": "execute_result"
    }
   ],
   "source": [
    "{k: graph_to_sub_map[k] for k in list(graph_to_sub_map)[:2]}"
   ]
  },
  {
   "cell_type": "code",
   "execution_count": 6,
   "metadata": {
    "ExecuteTime": {
     "end_time": "2020-04-03T14:02:58.169353Z",
     "start_time": "2020-04-03T14:02:58.163890Z"
    }
   },
   "outputs": [
    {
     "data": {
      "text/plain": [
       "6232111"
      ]
     },
     "execution_count": 6,
     "metadata": {},
     "output_type": "execute_result"
    }
   ],
   "source": [
    "len(graphs)"
   ]
  },
  {
   "cell_type": "code",
   "execution_count": 7,
   "metadata": {
    "ExecuteTime": {
     "end_time": "2020-04-03T14:03:06.847161Z",
     "start_time": "2020-04-03T14:03:06.843259Z"
    },
    "collapsed": true
   },
   "outputs": [],
   "source": [
    "g = pkl.load(open(graphs[10],'rb'))"
   ]
  },
  {
   "cell_type": "code",
   "execution_count": 8,
   "metadata": {
    "ExecuteTime": {
     "end_time": "2020-04-03T14:03:14.839412Z",
     "start_time": "2020-04-03T14:03:14.834161Z"
    }
   },
   "outputs": [
    {
     "data": {
      "text/plain": [
       "'/10TBdrive/datashare/Reddit/graphs/5rzjvx.pkl'"
      ]
     },
     "execution_count": 8,
     "metadata": {},
     "output_type": "execute_result"
    }
   ],
   "source": [
    "graphs[10]"
   ]
  },
  {
   "cell_type": "code",
   "execution_count": 9,
   "metadata": {
    "ExecuteTime": {
     "end_time": "2020-04-03T14:03:22.759742Z",
     "start_time": "2020-04-03T14:03:22.750946Z"
    }
   },
   "outputs": [
    {
     "data": {
      "text/plain": [
       "[('t3_5rzjvx',\n",
       "  {'affects': 3,\n",
       "   'author': 'jjm295',\n",
       "   'depth': -1,\n",
       "   'downs': 0,\n",
       "   'text': \"So I've been seeing a lot of posts and comments with a general tone, to not even bother enlisting and go officer route. I'm curious, as there obviously are a few enlisted people here and future enlisted along with officer, what was your decision to go one route or another?\\n\\nIm 27, have a 2 year degree, been working a high stress job for the past 7 years and actually want to get away from responsibility (or at least the level I'm use to) for a while. If I can find a commission route later on in life I'll take it, but that's not my main goal. I'm not too too worried about the pay (I'll be taking a huge pay cut but also alleviate myself from a lot of bills). Ship out in 5 months as a CTM\\n\\ntl;dr - why did YOU choose enlisted / officer\",\n",
       "   'time': 1486196355.0,\n",
       "   'ups': 2}),\n",
       " ('t1_ddbfe6u',\n",
       "  {'affects': 3,\n",
       "   'author': 'TheBeneGesseritWitch',\n",
       "   'depth': 0,\n",
       "   'downs': 0,\n",
       "   'text': \"I enlisted and I am glad I did. But. Nobody taught me how to go to college for cheap and I figured I'd have to pay the full sticker price....I also worked at Sallie Mae and had people in their 80s calling in to make payments on their college loans. I did the math with average pay for a newly minted degree holder and cost of living and realized I'd be paying on my college debt forever. So I enlisted. \\n\\nIf I had known I could have CLEPed and transferred credits from a community college or gone through ROTC I would have absolutely done that. \\n\\nNow that I'm older and have a family (and am responsible) I wish I had my commission. It's very competitive and difficult to pick up a commission once you're enlisted. \\n\\nThere's nothing wrong with one path over the other. I am happy with my career and I will even be happy to retire as an HT1. But if I could do it all over again I'd go the Officer route. \\n\\nAlso: I will say this again and again: to enlist first and then get your commission is an average of ten years. \\n\\n**Path One:**\\n\\n1. Enlist. Four year contract. \\n\\n2. Get out and go to college--GI Bill. 3 more years. Maybe 4. \\n\\n3. Apply. Maybe you don't get picked up the first time. \\n\\n4.  Apply again. 8 or 9 years total: commissioned. \\n\\n**Path two:**\\n\\n1. Enlist. \\n\\n2. Get fully qualified in rate. Get your warfare pin. Two years. \\n\\n3. Work on your degree using TA off and on. I've done this at sea duty and I could barely manage one class at a go and that's IF my ship had good internet. \\n\\n4.  Five years later, go to shore duty. Go high speed on your degree. Wrap it up in two years. \\n\\n5. Apply for OCS. A few times, because you went through one of the degree mills like UMUC because they sent a professor out to your ship and they gave you the most credits for your navy training \\n\\n6. Commission around 8-10 years. \\n\\n**Path three:**\\n\\n1. Enlist. \\n\\n2. Reenlist \\n\\n3. Potentially reenlist again. \\n\\n4. Make PO1. (If you're a badass this could take as little as 6 years. Or it could take you 14 years) Apply for LDO. \\n\\n5. Apply for LDO a few more times because you need certain qualifications or better interviews or whatever else your package is lacking. \\n\\n6. Commission. At 8 years if you are *shit hot* or as long as 15. \\n\\n7. Alt ending: Make CPO and apply again/as necessary and then commission or commission as a CWO. \\n\\n**Path four:**\\n\\n1. Enlist \\n\\n2. Apply for STA-21\\n\\n3. Finally get accepted and go to college \\n\\n4. Three years and a degree later, commission. Total time could be as little as four years but this is highly unlikely because as an E3 you likely have nothing to make you competitive. Most likely you're a PO3 or PO2 and have been in close to five or six years before you go to college. \\n\\nTo sum up: if you want a commission just understand it is a long path to get there if you enlist first. \\n\\nEdit: there are a few other commissioning programs but OCS, STA-21, and LDO are the most popular. \",\n",
       "   'time': 1486202385.0,\n",
       "   'ups': 21}),\n",
       " ('t1_ddbgdc1',\n",
       "  {'affects': 3,\n",
       "   'author': 'Twisky',\n",
       "   'depth': 1,\n",
       "   'downs': 0,\n",
       "   'text': 'This is great and should be a copy paste version but you have PO5 in there.  ',\n",
       "   'time': 1486205918.0,\n",
       "   'ups': 7}),\n",
       " ('t1_ddbhr5k',\n",
       "  {'affects': 3,\n",
       "   'author': 'TheBeneGesseritWitch',\n",
       "   'depth': 2,\n",
       "   'downs': 0,\n",
       "   'text': 'Hahaha good catch. I was trying to get my formatting right and somehow that number got transposed I guess. ',\n",
       "   'time': 1486210754.0,\n",
       "   'ups': 3}),\n",
       " ('t1_ddcqlgb',\n",
       "  {'affects': 3,\n",
       "   'author': '[deleted]',\n",
       "   'depth': 1,\n",
       "   'downs': 0,\n",
       "   'text': \"Other Paths without enlisting:\\n\\n**Path 1**\\n\\n1. Apply to the Naval Academy\\n\\n2. Commission after 4 years\\n\\nBenefit: you get a college degree and everything paid for and graduate from one of the best schools in the world \\n\\nDownside: The naval academy is VERY competitive\\n\\n**Path 2**\\n\\n1. Go to a 4 year college that has a NROTC program\\n\\n2. Commission after 4 years (I have heard it can be done in 3, but don't quote me to that)\\n\\nBenefits: You commission once you graduate \\n\\nDownside: You have to foot the bill if not selected for scholarship\\n\\n**Path 3**\\n\\n1. Get a 4 year degree\\n\\n2. Graduate in 2-4 years with your 4 year degree. (A 4 year degree can be completed in as little as 2 years, but it will be a lot of work)\\n\\n3. Apply for OCS and get selected which is a long process (you are looking at roughly a year to commission from the day you first speak with an officer recruiter)\\n\\n4. Commission in 2.5-4.5 years\\n\\nBenefits: OCS is a 12 week program\\n\\nDownside: You'll have to foot the bill and to get accepted\\n\\n\\n\\n**There is nothing wrong with enlisting first** I am giving you a list of options if you don't want to enlist first. However if you are interested in enlisting, I would recommend reaching out to a recruiter. \",\n",
       "   'time': 1486283119.0,\n",
       "   'ups': 2}),\n",
       " ('t1_ddcqwxz',\n",
       "  {'affects': 3,\n",
       "   'author': 'TheBeneGesseritWitch',\n",
       "   'depth': 2,\n",
       "   'downs': 0,\n",
       "   'text': 'Thank you for this. I think I will compile all these and put them in a \"how to commission\" file that we can sticky on the side. ',\n",
       "   'time': 1486284073.0,\n",
       "   'ups': 1}),\n",
       " ('t1_ddcr1d8',\n",
       "  {'affects': 3,\n",
       "   'author': '[deleted]',\n",
       "   'depth': 3,\n",
       "   'downs': 0,\n",
       "   'text': 'No problem. If you or anyone has specifics about OCS, just send me a PM. I went the OCS route. I cant tell you the specifics about the other routes since I did not go those routes, but I have several friends who went to the academy or did the ROTC route that would be willing to answer any questions anyone has. ',\n",
       "   'time': 1486284456.0,\n",
       "   'ups': 1}),\n",
       " ('t1_ddcr24k',\n",
       "  {'affects': 3,\n",
       "   'author': 'TheBeneGesseritWitch',\n",
       "   'depth': 4,\n",
       "   'downs': 0,\n",
       "   'text': \"Would ya'll be willing to do an AMA perhaps? \",\n",
       "   'time': 1486284521.0,\n",
       "   'ups': 1}),\n",
       " ('t1_ddcr7r8',\n",
       "  {'affects': 3,\n",
       "   'author': '[deleted]',\n",
       "   'depth': 5,\n",
       "   'downs': 0,\n",
       "   'text': 'If anyone has any questions they can just send me a PM or post a reply below. ',\n",
       "   'time': 1486285017.0,\n",
       "   'ups': 1}),\n",
       " ('t1_ddckbxb',\n",
       "  {'affects': 3,\n",
       "   'author': 'NotAnNSAGuyPromise',\n",
       "   'depth': 1,\n",
       "   'downs': 0,\n",
       "   'text': \"Based on their graduation numbers and the competitive rating of their cyber program, I wouldn't call UMUC a degree mill. \",\n",
       "   'time': 1486269836.0,\n",
       "   'ups': -1}),\n",
       " ('t1_ddbe8q1',\n",
       "  {'affects': 3,\n",
       "   'author': 'NavyASjoe8',\n",
       "   'depth': 0,\n",
       "   'downs': 0,\n",
       "   'text': \"I was on the same boat. Highly paid and successful financial advisor for JPM at age 28 only to quit my job after being with the company for 6 years. Thought it was the life I wanted but wasn't happy at all and started to really hate going to work. Enlisted in aviation field with two years of school left for a bachelors and stress free from the intense investment world. \",\n",
       "   'time': 1486198380.0,\n",
       "   'ups': 4}),\n",
       " ('t1_ddbqbvu',\n",
       "  {'affects': 3,\n",
       "   'author': 'bgoman',\n",
       "   'depth': 0,\n",
       "   'downs': 0,\n",
       "   'text': \"Just an officer perspective here. I went to OCS two years out of college. Was making $12/hr in construction and wanted something more. \\n\\nIf you're looking to give up responsibility, do not commission. It's a lot of pressure/stress and if you go SWO you will have little free time and be responsible for around 20 sailors,  their equipment and all admin associated with that, along with standing regular watches. \\n\\nThat said, being a SWO is the most rewarding thing I've ever done. \\n\\nAlso, if you enlist at 27, realize that it might be shocking how far back in your career you may have to go. I'm talking sweepers,  taking out trash, doing all the menial tasks you may think your better than. You get out of that eventually but like others have said,  unless you're shit hot it can take 10 years or more to make E6/E7. You could be serving a 21 year old officer food and cleaning bathrooms with 18 year old high school kids. However, that DOES NOT mean enlisting is bad at all.  There are a lot of folks who enlisted at your age and love it. They like the simplicity of following directions and completing tasks, it gives a great sense of accomplishment. I often think I should have enlisted right out of High school and I wasn't ready for college. \\n\\nLastly, being 27 without a degree means you have to look at the time it will take to complete a degree and get a commission. SWO takes people up to 31 with a waiver I believe but other communities age out at like 28-29. No one can tell you what's right for you though. Good luck!  \",\n",
       "   'time': 1486226843.0,\n",
       "   'ups': 4}),\n",
       " ('t1_ddbqslu',\n",
       "  {'affects': 3,\n",
       "   'author': 'Kevin_Wolf',\n",
       "   'depth': 0,\n",
       "   'downs': 0,\n",
       "   'text': \"Most of us choose enlisted because we didn't just *happen* to have a 4 year degree laying around. As it turns out, most 18 treat olds don't. You make it sound like going to college is a given, or even a choice for many people. \",\n",
       "   'time': 1486227461.0,\n",
       "   'ups': 4}),\n",
       " ('t1_ddbsd07',\n",
       "  {'affects': 3,\n",
       "   'author': 'jjm295',\n",
       "   'depth': 1,\n",
       "   'downs': 0,\n",
       "   'text': \"Sorry if it came off like that but that's not what I was trying to say. I'm pretty lucky with my situation and financial standing and I still wouldn't be able to go back to school. I've been paying student loans for 10 years now with no end in sight. \\n\\nWhat I've seen on this sub Reddit is some comments saying to just apply for ROTC, or eat the debt for now and pay it off with the good O paycheck. That's why I asked the question \",\n",
       "   'time': 1486229595.0,\n",
       "   'ups': 2}),\n",
       " ('t1_ddbp589',\n",
       "  {'affects': 3,\n",
       "   'author': 'mcrome04',\n",
       "   'depth': 0,\n",
       "   'downs': 0,\n",
       "   'text': \"I enlisted with a BA. They wanted a 3.8 GPA to even be considered for an officer route and I didn't have that. I also really wanted to do a job where I could be hands on rather than supervisory. I'm an HM2 now, earned my Masters using TA and still have no plans to apply for an officer program. I'm not motivated by the money, so it just comes down to liking the type of job you do. \",\n",
       "   'time': 1486225192.0,\n",
       "   'ups': 3}),\n",
       " ('t1_ddbm5ow',\n",
       "  {'affects': 3,\n",
       "   'author': 'Maggiemayday',\n",
       "   'depth': 0,\n",
       "   'downs': 0,\n",
       "   'text': \"Not everyone wants to be an officer.  It isn't all about pay for some people.  \",\n",
       "   'time': 1486220505.0,\n",
       "   'ups': 5}),\n",
       " ('t1_ddcoljo',\n",
       "  {'affects': 3,\n",
       "   'author': 'looktowindward',\n",
       "   'depth': 0,\n",
       "   'downs': 0,\n",
       "   'text': \"&gt;  I'm curious, as there obviously are a few enlisted people here and future enlisted along with officer, what was your decision to go one route or another?\\n\\nThe vast majority of people don't have a 4 year degree with a GPA that is competitive enough to get a commission. Most of the people who do, apply for a commission rather than enlisting, but some wish to do a specific job (like MC) and do not want to take the more general path required of an officer. \\n\\nIf you don't want responsibility, don't be an officer.\\n\\n\",\n",
       "   'time': 1486277793.0,\n",
       "   'ups': 1})]"
      ]
     },
     "execution_count": 9,
     "metadata": {},
     "output_type": "execute_result"
    }
   ],
   "source": [
    "g.nodes(data=True)"
   ]
  },
  {
   "cell_type": "code",
   "execution_count": 10,
   "metadata": {
    "ExecuteTime": {
     "end_time": "2020-04-03T14:03:31.740992Z",
     "start_time": "2020-04-03T14:03:31.737636Z"
    },
    "collapsed": true
   },
   "outputs": [],
   "source": [
    "# g.edges()"
   ]
  },
  {
   "cell_type": "code",
   "execution_count": null,
   "metadata": {
    "ExecuteTime": {
     "start_time": "2020-04-03T14:02:06.163Z"
    },
    "scrolled": true
   },
   "outputs": [
    {
     "name": "stderr",
     "output_type": "stream",
     "text": [
      " 12%|█▏        | 744730/6232111 [4:01:34<26:37:05, 57.26it/s] "
     ]
    }
   ],
   "source": [
    "with open('/10TBdrive/datashare/Reddit/AllParsedData_2017_V6.csv', 'w') as f:  # Just use 'w' mode in 3.x\n",
    "    w = csv.DictWriter(f, ['author','downs','ups','text','time','src_id','dest_id','dest_author','depth','subreddit'],delimiter='|')\n",
    "    w.writeheader()\n",
    "    for gra in tqdm(graphs):\n",
    "        g = pkl.load(open(gra,'rb'))\n",
    "        gid = gra.split('/')[-1].split('.')[0]\n",
    "        try:\n",
    "            subreddit = graph_to_sub_map[gid]\n",
    "            nodes = g.nodes(data=True)\n",
    "            node_dict = {n[0] : n[1]  for n in nodes}\n",
    "            for u , v in g.edges():\n",
    "                if node_dict[u]['author']!='[deleted]' and node_dict[v]['author']!='[deleted]' :\n",
    "                    row= {'author': node_dict[u]['author'] , 'downs' : node_dict[u]['downs'] , 'ups': node_dict[u]['ups'] , 'text':node_dict[u]['text'] , 'time':node_dict[u]['time'] , 'src_id' : u , 'dest_id' : v , 'dest_author' : node_dict[v]['author'] ,'depth':node_dict[u]['depth'],'subreddit':subreddit }\n",
    "                    w.writerow(row)\n",
    "                else:\n",
    "                    continue\n",
    "        except:\n",
    "            print(\"Some graph is malformed!! \")"
   ]
  },
  {
   "cell_type": "code",
   "execution_count": null,
   "metadata": {
    "collapsed": true
   },
   "outputs": [],
   "source": [
    "# reddit_data = pd.read_csv('/10TBdrive/datashare/Reddit/AllParsedData_2017_V3.csv',sep='|')"
   ]
  },
  {
   "cell_type": "code",
   "execution_count": null,
   "metadata": {
    "collapsed": true
   },
   "outputs": [],
   "source": [
    "# len(reddit_data)"
   ]
  },
  {
   "cell_type": "code",
   "execution_count": 12,
   "metadata": {
    "ExecuteTime": {
     "end_time": "2020-04-06T09:59:22.037815Z",
     "start_time": "2020-04-06T09:59:22.035007Z"
    },
    "collapsed": true
   },
   "outputs": [],
   "source": [
    "# reddit_data.head()"
   ]
  },
  {
   "cell_type": "code",
   "execution_count": 15,
   "metadata": {
    "ExecuteTime": {
     "end_time": "2020-04-06T10:00:11.990165Z",
     "start_time": "2020-04-06T10:00:11.982483Z"
    }
   },
   "outputs": [],
   "source": [
    "# len(reddit_data['author'].unique())"
   ]
  },
  {
   "cell_type": "code",
   "execution_count": null,
   "metadata": {
    "collapsed": true
   },
   "outputs": [],
   "source": []
  }
 ],
 "metadata": {
  "kernelspec": {
   "display_name": "Python 3",
   "language": "python",
   "name": "python3"
  },
  "language_info": {
   "codemirror_mode": {
    "name": "ipython",
    "version": 3
   },
   "file_extension": ".py",
   "mimetype": "text/x-python",
   "name": "python",
   "nbconvert_exporter": "python",
   "pygments_lexer": "ipython3",
   "version": "3.6.3"
  },
  "latex_envs": {
   "LaTeX_envs_menu_present": true,
   "autoclose": false,
   "autocomplete": true,
   "bibliofile": "biblio.bib",
   "cite_by": "apalike",
   "current_citInitial": 1,
   "eqLabelWithNumbers": true,
   "eqNumInitial": 1,
   "hotkeys": {
    "equation": "Ctrl-E",
    "itemize": "Ctrl-I"
   },
   "labels_anchors": false,
   "latex_user_defs": false,
   "report_style_numbering": false,
   "user_envs_cfg": false
  },
  "toc": {
   "base_numbering": 1,
   "nav_menu": {},
   "number_sections": true,
   "sideBar": true,
   "skip_h1_title": false,
   "title_cell": "Table of Contents",
   "title_sidebar": "Contents",
   "toc_cell": false,
   "toc_position": {},
   "toc_section_display": true,
   "toc_window_display": false
  },
  "varInspector": {
   "cols": {
    "lenName": 16,
    "lenType": 16,
    "lenVar": 40
   },
   "kernels_config": {
    "python": {
     "delete_cmd_postfix": "",
     "delete_cmd_prefix": "del ",
     "library": "var_list.py",
     "varRefreshCmd": "print(var_dic_list())"
    },
    "r": {
     "delete_cmd_postfix": ") ",
     "delete_cmd_prefix": "rm(",
     "library": "var_list.r",
     "varRefreshCmd": "cat(var_dic_list()) "
    }
   },
   "types_to_exclude": [
    "module",
    "function",
    "builtin_function_or_method",
    "instance",
    "_Feature"
   ],
   "window_display": false
  }
 },
 "nbformat": 4,
 "nbformat_minor": 2
}
