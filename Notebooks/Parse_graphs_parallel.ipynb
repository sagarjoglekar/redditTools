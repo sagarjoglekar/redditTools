{
 "cells": [
  {
   "cell_type": "code",
   "execution_count": 1,
   "metadata": {
    "ExecuteTime": {
     "end_time": "2020-09-18T14:44:00.734706Z",
     "start_time": "2020-09-18T14:43:59.980616Z"
    },
    "collapsed": true
   },
   "outputs": [],
   "source": [
    "import networkx as nx \n",
    "from glob import glob\n",
    "import pandas as pd \n",
    "import pickle as pkl\n",
    "import csv\n",
    "from tqdm import tqdm\n",
    "import bz2\n",
    "import json\n",
    "import requests as rq\n",
    "import time\n",
    "import lzma"
   ]
  },
  {
   "cell_type": "code",
   "execution_count": 2,
   "metadata": {
    "ExecuteTime": {
     "end_time": "2020-09-18T14:44:01.152134Z",
     "start_time": "2020-09-18T14:44:01.145988Z"
    },
    "collapsed": true
   },
   "outputs": [],
   "source": [
    "import logging\n",
    "logger = logging.getLogger()\n",
    "fhandler = logging.FileHandler(filename='Geo_Parsing.log', mode='a')\n",
    "formatter = logging.Formatter('%(asctime)s - %(name)s - %(levelname)s - %(message)s')\n",
    "fhandler.setFormatter(formatter)\n",
    "logger.addHandler(fhandler)\n",
    "logger.setLevel(logging.DEBUG)"
   ]
  },
  {
   "cell_type": "code",
   "execution_count": 3,
   "metadata": {
    "ExecuteTime": {
     "end_time": "2020-09-18T14:46:12.229415Z",
     "start_time": "2020-09-18T14:44:02.037679Z"
    }
   },
   "outputs": [
    {
     "name": "stderr",
     "output_type": "stream",
     "text": [
      "100%|██████████| 10/10 [02:10<00:00, 13.02s/it]\n"
     ]
    }
   ],
   "source": [
    "submissionFiles = '/10TBdrive/datashare/geo_located_Reddit_crawl/yearlySubmissions/'\n",
    "years = ['2005','2006','2007','2008','2009','2010','2011','2012','2013','2017']\n",
    "\n",
    "selected_submissions = {}\n",
    "for year in tqdm(years):\n",
    "    yearlist = pkl.load(open(submissionFiles + year + \".pkl\", 'rb'))\n",
    "    for k in yearlist:\n",
    "        subreddit = yearlist[k].split('/')[2]\n",
    "        selected_submissions[k] = subreddit"
   ]
  },
  {
   "cell_type": "code",
   "execution_count": 6,
   "metadata": {
    "ExecuteTime": {
     "end_time": "2020-09-18T14:53:24.543114Z",
     "start_time": "2020-09-18T14:53:21.835283Z"
    }
   },
   "outputs": [
    {
     "data": {
      "text/plain": [
       "'depaul'"
      ]
     },
     "execution_count": 6,
     "metadata": {},
     "output_type": "execute_result"
    }
   ],
   "source": [
    "selected_submissions[list(selected_submissions.keys())[10000125]]"
   ]
  },
  {
   "cell_type": "code",
   "execution_count": 7,
   "metadata": {
    "ExecuteTime": {
     "end_time": "2020-09-18T14:55:55.217758Z",
     "start_time": "2020-09-18T14:54:47.660883Z"
    },
    "collapsed": true
   },
   "outputs": [],
   "source": [
    "graphs_2017 = glob(\"/10TBdrive/datashare/Reddit/graphs/*.pkl\")\n",
    "geo_graphs = glob(\"/10TBdrive/datashare/geo_located_Reddit_crawl/graphs/*.pkl\")\n",
    "\n",
    "total_graphs = graphs_2017 + geo_graphs"
   ]
  },
  {
   "cell_type": "code",
   "execution_count": 8,
   "metadata": {
    "ExecuteTime": {
     "end_time": "2020-09-18T14:57:50.049354Z",
     "start_time": "2020-09-18T14:57:50.042777Z"
    }
   },
   "outputs": [
    {
     "data": {
      "text/plain": [
       "21353000"
      ]
     },
     "execution_count": 8,
     "metadata": {},
     "output_type": "execute_result"
    }
   ],
   "source": [
    "len(total_graphs)"
   ]
  },
  {
   "cell_type": "code",
   "execution_count": 14,
   "metadata": {
    "ExecuteTime": {
     "end_time": "2020-09-18T15:02:14.174572Z",
     "start_time": "2020-09-18T15:02:14.168370Z"
    }
   },
   "outputs": [
    {
     "data": {
      "text/plain": [
       "'/10TBdrive/datashare/Reddit/graphs/6h89c5.pkl'"
      ]
     },
     "execution_count": 14,
     "metadata": {},
     "output_type": "execute_result"
    }
   ],
   "source": [
    "total_graphs[0]"
   ]
  },
  {
   "cell_type": "code",
   "execution_count": 16,
   "metadata": {
    "ExecuteTime": {
     "end_time": "2020-09-18T15:03:59.715741Z",
     "start_time": "2020-09-18T15:03:26.607646Z"
    }
   },
   "outputs": [
    {
     "name": "stderr",
     "output_type": "stream",
     "text": [
      "100%|██████████| 21353000/21353000 [00:33<00:00, 645153.63it/s]\n"
     ]
    }
   ],
   "source": [
    "graph_path_map= {}\n",
    "for k in tqdm(total_graphs):\n",
    "    graph_id = k.split('/')[-1].split('.')[0]\n",
    "    graph_path_map[graph_id] = k\n",
    "    "
   ]
  },
  {
   "cell_type": "code",
   "execution_count": 18,
   "metadata": {
    "ExecuteTime": {
     "end_time": "2020-09-18T15:09:51.783805Z",
     "start_time": "2020-09-18T15:09:19.029892Z"
    },
    "collapsed": true
   },
   "outputs": [],
   "source": [
    "common_graphs = selected_submissions.keys() & graph_path_map.keys()"
   ]
  },
  {
   "cell_type": "code",
   "execution_count": 19,
   "metadata": {
    "ExecuteTime": {
     "end_time": "2020-09-18T15:12:15.302834Z",
     "start_time": "2020-09-18T15:12:15.299029Z"
    }
   },
   "outputs": [
    {
     "data": {
      "text/plain": [
       "16470632"
      ]
     },
     "execution_count": 19,
     "metadata": {},
     "output_type": "execute_result"
    }
   ],
   "source": [
    "len(common_graphs)"
   ]
  },
  {
   "cell_type": "code",
   "execution_count": 27,
   "metadata": {
    "ExecuteTime": {
     "end_time": "2020-09-18T15:16:35.198484Z",
     "start_time": "2020-09-18T15:16:35.193313Z"
    }
   },
   "outputs": [
    {
     "data": {
      "text/plain": [
       "'6faxdy'"
      ]
     },
     "execution_count": 27,
     "metadata": {},
     "output_type": "execute_result"
    }
   ],
   "source": [
    "common_graphs[1]"
   ]
  },
  {
   "cell_type": "code",
   "execution_count": null,
   "metadata": {
    "ExecuteTime": {
     "end_time": "2020-09-18T15:16:48.171175Z",
     "start_time": "2020-09-18T15:16:39.990Z"
    }
   },
   "outputs": [],
   "source": [
    "g = pkl.load(open(graph_path_map[common_graphs[0]],'rb'))"
   ]
  },
  {
   "cell_type": "code",
   "execution_count": 28,
   "metadata": {
    "ExecuteTime": {
     "end_time": "2020-09-18T15:16:54.064309Z",
     "start_time": "2020-09-18T15:16:54.052492Z"
    }
   },
   "outputs": [
    {
     "data": {
      "text/plain": [
       "[('t3_13717v',\n",
       "  {'affects': 3,\n",
       "   'author': 'Allurex',\n",
       "   'depth': -1,\n",
       "   'downs': 0,\n",
       "   'text': '',\n",
       "   'time': 1352920421.0,\n",
       "   'ups': 83}),\n",
       " ('t1_c71cq0z',\n",
       "  {'affects': 3,\n",
       "   'author': 'Allurex',\n",
       "   'depth': 0,\n",
       "   'downs': 0,\n",
       "   'text': 'Re-discovered my favorite internet video of all time. Original upload was probably 2005 or maybe even before that.',\n",
       "   'time': 1352920866.0,\n",
       "   'ups': 5}),\n",
       " ('t1_c71ocm4',\n",
       "  {'affects': 3,\n",
       "   'author': 'MrSupo',\n",
       "   'depth': 1,\n",
       "   'downs': 0,\n",
       "   'text': 'It was around 2004. My older brother was in highschool and it was popular there, he interupted my Runescape session to show me.',\n",
       "   'time': 1352964952.0,\n",
       "   'ups': 1}),\n",
       " ('t1_c71f4we',\n",
       "  {'affects': 3,\n",
       "   'author': 'dtrmp4',\n",
       "   'depth': 0,\n",
       "   'downs': 0,\n",
       "   'text': 'knew exactly what is was from the title',\n",
       "   'time': 1352928717.0,\n",
       "   'ups': 8}),\n",
       " ('t1_c71o9ms',\n",
       "  {'affects': 3,\n",
       "   'author': 'ShadedNature',\n",
       "   'depth': 0,\n",
       "   'downs': 0,\n",
       "   'text': \"Thank you so much.  This was me and my friend's first favorite internet video ever when we were like 12.  Oh god memories.\",\n",
       "   'time': 1352964390.0,\n",
       "   'ups': 2}),\n",
       " ('t1_c71heqi',\n",
       "  {'affects': 3,\n",
       "   'author': 'overlord9000',\n",
       "   'depth': 0,\n",
       "   'downs': 0,\n",
       "   'text': '\"And I know what the inside of a vagina feels like.\"',\n",
       "   'time': 1352936475.0,\n",
       "   'ups': 1}),\n",
       " ('t1_c71jqal',\n",
       "  {'affects': 3,\n",
       "   'author': '[deleted]',\n",
       "   'depth': 0,\n",
       "   'downs': 0,\n",
       "   'text': 'All I gotta say is: \"Bitches be crazy!\"',\n",
       "   'time': 1352945242.0,\n",
       "   'ups': 1}),\n",
       " ('t1_c71kpks',\n",
       "  {'affects': 3,\n",
       "   'author': 'cthompsonguy',\n",
       "   'depth': 0,\n",
       "   'downs': 0,\n",
       "   'text': 'And around 1:20, I started yelling, \"No, that\\'s Dragonair, dammit!\"',\n",
       "   'time': 1352948924.0,\n",
       "   'ups': 1}),\n",
       " ('t1_c71ogbm',\n",
       "  {'affects': 3,\n",
       "   'author': 'Boredsecurityguard',\n",
       "   'depth': 1,\n",
       "   'downs': 0,\n",
       "   'text': 'Chinese Myth Dragon',\n",
       "   'time': 1352965650.0,\n",
       "   'ups': 3}),\n",
       " ('t1_c71ksmm',\n",
       "  {'affects': 3,\n",
       "   'author': 'Chicken_or_Chicken',\n",
       "   'depth': 0,\n",
       "   'downs': 0,\n",
       "   'text': 'Damn, for a second I thought Brendon Fraser had sank even lower in his career.',\n",
       "   'time': 1352949236.0,\n",
       "   'ups': 1}),\n",
       " ('t1_c71nyjn',\n",
       "  {'affects': 3,\n",
       "   'author': 'THKMass',\n",
       "   'depth': 0,\n",
       "   'downs': 0,\n",
       "   'text': '\"What the fuck is that!!! A Dragon!\"    something along the lines of it being from Henry Zaio\\'s textbook',\n",
       "   'time': 1352962505.0,\n",
       "   'ups': 1}),\n",
       " ('t1_c71pmro',\n",
       "  {'affects': 3,\n",
       "   'author': 'nicolas42',\n",
       "   'depth': 0,\n",
       "   'downs': 0,\n",
       "   'text': 'I love this too much.',\n",
       "   'time': 1352978816.0,\n",
       "   'ups': 1}),\n",
       " ('t1_c71nl3z',\n",
       "  {'affects': 3,\n",
       "   'author': 'Heron02',\n",
       "   'depth': 0,\n",
       "   'downs': 0,\n",
       "   'text': 'That shit was funny... First time seeing this.',\n",
       "   'time': 1352960517.0,\n",
       "   'ups': 1})]"
      ]
     },
     "execution_count": 28,
     "metadata": {},
     "output_type": "execute_result"
    }
   ],
   "source": [
    "g.nodes(data=True)"
   ]
  },
  {
   "cell_type": "code",
   "execution_count": null,
   "metadata": {
    "ExecuteTime": {
     "end_time": "2020-09-18T15:17:12.868282Z",
     "start_time": "2020-09-18T15:17:09.583Z"
    },
    "collapsed": true
   },
   "outputs": [],
   "source": [
    "# g.edges()"
   ]
  },
  {
   "cell_type": "code",
   "execution_count": null,
   "metadata": {
    "ExecuteTime": {
     "start_time": "2020-09-18T15:17:30.831Z"
    },
    "scrolled": true
   },
   "outputs": [
    {
     "name": "stderr",
     "output_type": "stream",
     "text": [
      "  0%|          | 1349/16470632 [03:09<782:59:32,  5.84it/s] "
     ]
    },
    {
     "name": "stdout",
     "output_type": "stream",
     "text": [
      "Some graph is malformed!! \n"
     ]
    },
    {
     "name": "stderr",
     "output_type": "stream",
     "text": [
      "  0%|          | 4608/16470632 [10:34<789:41:46,  5.79it/s] "
     ]
    }
   ],
   "source": [
    "with open('/10TBdrive/datashare/Reddit/AllParsedData_2005_to_2012_and_2017.csv', 'w') as f:  # Just use 'w' mode in 3.x\n",
    "    w = csv.DictWriter(f, ['author','downs','ups','text','time','src_id','dest_id','dest_author','depth','subreddit'],delimiter='|')\n",
    "    w.writeheader()\n",
    "    count = 0\n",
    "    total = len(common_graphs)\n",
    "    for gra in tqdm(common_graphs):\n",
    "        g = pkl.load(open(graph_path_map[gra],'rb'))\n",
    "        gid = gra\n",
    "        logging.debug(f\"Parsing {count} of {total} graphs\")\n",
    "        try:\n",
    "            subreddit = selected_submissions[gid]\n",
    "            nodes = g.nodes(data=True)\n",
    "            node_dict = {n[0] : n[1]  for n in nodes}\n",
    "            for u , v in g.edges():\n",
    "                if node_dict[u]['author']!='[deleted]' and node_dict[v]['author']!='[deleted]' :\n",
    "                    row= {'author': node_dict[u]['author'] , 'downs' : node_dict[u]['downs'] , 'ups': node_dict[u]['ups'] , 'text':node_dict[u]['text'] , 'time':node_dict[u]['time'] , 'src_id' : u , 'dest_id' : v , 'dest_author' : node_dict[v]['author'] ,'depth':node_dict[u]['depth'],'subreddit':subreddit }\n",
    "                    w.writerow(row)\n",
    "                else:\n",
    "                    continue\n",
    "        except:\n",
    "            print(\"Some graph is malformed!! \")\n",
    "            logging.debug(\"Some graph is malformed!!\")\n",
    "        count+=1"
   ]
  },
  {
   "cell_type": "code",
   "execution_count": null,
   "metadata": {
    "collapsed": true
   },
   "outputs": [],
   "source": [
    "# reddit_data = pd.read_csv('/10TBdrive/datashare/Reddit/AllParsedData_2017_V3.csv',sep='|')"
   ]
  },
  {
   "cell_type": "code",
   "execution_count": null,
   "metadata": {
    "collapsed": true
   },
   "outputs": [],
   "source": [
    "# len(reddit_data)"
   ]
  },
  {
   "cell_type": "code",
   "execution_count": null,
   "metadata": {
    "ExecuteTime": {
     "end_time": "2020-04-06T09:59:22.037815Z",
     "start_time": "2020-04-06T09:59:22.035007Z"
    },
    "collapsed": true
   },
   "outputs": [],
   "source": [
    "# reddit_data.head()"
   ]
  },
  {
   "cell_type": "code",
   "execution_count": null,
   "metadata": {
    "ExecuteTime": {
     "end_time": "2020-04-06T10:00:11.990165Z",
     "start_time": "2020-04-06T10:00:11.982483Z"
    },
    "collapsed": true
   },
   "outputs": [],
   "source": [
    "# len(reddit_data['author'].unique())"
   ]
  },
  {
   "cell_type": "code",
   "execution_count": null,
   "metadata": {
    "collapsed": true
   },
   "outputs": [],
   "source": []
  }
 ],
 "metadata": {
  "kernelspec": {
   "display_name": "Python 3",
   "language": "python",
   "name": "python3"
  },
  "language_info": {
   "codemirror_mode": {
    "name": "ipython",
    "version": 3
   },
   "file_extension": ".py",
   "mimetype": "text/x-python",
   "name": "python",
   "nbconvert_exporter": "python",
   "pygments_lexer": "ipython3",
   "version": "3.6.3"
  },
  "latex_envs": {
   "LaTeX_envs_menu_present": true,
   "autoclose": false,
   "autocomplete": true,
   "bibliofile": "biblio.bib",
   "cite_by": "apalike",
   "current_citInitial": 1,
   "eqLabelWithNumbers": true,
   "eqNumInitial": 1,
   "hotkeys": {
    "equation": "Ctrl-E",
    "itemize": "Ctrl-I"
   },
   "labels_anchors": false,
   "latex_user_defs": false,
   "report_style_numbering": false,
   "user_envs_cfg": false
  },
  "toc": {
   "base_numbering": 1,
   "nav_menu": {},
   "number_sections": true,
   "sideBar": true,
   "skip_h1_title": false,
   "title_cell": "Table of Contents",
   "title_sidebar": "Contents",
   "toc_cell": false,
   "toc_position": {},
   "toc_section_display": true,
   "toc_window_display": false
  },
  "varInspector": {
   "cols": {
    "lenName": 16,
    "lenType": 16,
    "lenVar": 40
   },
   "kernels_config": {
    "python": {
     "delete_cmd_postfix": "",
     "delete_cmd_prefix": "del ",
     "library": "var_list.py",
     "varRefreshCmd": "print(var_dic_list())"
    },
    "r": {
     "delete_cmd_postfix": ") ",
     "delete_cmd_prefix": "rm(",
     "library": "var_list.r",
     "varRefreshCmd": "cat(var_dic_list()) "
    }
   },
   "types_to_exclude": [
    "module",
    "function",
    "builtin_function_or_method",
    "instance",
    "_Feature"
   ],
   "window_display": false
  }
 },
 "nbformat": 4,
 "nbformat_minor": 2
}
