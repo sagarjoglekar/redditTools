{
 "cells": [
  {
   "cell_type": "code",
   "execution_count": 4,
   "metadata": {
    "ExecuteTime": {
     "end_time": "2020-09-17T16:24:42.242430Z",
     "start_time": "2020-09-17T16:24:42.050301Z"
    },
    "collapsed": true,
    "deletable": false,
    "editable": false
   },
   "outputs": [],
   "source": [
    "import bz2\n",
    "import json\n",
    "import requests as rq\n",
    "import time"
   ]
  },
  {
   "cell_type": "code",
   "execution_count": 5,
   "metadata": {
    "ExecuteTime": {
     "end_time": "2020-09-17T16:24:42.977804Z",
     "start_time": "2020-09-17T16:24:42.974762Z"
    },
    "collapsed": true
   },
   "outputs": [],
   "source": [
    "import lzma"
   ]
  },
  {
   "cell_type": "code",
   "execution_count": 6,
   "metadata": {
    "ExecuteTime": {
     "end_time": "2020-09-17T16:24:43.306228Z",
     "start_time": "2020-09-17T16:24:43.301808Z"
    },
    "collapsed": true
   },
   "outputs": [],
   "source": [
    "# dump = \"/10TBdrive/datashare/Reddit/comments/RC_2017-07.bz2\"\n",
    "dump = \"/10TBdrive/datashare/Reddit/submissions/RS_2017-10.bz2\""
   ]
  },
  {
   "cell_type": "code",
   "execution_count": 7,
   "metadata": {
    "ExecuteTime": {
     "end_time": "2020-09-17T16:24:44.108492Z",
     "start_time": "2020-09-17T16:24:44.048129Z"
    }
   },
   "outputs": [
    {
     "ename": "FileNotFoundError",
     "evalue": "[Errno 2] No such file or directory: '/10TBdrive/datashare/Reddit/submissions/RS_2017-10.bz2'",
     "output_type": "error",
     "traceback": [
      "\u001b[0;31m---------------------------------------------------------------------------\u001b[0m",
      "\u001b[0;31mFileNotFoundError\u001b[0m                         Traceback (most recent call last)",
      "\u001b[0;32m<ipython-input-7-838f47f71d86>\u001b[0m in \u001b[0;36m<module>\u001b[0;34m()\u001b[0m\n\u001b[0;32m----> 1\u001b[0;31m \u001b[0mopenedDump\u001b[0m \u001b[0;34m=\u001b[0m \u001b[0mbz2\u001b[0m\u001b[0;34m.\u001b[0m\u001b[0mBZ2File\u001b[0m\u001b[0;34m(\u001b[0m\u001b[0mdump\u001b[0m\u001b[0;34m,\u001b[0m \u001b[0;34m\"r\"\u001b[0m\u001b[0;34m)\u001b[0m\u001b[0;34m\u001b[0m\u001b[0m\n\u001b[0m\u001b[1;32m      2\u001b[0m \u001b[0;31m# openedDump = lzma.open(dump)\u001b[0m\u001b[0;34m\u001b[0m\u001b[0;34m\u001b[0m\u001b[0m\n",
      "\u001b[0;32m~/anaconda3/lib/python3.6/bz2.py\u001b[0m in \u001b[0;36m__init__\u001b[0;34m(self, filename, mode, buffering, compresslevel)\u001b[0m\n\u001b[1;32m     94\u001b[0m \u001b[0;34m\u001b[0m\u001b[0m\n\u001b[1;32m     95\u001b[0m         \u001b[0;32mif\u001b[0m \u001b[0misinstance\u001b[0m\u001b[0;34m(\u001b[0m\u001b[0mfilename\u001b[0m\u001b[0;34m,\u001b[0m \u001b[0;34m(\u001b[0m\u001b[0mstr\u001b[0m\u001b[0;34m,\u001b[0m \u001b[0mbytes\u001b[0m\u001b[0;34m,\u001b[0m \u001b[0mos\u001b[0m\u001b[0;34m.\u001b[0m\u001b[0mPathLike\u001b[0m\u001b[0;34m)\u001b[0m\u001b[0;34m)\u001b[0m\u001b[0;34m:\u001b[0m\u001b[0;34m\u001b[0m\u001b[0m\n\u001b[0;32m---> 96\u001b[0;31m             \u001b[0mself\u001b[0m\u001b[0;34m.\u001b[0m\u001b[0m_fp\u001b[0m \u001b[0;34m=\u001b[0m \u001b[0m_builtin_open\u001b[0m\u001b[0;34m(\u001b[0m\u001b[0mfilename\u001b[0m\u001b[0;34m,\u001b[0m \u001b[0mmode\u001b[0m\u001b[0;34m)\u001b[0m\u001b[0;34m\u001b[0m\u001b[0m\n\u001b[0m\u001b[1;32m     97\u001b[0m             \u001b[0mself\u001b[0m\u001b[0;34m.\u001b[0m\u001b[0m_closefp\u001b[0m \u001b[0;34m=\u001b[0m \u001b[0;32mTrue\u001b[0m\u001b[0;34m\u001b[0m\u001b[0m\n\u001b[1;32m     98\u001b[0m             \u001b[0mself\u001b[0m\u001b[0;34m.\u001b[0m\u001b[0m_mode\u001b[0m \u001b[0;34m=\u001b[0m \u001b[0mmode_code\u001b[0m\u001b[0;34m\u001b[0m\u001b[0m\n",
      "\u001b[0;31mFileNotFoundError\u001b[0m: [Errno 2] No such file or directory: '/10TBdrive/datashare/Reddit/submissions/RS_2017-10.bz2'"
     ]
    }
   ],
   "source": [
    "openedDump = bz2.BZ2File(dump, \"r\")\n",
    "# openedDump = lzma.open(dump)"
   ]
  },
  {
   "cell_type": "code",
   "execution_count": 3,
   "metadata": {
    "ExecuteTime": {
     "end_time": "2020-09-17T16:24:35.517619Z",
     "start_time": "2020-09-17T16:24:35.502090Z"
    }
   },
   "outputs": [
    {
     "ename": "NameError",
     "evalue": "name 'openedDump' is not defined",
     "output_type": "error",
     "traceback": [
      "\u001b[0;31m---------------------------------------------------------------------------\u001b[0m",
      "\u001b[0;31mNameError\u001b[0m                                 Traceback (most recent call last)",
      "\u001b[0;32m<ipython-input-3-a71cc93a5931>\u001b[0m in \u001b[0;36m<module>\u001b[0;34m()\u001b[0m\n\u001b[1;32m      1\u001b[0m \u001b[0mcount\u001b[0m \u001b[0;34m=\u001b[0m \u001b[0;36m0\u001b[0m\u001b[0;34m\u001b[0m\u001b[0m\n\u001b[0;32m----> 2\u001b[0;31m \u001b[0;32mfor\u001b[0m \u001b[0mline\u001b[0m \u001b[0;32min\u001b[0m \u001b[0mopenedDump\u001b[0m\u001b[0;34m:\u001b[0m\u001b[0;34m\u001b[0m\u001b[0m\n\u001b[0m\u001b[1;32m      3\u001b[0m     \u001b[0;32mif\u001b[0m \u001b[0mcount\u001b[0m \u001b[0;34m>\u001b[0m \u001b[0;36m10\u001b[0m\u001b[0;34m:\u001b[0m\u001b[0;34m\u001b[0m\u001b[0m\n\u001b[1;32m      4\u001b[0m         \u001b[0;32mbreak\u001b[0m\u001b[0;34m\u001b[0m\u001b[0m\n\u001b[1;32m      5\u001b[0m     \u001b[0mprint\u001b[0m\u001b[0;34m(\u001b[0m\u001b[0mrepr\u001b[0m\u001b[0;34m(\u001b[0m\u001b[0mline\u001b[0m\u001b[0;34m)\u001b[0m\u001b[0;34m)\u001b[0m\u001b[0;34m\u001b[0m\u001b[0m\n",
      "\u001b[0;31mNameError\u001b[0m: name 'openedDump' is not defined"
     ]
    }
   ],
   "source": [
    "count = 0\n",
    "for line in openedDump:\n",
    "    if count > 10:\n",
    "        break\n",
    "    print(repr(line))\n",
    "    count+=1"
   ]
  },
  {
   "cell_type": "code",
   "execution_count": 80,
   "metadata": {
    "ExecuteTime": {
     "end_time": "2020-04-23T15:02:58.068714Z",
     "start_time": "2020-04-23T15:02:57.673694Z"
    },
    "collapsed": true
   },
   "outputs": [],
   "source": [
    "def getJson(url):\n",
    "    session_headers = {\n",
    "    'Host': 'www.reddit.com',\n",
    "    'Connection': 'keep-alive',\n",
    "    'Cache-Control': 'max-age=0',\n",
    "    'Upgrade-Insecure-Requests': '1',\n",
    "    'User-Agent': 'Mozilla/5.0 (Macintosh; Intel Mac OS X 10_13_1) AppleWebKit/537.36 (KHTML, like Gecko) Chrome/61.0.3163.100 Safari/537.36',\n",
    "    'Accept': 'text/html,application/xhtml+xml,application/xml;q=0.9,image/webp,image/apng,*/*;q=0.8',\n",
    "    #'Referer': 'http://localhost:9000/notebooks/Reddit/Notebooks/SuicideWatchSubreddit.ipynb'\n",
    "    'Accept-Encoding': 'gzip, deflate, br',\n",
    "    'Accept-Language': 'en-GB,en-US;q=0.8,en;q=0.6',\n",
    "    'Cookie': \"loid=00000000000gslzvdi.2.1507591930964.Z0FBQUFBQlozQWI3M243MTdFMUgzNWtQNzNVbzg5Z3NXYmxpLUdRTWVXdEpWQzBfbkxBSVNNVVF3dE1zQlN5cVMzeGtxZXlmT0JQY2JvTld2NWlVeGlGeFpkNnBYM2ZIYlNNR2xMWGFFS3hieDZpWEJ5OVlyTng0MUFZZjNYdjQ0ZURFNTFlSmlVRGw; edgebucket=T8nkTF0z7WPnNzlE8B; __gads=ID=ab9c1b0fcb7eaefc:T=1507591936:S=ALNI_Mao2tvEoyJzEDEuxxhfZBlOQHXlsA; eu_cookie_v2=3; _ga=GA1.2.1088810883.1507591931; __utma=55650728.1088810883.1507591931.1507912304.1507912553.14; __utmz=55650728.1507912553.14.11.utmcsr=reddit|utmccn=(not%20set)|utmcmd=hot|utmcct=comments; aa=1; _recentclicks2=t3_7cfzsx%2Ct3_7cfw08%2Ct3_7cdofu%2Ct3_7caog1%2Ct3_7cdvud; _recent_srs=t5_2qpzs%2Ct5_2qh1q%2Ct5_2qh49%2Ct5_2rtff%2Ct5_36buk%2Ct5_2r7yd%2Ct5_2rks3%2Ct5_3j2jr%2Ct5_2sumw%2Ct5_2xp2o; pc=r3; session_tracker=tPgx9U9yPt99jYRDqC.0.1510585492994.Z0FBQUFBQmFDYlNWcWZHclI5WWxDWW9kQ0dURk9FRU9BZjFJTURWZElzaldRbkROaEJUOWE1czRQUWxPUzUwOFFwY3R3ckI5VkNDUlhJc01NVEtEeHVWd25CdUpXWEI1X012RkJaS3cyNXdNbk5vOE9DSXp5ZlhuTzF3a2pxT2dLZ3laMDhtQlhib3k; initref=localhost\"\n",
    "    }\n",
    "\n",
    "    client = rq.session()\n",
    "    resp = client.get(url , headers=session_headers)\n",
    "    if resp.status_code == 200:\n",
    "        json_data = resp.json()\n",
    "        return json_data\n",
    "    else:\n",
    "        print(\"Failed to get page\")\n",
    "        return None\n",
    "def getSubredditId(json):\n",
    "    if type(json) == dict:\n",
    "        sub_id = json['data']['children'][0]['data']['subreddit_id']\n",
    "        return sub_id\n",
    "    else: \n",
    "        print(\"Invalid Format\")\n",
    "        return None\n",
    "\n",
    "def makeSubUrl(name):\n",
    "    return \"https://www.reddit.com/r/\" + name + \"/.json\"\n",
    "\n",
    "def getSubIds(RedditList):\n",
    "    subIds = {}\n",
    "    for name in RedditList:\n",
    "        json = getJson(makeSubUrl(name))\n",
    "        print (getSubredditId(json))\n",
    "        subIds[name] = getSubredditId(json)\n",
    "    return subIds\n",
    "\n",
    "def filterDumpbySub(filePath , subID_dict, limit=None):\n",
    "    import json\n",
    "    import bz2\n",
    "    \n",
    "    openedDump = bz2.BZ2File(filePath, \"r\")\n",
    "    count = 0\n",
    "    returnData = dict()\n",
    "    print(\"=============Parsing============\")\n",
    "    print (subID_dict)\n",
    "    st = time.time()\n",
    "    for line in openedDump:\n",
    "        lineData = json.loads(line.strip())\n",
    "        if (limit!=None and count > limit):\n",
    "            return returnData\n",
    "        if lineData['subreddit'] in subID_dict:\n",
    "            if lineData['subreddit'] not in returnData:\n",
    "                returnData[lineData['subreddit']] = []\n",
    "            postId = lineData['link_id'].strip().split('_')[1]\n",
    "            \n",
    "            if postId not in returnData[lineData['subreddit']]:\n",
    "                returnData[lineData['subreddit']].append(postId)\n",
    "        if count%100000 == 0:\n",
    "            end = time.time()\n",
    "            print(\"Done parsing %d posts in %d seconds\",(count,(end-st)))\n",
    "            st = time.time()\n",
    "        count+=1\n",
    "    return returnData\n",
    "\n",
    "\n",
    "def filterSubmissionsbySub(filePath , subID_dict, limit=None):\n",
    "    import json\n",
    "    import bz2\n",
    "    \n",
    "    openedDump = bz2.BZ2File(filePath, \"r\")\n",
    "    count = 0\n",
    "    returnData = dict()\n",
    "    print(\"=============Parsing============\")\n",
    "    print (subID_dict)\n",
    "    st = time.time()\n",
    "    for line in openedDump:\n",
    "        lineData = json.loads(line.strip())\n",
    "        if (limit!=None and count > limit):\n",
    "            return returnData\n",
    "        if lineData['subreddit_id'] in subID_dict:\n",
    "            if lineData['subreddit_id'] not in returnData:\n",
    "                returnData[lineData['subreddit_id']] = []\n",
    "            postId = lineData['id']\n",
    "            \n",
    "            if postId not in returnData[lineData['subreddit_id']]:\n",
    "                returnData[lineData['subreddit_id']].append(postId)\n",
    "        if count%100000 == 0:\n",
    "            end = time.time()\n",
    "            print(\"Done parsing %d posts in %d seconds\",(count,(end-st)))\n",
    "            st = time.time()\n",
    "        count+=1\n",
    "    return returnData\n",
    "\n",
    "\n",
    "\n",
    "def getSubmissionPermalinks(filePath , comments_Thresh = 20 , limit=None):\n",
    "    import json\n",
    "    import bz2\n",
    "    import lzma\n",
    "    \n",
    "    ext = filePath.split('.')[-1]\n",
    "    \n",
    "    if ext == 'bz2':\n",
    "        openedDump = bz2.BZ2File(filePath, \"r\")\n",
    "    elif ext == 'xz':\n",
    "        openedDump = lzma.open(dump)\n",
    "    else:\n",
    "        print (\"Invalid file type\")\n",
    "    count = 0\n",
    "    returnData = {}\n",
    "    print(\"=============Parsing============\")\n",
    "    print (subID_dict)\n",
    "    st = time.time()\n",
    "    for line in openedDump:\n",
    "        lineData = json.loads(line.strip())\n",
    "        if lineData['num_comments'] > comments_Thresh:\n",
    "            if (limit!=None and count > limit):\n",
    "                return returnData\n",
    "            try:\n",
    "                returnData[lineData['id']] = lineData['permalink']\n",
    "            except:\n",
    "                print(\"Permalink not found, moving on!\")\n",
    "        if count%100000 == 0:\n",
    "            end = time.time()\n",
    "            print(\"Done parsing %d posts in %d seconds\",(count,(end-st)))\n",
    "            st = time.time()\n",
    "        count+=1\n",
    "    return returnData"
   ]
  },
  {
   "cell_type": "code",
   "execution_count": 81,
   "metadata": {
    "ExecuteTime": {
     "end_time": "2020-04-23T15:03:00.730048Z",
     "start_time": "2020-04-23T15:03:00.727329Z"
    },
    "collapsed": true
   },
   "outputs": [],
   "source": [
    "subreddits = [\"bipolar\" , \"BipolarReddit\" , \"BipolarSOs\" , \"Health\" , \"addiction\", \"depression\",\"SuicideWatch\",\"Anxiety\",\"Chicago\"] "
   ]
  },
  {
   "cell_type": "code",
   "execution_count": 82,
   "metadata": {
    "ExecuteTime": {
     "end_time": "2020-04-23T15:03:11.102865Z",
     "start_time": "2020-04-23T15:03:02.071083Z"
    }
   },
   "outputs": [
    {
     "name": "stdout",
     "output_type": "stream",
     "text": [
      "t5_2qnv4\n",
      "t5_2qzru\n",
      "t5_2zww6\n",
      "t5_2qh9z\n",
      "t5_2qwvc\n",
      "t5_2qqqf\n",
      "t5_2qpzs\n",
      "t5_2qmij\n",
      "t5_2qh2t\n"
     ]
    }
   ],
   "source": [
    "subID_dict = getSubIds(subreddits)"
   ]
  },
  {
   "cell_type": "code",
   "execution_count": 83,
   "metadata": {
    "ExecuteTime": {
     "end_time": "2020-04-23T15:03:12.616054Z",
     "start_time": "2020-04-23T15:03:12.612044Z"
    }
   },
   "outputs": [
    {
     "data": {
      "text/plain": [
       "{'Anxiety': 't5_2qmij',\n",
       " 'BipolarReddit': 't5_2qzru',\n",
       " 'BipolarSOs': 't5_2zww6',\n",
       " 'Chicago': 't5_2qh2t',\n",
       " 'Health': 't5_2qh9z',\n",
       " 'SuicideWatch': 't5_2qpzs',\n",
       " 'addiction': 't5_2qwvc',\n",
       " 'bipolar': 't5_2qnv4',\n",
       " 'depression': 't5_2qqqf'}"
      ]
     },
     "execution_count": 83,
     "metadata": {},
     "output_type": "execute_result"
    }
   ],
   "source": [
    "subID_dict"
   ]
  },
  {
   "cell_type": "code",
   "execution_count": 84,
   "metadata": {
    "ExecuteTime": {
     "end_time": "2020-04-23T15:21:10.049506Z",
     "start_time": "2020-04-23T15:03:13.932561Z"
    }
   },
   "outputs": [
    {
     "name": "stdout",
     "output_type": "stream",
     "text": [
      "=============Parsing============\n",
      "{'bipolar': 't5_2qnv4', 'BipolarReddit': 't5_2qzru', 'BipolarSOs': 't5_2zww6', 'Health': 't5_2qh9z', 'addiction': 't5_2qwvc', 'depression': 't5_2qqqf', 'SuicideWatch': 't5_2qpzs', 'Anxiety': 't5_2qmij', 'Chicago': 't5_2qh2t'}\n",
      "Done parsing %d posts in %d seconds (0, 0.015890121459960938)\n",
      "Done parsing %d posts in %d seconds (100000, 10.112196683883667)\n",
      "Done parsing %d posts in %d seconds (200000, 10.55633282661438)\n",
      "Done parsing %d posts in %d seconds (300000, 10.34863543510437)\n",
      "Done parsing %d posts in %d seconds (400000, 10.129017114639282)\n",
      "Done parsing %d posts in %d seconds (500000, 10.46405553817749)\n",
      "Done parsing %d posts in %d seconds (600000, 10.65838885307312)\n",
      "Done parsing %d posts in %d seconds (700000, 10.296407699584961)\n",
      "Done parsing %d posts in %d seconds (800000, 10.31222414970398)\n",
      "Done parsing %d posts in %d seconds (900000, 10.640945196151733)\n",
      "Done parsing %d posts in %d seconds (1000000, 10.38311505317688)\n",
      "Done parsing %d posts in %d seconds (1100000, 10.241801738739014)\n",
      "Done parsing %d posts in %d seconds (1200000, 10.520718812942505)\n",
      "Done parsing %d posts in %d seconds (1300000, 10.483882427215576)\n",
      "Done parsing %d posts in %d seconds (1400000, 10.186163425445557)\n",
      "Done parsing %d posts in %d seconds (1500000, 10.454047918319702)\n",
      "Done parsing %d posts in %d seconds (1600000, 10.622055053710938)\n",
      "Done parsing %d posts in %d seconds (1700000, 10.380936861038208)\n",
      "Done parsing %d posts in %d seconds (1800000, 10.248726844787598)\n",
      "Done parsing %d posts in %d seconds (1900000, 10.648958921432495)\n",
      "Done parsing %d posts in %d seconds (2000000, 10.364932537078857)\n",
      "Done parsing %d posts in %d seconds (2100000, 10.207922458648682)\n",
      "Done parsing %d posts in %d seconds (2200000, 10.58569598197937)\n",
      "Done parsing %d posts in %d seconds (2300000, 10.283061504364014)\n",
      "Done parsing %d posts in %d seconds (2400000, 10.333891153335571)\n",
      "Done parsing %d posts in %d seconds (2500000, 10.596094608306885)\n",
      "Done parsing %d posts in %d seconds (2600000, 10.319728374481201)\n",
      "Done parsing %d posts in %d seconds (2700000, 10.12457823753357)\n",
      "Done parsing %d posts in %d seconds (2800000, 10.673911333084106)\n",
      "Done parsing %d posts in %d seconds (2900000, 10.57662558555603)\n",
      "Done parsing %d posts in %d seconds (3000000, 10.265677213668823)\n",
      "Done parsing %d posts in %d seconds (3100000, 10.269827842712402)\n",
      "Done parsing %d posts in %d seconds (3200000, 10.587071657180786)\n",
      "Done parsing %d posts in %d seconds (3300000, 10.41274905204773)\n",
      "Done parsing %d posts in %d seconds (3400000, 10.223332643508911)\n",
      "Done parsing %d posts in %d seconds (3500000, 10.53720235824585)\n",
      "Done parsing %d posts in %d seconds (3600000, 10.542405843734741)\n",
      "Done parsing %d posts in %d seconds (3700000, 10.23965859413147)\n",
      "Done parsing %d posts in %d seconds (3800000, 10.325053215026855)\n",
      "Done parsing %d posts in %d seconds (3900000, 10.525221586227417)\n",
      "Done parsing %d posts in %d seconds (4000000, 10.400352239608765)\n",
      "Done parsing %d posts in %d seconds (4100000, 10.168757677078247)\n",
      "Done parsing %d posts in %d seconds (4200000, 10.600090503692627)\n",
      "Done parsing %d posts in %d seconds (4300000, 10.565934658050537)\n",
      "Done parsing %d posts in %d seconds (4400000, 10.193300247192383)\n",
      "Done parsing %d posts in %d seconds (4500000, 10.710714101791382)\n",
      "Done parsing %d posts in %d seconds (4600000, 10.458965301513672)\n",
      "Done parsing %d posts in %d seconds (4700000, 10.185511589050293)\n",
      "Done parsing %d posts in %d seconds (4800000, 10.62623143196106)\n",
      "Done parsing %d posts in %d seconds (4900000, 10.464869499206543)\n",
      "Done parsing %d posts in %d seconds (5000000, 10.151306867599487)\n",
      "Done parsing %d posts in %d seconds (5100000, 10.506335020065308)\n",
      "Done parsing %d posts in %d seconds (5200000, 10.664216756820679)\n",
      "Done parsing %d posts in %d seconds (5300000, 10.362090110778809)\n",
      "Done parsing %d posts in %d seconds (5400000, 10.253687858581543)\n",
      "Done parsing %d posts in %d seconds (5500000, 10.644264698028564)\n",
      "Done parsing %d posts in %d seconds (5600000, 10.476766109466553)\n",
      "Done parsing %d posts in %d seconds (5700000, 10.175437688827515)\n",
      "Done parsing %d posts in %d seconds (5800000, 10.536555290222168)\n",
      "Done parsing %d posts in %d seconds (5900000, 10.629993915557861)\n",
      "Done parsing %d posts in %d seconds (6000000, 10.41305136680603)\n",
      "Done parsing %d posts in %d seconds (6100000, 10.602459907531738)\n",
      "Done parsing %d posts in %d seconds (6200000, 10.883010864257812)\n",
      "Done parsing %d posts in %d seconds (6300000, 10.800235271453857)\n",
      "Done parsing %d posts in %d seconds (6400000, 10.229641437530518)\n",
      "Done parsing %d posts in %d seconds (6500000, 10.64941120147705)\n",
      "Done parsing %d posts in %d seconds (6600000, 10.62230134010315)\n",
      "Done parsing %d posts in %d seconds (6700000, 10.239259958267212)\n",
      "Done parsing %d posts in %d seconds (6800000, 10.61810564994812)\n",
      "Done parsing %d posts in %d seconds (6900000, 10.521359920501709)\n",
      "Done parsing %d posts in %d seconds (7000000, 10.299009561538696)\n",
      "Done parsing %d posts in %d seconds (7100000, 10.51155686378479)\n",
      "Done parsing %d posts in %d seconds (7200000, 10.46159052848816)\n",
      "Done parsing %d posts in %d seconds (7300000, 10.266949653625488)\n",
      "Done parsing %d posts in %d seconds (7400000, 10.396470546722412)\n",
      "Done parsing %d posts in %d seconds (7500000, 10.674670457839966)\n",
      "Done parsing %d posts in %d seconds (7600000, 10.551763772964478)\n",
      "Done parsing %d posts in %d seconds (7700000, 10.254910230636597)\n",
      "Done parsing %d posts in %d seconds (7800000, 10.581132650375366)\n",
      "Done parsing %d posts in %d seconds (7900000, 10.533180713653564)\n",
      "Done parsing %d posts in %d seconds (8000000, 10.389172554016113)\n",
      "Done parsing %d posts in %d seconds (8100000, 10.2322416305542)\n",
      "Done parsing %d posts in %d seconds (8200000, 10.62364411354065)\n",
      "Done parsing %d posts in %d seconds (8300000, 10.603020668029785)\n",
      "Done parsing %d posts in %d seconds (8400000, 10.261634588241577)\n",
      "Done parsing %d posts in %d seconds (8500000, 11.609664678573608)\n",
      "Done parsing %d posts in %d seconds (8600000, 10.633649826049805)\n",
      "Done parsing %d posts in %d seconds (8700000, 10.462058067321777)\n",
      "Done parsing %d posts in %d seconds (8800000, 10.427687644958496)\n",
      "Done parsing %d posts in %d seconds (8900000, 10.678003072738647)\n",
      "Done parsing %d posts in %d seconds (9000000, 10.646556377410889)\n",
      "Done parsing %d posts in %d seconds (9100000, 10.579798221588135)\n",
      "Done parsing %d posts in %d seconds (9200000, 10.804359436035156)\n",
      "Done parsing %d posts in %d seconds (9300000, 10.449198484420776)\n",
      "Done parsing %d posts in %d seconds (9400000, 10.42986249923706)\n",
      "Done parsing %d posts in %d seconds (9500000, 10.669353723526001)\n",
      "Done parsing %d posts in %d seconds (9600000, 10.59115982055664)\n",
      "Done parsing %d posts in %d seconds (9700000, 10.200848579406738)\n",
      "Done parsing %d posts in %d seconds (9800000, 10.642398357391357)\n",
      "Done parsing %d posts in %d seconds (9900000, 10.464423894882202)\n",
      "Done parsing %d posts in %d seconds (10000000, 10.146471500396729)\n",
      "Done parsing %d posts in %d seconds (10100000, 10.403839826583862)\n",
      "Done parsing %d posts in %d seconds (10200000, 10.751479864120483)\n"
     ]
    }
   ],
   "source": [
    "# postData = filterDumpbySub(dump,subID_dict)\n",
    "postData = getSubmissionPermalinks(dump,comments_Thresh= 10)"
   ]
  },
  {
   "cell_type": "code",
   "execution_count": 85,
   "metadata": {
    "ExecuteTime": {
     "end_time": "2020-04-23T15:21:11.530187Z",
     "start_time": "2020-04-23T15:21:11.526429Z"
    }
   },
   "outputs": [
    {
     "data": {
      "text/plain": [
       "1338231"
      ]
     },
     "execution_count": 85,
     "metadata": {},
     "output_type": "execute_result"
    }
   ],
   "source": [
    "len(postData)"
   ]
  },
  {
   "cell_type": "code",
   "execution_count": 87,
   "metadata": {
    "ExecuteTime": {
     "end_time": "2020-05-04T09:24:15.730799Z",
     "start_time": "2020-05-04T09:24:15.598602Z"
    }
   },
   "outputs": [
    {
     "ename": "KeyError",
     "evalue": "1",
     "output_type": "error",
     "traceback": [
      "\u001b[0;31m---------------------------------------------------------------------------\u001b[0m",
      "\u001b[0;31mKeyError\u001b[0m                                  Traceback (most recent call last)",
      "\u001b[0;32m<ipython-input-87-2d0025f64966>\u001b[0m in \u001b[0;36m<module>\u001b[0;34m()\u001b[0m\n\u001b[0;32m----> 1\u001b[0;31m \u001b[0mpostData\u001b[0m\u001b[0;34m[\u001b[0m\u001b[0;36m1\u001b[0m\u001b[0;34m]\u001b[0m\u001b[0;34m\u001b[0m\u001b[0m\n\u001b[0m",
      "\u001b[0;31mKeyError\u001b[0m: 1"
     ]
    }
   ],
   "source": [
    "postData"
   ]
  },
  {
   "cell_type": "code",
   "execution_count": 86,
   "metadata": {
    "ExecuteTime": {
     "end_time": "2020-04-23T15:21:13.725994Z",
     "start_time": "2020-04-23T15:21:12.892178Z"
    },
    "collapsed": true
   },
   "outputs": [],
   "source": [
    "import pickle as pkl\n",
    "pkl.dump(file=open('/10TBdrive/datashare/Reddit/Submissions102017_atleast10.pkl','wb'),obj=postData)"
   ]
  },
  {
   "cell_type": "code",
   "execution_count": 89,
   "metadata": {
    "ExecuteTime": {
     "end_time": "2020-05-04T09:26:18.194639Z",
     "start_time": "2020-05-04T09:26:18.102763Z"
    }
   },
   "outputs": [
    {
     "data": {
      "text/plain": [
       "'/r/edc_raffle/comments/73ig7k/omega_seamaster_aqua_terra_quartz_65_spots_at/'"
      ]
     },
     "execution_count": 89,
     "metadata": {},
     "output_type": "execute_result"
    }
   ],
   "source": [
    "postData[list(postData.keys())[1]]"
   ]
  },
  {
   "cell_type": "code",
   "execution_count": 90,
   "metadata": {
    "ExecuteTime": {
     "end_time": "2020-05-04T09:26:20.825608Z",
     "start_time": "2020-05-04T09:26:20.821370Z"
    },
    "collapsed": true
   },
   "outputs": [],
   "source": [
    "# import pickle as pkl\n",
    "# with open(\"/datasets_1/sagarj/IoPPN_collab/MentalHealth_2017_posts.pkl\",'w') as f:\n",
    "#     pkl.dump(postData,f)"
   ]
  },
  {
   "cell_type": "code",
   "execution_count": 91,
   "metadata": {
    "ExecuteTime": {
     "end_time": "2020-05-04T09:26:21.910119Z",
     "start_time": "2020-05-04T09:26:21.907028Z"
    },
    "collapsed": true
   },
   "outputs": [],
   "source": [
    "# import pickle as pkl\n",
    "# with open(\"ChangemyView2017.pkl\",'w') as f:\n",
    "#     pkl.dump(postData['changemyview'],f)"
   ]
  },
  {
   "cell_type": "code",
   "execution_count": 92,
   "metadata": {
    "ExecuteTime": {
     "end_time": "2020-05-04T09:26:22.946529Z",
     "start_time": "2020-05-04T09:26:22.944014Z"
    },
    "collapsed": true
   },
   "outputs": [],
   "source": [
    "# with open(\"Filtered_posts_2017.json\",'w') as f:\n",
    "#     json.dump(postData,f)"
   ]
  },
  {
   "cell_type": "code",
   "execution_count": 103,
   "metadata": {
    "ExecuteTime": {
     "end_time": "2020-05-04T13:13:11.487557Z",
     "start_time": "2020-05-04T13:13:11.483384Z"
    },
    "collapsed": true
   },
   "outputs": [],
   "source": [
    "from glob import glob\n",
    "from tqdm import tqdm"
   ]
  },
  {
   "cell_type": "code",
   "execution_count": 112,
   "metadata": {
    "ExecuteTime": {
     "end_time": "2020-05-04T13:51:54.410187Z",
     "start_time": "2020-05-04T13:51:54.404337Z"
    },
    "collapsed": true
   },
   "outputs": [],
   "source": [
    "geoFiles = glob('/10TBdrive/datashare/COVID-19-Reddit/download_Reddit/US_permalinks_geo_results/*.json')"
   ]
  },
  {
   "cell_type": "code",
   "execution_count": 115,
   "metadata": {
    "ExecuteTime": {
     "end_time": "2020-05-04T13:53:56.378705Z",
     "start_time": "2020-05-04T13:53:52.346940Z"
    },
    "collapsed": true
   },
   "outputs": [],
   "source": [
    "with open(geoFiles[1],'r') as f:\n",
    "    posts = f.readlines()"
   ]
  },
  {
   "cell_type": "code",
   "execution_count": 116,
   "metadata": {
    "ExecuteTime": {
     "end_time": "2020-05-04T13:54:01.872545Z",
     "start_time": "2020-05-04T13:54:01.867059Z"
    }
   },
   "outputs": [
    {
     "data": {
      "text/plain": [
       "{'author': 'owledge',\n",
       " 'permalink': '/r/nba/comments/7nbxvz/game_thread_philadelphia_76ers_1619_phoenix_suns/'}"
      ]
     },
     "execution_count": 116,
     "metadata": {},
     "output_type": "execute_result"
    }
   ],
   "source": [
    "p = json.loads(posts[1])\n",
    "p"
   ]
  },
  {
   "cell_type": "code",
   "execution_count": 126,
   "metadata": {
    "ExecuteTime": {
     "end_time": "2020-05-04T14:04:29.063441Z",
     "start_time": "2020-05-04T14:04:28.887377Z"
    },
    "collapsed": true
   },
   "outputs": [],
   "source": [
    "year_list = ['2005','2006','2007','2008','2009','2010',\n",
    "             '2011','2012','2013','2014','2015','2016','2017','2018','2019']"
   ]
  },
  {
   "cell_type": "code",
   "execution_count": 127,
   "metadata": {
    "ExecuteTime": {
     "end_time": "2020-05-04T14:45:29.353169Z",
     "start_time": "2020-05-04T14:04:47.210648Z"
    }
   },
   "outputs": [
    {
     "name": "stderr",
     "output_type": "stream",
     "text": [
      "\n",
      "\n",
      "  0%|          | 0/171 [00:00<?, ?it/s]\u001b[A\u001b[A\n",
      "\n",
      " 26%|██▌       | 44/171 [00:00<00:00, 385.53it/s]\u001b[A\u001b[A\n",
      "\n",
      "100%|██████████| 171/171 [00:00<00:00, 1185.69it/s]\u001b[A\u001b[A\n",
      "\n",
      "  0%|          | 0/171 [00:00<?, ?it/s]\u001b[A\u001b[A\n",
      "\n",
      " 29%|██▉       | 50/171 [00:00<00:00, 422.27it/s]\u001b[A\u001b[A\n",
      "\n",
      " 96%|█████████▌| 164/171 [00:00<00:00, 499.14it/s]\u001b[A\u001b[A\n",
      "\n",
      "100%|██████████| 171/171 [00:00<00:00, 674.49it/s]\u001b[A\u001b[A\n",
      "\n",
      "  0%|          | 0/171 [00:00<?, ?it/s]\u001b[A\u001b[A\n",
      "\n",
      " 23%|██▎       | 40/171 [00:00<00:00, 304.83it/s]\u001b[A\u001b[A\n",
      "\n",
      " 33%|███▎      | 57/171 [00:00<00:00, 216.33it/s]\u001b[A\u001b[A\n",
      "\n",
      " 65%|██████▌   | 112/171 [00:00<00:00, 257.38it/s]\u001b[A\u001b[A\n",
      "\n",
      " 78%|███████▊  | 134/171 [00:00<00:00, 145.80it/s]\u001b[A\u001b[A\n",
      "\n",
      "100%|██████████| 171/171 [00:00<00:00, 219.98it/s]\u001b[A\u001b[A\n",
      "\n",
      "  0%|          | 0/171 [00:00<?, ?it/s]\u001b[A\u001b[A\n",
      "\n",
      "  8%|▊         | 13/171 [00:00<00:01, 84.73it/s]\u001b[A\u001b[A\n",
      "\n",
      " 12%|█▏        | 20/171 [00:00<00:02, 69.69it/s]\u001b[A\u001b[A\n",
      "\n",
      " 15%|█▍        | 25/171 [00:00<00:03, 45.13it/s]\u001b[A\u001b[A\n",
      "\n",
      " 20%|█▉        | 34/171 [00:00<00:03, 45.66it/s]\u001b[A\u001b[A\n",
      "\n",
      " 33%|███▎      | 56/171 [00:00<00:02, 53.54it/s]\u001b[A\u001b[A\n",
      "\n",
      " 37%|███▋      | 63/171 [00:01<00:02, 40.58it/s]\u001b[A\u001b[A\n",
      "\n",
      " 40%|████      | 69/171 [00:01<00:02, 34.07it/s]\u001b[A\u001b[A\n",
      "\n",
      " 51%|█████▏    | 88/171 [00:01<00:01, 44.70it/s]\u001b[A\u001b[A\n",
      "\n",
      " 56%|█████▌    | 96/171 [00:01<00:01, 44.17it/s]\u001b[A\u001b[A\n",
      "\n",
      " 64%|██████▎   | 109/171 [00:02<00:01, 41.28it/s]\u001b[A\u001b[A\n",
      "\n",
      " 79%|███████▉  | 135/171 [00:02<00:00, 53.55it/s]\u001b[A\u001b[A\n",
      "\n",
      " 85%|████████▍ | 145/171 [00:02<00:00, 55.56it/s]\u001b[A\u001b[A\n",
      "\n",
      "100%|██████████| 171/171 [00:02<00:00, 70.42it/s]\u001b[A\u001b[A\n",
      "\n",
      "  0%|          | 0/171 [00:00<?, ?it/s]\u001b[A\u001b[A\n",
      "\n",
      "  2%|▏         | 4/171 [00:00<00:16,  9.95it/s]\u001b[A\u001b[A\n",
      "\n",
      "  6%|▋         | 11/171 [00:00<00:13, 12.30it/s]\u001b[A\u001b[A\n",
      "\n",
      " 13%|█▎        | 23/171 [00:00<00:09, 15.40it/s]\u001b[A\u001b[A\n",
      "\n",
      " 19%|█▊        | 32/171 [00:01<00:07, 18.05it/s]\u001b[A\u001b[A\n",
      "\n",
      " 43%|████▎     | 73/171 [00:01<00:04, 24.08it/s]\u001b[A\u001b[A\n",
      "\n",
      " 46%|████▌     | 78/171 [00:01<00:04, 20.78it/s]\u001b[A\u001b[A\n",
      "\n",
      " 49%|████▉     | 84/171 [00:02<00:04, 20.02it/s]\u001b[A\u001b[A\n",
      "\n",
      " 52%|█████▏    | 89/171 [00:02<00:04, 17.52it/s]\u001b[A\u001b[A\n",
      "\n",
      " 54%|█████▍    | 92/171 [00:02<00:05, 14.44it/s]\u001b[A\u001b[A\n",
      "\n",
      " 58%|█████▊    | 99/171 [00:03<00:04, 14.78it/s]\u001b[A\u001b[A\n",
      "\n",
      " 59%|█████▉    | 101/171 [00:03<00:08,  8.74it/s]\u001b[A\u001b[A\n",
      "\n",
      " 71%|███████   | 121/171 [00:04<00:04, 11.88it/s]\u001b[A\u001b[A\n",
      "\n",
      "100%|██████████| 171/171 [00:04<00:00, 41.44it/s]\u001b[A\u001b[A\n",
      "\n",
      "  0%|          | 0/171 [00:00<?, ?it/s]\u001b[A\u001b[A\n",
      "\n",
      " 16%|█▌        | 27/171 [00:00<00:04, 35.19it/s]\u001b[A\u001b[A\n",
      "\n",
      " 17%|█▋        | 29/171 [00:01<00:26,  5.37it/s]\u001b[A\u001b[A\n",
      "\n",
      " 25%|██▍       | 42/171 [00:02<00:18,  6.92it/s]\u001b[A\u001b[A\n",
      "\n",
      " 39%|███▉      | 67/171 [00:03<00:11,  8.94it/s]\u001b[A\u001b[A\n",
      "\n",
      " 46%|████▌     | 78/171 [00:04<00:10,  9.24it/s]\u001b[A\u001b[A\n",
      "\n",
      " 56%|█████▌    | 95/171 [00:06<00:07,  9.68it/s]\u001b[A\u001b[A\n",
      "\n",
      " 72%|███████▏  | 123/171 [00:06<00:03, 12.24it/s]\u001b[A\u001b[A\n",
      "\n",
      " 73%|███████▎  | 125/171 [00:08<00:12,  3.73it/s]\u001b[A\u001b[A\n",
      "\n",
      " 77%|███████▋  | 131/171 [00:09<00:09,  4.08it/s]\u001b[A\u001b[A\n",
      "\n",
      " 87%|████████▋ | 148/171 [00:10<00:04,  5.42it/s]\u001b[A\u001b[A\n",
      "\n",
      " 94%|█████████▎| 160/171 [00:11<00:01,  6.46it/s]\u001b[A\u001b[A\n",
      "\n",
      " 99%|█████████▉| 170/171 [00:11<00:00,  7.88it/s]\u001b[A\u001b[A\n",
      "\n",
      "100%|██████████| 171/171 [00:11<00:00, 14.42it/s]\u001b[A\u001b[A\n",
      "\n",
      "  0%|          | 0/171 [00:00<?, ?it/s]\u001b[A\u001b[A\n",
      "\n",
      "  9%|▉         | 15/171 [00:01<00:19,  7.99it/s]\u001b[A\u001b[A\n",
      "\n",
      " 11%|█         | 18/171 [00:04<01:00,  2.51it/s]\u001b[A\u001b[A\n",
      "\n",
      " 11%|█         | 19/171 [00:07<02:28,  1.02it/s]\u001b[A\u001b[A\n",
      "\n",
      " 18%|█▊        | 30/171 [00:10<01:47,  1.32it/s]\u001b[A\u001b[A\n",
      "\n",
      " 29%|██▊       | 49/171 [00:13<01:11,  1.69it/s]\u001b[A\u001b[A\n",
      "\n",
      " 32%|███▏      | 55/171 [00:17<01:09,  1.67it/s]\u001b[A\u001b[A\n",
      "\n",
      " 36%|███▌      | 61/171 [00:20<01:04,  1.71it/s]\u001b[A\u001b[A\n",
      "\n",
      " 49%|████▊     | 83/171 [00:23<00:39,  2.21it/s]\u001b[A\u001b[A\n",
      "\n",
      " 55%|█████▍    | 94/171 [00:26<00:29,  2.64it/s]\u001b[A\u001b[A\n",
      "\n",
      " 56%|█████▌    | 96/171 [00:30<01:04,  1.17it/s]\u001b[A\u001b[A\n",
      "\n",
      " 59%|█████▉    | 101/171 [00:31<00:49,  1.42it/s]\u001b[A\u001b[A\n",
      "\n",
      " 62%|██████▏   | 106/171 [00:34<00:41,  1.57it/s]\u001b[A\u001b[A\n",
      "\n",
      "100%|██████████| 171/171 [00:34<00:00,  4.98it/s]\u001b[A\u001b[A\n",
      "\n",
      "  0%|          | 0/171 [00:00<?, ?it/s]\u001b[A\u001b[A\n",
      "\n",
      "  9%|▉         | 16/171 [00:04<00:45,  3.38it/s]\u001b[A\u001b[A\n",
      "\n",
      " 14%|█▍        | 24/171 [00:08<00:53,  2.73it/s]\u001b[A\u001b[A\n",
      "\n",
      " 18%|█▊        | 31/171 [00:13<01:02,  2.24it/s]\u001b[A\u001b[A\n",
      "\n",
      " 20%|██        | 35/171 [00:18<01:34,  1.43it/s]\u001b[A\u001b[A\n",
      "\n",
      " 25%|██▌       | 43/171 [00:22<01:19,  1.60it/s]\u001b[A\u001b[A\n",
      "\n",
      " 50%|████▉     | 85/171 [00:26<00:39,  2.15it/s]\u001b[A\u001b[A\n",
      "\n",
      " 63%|██████▎   | 108/171 [00:30<00:24,  2.59it/s]\u001b[A\u001b[A\n",
      "\n",
      " 75%|███████▍  | 128/171 [00:35<00:14,  2.99it/s]\u001b[A\u001b[A\n",
      "\n",
      " 86%|████████▌ | 147/171 [00:39<00:07,  3.25it/s]\u001b[A\u001b[A\n",
      "\n",
      " 91%|█████████ | 155/171 [00:43<00:05,  2.72it/s]\u001b[A\u001b[A\n",
      "\n",
      " 96%|█████████▋| 165/171 [00:47<00:02,  2.73it/s]\u001b[A\u001b[A\n",
      "\n",
      " 98%|█████████▊| 167/171 [00:51<00:03,  1.07it/s]\u001b[A\u001b[A\n",
      "\n",
      "100%|██████████| 171/171 [00:51<00:00,  3.29it/s]\u001b[A\u001b[A\n",
      "\n",
      "  0%|          | 0/171 [00:00<?, ?it/s]\u001b[A\u001b[A\n",
      "\n",
      "  3%|▎         | 5/171 [00:05<03:08,  1.14s/it]\u001b[A\u001b[A\n",
      "\n",
      "  6%|▌         | 10/171 [00:11<03:04,  1.14s/it]\u001b[A\u001b[A\n",
      "\n",
      " 12%|█▏        | 21/171 [00:17<02:23,  1.05it/s]\u001b[A\u001b[A\n",
      "\n",
      " 15%|█▌        | 26/171 [00:22<02:25,  1.01s/it]\u001b[A\u001b[A\n",
      "\n",
      " 19%|█▉        | 33/171 [00:27<02:07,  1.08it/s]\u001b[A\u001b[A\n",
      "\n",
      " 21%|██        | 36/171 [00:33<02:45,  1.23s/it]\u001b[A\u001b[A\n",
      "\n",
      " 32%|███▏      | 54/171 [00:38<01:50,  1.06it/s]\u001b[A\u001b[A\n",
      "\n",
      " 54%|█████▍    | 93/171 [00:44<00:54,  1.42it/s]\u001b[A\u001b[A\n",
      "\n",
      " 61%|██████    | 104/171 [00:49<00:43,  1.54it/s]\u001b[A\u001b[A\n",
      "\n",
      " 87%|████████▋ | 149/171 [00:55<00:10,  2.03it/s]\u001b[A\u001b[A\n",
      "\n",
      " 90%|█████████ | 154/171 [01:02<00:13,  1.28it/s]\u001b[A\u001b[A\n",
      "\n",
      " 99%|█████████▉| 169/171 [01:07<00:01,  1.55it/s]\u001b[A\u001b[A\n",
      "\n",
      "100%|██████████| 171/171 [01:07<00:00,  2.52it/s]\u001b[A\u001b[A\n",
      "\n",
      "  0%|          | 0/171 [00:00<?, ?it/s]\u001b[A\u001b[A\n",
      "\n",
      " 16%|█▋        | 28/171 [00:06<00:33,  4.32it/s]\u001b[A\u001b[A\n",
      "\n",
      " 26%|██▋       | 45/171 [00:14<00:37,  3.37it/s]\u001b[A\u001b[A\n",
      "\n",
      " 44%|████▍     | 76/171 [00:21<00:26,  3.62it/s]\u001b[A\u001b[A\n",
      "\n",
      " 46%|████▌     | 79/171 [00:29<01:32,  1.00s/it]\u001b[A\u001b[A\n",
      "\n",
      " 47%|████▋     | 80/171 [00:36<04:33,  3.01s/it]\u001b[A\u001b[A\n",
      "\n",
      " 64%|██████▍   | 110/171 [00:43<02:12,  2.17s/it]\u001b[A\u001b[A\n",
      "\n",
      " 75%|███████▌  | 129/171 [00:50<01:08,  1.62s/it]\u001b[A\u001b[A\n",
      "\n",
      " 80%|███████▉  | 136/171 [00:57<00:50,  1.43s/it]\u001b[A\u001b[A\n",
      "\n",
      " 81%|████████  | 138/171 [01:12<01:50,  3.35s/it]\u001b[A\u001b[A\n",
      "\n",
      " 82%|████████▏ | 141/171 [01:28<01:56,  3.88s/it]\u001b[A\u001b[A\n",
      "\n",
      " 91%|█████████ | 156/171 [01:44<00:45,  3.05s/it]\u001b[A\u001b[A\n",
      "\n",
      " 92%|█████████▏| 157/171 [01:59<01:31,  6.52s/it]\u001b[A\u001b[A\n",
      "\n",
      "100%|██████████| 171/171 [01:59<00:00,  1.43it/s]\u001b[A\u001b[A\n",
      "\n",
      "  0%|          | 0/171 [00:00<?, ?it/s]\u001b[A\u001b[A\n",
      "\n",
      " 24%|██▍       | 41/171 [00:21<01:07,  1.92it/s]\u001b[A\u001b[A\n",
      "\n",
      " 27%|██▋       | 47/171 [00:41<02:52,  1.39s/it]\u001b[A\u001b[A\n",
      "\n",
      " 35%|███▌      | 60/171 [01:02<02:40,  1.44s/it]\u001b[A\u001b[A\n",
      "\n",
      " 57%|█████▋    | 98/171 [01:20<01:24,  1.16s/it]\u001b[A\u001b[A\n",
      "\n",
      " 60%|██████    | 103/171 [01:42<02:21,  2.08s/it]\u001b[A\u001b[A\n",
      "\n",
      " 63%|██████▎   | 107/171 [02:01<03:06,  2.91s/it]\u001b[A\u001b[A\n",
      "\n",
      " 70%|███████   | 120/171 [02:23<02:10,  2.56s/it]\u001b[A\u001b[A\n",
      "\n",
      " 81%|████████▏ | 139/171 [02:46<01:08,  2.15s/it]\u001b[A\u001b[A\n",
      "\n",
      " 88%|████████▊ | 150/171 [03:07<00:43,  2.08s/it]\u001b[A\u001b[A\n",
      "\n",
      " 88%|████████▊ | 151/171 [03:30<02:44,  8.22s/it]\u001b[A\u001b[A\n",
      "\n",
      " 92%|█████████▏| 158/171 [03:51<01:26,  6.66s/it]\u001b[A\u001b[A\n",
      "\n",
      " 94%|█████████▍| 161/171 [04:13<01:08,  6.88s/it]\u001b[A\u001b[A\n",
      "\n",
      "100%|██████████| 171/171 [04:13<00:00,  1.48s/it]\u001b[A\u001b[A\n",
      "\n",
      "  0%|          | 0/171 [00:00<?, ?it/s]\u001b[A\u001b[A\n",
      "\n",
      "  1%|          | 1/171 [00:35<1:41:44, 35.91s/it]\u001b[A\u001b[A\n",
      "\n",
      " 28%|██▊       | 48/171 [01:03<51:53, 25.31s/it] \u001b[A\u001b[A\n",
      "\n",
      " 34%|███▍      | 58/171 [01:28<34:48, 18.48s/it]\u001b[A\u001b[A\n",
      "\n",
      " 38%|███▊      | 65/171 [01:54<24:50, 14.06s/it]\u001b[A\u001b[A\n",
      "\n",
      " 42%|████▏     | 72/171 [02:22<18:11, 11.02s/it]\u001b[A\u001b[A\n",
      "\n",
      " 53%|█████▎    | 90/171 [02:50<11:03,  8.19s/it]\u001b[A\u001b[A\n",
      "\n",
      " 77%|███████▋  | 132/171 [03:19<03:51,  5.94s/it]\u001b[A\u001b[A\n",
      "\n",
      " 78%|███████▊  | 134/171 [03:46<05:02,  8.18s/it]\u001b[A\u001b[A\n",
      "\n",
      " 80%|████████  | 137/171 [04:12<04:43,  8.33s/it]\u001b[A\u001b[A\n",
      "\n",
      " 83%|████████▎ | 142/171 [04:38<03:34,  7.40s/it]\u001b[A\u001b[A\n",
      "\n",
      " 84%|████████▎ | 143/171 [05:06<06:21, 13.63s/it]\u001b[A\u001b[A\n",
      "\n",
      " 89%|████████▉ | 153/171 [05:32<03:05, 10.32s/it]\u001b[A\u001b[A\n",
      "\n",
      "100%|██████████| 171/171 [05:32<00:00,  1.94s/it]\u001b[A\u001b[A\n",
      "\n",
      "  0%|          | 0/171 [00:00<?, ?it/s]\u001b[A\u001b[A\n",
      "\n",
      "  4%|▍         | 7/171 [00:37<14:49,  5.42s/it]\u001b[A\u001b[A\n",
      "\n",
      "  5%|▍         | 8/171 [01:11<37:54, 13.95s/it]\u001b[A\u001b[A\n",
      "\n",
      "  7%|▋         | 12/171 [01:42<32:01, 12.09s/it]\u001b[A\u001b[A\n",
      "\n",
      " 23%|██▎       | 39/171 [02:13<19:22,  8.81s/it]\u001b[A\u001b[A\n",
      "\n",
      " 36%|███▋      | 62/171 [02:44<11:55,  6.56s/it]\u001b[A\u001b[A\n",
      "\n",
      " 37%|███▋      | 64/171 [03:15<16:38,  9.33s/it]\u001b[A\u001b[A\n",
      "\n",
      " 42%|████▏     | 71/171 [03:50<13:22,  8.03s/it]\u001b[A\u001b[A\n",
      "\n",
      " 44%|████▍     | 75/171 [04:28<13:28,  8.42s/it]\u001b[A\u001b[A\n",
      "\n",
      " 47%|████▋     | 81/171 [05:08<11:52,  7.92s/it]\u001b[A\u001b[A\n",
      "\n",
      " 76%|███████▌  | 130/171 [05:40<03:55,  5.74s/it]\u001b[A\u001b[A\n",
      "\n",
      " 89%|████████▉ | 152/171 [06:11<01:24,  4.45s/it]\u001b[A\u001b[A\n",
      "\n",
      " 95%|█████████▍| 162/171 [06:42<00:36,  4.01s/it]\u001b[A\u001b[A\n",
      "\n",
      "100%|██████████| 171/171 [06:42<00:00,  2.35s/it]\u001b[A\u001b[A\n",
      "\n",
      "  0%|          | 0/171 [00:00<?, ?it/s]\u001b[A\u001b[A\n",
      "\n",
      "  1%|          | 2/171 [00:33<46:34, 16.53s/it]\u001b[A\u001b[A\n",
      "\n",
      "  5%|▌         | 9/171 [01:16<36:14, 13.42s/it]\u001b[A\u001b[A\n",
      "\n",
      "  8%|▊         | 14/171 [01:55<30:49, 11.78s/it]\u001b[A\u001b[A\n",
      "\n",
      " 13%|█▎        | 22/171 [02:40<24:40,  9.93s/it]\u001b[A\u001b[A\n",
      "\n",
      " 39%|███▊      | 66/171 [03:21<12:39,  7.23s/it]\u001b[A\u001b[A\n",
      "\n",
      " 51%|█████     | 87/171 [04:09<08:02,  5.74s/it]\u001b[A\u001b[A\n",
      "\n",
      " 67%|██████▋   | 115/171 [04:53<04:11,  4.49s/it]\u001b[A\u001b[A\n",
      "\n",
      " 85%|████████▍ | 145/171 [05:39<01:33,  3.61s/it]\u001b[A\u001b[A\n",
      "\n",
      " 85%|████████▌ | 146/171 [06:22<06:22, 15.30s/it]\u001b[A\u001b[A\n",
      "\n",
      " 97%|█████████▋| 166/171 [06:56<00:56, 11.22s/it]\u001b[A\u001b[A\n",
      "\n",
      " 98%|█████████▊| 168/171 [07:32<00:39, 13.24s/it]\u001b[A\u001b[A\n",
      "\n",
      "100%|██████████| 171/171 [08:04<00:00, 12.49s/it]\u001b[A\u001b[A\n",
      "\n",
      "  0%|          | 0/171 [00:00<?, ?it/s]\u001b[A\u001b[A\n",
      "\n",
      " 30%|███       | 52/171 [00:57<02:10,  1.10s/it]\u001b[A\u001b[A\n",
      "\n",
      " 50%|█████     | 86/171 [01:42<01:39,  1.16s/it]\u001b[A\u001b[A\n",
      "\n",
      " 57%|█████▋    | 97/171 [02:30<02:37,  2.12s/it]\u001b[A\u001b[A\n",
      "\n",
      " 61%|██████▏   | 105/171 [03:13<03:24,  3.10s/it]\u001b[A\u001b[A\n",
      "\n",
      " 65%|██████▍   | 111/171 [03:53<04:11,  4.20s/it]\u001b[A\u001b[A\n",
      "\n",
      " 68%|██████▊   | 116/171 [04:32<04:49,  5.27s/it]\u001b[A\u001b[A\n",
      "\n",
      " 70%|██████▉   | 119/171 [05:14<06:50,  7.89s/it]\u001b[A\u001b[A\n",
      "\n",
      " 93%|█████████▎| 159/171 [06:02<01:10,  5.88s/it]\u001b[A\u001b[A\n",
      "\n",
      "100%|██████████| 171/171 [06:02<00:00,  2.12s/it]\u001b[A\u001b[A"
     ]
    }
   ],
   "source": [
    "root_dir = '/10TBdrive/datashare/geo_located_Reddit_crawl/yearlySubmissions/'\n",
    "for year in year_list:\n",
    "    geoPosts = {}\n",
    "    for f in tqdm(geoFiles):\n",
    "        if f.find(year)>1:\n",
    "            with open(f,'r') as f:\n",
    "                posts = f.readlines()\n",
    "                for p in posts:\n",
    "                    dictionary = json.loads(p)\n",
    "                    link = dictionary['permalink']\n",
    "                    ID = link.split('/')[4]\n",
    "                    geoPosts[ID] = link\n",
    "    pkl.dump( geoPosts , open(root_dir+year+'.pkl','wb'))"
   ]
  },
  {
   "cell_type": "code",
   "execution_count": 128,
   "metadata": {
    "ExecuteTime": {
     "end_time": "2020-05-04T14:51:36.909748Z",
     "start_time": "2020-05-04T14:51:36.902260Z"
    }
   },
   "outputs": [
    {
     "data": {
      "text/plain": [
       "24111329"
      ]
     },
     "execution_count": 128,
     "metadata": {},
     "output_type": "execute_result"
    }
   ],
   "source": [
    "len(geoPosts)"
   ]
  },
  {
   "cell_type": "code",
   "execution_count": 114,
   "metadata": {
    "ExecuteTime": {
     "end_time": "2020-05-04T13:53:12.285235Z",
     "start_time": "2020-05-04T13:53:12.280858Z"
    },
    "collapsed": true
   },
   "outputs": [],
   "source": [
    "del geoPosts"
   ]
  },
  {
   "cell_type": "code",
   "execution_count": null,
   "metadata": {
    "collapsed": true
   },
   "outputs": [],
   "source": []
  }
 ],
 "metadata": {
  "kernelspec": {
   "display_name": "Python 3",
   "language": "python",
   "name": "python3"
  },
  "language_info": {
   "codemirror_mode": {
    "name": "ipython",
    "version": 3
   },
   "file_extension": ".py",
   "mimetype": "text/x-python",
   "name": "python",
   "nbconvert_exporter": "python",
   "pygments_lexer": "ipython3",
   "version": "3.6.3"
  },
  "latex_envs": {
   "LaTeX_envs_menu_present": true,
   "autoclose": false,
   "autocomplete": true,
   "bibliofile": "biblio.bib",
   "cite_by": "apalike",
   "current_citInitial": 1,
   "eqLabelWithNumbers": true,
   "eqNumInitial": 1,
   "hotkeys": {
    "equation": "Ctrl-E",
    "itemize": "Ctrl-I"
   },
   "labels_anchors": false,
   "latex_user_defs": false,
   "report_style_numbering": false,
   "user_envs_cfg": false
  },
  "toc": {
   "base_numbering": 1,
   "nav_menu": {
    "height": "12px",
    "width": "252px"
   },
   "number_sections": true,
   "sideBar": true,
   "skip_h1_title": false,
   "title_cell": "Table of Contents",
   "title_sidebar": "Contents",
   "toc_cell": false,
   "toc_position": {},
   "toc_section_display": "block",
   "toc_window_display": false
  },
  "varInspector": {
   "cols": {
    "lenName": 16,
    "lenType": 16,
    "lenVar": 40
   },
   "kernels_config": {
    "python": {
     "delete_cmd_postfix": "",
     "delete_cmd_prefix": "del ",
     "library": "var_list.py",
     "varRefreshCmd": "print(var_dic_list())"
    },
    "r": {
     "delete_cmd_postfix": ") ",
     "delete_cmd_prefix": "rm(",
     "library": "var_list.r",
     "varRefreshCmd": "cat(var_dic_list()) "
    }
   },
   "types_to_exclude": [
    "module",
    "function",
    "builtin_function_or_method",
    "instance",
    "_Feature"
   ],
   "window_display": false
  }
 },
 "nbformat": 4,
 "nbformat_minor": 2
}
