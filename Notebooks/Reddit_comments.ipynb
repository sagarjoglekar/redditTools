{
 "cells": [
  {
   "cell_type": "code",
   "execution_count": 1,
   "metadata": {
    "ExecuteTime": {
     "end_time": "2019-07-04T13:53:37.066478Z",
     "start_time": "2019-07-04T13:53:36.963611Z"
    },
    "editable": false
   },
   "outputs": [],
   "source": [
    "import bz2\n",
    "import json\n",
    "import requests as rq\n",
    "import time"
   ]
  },
  {
   "cell_type": "code",
   "execution_count": 2,
   "metadata": {},
   "outputs": [],
   "source": [
    "import lzma"
   ]
  },
  {
   "cell_type": "code",
   "execution_count": 3,
   "metadata": {
    "ExecuteTime": {
     "end_time": "2019-07-04T13:53:37.474496Z",
     "start_time": "2019-07-04T13:53:37.470248Z"
    }
   },
   "outputs": [],
   "source": [
    "dump = \"/10TBdrive/datashare/Reddit/comments/RC_2017-01.bz2\"\n",
    "# dump = \"/10TBdrive/datashare/Reddit/submissions/RS_2017-12.xz\""
   ]
  },
  {
   "cell_type": "code",
   "execution_count": 4,
   "metadata": {
    "ExecuteTime": {
     "end_time": "2019-07-04T13:53:38.583551Z",
     "start_time": "2019-07-04T13:53:38.337917Z"
    }
   },
   "outputs": [],
   "source": [
    "openedDump = bz2.BZ2File(dump, \"r\")\n",
    "# openedDump = lzma.open(dump)"
   ]
  },
  {
   "cell_type": "code",
   "execution_count": 5,
   "metadata": {
    "ExecuteTime": {
     "end_time": "2019-07-04T13:53:39.973331Z",
     "start_time": "2019-07-04T13:53:39.873451Z"
    }
   },
   "outputs": [
    {
     "name": "stdout",
     "output_type": "stream",
     "text": [
      "b'{\"edited\":false,\"id\":\"dbumnpz\",\"parent_id\":\"t1_dbulzrw\",\"distinguished\":null,\"created_utc\":1483228800,\"author_flair_text\":null,\"author_flair_css_class\":\"NYAN\",\"controversiality\":0,\"subreddit_id\":\"t5_22i0\",\"retrieved_on\":1485679711,\"link_id\":\"t3_5lc6zb\",\"author\":\"captnkaposzta\",\"score\":2,\"gilded\":0,\"stickied\":false,\"body\":\"Beileid? Kiwi Fernsehgarten Trinkspiele retten jede Party.\\\\n\\\\nGesundes Neues\\\\n\",\"subreddit\":\"de\"}\\n'\n",
      "b'{\"author\":\"CampyJejuni\",\"score\":3,\"stickied\":false,\"gilded\":0,\"body\":\"Wrong subreddit mate.\",\"subreddit\":\"TwoXChromosomes\",\"controversiality\":0,\"author_flair_css_class\":null,\"author_flair_text\":null,\"subreddit_id\":\"t5_2r2jt\",\"retrieved_on\":1485679711,\"link_id\":\"t3_5lai4x\",\"created_utc\":1483228800,\"distinguished\":null,\"parent_id\":\"t1_dbum9w2\",\"edited\":false,\"id\":\"dbumnq0\"}\\n'\n",
      "b'{\"distinguished\":null,\"created_utc\":1483228800,\"edited\":false,\"id\":\"dbumnq1\",\"parent_id\":\"t3_5lb9zs\",\"author\":\"Luigimario280\",\"score\":7,\"stickied\":false,\"body\":\"Karma!\",\"gilded\":0,\"subreddit\":\"BikiniBottomTwitter\",\"author_flair_css_class\":null,\"author_flair_text\":null,\"controversiality\":0,\"subreddit_id\":\"t5_3deqz\",\"retrieved_on\":1485679711,\"link_id\":\"t3_5lb9zs\"}\\n'\n",
      "b'{\"retrieved_on\":1485679711,\"subreddit_id\":\"t5_2sjgc\",\"author_flair_css_class\":null,\"author_flair_text\":null,\"controversiality\":0,\"link_id\":\"t3_5la4p0\",\"score\":1,\"author\":\"MRA-automatron-2kb\",\"subreddit\":\"MGTOW\",\"stickied\":false,\"body\":\"Oh... thanks for answering.\",\"gilded\":0,\"edited\":false,\"id\":\"dbumnq2\",\"parent_id\":\"t1_dbumdpx\",\"distinguished\":null,\"created_utc\":1483228800}\\n'\n",
      "b'{\"link_id\":\"t3_5l9ny9\",\"author_flair_css_class\":null,\"author_flair_text\":null,\"controversiality\":0,\"subreddit_id\":\"t5_2scss\",\"retrieved_on\":1485679711,\"stickied\":false,\"gilded\":0,\"body\":\"Do you buy the minis yourself and include that in your fee or do you get shipped the mini from the client, if so assembled or not?\",\"subreddit\":\"minipainting\",\"author\":\"Godcon\",\"score\":2,\"parent_id\":\"t1_dbukpfs\",\"id\":\"dbumnq3\",\"edited\":false,\"created_utc\":1483228800,\"distinguished\":null}\\n'\n",
      "b'{\"created_utc\":1483228800,\"distinguished\":null,\"parent_id\":\"t3_5lc8bn\",\"edited\":false,\"id\":\"dbumnq4\",\"author\":\"fendaar\",\"score\":1,\"stickied\":false,\"body\":\"Rule 7\",\"gilded\":0,\"subreddit\":\"tipofmytongue\",\"author_flair_css_class\":null,\"controversiality\":0,\"author_flair_text\":null,\"subreddit_id\":\"t5_2r4oc\",\"retrieved_on\":1485679711,\"link_id\":\"t3_5lc8bn\"}\\n'\n",
      "b'{\"stickied\":false,\"gilded\":0,\"body\":\"[deleted]\",\"subreddit\":\"AsiansGoneWild\",\"author\":\"[deleted]\",\"score\":2,\"link_id\":\"t3_5lb7qy\",\"author_flair_css_class\":null,\"controversiality\":0,\"author_flair_text\":null,\"subreddit_id\":\"t5_2wm0g\",\"retrieved_on\":1485679711,\"created_utc\":1483228800,\"distinguished\":null,\"parent_id\":\"t3_5lb7qy\",\"edited\":false,\"id\":\"dbumnq5\"}\\n'\n",
      "b'{\"distinguished\":null,\"created_utc\":1483228800,\"id\":\"dbumnq6\",\"edited\":false,\"parent_id\":\"t1_dbuksbh\",\"subreddit\":\"gis\",\"body\":\"Can I ask where you work now and what you do, and if you enjoy it?\",\"stickied\":false,\"gilded\":0,\"score\":1,\"author\":\"Fleetthrow\",\"link_id\":\"t3_5l0tz4\",\"subreddit_id\":\"t5_2qmpb\",\"retrieved_on\":1485679711,\"author_flair_text\":null,\"author_flair_css_class\":null,\"controversiality\":0}\\n'\n",
      "b'{\"subreddit\":\"SeattleWA\",\"body\":\"They may just pull out of the Seattle market completely, at least until they have autonomous vehicles.\",\"stickied\":false,\"gilded\":0,\"score\":1,\"author\":\"music4mic\",\"link_id\":\"t3_5l79wh\",\"retrieved_on\":1485679711,\"subreddit_id\":\"t5_2vbli\",\"controversiality\":0,\"author_flair_css_class\":null,\"author_flair_text\":null,\"created_utc\":1483228800,\"distinguished\":null,\"parent_id\":\"t1_dbts1i6\",\"id\":\"dbumnq7\",\"edited\":false}\\n'\n",
      "b'{\"distinguished\":null,\"created_utc\":1483228800,\"edited\":false,\"id\":\"dbumnq8\",\"parent_id\":\"t1_dbu5bpp\",\"subreddit\":\"Games\",\"gilded\":0,\"stickied\":false,\"body\":\"Its truly a great experience running 3 tank lineups then one player tilting mid game and picking torb.\",\"score\":1,\"author\":\"FatalTouch\",\"link_id\":\"t3_5l954r\",\"subreddit_id\":\"t5_2qhwp\",\"retrieved_on\":1485679711,\"controversiality\":0,\"author_flair_css_class\":null,\"author_flair_text\":null}\\n'\n",
      "b'{\"created_utc\":1483228800,\"distinguished\":null,\"parent_id\":\"t3_5lc49n\",\"edited\":false,\"id\":\"dbumnq9\",\"author\":\"youngchinox\",\"score\":0,\"gilded\":0,\"stickied\":false,\"body\":\"Hue... hue... she has a front butt. :3\",\"subreddit\":\"funny\",\"author_flair_css_class\":null,\"controversiality\":1,\"author_flair_text\":null,\"retrieved_on\":1485679711,\"subreddit_id\":\"t5_2qh33\",\"link_id\":\"t3_5lc49n\"}\\n'\n"
     ]
    }
   ],
   "source": [
    "count = 0\n",
    "for line in openedDump:\n",
    "    if count > 10:\n",
    "        break\n",
    "    print(repr(line))\n",
    "    count+=1"
   ]
  },
  {
   "cell_type": "code",
   "execution_count": 111,
   "metadata": {
    "ExecuteTime": {
     "end_time": "2019-07-04T13:53:49.652373Z",
     "start_time": "2019-07-04T13:53:49.573794Z"
    }
   },
   "outputs": [],
   "source": [
    "def getJson(url):\n",
    "    session_headers = {\n",
    "    'Host': 'www.reddit.com',\n",
    "    'Connection': 'keep-alive',\n",
    "    'Cache-Control': 'max-age=0',\n",
    "    'Upgrade-Insecure-Requests': '1',\n",
    "    'User-Agent': 'Mozilla/5.0 (Macintosh; Intel Mac OS X 10_13_1) AppleWebKit/537.36 (KHTML, like Gecko) Chrome/61.0.3163.100 Safari/537.36',\n",
    "    'Accept': 'text/html,application/xhtml+xml,application/xml;q=0.9,image/webp,image/apng,*/*;q=0.8',\n",
    "    #'Referer': 'http://localhost:9000/notebooks/Reddit/Notebooks/SuicideWatchSubreddit.ipynb'\n",
    "    'Accept-Encoding': 'gzip, deflate, br',\n",
    "    'Accept-Language': 'en-GB,en-US;q=0.8,en;q=0.6',\n",
    "    'Cookie': \"loid=00000000000gslzvdi.2.1507591930964.Z0FBQUFBQlozQWI3M243MTdFMUgzNWtQNzNVbzg5Z3NXYmxpLUdRTWVXdEpWQzBfbkxBSVNNVVF3dE1zQlN5cVMzeGtxZXlmT0JQY2JvTld2NWlVeGlGeFpkNnBYM2ZIYlNNR2xMWGFFS3hieDZpWEJ5OVlyTng0MUFZZjNYdjQ0ZURFNTFlSmlVRGw; edgebucket=T8nkTF0z7WPnNzlE8B; __gads=ID=ab9c1b0fcb7eaefc:T=1507591936:S=ALNI_Mao2tvEoyJzEDEuxxhfZBlOQHXlsA; eu_cookie_v2=3; _ga=GA1.2.1088810883.1507591931; __utma=55650728.1088810883.1507591931.1507912304.1507912553.14; __utmz=55650728.1507912553.14.11.utmcsr=reddit|utmccn=(not%20set)|utmcmd=hot|utmcct=comments; aa=1; _recentclicks2=t3_7cfzsx%2Ct3_7cfw08%2Ct3_7cdofu%2Ct3_7caog1%2Ct3_7cdvud; _recent_srs=t5_2qpzs%2Ct5_2qh1q%2Ct5_2qh49%2Ct5_2rtff%2Ct5_36buk%2Ct5_2r7yd%2Ct5_2rks3%2Ct5_3j2jr%2Ct5_2sumw%2Ct5_2xp2o; pc=r3; session_tracker=tPgx9U9yPt99jYRDqC.0.1510585492994.Z0FBQUFBQmFDYlNWcWZHclI5WWxDWW9kQ0dURk9FRU9BZjFJTURWZElzaldRbkROaEJUOWE1czRQUWxPUzUwOFFwY3R3ckI5VkNDUlhJc01NVEtEeHVWd25CdUpXWEI1X012RkJaS3cyNXdNbk5vOE9DSXp5ZlhuTzF3a2pxT2dLZ3laMDhtQlhib3k; initref=localhost\"\n",
    "    }\n",
    "\n",
    "    client = rq.session()\n",
    "    resp = client.get(url , headers=session_headers)\n",
    "    if resp.status_code == 200:\n",
    "        json_data = resp.json()\n",
    "        return json_data\n",
    "    else:\n",
    "        print(\"Failed to get page\")\n",
    "        return None\n",
    "def getSubredditId(json):\n",
    "    if type(json) == dict:\n",
    "        sub_id = json['data']['children'][0]['data']['subreddit_id']\n",
    "        return sub_id\n",
    "    else: \n",
    "        print(\"Invalid Format\")\n",
    "        return None\n",
    "\n",
    "def makeSubUrl(name):\n",
    "    return \"https://www.reddit.com/r/\" + name + \"/.json\"\n",
    "\n",
    "def getSubIds(RedditList):\n",
    "    subIds = {}\n",
    "    for name in RedditList:\n",
    "        json = getJson(makeSubUrl(name))\n",
    "        print (getSubredditId(json))\n",
    "        subIds[name] = getSubredditId(json)\n",
    "    return subIds\n",
    "\n",
    "def filterDumpbySub(filePath , subID_dict, limit=None):\n",
    "    import json\n",
    "    import bz2\n",
    "    \n",
    "    openedDump = bz2.BZ2File(filePath, \"r\")\n",
    "    count = 0\n",
    "    returnData = dict()\n",
    "    print(\"=============Parsing============\")\n",
    "    print (subID_dict)\n",
    "    st = time.time()\n",
    "    for line in openedDump:\n",
    "        lineData = json.loads(line.strip())\n",
    "        if (limit!=None and count > limit):\n",
    "            return returnData\n",
    "        if lineData['subreddit'] in subID_dict:\n",
    "            if lineData['subreddit'] not in returnData:\n",
    "                returnData[lineData['subreddit']] = []\n",
    "            postId = lineData['link_id'].strip().split('_')[1]\n",
    "            \n",
    "            if postId not in returnData[lineData['subreddit']]:\n",
    "                returnData[lineData['subreddit']].append(postId)\n",
    "        if count%100000 == 0:\n",
    "            end = time.time()\n",
    "            print(\"Done parsing %d posts in %d seconds\",(count,(end-st)))\n",
    "            st = time.time()\n",
    "        count+=1\n",
    "    return returnData\n",
    "\n",
    "\n",
    "def filterSubmissionsbySub(filePath , subID_dict, limit=None):\n",
    "    import json\n",
    "    import bz2\n",
    "    \n",
    "    openedDump = bz2.BZ2File(filePath, \"r\")\n",
    "    count = 0\n",
    "    returnData = dict()\n",
    "    print(\"=============Parsing============\")\n",
    "    print (subID_dict)\n",
    "    st = time.time()\n",
    "    for line in openedDump:\n",
    "        lineData = json.loads(line.strip())\n",
    "        if (limit!=None and count > limit):\n",
    "            return returnData\n",
    "        if lineData['subreddit_id'] in subID_dict:\n",
    "            if lineData['subreddit_id'] not in returnData:\n",
    "                returnData[lineData['subreddit_id']] = []\n",
    "            postId = lineData['id']\n",
    "            \n",
    "            if postId not in returnData[lineData['subreddit_id']]:\n",
    "                returnData[lineData['subreddit_id']].append(postId)\n",
    "        if count%100000 == 0:\n",
    "            end = time.time()\n",
    "            print(\"Done parsing %d posts in %d seconds\",(count,(end-st)))\n",
    "            st = time.time()\n",
    "        count+=1\n",
    "    return returnData\n",
    "\n",
    "\n",
    "\n",
    "def getSubmissionPermalinks(filePath , comments_Thresh = 20 , limit=None):\n",
    "    import json\n",
    "    import bz2\n",
    "    import lzma\n",
    "    \n",
    "    ext = filePath.split('.')[-1]\n",
    "    \n",
    "    if ext == 'bz2':\n",
    "        openedDump = bz2.BZ2File(filePath, \"r\")\n",
    "    elif ext == 'xz':\n",
    "        openedDump = lzma.open(dump)\n",
    "    else:\n",
    "        print (\"Invalid file type\")\n",
    "    count = 0\n",
    "    returnData = {}\n",
    "    print(\"=============Parsing============\")\n",
    "    print (subID_dict)\n",
    "    st = time.time()\n",
    "    for line in openedDump:\n",
    "        lineData = json.loads(line.strip())\n",
    "        if lineData['num_comments'] > comments_Thresh:\n",
    "            if (limit!=None and count > limit):\n",
    "                return returnData\n",
    "            try:\n",
    "                returnData[lineData['id']] = lineData['permalink']\n",
    "            except:\n",
    "                print(\"Permalink not found, moving on!\")\n",
    "        if count%100000 == 0:\n",
    "            end = time.time()\n",
    "            print(\"Done parsing %d posts in %d seconds\",(count,(end-st)))\n",
    "            st = time.time()\n",
    "        count+=1\n",
    "    return returnData"
   ]
  },
  {
   "cell_type": "code",
   "execution_count": 112,
   "metadata": {
    "ExecuteTime": {
     "end_time": "2019-07-04T13:54:05.445997Z",
     "start_time": "2019-07-04T13:54:05.441827Z"
    }
   },
   "outputs": [],
   "source": [
    "subreddits = [\"bipolar\" , \"BipolarReddit\" , \"BipolarSOs\" , \"Health\" , \"addiction\", \"depression\",\"SuicideWatch\",\"Anxiety\",\"Chicago\"] "
   ]
  },
  {
   "cell_type": "code",
   "execution_count": 113,
   "metadata": {
    "ExecuteTime": {
     "end_time": "2019-07-04T13:54:10.382836Z",
     "start_time": "2019-07-04T13:54:06.013875Z"
    }
   },
   "outputs": [
    {
     "name": "stdout",
     "output_type": "stream",
     "text": [
      "t5_2qnv4\n",
      "t5_2qzru\n",
      "t5_2zww6\n",
      "t5_2qh9z\n",
      "t5_2qwvc\n",
      "t5_2qqqf\n",
      "t5_2qpzs\n",
      "t5_2qmij\n",
      "t5_2qh2t\n"
     ]
    }
   ],
   "source": [
    "subID_dict = getSubIds(subreddits)"
   ]
  },
  {
   "cell_type": "code",
   "execution_count": null,
   "metadata": {
    "ExecuteTime": {
     "end_time": "2019-07-04T13:54:35.404639Z",
     "start_time": "2019-07-04T13:54:35.386345Z"
    }
   },
   "outputs": [
    {
     "data": {
      "text/plain": [
       "{'Anxiety': 't5_2qmij',\n",
       " 'BipolarReddit': 't5_2qzru',\n",
       " 'BipolarSOs': 't5_2zww6',\n",
       " 'Chicago': 't5_2qh2t',\n",
       " 'Health': 't5_2qh9z',\n",
       " 'SuicideWatch': 't5_2qpzs',\n",
       " 'addiction': 't5_2qwvc',\n",
       " 'bipolar': 't5_2qnv4',\n",
       " 'depression': 't5_2qqqf'}"
      ]
     },
     "execution_count": 114,
     "metadata": {},
     "output_type": "execute_result"
    }
   ],
   "source": [
    "subID_dict"
   ]
  },
  {
   "cell_type": "code",
   "execution_count": null,
   "metadata": {
    "ExecuteTime": {
     "start_time": "2019-07-04T13:55:09.042Z"
    }
   },
   "outputs": [
    {
     "name": "stdout",
     "output_type": "stream",
     "text": [
      "=============Parsing============\n",
      "{'bipolar': 't5_2qnv4', 'BipolarReddit': 't5_2qzru', 'BipolarSOs': 't5_2zww6', 'Health': 't5_2qh9z', 'addiction': 't5_2qwvc', 'depression': 't5_2qqqf', 'SuicideWatch': 't5_2qpzs', 'Anxiety': 't5_2qmij', 'Chicago': 't5_2qh2t'}\n",
      "Done parsing %d posts in %d seconds (0, 0.033522844314575195)\n",
      "Done parsing %d posts in %d seconds (100000, 9.98129653930664)\n",
      "Done parsing %d posts in %d seconds (200000, 10.41993522644043)\n",
      "Done parsing %d posts in %d seconds (300000, 10.165717124938965)\n",
      "Done parsing %d posts in %d seconds (400000, 10.193071365356445)\n",
      "Done parsing %d posts in %d seconds (500000, 9.758701086044312)\n",
      "Done parsing %d posts in %d seconds (600000, 9.903562545776367)\n",
      "Done parsing %d posts in %d seconds (700000, 9.867722511291504)\n",
      "Done parsing %d posts in %d seconds (800000, 10.346718549728394)\n",
      "Done parsing %d posts in %d seconds (900000, 9.891074657440186)\n",
      "Done parsing %d posts in %d seconds (1000000, 10.027259826660156)\n",
      "Done parsing %d posts in %d seconds (1100000, 9.624680995941162)\n",
      "Done parsing %d posts in %d seconds (1200000, 10.10809588432312)\n",
      "Done parsing %d posts in %d seconds (1300000, 10.327620267868042)\n",
      "Done parsing %d posts in %d seconds (1400000, 9.796053886413574)\n",
      "Done parsing %d posts in %d seconds (1500000, 9.972900390625)\n",
      "Done parsing %d posts in %d seconds (1600000, 9.804832458496094)\n",
      "Done parsing %d posts in %d seconds (1700000, 9.62687087059021)\n",
      "Done parsing %d posts in %d seconds (1800000, 9.961615562438965)\n",
      "Done parsing %d posts in %d seconds (1900000, 9.865488767623901)\n",
      "Done parsing %d posts in %d seconds (2000000, 9.593601942062378)\n",
      "Done parsing %d posts in %d seconds (2100000, 9.417275428771973)\n",
      "Done parsing %d posts in %d seconds (2200000, 9.649844408035278)\n"
     ]
    }
   ],
   "source": [
    "# postData = filterDumpbySub(dump,subID_dict)\n",
    "postData = getSubmissionPermalinks(dump,comments_Thresh= 10)"
   ]
  },
  {
   "cell_type": "code",
   "execution_count": null,
   "metadata": {
    "ExecuteTime": {
     "start_time": "2019-07-04T13:58:00.690Z"
    }
   },
   "outputs": [],
   "source": [
    "len(postData)"
   ]
  },
  {
   "cell_type": "code",
   "execution_count": null,
   "metadata": {},
   "outputs": [],
   "source": [
    "import pickle as pkl\n",
    "pkl.dump(file=open('/10TBdrive/datashare/Reddit/Submissions032017_atleast10.pkl','wb'),obj=postData)"
   ]
  },
  {
   "cell_type": "code",
   "execution_count": 97,
   "metadata": {
    "ExecuteTime": {
     "start_time": "2019-07-04T13:58:03.528Z"
    }
   },
   "outputs": [
    {
     "data": {
      "text/plain": [
       "'/r/nba/comments/5lcgjd/game_thread_new_york_knicks_1616_houston_rockets/'"
      ]
     },
     "execution_count": 97,
     "metadata": {},
     "output_type": "execute_result"
    }
   ],
   "source": [
    "postData[list(postData.keys())[1]]"
   ]
  },
  {
   "cell_type": "code",
   "execution_count": 31,
   "metadata": {
    "ExecuteTime": {
     "end_time": "2019-01-09T18:05:00.306696Z",
     "start_time": "2019-01-09T18:05:00.302890Z"
    }
   },
   "outputs": [],
   "source": [
    "# import pickle as pkl\n",
    "# with open(\"/datasets_1/sagarj/IoPPN_collab/MentalHealth_2017_posts.pkl\",'w') as f:\n",
    "#     pkl.dump(postData,f)"
   ]
  },
  {
   "cell_type": "code",
   "execution_count": 32,
   "metadata": {
    "ExecuteTime": {
     "end_time": "2019-01-09T18:05:00.584451Z",
     "start_time": "2019-01-09T18:05:00.576583Z"
    }
   },
   "outputs": [
    {
     "ename": "KeyError",
     "evalue": "'depression'",
     "output_type": "error",
     "traceback": [
      "\u001b[0;31m---------------------------------------------------------------------------\u001b[0m",
      "\u001b[0;31mKeyError\u001b[0m                                  Traceback (most recent call last)",
      "\u001b[0;32m<ipython-input-32-ff7dd13c6c7b>\u001b[0m in \u001b[0;36m<module>\u001b[0;34m()\u001b[0m\n\u001b[0;32m----> 1\u001b[0;31m \u001b[0mlen\u001b[0m\u001b[0;34m(\u001b[0m\u001b[0mlist\u001b[0m\u001b[0;34m(\u001b[0m\u001b[0mset\u001b[0m\u001b[0;34m(\u001b[0m\u001b[0mpostData\u001b[0m\u001b[0;34m[\u001b[0m\u001b[0;34m'depression'\u001b[0m\u001b[0;34m]\u001b[0m\u001b[0;34m)\u001b[0m\u001b[0;34m)\u001b[0m\u001b[0;34m)\u001b[0m\u001b[0;34m\u001b[0m\u001b[0m\n\u001b[0m",
      "\u001b[0;31mKeyError\u001b[0m: 'depression'"
     ]
    }
   ],
   "source": [
    "len(list(set(postData['depression'])))"
   ]
  },
  {
   "cell_type": "code",
   "execution_count": null,
   "metadata": {
    "ExecuteTime": {
     "start_time": "2019-01-05T14:57:19.528Z"
    }
   },
   "outputs": [],
   "source": [
    "# import pickle as pkl\n",
    "# with open(\"ChangemyView2017.pkl\",'w') as f:\n",
    "#     pkl.dump(postData['changemyview'],f)"
   ]
  },
  {
   "cell_type": "code",
   "execution_count": null,
   "metadata": {
    "ExecuteTime": {
     "start_time": "2019-01-05T14:57:19.767Z"
    }
   },
   "outputs": [],
   "source": [
    "# with open(\"Filtered_posts_2017.json\",'w') as f:\n",
    "#     json.dump(postData,f)"
   ]
  },
  {
   "cell_type": "code",
   "execution_count": null,
   "metadata": {
    "collapsed": true
   },
   "outputs": [],
   "source": []
  }
 ],
 "metadata": {
  "kernelspec": {
   "display_name": "Python 3",
   "language": "python",
   "name": "python3"
  },
  "language_info": {
   "codemirror_mode": {
    "name": "ipython",
    "version": 3
   },
   "file_extension": ".py",
   "mimetype": "text/x-python",
   "name": "python",
   "nbconvert_exporter": "python",
   "pygments_lexer": "ipython3",
   "version": "3.6.3"
  },
  "toc": {
   "colors": {
    "hover_highlight": "#DAA520",
    "navigate_num": "#000000",
    "navigate_text": "#333333",
    "running_highlight": "#FF0000",
    "selected_highlight": "#FFD700",
    "sidebar_border": "#EEEEEE",
    "wrapper_background": "#FFFFFF"
   },
   "moveMenuLeft": true,
   "nav_menu": {
    "height": "12px",
    "width": "252px"
   },
   "navigate_menu": true,
   "number_sections": true,
   "sideBar": true,
   "threshold": 4,
   "toc_cell": false,
   "toc_section_display": "block",
   "toc_window_display": false,
   "widenNotebook": false
  }
 },
 "nbformat": 4,
 "nbformat_minor": 2
}
