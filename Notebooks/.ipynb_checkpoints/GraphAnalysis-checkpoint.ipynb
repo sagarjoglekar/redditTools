{
 "cells": [
  {
   "cell_type": "code",
   "execution_count": 1,
   "metadata": {
    "ExecuteTime": {
     "end_time": "2018-02-23T14:32:11.298116Z",
     "start_time": "2018-02-23T14:32:10.194511Z"
    },
    "collapsed": true
   },
   "outputs": [],
   "source": [
    "import pickle \n",
    "import networkx as nx \n",
    "import os\n",
    "import pandas as pd\n",
    "import numpy as np\n",
    "import matplotlib.pyplot as plt\n",
    "import seaborn as sns\n",
    "from networkx.drawing.nx_agraph import graphviz_layout\n",
    "import matplotlib.cm as cm\n",
    "from empath import Empath\n",
    "import math\n",
    "%matplotlib inline\n",
    "import matplotlib.pyplot as plt\n",
    "import matplotlib.cm as cm\n",
    "import sys\n",
    "import pyLDAvis\n",
    "import pyLDAvis.gensim\n",
    "import operator\n",
    "stdout = sys.stdout\n",
    "reload(sys)\n",
    "sys.setdefaultencoding('utf-8')\n",
    "sys.stdout = stdout\n",
    "import random"
   ]
  },
  {
   "cell_type": "code",
   "execution_count": 2,
   "metadata": {
    "ExecuteTime": {
     "end_time": "2018-02-23T14:32:46.390691Z",
     "start_time": "2018-02-23T14:32:46.333446Z"
    },
    "collapsed": true
   },
   "outputs": [],
   "source": [
    "def drawUserGraph(graph):\n",
    "    ugraph = graph\n",
    "    pos = graphviz_layout(ugraph, prog='neato')\n",
    "\n",
    "    usr = ugraph.nodes()\n",
    "    print len(usr)\n",
    "    color=cm.rainbow(np.linspace(0,1,len(usr)))\n",
    "    colorMap = []\n",
    "    lls = {}\n",
    "    for node in ugraph:\n",
    "        c = usr.index(node)\n",
    "        colorMap.append(color[c])\n",
    "        lls[node] = node\n",
    "    fig, ax = plt.subplots()\n",
    "    fig.set_size_inches(40, 30)\n",
    "    #\n",
    "    nx.draw(ugraph,pos=pos ,node_color=colorMap , with_labels = True , labels = lls , font_size=25)\n",
    "    plt.show()\n",
    "    \n",
    "def findMedianCentrality(graph):\n",
    "    return np.median(nx.closeness_centrality(graph.to_undirected()).values())\n",
    "\n",
    "def findTopicalEdgeWeight(graph):\n",
    "    edges = graph.edges(data=True)\n",
    "    meantopical = float(sum([e[2]['weight'] for e in edges]))/float(len(edges))\n",
    "    return meantopical\n",
    "\n",
    "def findMaxWeightSpread(graph):\n",
    "    edges = graph.edges(data=True)\n",
    "    edgeTopics = [e[2]['weight'] for e in edges]\n",
    "    return (float(max(edgeTopics)) - float(min(edgeTopics)))\n",
    "\n",
    "def findMaxTopicSpread(graph):\n",
    "    topicSpreads = []\n",
    "    for u,v,d in graph.edges(data=True):\n",
    "        if graph.has_edge(v,u):\n",
    "            topicSpread = d['weight'] - graph[v][u]['weight']\n",
    "            topicSpreads.append(topicSpread)\n",
    "    if len(topicSpreads) > 0:\n",
    "        ans = (float(max(topicSpreads)) - float(min(topicSpreads)))\n",
    "    else:\n",
    "        ans = 0.0\n",
    "    return ans\n",
    "    \n",
    "def getMetrics(graphDict):\n",
    "    medCentralities = []\n",
    "    medClusterings = []\n",
    "    for k in graphDict:\n",
    "        medCentrality = np.median(nx.closeness_centrality(graphDict[k].to_undirected()).values())\n",
    "        medClustering = np.median(nx.clusterings(graphDict[k]).values())\n",
    "        medClusterings.append(medClustering)\n",
    "        medCentralities.append(medCentrality)\n",
    "    return medClusterings , medCentralities\n"
   ]
  },
  {
   "cell_type": "code",
   "execution_count": 3,
   "metadata": {
    "ExecuteTime": {
     "end_time": "2018-02-23T14:36:36.216253Z",
     "start_time": "2018-02-23T14:36:24.495662Z"
    },
    "collapsed": true
   },
   "outputs": [],
   "source": [
    "SW_Graphs= pickle.load(open(\"../Data/SW_TopicUgraphs.pkl\",'rb'))\n",
    "BL_Graphs= pickle.load(open(\"../Data/BL_TopicUgraphs.pkl\",'rb'))"
   ]
  },
  {
   "cell_type": "code",
   "execution_count": null,
   "metadata": {
    "collapsed": true
   },
   "outputs": [],
   "source": []
  }
 ],
 "metadata": {
  "kernelspec": {
   "display_name": "Python 2",
   "language": "python",
   "name": "python2"
  },
  "language_info": {
   "codemirror_mode": {
    "name": "ipython",
    "version": 2
   },
   "file_extension": ".py",
   "mimetype": "text/x-python",
   "name": "python",
   "nbconvert_exporter": "python",
   "pygments_lexer": "ipython2",
   "version": "2.7.12"
  },
  "toc": {
   "colors": {
    "hover_highlight": "#DAA520",
    "navigate_num": "#000000",
    "navigate_text": "#333333",
    "running_highlight": "#FF0000",
    "selected_highlight": "#FFD700",
    "sidebar_border": "#EEEEEE",
    "wrapper_background": "#FFFFFF"
   },
   "moveMenuLeft": true,
   "nav_menu": {
    "height": "11px",
    "width": "252px"
   },
   "navigate_menu": true,
   "number_sections": true,
   "sideBar": true,
   "threshold": 4,
   "toc_cell": false,
   "toc_section_display": "block",
   "toc_window_display": false,
   "widenNotebook": false
  }
 },
 "nbformat": 4,
 "nbformat_minor": 2
}
