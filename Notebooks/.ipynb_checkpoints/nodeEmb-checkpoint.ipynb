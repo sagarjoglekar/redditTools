{
 "cells": [
  {
   "cell_type": "code",
   "execution_count": 3,
   "metadata": {
    "ExecuteTime": {
     "end_time": "2018-02-16T17:01:02.069052Z",
     "start_time": "2018-02-16T17:01:01.350038Z"
    },
    "collapsed": true
   },
   "outputs": [],
   "source": [
    "import pickle \n",
    "import networkx as nx \n",
    "import os\n",
    "import pandas as pd\n",
    "import numpy as np\n",
    "import matplotlib.pyplot as plt\n",
    "import seaborn as sns\n",
    "from networkx.drawing.nx_agraph import graphviz_layout\n",
    "import matplotlib.cm as cm\n",
    "from empath import Empath\n",
    "import math\n",
    "%matplotlib inline\n",
    "import matplotlib.pyplot as plt\n",
    "import matplotlib.cm as cm\n",
    "import sys\n",
    "import pyLDAvis\n",
    "import pyLDAvis.gensim\n",
    "import operator\n",
    "stdout = sys.stdout\n",
    "reload(sys)\n",
    "sys.setdefaultencoding('utf-8')\n",
    "sys.stdout = stdout\n",
    "import random"
   ]
  },
  {
   "cell_type": "code",
   "execution_count": 4,
   "metadata": {
    "ExecuteTime": {
     "end_time": "2018-02-16T17:01:03.035469Z",
     "start_time": "2018-02-16T17:01:03.018117Z"
    },
    "collapsed": true
   },
   "outputs": [],
   "source": [
    "def drawUserGraph(graph):\n",
    "    ugraph = graph\n",
    "    pos = graphviz_layout(ugraph, prog='neato')\n",
    "\n",
    "    usr = ugraph.nodes()\n",
    "    print len(usr)\n",
    "    color=cm.rainbow(np.linspace(0,1,len(usr)))\n",
    "    colorMap = []\n",
    "    lls = {}\n",
    "    for node in ugraph:\n",
    "        c = usr.index(node)\n",
    "        colorMap.append(color[c])\n",
    "        lls[node] = node\n",
    "    fig, ax = plt.subplots()\n",
    "    fig.set_size_inches(40, 30)\n",
    "    #\n",
    "    nx.draw(ugraph,pos=pos ,node_color=colorMap , with_labels = True , labels = lls , font_size=25)\n",
    "    plt.show()"
   ]
  },
  {
   "cell_type": "code",
   "execution_count": 5,
   "metadata": {
    "ExecuteTime": {
     "end_time": "2018-02-16T17:01:04.066653Z",
     "start_time": "2018-02-16T17:01:04.063275Z"
    },
    "collapsed": true
   },
   "outputs": [],
   "source": [
    "SW_Graphs_file = \"/work/sagarj/Work/node2vec/graph/SW_TopicUgraphs.pkl\""
   ]
  },
  {
   "cell_type": "code",
   "execution_count": 6,
   "metadata": {
    "ExecuteTime": {
     "end_time": "2018-02-16T17:01:07.568173Z",
     "start_time": "2018-02-16T17:01:05.483348Z"
    },
    "collapsed": true
   },
   "outputs": [],
   "source": [
    "SW_Graphs= pickle.load(open(SW_Graphs_file,'rb'))"
   ]
  },
  {
   "cell_type": "code",
   "execution_count": 7,
   "metadata": {
    "ExecuteTime": {
     "end_time": "2018-02-16T17:01:07.574329Z",
     "start_time": "2018-02-16T17:01:07.569852Z"
    }
   },
   "outputs": [
    {
     "data": {
      "text/plain": [
       "10157"
      ]
     },
     "execution_count": 7,
     "metadata": {},
     "output_type": "execute_result"
    }
   ],
   "source": [
    "len(SW_Graphs)"
   ]
  },
  {
   "cell_type": "code",
   "execution_count": 8,
   "metadata": {
    "ExecuteTime": {
     "end_time": "2018-02-16T17:01:08.152906Z",
     "start_time": "2018-02-16T17:01:08.028056Z"
    },
    "collapsed": true
   },
   "outputs": [],
   "source": [
    "BPUserDict = pickle.load(open(\"BpUserDict.pkl\",'rb'))"
   ]
  },
  {
   "cell_type": "code",
   "execution_count": 9,
   "metadata": {
    "ExecuteTime": {
     "end_time": "2018-02-16T17:01:09.068749Z",
     "start_time": "2018-02-16T17:01:08.963406Z"
    }
   },
   "outputs": [
    {
     "data": {
      "text/plain": [
       "{'vj5co': [u'zombiemeds'],\n",
       " '1uv2vj': [],\n",
       " 'fjatc': [u'dead_by_saturday'],\n",
       " '1x6boy': [u'throwawayacct424'],\n",
       " '97akw': [u'[deleted]', u'PossiblePerson'],\n",
       " '3ci391': [u'peanutpeepz'],\n",
       " 's79sc': [u'fuck_usernames123'],\n",
       " '2tjz9s': [u'BearDidIt'],\n",
       " 'b0mvj': [u'itisover'],\n",
       " '2u23m8': [],\n",
       " 'e9cx6': [],\n",
       " 'mae5s': [],\n",
       " 'ci9lz': [u'dontwannabehere'],\n",
       " '24gto5': [u'youcaughtthelight'],\n",
       " 'dwd3s': [],\n",
       " '29en0c': [u'Ingvarkarlsson', u'throwawaybcirl'],\n",
       " '37zjrf': [u'pathfinder89'],\n",
       " '1cz1sd': [u'KimmyJongJong'],\n",
       " '2nnud5': [],\n",
       " '2wo3jj': [u'throwitbitch1'],\n",
       " '1h1vqu': [u'nopointnow', u'rainbowtwinkies'],\n",
       " '16hiex': [u'griffin_desantos'],\n",
       " 'e1hjc': [u'[deleted]'],\n",
       " 'osxp1': [u'bleepitybleep', u'[deleted]', u'skekze'],\n",
       " '2kpspy': [u'bktolife', u'Hasherss', u'Starship_Fighter'],\n",
       " '2lhvye': [],\n",
       " '2at60d': [u'Jessica-EdgeBlade'],\n",
       " '1p4pqm': [u'TMRobotic'],\n",
       " 'ylt41': [],\n",
       " '2hip0u': [u'Missing_love'],\n",
       " 'xwu8q': [u'1800HEYGTFO'],\n",
       " '1dqizr': [u'buba_fett'],\n",
       " '1jg4bt': [u'dudelikeshismusic', u'[deleted]'],\n",
       " 'e6utj': [u'iwanttostopfighting'],\n",
       " 'i36t9': [],\n",
       " 'kou1f': [u'[deleted]'],\n",
       " 'alo36': [u'Playdoh817'],\n",
       " 'e7f4u': [u'flower_clouds'],\n",
       " 'm3pdi': [u'randomstranger123', u'sacca7', u'samesinkingboat'],\n",
       " '145npe': [u'Dont_blink_angel'],\n",
       " 'wafoy': [u'[deleted]', u'TonyDiGerolamo'],\n",
       " 'dr257': [u'wfvniwew'],\n",
       " '2k57p6': [u'xysyx_'],\n",
       " '2z51hs': [u'staggeredstarters'],\n",
       " '3btw2h': [u'why1234567891011', u'brainpopsicles'],\n",
       " 'e3nth': [u'Me_and_Uncle_D'],\n",
       " '2qzfi8': [u'PEEnKEELE', u'[deleted]'],\n",
       " '1q1n41': [u'[deleted]', u'shamefulexistence'],\n",
       " '15ct8h': [],\n",
       " '1gge4r': [u'desperate1992'],\n",
       " '1cptff': [],\n",
       " 'nvtkv': [],\n",
       " 'g6cam': [],\n",
       " '34l23s': [u'[deleted]', u'Wattsherfayce', u'bluecastle'],\n",
       " 'nfuo5': [u'youshername'],\n",
       " 'xv0ub': [u'WinghamAtheist'],\n",
       " 'fjd3j': [u'ohwhattodoo'],\n",
       " '249eyy': [],\n",
       " '3bxks9': [u'drsamwise503'],\n",
       " '1ayj8v': [u'tempestade'],\n",
       " '13zs2m': [u'ImReallyNotCoping'],\n",
       " '1jjfc8': [u'[deleted]', u'PerverseHyperbole'],\n",
       " '18pa54': [],\n",
       " '3447tb': [],\n",
       " '30ny1c': [u'HelpedYou',\n",
       "  u'Thetakishi',\n",
       "  u'Alonminatti',\n",
       "  u'TotalHorror',\n",
       "  u'rossz-csillag'],\n",
       " '3cr48h': [u'[deleted]'],\n",
       " '173c7p': [u'[deleted]', u'Dante2005'],\n",
       " '80w4u': [u'someoneotherthanelse'],\n",
       " 's4kwr': [u'gottalovethatchoco'],\n",
       " '1vh3zq': [u'Tarkemellion'],\n",
       " '1twywh': [u'wildo_ranch'],\n",
       " '2u2z0a': [u'feeling_groovy', u'NoxNeno'],\n",
       " 'dvz3s': [u'backfromthehospital'],\n",
       " '1da6ms': [u'vive8888'],\n",
       " '38sce8': [],\n",
       " 'n8o3r': [],\n",
       " '18u2sm': [u'StolenSweetRollLDR', u'mybloodyballentine', u'Vegerot'],\n",
       " '11qln9': [u'adventurefuntime'],\n",
       " '2s6yi9': [],\n",
       " '1mui4j': [u'inlykeflynn'],\n",
       " '1mhn73': [u'[deleted]',\n",
       "  u'peabody',\n",
       "  u'mkr__',\n",
       "  u'559airandtrees',\n",
       "  u'cheerupbuttercup91'],\n",
       " '1ecr9r': [u'Casual_Freakout'],\n",
       " 'pfn0u': [],\n",
       " '25vp86': [u'10101997'],\n",
       " '2a30ic': [u'kegkvq'],\n",
       " 'hc0rr': [u'[deleted]'],\n",
       " '1urn6n': [u'Lady-of-the-Lake'],\n",
       " '14x9yl': [u'unoriginalthrowawat'],\n",
       " 'e2m4k': [u'itstheworldiknow'],\n",
       " 'xt48l': [u'[deleted]', u'throwme_awayoneday'],\n",
       " '1pqe6p': [u'suicidalthrowawayfml'],\n",
       " '2n5pi4': [u'[deleted]'],\n",
       " '25wskj': [],\n",
       " 'crg9x': [u'swsellfish'],\n",
       " '24cbhz': [u'thatsitimout'],\n",
       " '3cb52v': [u'consensual-sax'],\n",
       " '2j903f': [u'Suicidal28'],\n",
       " '2ifb45': [u'[deleted]'],\n",
       " 'h0nxv': [],\n",
       " '10l7vb': [u'Daske', u'tzil', u'dbt4949'],\n",
       " 'fkxan': [u'[deleted]', u'whattodowithmyself'],\n",
       " '12r1aw': [],\n",
       " 'cxr8r': [u'aintreddit'],\n",
       " '1r440b': [],\n",
       " '2swq8m': [u'imaginaryblabla', u'vedarulez', u'CherreBell', u'wrathlos23'],\n",
       " 'exp8d': [u'Quazz'],\n",
       " '2iw2gu': [u'SingleAndFriendless'],\n",
       " '1e1eds': [u'bluegerm'],\n",
       " '1ibimq': [u'[deleted]',\n",
       "  u'teathatsgreen',\n",
       "  u'MerCipher',\n",
       "  u'CyanideSneakers',\n",
       "  u'nicereddy'],\n",
       " 'fdbxf': [u'Troubled_Past'],\n",
       " '1r5in9': [],\n",
       " '39qn98': [u'throwaway42324234235'],\n",
       " '3ixoke': [u'[deleted]'],\n",
       " '22bvz5': [u'[deleted]', u'GoNavy_09'],\n",
       " '1nvdor': [u'throwaway34212'],\n",
       " 'xxxhi': [u'HopelessSky7'],\n",
       " '2a435g': [u'glowmonster', u'haalidoodi'],\n",
       " '19c0g1': [],\n",
       " '2wv3p8': [u'doffy456'],\n",
       " '2i2g3a': [u'handshakewithCO', u'Grumbino'],\n",
       " '1ks0hq': [u'fsdfsdfsg'],\n",
       " 'pio13': [u'jwhispersc', u'[deleted]', u'WillPhotoshop4Karma'],\n",
       " 'cocn8': [u'18yocynic'],\n",
       " '19pgxv': [u'throwaway5030'],\n",
       " 'ehl9j': [u'dudelolwhat'],\n",
       " '9zywd': [],\n",
       " '2bznn2': [],\n",
       " '30l8ag': [],\n",
       " 'o7mgk': [u'Thrwway0'],\n",
       " 'eyer5': [],\n",
       " '8lwl4': [u'[deleted]', u'qgyh2', u'ILikeMeat', u'webnrrd2k'],\n",
       " 'j6aon': [],\n",
       " '1t90kj': [u'IRBULB'],\n",
       " 'zfsmk': [u'Sony4lyfe', u'[deleted]'],\n",
       " '398q4t': [],\n",
       " '2a517q': [u'[deleted]', u'ForgetToWaterPlants'],\n",
       " 'ekd1i': [u'somebodywhoistired'],\n",
       " '25ioc4': [],\n",
       " '14cgvv': [],\n",
       " '1m8gg4': [],\n",
       " '11p9wa': [u'rainbows_vs_unicorns'],\n",
       " '2ut1g8': [u'Darwin_Beats'],\n",
       " '1a09u9': [u'niffyjiffy',\n",
       "  u'utannx',\n",
       "  u'redditreviewer',\n",
       "  u'VeraCitavi',\n",
       "  u'Tashisnumerouno'],\n",
       " 'gjsb9': [],\n",
       " '1j1bb1': [],\n",
       " 'ownv6': [u'NamelessFaces'],\n",
       " '15rfjm': [u'Havok-Trance'],\n",
       " '2xc1eb': [],\n",
       " '14swhw': [u'6841523'],\n",
       " 'onze3': [u'pathtodestruction'],\n",
       " '148e5t': [u'iloveyousomuchgaycow'],\n",
       " '2dirov': [],\n",
       " '1tunap': [],\n",
       " '2yyf3e': [u'imoldenough15'],\n",
       " 'dz6c9': [],\n",
       " '2tnuec': [u'eimai_'],\n",
       " 'vlt8g': [u'Connoristheking'],\n",
       " '20ghbt': [u'fourtressone'],\n",
       " '2pckvr': [u'PatheticBadger21'],\n",
       " 'ovtcl': [],\n",
       " '2wbd8s': [u'[deleted]'],\n",
       " 'btmgt': [u'bellaella'],\n",
       " '1yx5x4': [u'stressedthroway1'],\n",
       " '2s2e56': [u'[deleted]'],\n",
       " '2tioyg': [u'EllietheWalrus', u'ADeafBlindMute'],\n",
       " 'tukyx': [u'[deleted]',\n",
       "  u'Commotion',\n",
       "  u'typon',\n",
       "  u'holstarox',\n",
       "  u'ukchris',\n",
       "  u'slfnflctd'],\n",
       " '1cdivh': [u'[deleted]', u'makebelieveworld', u'misanthpope', u'eccentrickd'],\n",
       " '17qm14': [u'liliannereid'],\n",
       " 'haiex': [u'barbadosslim'],\n",
       " '3iz45q': [u'ComicTrans', u'9voltWolfXX'],\n",
       " '10e5xn': [u'I_Make_No_Senses'],\n",
       " 'rlv9l': [u'[deleted]', u'htnsaoeu', u'johnwolflindley'],\n",
       " 'pvya9': [u'akdjhfawd'],\n",
       " '2dbf45': [u'barbiesarthritis'],\n",
       " 'yoruj': [],\n",
       " '1pgwuc': [],\n",
       " '2iotx9': [u'Camp_Anaawanna'],\n",
       " '9bjov': [],\n",
       " '16upjq': [],\n",
       " 'isidi': [u'logicallyundeniable'],\n",
       " '2filj7': [u'Ifeellikeimdrowning', u'SQLwitch'],\n",
       " 'dexz2': [u'scarletfruit'],\n",
       " '2xq1w2': [],\n",
       " 'mj8qt': [],\n",
       " '2pf13i': [u'kingnothing21'],\n",
       " 'gjs7e': [u'sgasph'],\n",
       " '1fmg49': [],\n",
       " 'bivx1': [u'Just_A_Thought', u'untraceableish', u'boredatheist'],\n",
       " '1skl4b': [],\n",
       " 'dtkpj': [],\n",
       " 'em9t8': [],\n",
       " '2m5sau': [u'melancholicmelody'],\n",
       " 'ovsrt': [u'r4v3ub3r'],\n",
       " '2kg69i': [u'BeccaMalfoy'],\n",
       " '2shi51': [u'Nixxuz', u'[deleted]', u'theaftstarboard'],\n",
       " '1w3t8d': [],\n",
       " '17duh2': [],\n",
       " 'rmsug': [u'chickpeagraverobber'],\n",
       " 'dxa9q': [],\n",
       " '2zizhd': [],\n",
       " '3d5ryh': [u'Suicidethrowaway503'],\n",
       " '290yz5': [u'Lordofdepression'],\n",
       " '132hg5': [],\n",
       " '3h6jiq': [],\n",
       " 'f1bce': [u'db_bondy'],\n",
       " '2ox99b': [u'[deleted]', u'theweed7', u'feldmaresciallo'],\n",
       " 'isltm': [u'OMGBeez'],\n",
       " '1pqcc9': [u'justhelpok'],\n",
       " '2wim2f': [],\n",
       " '279rh4': [u'WallyEXPRESS'],\n",
       " 'er5oy': [u'tg1'],\n",
       " 'vl7cs': [u'Sythesia'],\n",
       " '1jog2s': [u'thinkingab0ut'],\n",
       " 'pzo9t': [u'[deleted]'],\n",
       " 'qimc3': [u'ILOVEBROOKE'],\n",
       " '2l5g8z': [u'shadezqt'],\n",
       " '2b1s73': [u'Izzy-E'],\n",
       " '24wy3x': [u'slut-throwaway'],\n",
       " '1u019n': [u'deaths_shadow12'],\n",
       " '2de0cp': [u'TomTodd', u'[deleted]'],\n",
       " 'awxtm': [u'[deleted]'],\n",
       " '1n6rqf': [],\n",
       " '2deri9': [u'AllOrDeath'],\n",
       " '3e94lu': [u'[deleted]'],\n",
       " '241ndy': [u'[deleted]'],\n",
       " '95hws': [u'atomsplitter45', u'[deleted]', u'sundogdayze'],\n",
       " '1ruxby': [u'Shima33'],\n",
       " 'af06d': [u'bleepitybleep', u'cantfakeitanymore'],\n",
       " '91mts': [u'anon_anon_anon'],\n",
       " '2b6ou6': [u'notfeelingwellatall'],\n",
       " '2ijbxp': [u'soosabhar'],\n",
       " '7ph7z': [u'Orangutan'],\n",
       " '1oe2ma': [u'[deleted]', u'zanecollins312'],\n",
       " 'ulwda': [],\n",
       " 'p21q6': [],\n",
       " '2rvob4': [u'9021d', u'ThrowawayHelpSister'],\n",
       " '1f5tnd': [u'Redditheist', u'willycumbutts', u'[deleted]', u'nofaithinmind'],\n",
       " 'f515v': [u'[deleted]', u'_Matt', u'braforce', u'slfnflctd'],\n",
       " '7uz1s': [u'defrost', u'[deleted]'],\n",
       " '186izb': [u'maybeormaybe'],\n",
       " '3dpc00': [],\n",
       " '1wmq12': [u'LushVelvet'],\n",
       " 'e9dfz': [u'throwitaway442'],\n",
       " 'nap6l': [u'Psy-Kosh'],\n",
       " '1m51r3': [u'Tomorrowidie'],\n",
       " 'pu209': [u'SQLwitch'],\n",
       " '3fkvjn': [],\n",
       " 'ns3w6': [],\n",
       " '2vb4tu': [],\n",
       " '31kcmw': [],\n",
       " '30ps04': [u'ghost_zebra', u'Boomkin1337'],\n",
       " '16y6l4': [],\n",
       " '2ff7zb': [],\n",
       " '33yke4': [u'CCD23'],\n",
       " 'qtr9u': [u'throwitawaylikelife'],\n",
       " '2tu9pm': [u'Throwaway2_point0'],\n",
       " '1ijkpi': [u'[deleted]', u'buzzer18282'],\n",
       " '27r4rw': [u'AllOrDeath'],\n",
       " '1ceiq2': [],\n",
       " '1ghhkr': [u'winkledink'],\n",
       " '37ao4i': [u'[deleted]'],\n",
       " '2qrqxm': [u'ConfusionAndStrain'],\n",
       " '33ku6f': [u'Galimar21'],\n",
       " '1y3b7w': [],\n",
       " 'dz8ml': [u'[deleted]', u'bill692', u'blondin', u'SicSemperHumanus'],\n",
       " '1l8tmq': [u'Mypeomissad'],\n",
       " '84lav': [],\n",
       " '2axmvg': [u'Alonebythelake'],\n",
       " '12yhri': [u'Talks_With_A_Lithp'],\n",
       " '37a753': [],\n",
       " '1hu3bo': [u'vanfullofpunx'],\n",
       " '1k7d4m': [u'emptylife753159'],\n",
       " '1hyb98': [u'[deleted]', u'TRUBored'],\n",
       " '1k4nn9': [],\n",
       " '1zzyai': [u'ja18960', u'ClassifiedServices'],\n",
       " 'djpv2': [u'justbarelyalive'],\n",
       " 'eboqt': [],\n",
       " '2v299v': [u'Max616'],\n",
       " '1tb5c2': [u'Uvabird', u'[deleted]', u'pvalentine'],\n",
       " 'vjdyr': [],\n",
       " '2qgui5': [u'moneytrees87'],\n",
       " 'hmnie': [u'ithrewthisoneaway'],\n",
       " '1vsu1i': [u'winter-_-soldier'],\n",
       " '84pvl': [],\n",
       " '1f3oyh': [u'[deleted]'],\n",
       " '2759nr': [u'sugarlava'],\n",
       " '1y6b8k': [],\n",
       " '3fhhqk': [u'thegirlwiththescars'],\n",
       " 'zw09o': [u'TheCharise98'],\n",
       " '196c0v': [u'Gummibar'],\n",
       " '16g3tn': [],\n",
       " 'bl1ax': [u'YTR333'],\n",
       " '2c0a8r': [u'[deleted]',\n",
       "  u'throwawaychilder',\n",
       "  u'Orthonut',\n",
       "  u'MarcusWilliamsII',\n",
       "  u'ThrowAway22789',\n",
       "  u'TiredPaedo'],\n",
       " 'h1ntd': [u'notsurewhattowrite'],\n",
       " '1gysnk': [u'nekolalia'],\n",
       " '3deskl': [],\n",
       " 'om9rg': [],\n",
       " '20maa2': [],\n",
       " 'e8dvt': [],\n",
       " '12mldk': [u'gninnets'],\n",
       " '1xxwjm': [],\n",
       " 'irj9l': [u'Im_Paralyzed'],\n",
       " '146vrv': [u'whosfaceisthat'],\n",
       " '278afz': [u'throwawaylastday2014'],\n",
       " 'osj73': [],\n",
       " '39wpmv': [u'heartbreak-gameover', u'thatgreatcanadianguy'],\n",
       " '1d9x1s': [u'throwaway23718'],\n",
       " '1tjc2p': [u'luv_trees', u'mrtoomin', u'barkynbonkers'],\n",
       " '1yxlfz': [u'thrw14958'],\n",
       " '1aoy42': [u'[deleted]'],\n",
       " 'ktstl': [],\n",
       " '2gd0dm': [u'throwaway011191'],\n",
       " '2bn3ju': [u'overtime_vulture'],\n",
       " 't9j4a': [],\n",
       " 'jkx1h': [u'FA-Q', u'TheFarm', u'interflop', u'[deleted]'],\n",
       " 'hou4l': [u'lowexpectations1'],\n",
       " '31aiv0': [u'MadisonGirlThrowaway'],\n",
       " '2oxaat': [u'maybeIshoulddie'],\n",
       " '1ynjf3': [u'copen3', u'[deleted]'],\n",
       " '1ujqfq': [u'sexynarwhale', u'Throwawayeverything5', u'whippogirl16'],\n",
       " '33q161': [],\n",
       " '154fcd': [],\n",
       " '1kpsqe': [],\n",
       " '1qsogg': [u'[deleted]'],\n",
       " '1xuf3t': [],\n",
       " '1xobq4': [u'CarDealersMinion'],\n",
       " '2qsxio': [u'swacatastrofe'],\n",
       " '2a3mxv': [u'What_I_Want'],\n",
       " '1ql6dd': [u'xoxoyoyo',\n",
       "  u'soverymanythrowaways',\n",
       "  u'[deleted]',\n",
       "  u'saltonopenwound'],\n",
       " 'ex7dj': [],\n",
       " '30pvq5': [],\n",
       " 'cq8wt': [u'[deleted]', u'WigInABox', u'Richeh'],\n",
       " '1hrprn': [u'kayfeif'],\n",
       " 'c75ua': [u'deppressionthrowaway'],\n",
       " '8hcxx': [],\n",
       " 'fz16s': [u'brainfuckup'],\n",
       " 'yix71': [u'[deleted]', u'TonyDiGerolamo', u'AmberHeartsDisney'],\n",
       " '1nn9vp': [],\n",
       " 'n75dz': [],\n",
       " '2xzldl': [u'BigTaker'],\n",
       " '9feke': [u'vagijn', u'notmyhandle'],\n",
       " '19o352': [u'Alwaysansoulution'],\n",
       " '1sclje': [],\n",
       " '8zv57': [u'bwbeer', u'everythingisntokay'],\n",
       " '1cdkcg': [u'Ptaylordactyl'],\n",
       " 'z5468': [],\n",
       " '1oeoeh': [u'[deleted]'],\n",
       " '33xu07': [u'mypoosmellsfunny'],\n",
       " '26i7k4': [u'SunsetBelle'],\n",
       " '2ecddj': [u'SamDean666'],\n",
       " '32ky1i': [u'throwaway53973'],\n",
       " 'ei3mj': [u'EchoBeta'],\n",
       " 't609z': [u'[deleted]', u'GreenLightning2010'],\n",
       " 'o49al': [],\n",
       " '1c6kbh': [u'downedmoon'],\n",
       " '2qi6re': [u'EllietheWalrus', u'CharlieMayhem', u'[deleted]', u'4RLM'],\n",
       " 'qud3v': [],\n",
       " 'k4t03': [u'clearskies23'],\n",
       " '1cifgn': [u'MrEarlSnufflington'],\n",
       " 'dxrjt': [u'[deleted]',\n",
       "  u'ranautricularia',\n",
       "  u'soylantgreen',\n",
       "  u'jfowler27',\n",
       "  u'yeahyeahyeahyeah',\n",
       "  u'therewontberiots',\n",
       "  u'RoundSparrow',\n",
       "  u'Orangutan',\n",
       "  u'iceman-k'],\n",
       " '8cjkl': [],\n",
       " '13gqi1': [],\n",
       " '34ehor': [u'bigbadbiggie666'],\n",
       " '2dec6r': [u'[deleted]', u'JoeyZPD', u'YouDoneMessedUpAAron'],\n",
       " '1keaz8': [],\n",
       " 'os0bv': [u'BaranoBeefdip'],\n",
       " '190c2w': [u'r2_double_D2'],\n",
       " '295swf': [u'CharlieMayhem'],\n",
       " '26uwkf': [],\n",
       " 'sszrg': [u'dreamingdead'],\n",
       " '1514y5': [u'Ijus'],\n",
       " '2mswth': [u'Flaxmoore'],\n",
       " '196uu1': [u'they_found_me'],\n",
       " '2gtdn7': [],\n",
       " '2t8741': [u'Stthads', u'Derpameaus'],\n",
       " 'dofa0': [u'throwitallaway8299'],\n",
       " '3btm8n': [u'finallycheckingout'],\n",
       " '31myy2': [],\n",
       " '1j9kzv': [],\n",
       " '1w7ji3': [u'throwawaylife33'],\n",
       " 'fut25': [u'[deleted]'],\n",
       " '39tamn': [u'Decent-84'],\n",
       " '2kjpar': [],\n",
       " 'eawp9': [u'whybother90'],\n",
       " '232tbm': [u'TheGattMan06'],\n",
       " '37ygo5': [u'Valserker'],\n",
       " 'n84ve': [],\n",
       " '2qyxbv': [],\n",
       " '2bx131': [u'ajakk', u'[deleted]'],\n",
       " 'd6w2o': [],\n",
       " 'dv35a': [u'ridicule'],\n",
       " 'yf4d7': [u'CigarettesAndHope'],\n",
       " '2uen0g': [u'_Oisin'],\n",
       " '1bhgik': [u'I_love_Kat'],\n",
       " 'ad0jz': [],\n",
       " 'o2duw': [u'Searching4hope'],\n",
       " 'dtcb2': [],\n",
       " 'axqrz': [u'RobSpewack'],\n",
       " '9pfcn': [],\n",
       " '2b5qpw': [],\n",
       " '2ij5ah': [u'[deleted]'],\n",
       " '2o0gzp': [u'[deleted]'],\n",
       " '1zunnf': [u'PlushNunchuck'],\n",
       " '1a5q2f': [u'ringsnmodules'],\n",
       " 'ig7et': [u'Throwaway7756353'],\n",
       " '2bftt0': [u'[deleted]', u'12awr', u'Neddy93'],\n",
       " 'u8jte': [u'selonnan'],\n",
       " '1ci0t4': [],\n",
       " '3ghqgr': [u'melusine00'],\n",
       " '1j7hvf': [],\n",
       " '1zfx8u': [u'thefinalthrow'],\n",
       " '1gpza8': [u'efgrhrehertgwrf'],\n",
       " 'gvb0g': [u'[deleted]'],\n",
       " '9pmog': [],\n",
       " '20m7ec': [u'altacct3'],\n",
       " '2hfcf7': [],\n",
       " '1c6b52': [u'byebyelater'],\n",
       " '1rt43f': [u'goodbyeall_'],\n",
       " '370znr': [u'[deleted]'],\n",
       " '2sg4ef': [u'[deleted]', u'jacobmcilravey', u'tg40', u'gogofuckio'],\n",
       " '2imoxg': [u'redditreviewer'],\n",
       " '2nwo3f': [u'-_--__--__'],\n",
       " 'fbks9': [u'gimpwiz', u'answersquestion'],\n",
       " '196ehz': [u'swthrowaway12'],\n",
       " '1c7gnl': [u'lylli88'],\n",
       " '38x5ey': [],\n",
       " 'djtwx': [u'sashalionheart'],\n",
       " '1nupcv': [u'Bandrea', u'[deleted]'],\n",
       " '2jnt99': [u'frohedadrine', u'c9h7', u'Tellmesomethinggood1'],\n",
       " '22rbsi': [u'protestor'],\n",
       " 'fmqx3': [u'DCBrunette'],\n",
       " 'n0c71': [],\n",
       " '2tp7ic': [u'how_do_i_life_please'],\n",
       " '99lf5': [],\n",
       " '7xgjg': [u'redbo'],\n",
       " 'c19mu': [u'Incogleeto'],\n",
       " '38rqa8': [u'-comfortablynumb-'],\n",
       " '1vkpaw': [u'[deleted]', u'Wolligepoes'],\n",
       " '2yvgk2': [u'hibachior45'],\n",
       " '2ujas7': [u'Chillimaniac'],\n",
       " 'oskec': [u'yourworstfrenemy'],\n",
       " '1u8kf7': [u'maskonamask'],\n",
       " '1v8krs': [u'[deleted]', u'MissusThrowaway'],\n",
       " '3fo44q': [u'LostInTheCity88'],\n",
       " '9nff7': [],\n",
       " '1tneir': [u'br0812'],\n",
       " '1iuemx': [u'crashusmaximus',\n",
       "  u'LaCalaveraTapatia',\n",
       "  u'woensdag333',\n",
       "  u'MadameNocnaMora',\n",
       "  u'ThatDirtyMick',\n",
       "  u'ravia'],\n",
       " '30o43o': [u'[deleted]', u'whateveritsme', u'birdiesss'],\n",
       " 'fvh2m': [],\n",
       " '3cdenm': [u'[deleted]'],\n",
       " '1ukkwj': [u'zigzwag', u'[deleted]', u'tilitilitiki'],\n",
       " '1vletn': [u'mls39'],\n",
       " '3fphpj': [u'TheDisposableGuy'],\n",
       " '3emwuz': [u'callmesubaru'],\n",
       " '2mk79q': [u'liztomaniac1836'],\n",
       " '20ygdg': [],\n",
       " '2532f6': [u'Ilickthegun', u'Friendly_drunk'],\n",
       " '2pm7rn': [],\n",
       " '2m162n': [u'patchthepartydog'],\n",
       " '3eaj31': [u'snakeeyes072'],\n",
       " '1elitj': [u'hansilsblood'],\n",
       " '224i1n': [u'GlowInTheDarkGoat'],\n",
       " '3bnf2o': [u'Purplegill10', u'CrastinatingLikeAPro'],\n",
       " '84n4j': [u'[deleted]',\n",
       "  u'duckspeed',\n",
       "  u'Sle',\n",
       "  u'Canadian_Infidel',\n",
       "  u'thephotoman'],\n",
       " 'sjocd': [u'throwaway6299'],\n",
       " '2j3ei6': [u'[deleted]'],\n",
       " '249lc2': [],\n",
       " '2qnrla': [u'[deleted]', u'Still_reporting_22', u'pinkkittylamp'],\n",
       " 'bg1c3': [],\n",
       " 'dg201': [u'throwaway0991'],\n",
       " '1h3ztv': [],\n",
       " 'v8507': [u'Kanerful', u'dabocim', u'ilovemykids'],\n",
       " 'f0qcd': [u'throwaway4341'],\n",
       " '10quov': [u'Kasdjkbaf'],\n",
       " '2xy7ev': [],\n",
       " 'bj87j': [u'Just_A_Thought', u'Psy-Kosh', u'RoundSparrow'],\n",
       " '1xb4tc': [],\n",
       " 'hqukl': [u'Calimhero', u'halpporfavor', u'jarlus'],\n",
       " '1h5yxx': [u'[deleted]'],\n",
       " '19pnnl': [],\n",
       " '17c24r': [u'justforthis5'],\n",
       " '20mlr5': [],\n",
       " 'gwvht': [],\n",
       " '90d7a': [],\n",
       " '2d750p': [u'WorldCivilian'],\n",
       " 'dtjpe': [],\n",
       " 'fm97g': [u'BelowTheVoid'],\n",
       " '288r7a': [u'haalidoodi'],\n",
       " 'oo64q': [u'squenis'],\n",
       " '2n705j': [u'nomroMehTeoJ'],\n",
       " '1kqdbt': [u'SlightlyOffensive'],\n",
       " 'e7vb1': [u'asdf4314fasdfxxxecr'],\n",
       " '1hdrxe': [u'swthrowaway3957'],\n",
       " 'u9n5h': [u'wanttoendit945'],\n",
       " '1ym3gb': [u'[deleted]', u'pentupentropy'],\n",
       " '20e3o2': [u'bktolife', u'[deleted]', u'Emptyglassofwhiskey', u'therudolph'],\n",
       " '17cgh8': [],\n",
       " '2ddysf': [u'IThinkiNeedHelp13'],\n",
       " 'xii0q': [u'pleasegodwhyme'],\n",
       " 'ujjet': [u'mybloodyballentine'],\n",
       " '2v5pr9': [u'SoLonelyIcant'],\n",
       " '3fjaqu': [u'[deleted]'],\n",
       " '2nbgl5': [u'4everawful'],\n",
       " 'f9v10': [],\n",
       " 'fwzqd': [],\n",
       " '35aesn': [u'Tikka_T3'],\n",
       " 'ugupn': [u'isothien', u'[deleted]', u'onholidays', u'Calimhero'],\n",
       " '2l62hb': [],\n",
       " '1avpqr': [u'continuousthrowaway'],\n",
       " 'sblxs': [],\n",
       " '267fcf': [u'Garnfaw', u'SQLwitch'],\n",
       " '8l4zs': [u'Buckleydog', u'gayguy', u'taejo'],\n",
       " '1r1qqn': [],\n",
       " '36fs0s': [u'[deleted]',\n",
       "  u'Mat_1993',\n",
       "  u'hingaginger',\n",
       "  u'throwawayinpa4',\n",
       "  u'ShameRefined'],\n",
       " '379ph2': [u'vanishingswords'],\n",
       " '1mxio3': [u'Itluna'],\n",
       " '3e1a39': [],\n",
       " '1jh77t': [u'throwawayurlife'],\n",
       " '88enn': [u'[deleted]',\n",
       "  u'maxwellhill',\n",
       "  u'xribbit',\n",
       "  u'chromakode',\n",
       "  u'Thumperings',\n",
       "  u'freakball'],\n",
       " 'i2jun': [],\n",
       " '1hexvu': [u'Miles1466'],\n",
       " '3b57ro': [u'[deleted]'],\n",
       " '1hqk07': [u'throwaway51691721114'],\n",
       " '1br0fq': [u'someone7015'],\n",
       " '1nrh5t': [u'[deleted]', u'Tamarynne', u'Here_to_talk'],\n",
       " '2nffyd': [u'GinaLadiee'],\n",
       " '3cvu48': [u'PalelyDistinguished'],\n",
       " 'l9caj': [u'ThatCanadianGuy99', u'Tichy', u'Pathetic_Ennui'],\n",
       " '2sr2hi': [u'kekty'],\n",
       " '2tom8t': [u'cabbageladyy'],\n",
       " '2k93xa': [],\n",
       " '7va4s': [u'yesiamanostrich', u'OctopusMan'],\n",
       " 'd6s9i': [],\n",
       " 'emocc': [],\n",
       " '2gvgm8': [u'losinitfast'],\n",
       " 'qm682': [u'OtherThrowAway'],\n",
       " '1d0hmx': [u'firefuck-1'],\n",
       " '2v4j63': [],\n",
       " '23h91s': [],\n",
       " '2807eb': [u'noonenone', u'Yeah_Yeah_No'],\n",
       " 'eq7r5': [u'Throwwawayy967'],\n",
       " '3ahjbc': [u'Nonexistent_Nate'],\n",
       " '2jand1': [u'c9h7', u'tytyshortfry'],\n",
       " '1iaa9b': [u'erfawesrhyetj'],\n",
       " '1l23qs': [u'nomorefapforme88', u'RageVsRage', u'The_Insane_Joker'],\n",
       " 'hmq7g': [],\n",
       " '1208e4': [],\n",
       " '83b8n': [u'Anonymous_Poster'],\n",
       " 'eu1hv': [u'[deleted]',\n",
       "  u'ralary',\n",
       "  u'zyzzogeton',\n",
       "  u'reveurenchante',\n",
       "  u'southernbrew08'],\n",
       " 'esd3c': [u'swishmaroon'],\n",
       " '22m1sy': [u'12345TA54321'],\n",
       " 'nbu4o': [],\n",
       " '39ih8s': [u'sjw111'],\n",
       " '3flmdd': [],\n",
       " '2lptr3': [u'R3Unit'],\n",
       " '7rtg8': [u'vagijn', u'[deleted]', u'Unlucky13'],\n",
       " '1s2lba': [],\n",
       " 'kylaf': [u'[deleted]',\n",
       "  u'Thinks_Like_A_Man',\n",
       "  u'spicycolleen',\n",
       "  u'field_mouse'],\n",
       " '3j4epa': [],\n",
       " '2avmcs': [u'artyChoas', u'Adjustique'],\n",
       " 'dvh2u': [],\n",
       " '27e95k': [u'isabum'],\n",
       " '22dbhg': [],\n",
       " '1upf7v': [],\n",
       " '10yvec': [],\n",
       " '3fpku1': [],\n",
       " '7s1s3': [],\n",
       " '1in3xi': [],\n",
       " '2qzyo1': [u'The_End_of_AllThings'],\n",
       " 'ksiry': [],\n",
       " '126rl0': [u'Nightsaber'],\n",
       " '34qcy0': [u'philosophagus'],\n",
       " 'oine5': [u'squee777'],\n",
       " '14hblp': [u'Tired1989'],\n",
       " '925ki': [u'bleepitybleep'],\n",
       " 'fgvcv': [u'Faustyna'],\n",
       " '26x2u3': [u'Disco_Bizket'],\n",
       " '18i7qz': [],\n",
       " 'ssebu': [u'Monicaesan'],\n",
       " '2jijwl': [u'im_not_in', u'sept27'],\n",
       " '1cnuue': [u'[deleted]',\n",
       "  u'cobaltcollapse',\n",
       "  u'Seveness',\n",
       "  u'mcnastyhands',\n",
       "  u'password_is_ent'],\n",
       " '2oghsn': [],\n",
       " '18xx37': [u'[deleted]'],\n",
       " '3984lx': [],\n",
       " 'aojkq': [],\n",
       " '1u34a3': [u'tatata000'],\n",
       " 'luuqp': [],\n",
       " '8u6g6': [],\n",
       " '1icel9': [],\n",
       " '2sarhd': [],\n",
       " '282ri0': [u'[deleted]', u'lucy_throwaway'],\n",
       " '18g57e': [u'[deleted]', u'blubster', u'PoodleWorkout'],\n",
       " 'ybc7z': [u'Examsmeanall'],\n",
       " '2rkw0g': [u'SpiceyWolf', u'[deleted]', u'lossortoss'],\n",
       " 'hojz5': [u'extreme_kiwi'],\n",
       " '1qi7fh': [],\n",
       " 'v15l5': [u'throwawayPOS'],\n",
       " '9tp47': [u'bleepitybleep', u'viborg', u'springtime'],\n",
       " '16667j': [u'throwaway123337'],\n",
       " 'gzx6p': [u'namahage'],\n",
       " 'e5ugh': [u'MCHAN04'],\n",
       " '35nh1o': [u'strykers12',\n",
       "  u'creepycreepercreepin',\n",
       "  u'Readysethorrible',\n",
       "  u'senorchewie'],\n",
       " 'eilag': [u'Ihatesociety'],\n",
       " '1n1hl4': [],\n",
       " 'g7m0a': [u'IneedApush'],\n",
       " '26e13e': [u'PinkiePai',\n",
       "  u'esther_mouse',\n",
       "  u'PM_ME_Y0UR_PROBLEM',\n",
       "  u'hookedOnOnyx'],\n",
       " '9bqem': [u'qgyh2', u'[deleted]', u'sekritkoad'],\n",
       " 'mf35p': [u'[deleted]', u'garrisb7514', u'Always_Sunny'],\n",
       " '245mkx': [u'[deleted]',\n",
       "  u'yummycorndog',\n",
       "  u'hyuga488',\n",
       "  u'AlwaysTodash',\n",
       "  u'necklessgiraffe',\n",
       "  u'maniacallore'],\n",
       " '1iorxy': [u'9FakeyMcFakerson9'],\n",
       " '1i3no5': [u'DunstilBrejik', u'SQLwitch', u'sulbeethemulbee'],\n",
       " 'ozgda': [],\n",
       " '1vtgs3': [],\n",
       " 'noh7h': [u'FinalChristmas'],\n",
       " '26xj1y': [u'[deleted]'],\n",
       " '2en2e7': [u'AmishAvenger'],\n",
       " 'nzmcj': [],\n",
       " '14g3gk': [],\n",
       " 'plg56': [u'tornandhopeless'],\n",
       " '2bw4f4': [u'haalidoodi'],\n",
       " 'fad32': [],\n",
       " '39xrki': [u'loveistruth'],\n",
       " '8dtil': [u'defrost', u'[deleted]'],\n",
       " '2uifn7': [u'Conrad-W'],\n",
       " '1obxxc': [u'Immessedupthrowaway'],\n",
       " 'xuqtz': [u'SpaaaceCore'],\n",
       " 'vf68i': [u'[deleted]', u'Social_Failure', u'cocomc'],\n",
       " '32ddhr': [],\n",
       " 'j8n6r': [u't-away1980'],\n",
       " 'gw18a': [u'RememberThatILoveYou'],\n",
       " '1jh0kq': [u'iwillbeyourshine', u'AndyH13'],\n",
       " '388nxp': [],\n",
       " '2y0v1k': [u'ThrowawayAcc504'],\n",
       " '2wd3ti': [u'Lostinmorbid', u'jinsei1'],\n",
       " '9uk7h': [u'[deleted]', u'Psy-Kosh', u'qgyh2', u'akair', u'RoundSparrow'],\n",
       " '2dcqni': [u'jim71989'],\n",
       " '2d9b05': [u'worthless-to-him'],\n",
       " '29lagb': [],\n",
       " '1ol3wv': [],\n",
       " '1lqn6l': [u'mitchwatts'],\n",
       " '21bie2': [u'PicardoMontalban'],\n",
       " '1z4zaw': [],\n",
       " 'rvsbv': [u'throwaw4y567'],\n",
       " '2bsi4f': [],\n",
       " 'grx4s': [u'mithrandir82', u'NoExpression'],\n",
       " '2v66ps': [u'Dickasaursrex'],\n",
       " '1cpmg2': [],\n",
       " '240cxb': [u'canyouhelp8'],\n",
       " 'wexkg': [u'flingawayaccount'],\n",
       " 'r13xv': [],\n",
       " 'ek9yx': [u'DeadMemories'],\n",
       " 'fr7ua': [],\n",
       " 'op6av': [],\n",
       " '2q1tfu': [],\n",
       " '20xux0': [u'happysaturday1'],\n",
       " '2lo40f': [],\n",
       " '19jzlg': [u'jacques_glock', u'Kynlo'],\n",
       " '38uolc': [u'Destany2002'],\n",
       " '1iil5z': [u'[deleted]', u'Rhymecreator'],\n",
       " '20v7y4': [u'[deleted]'],\n",
       " 'wu3em': [u'[deleted]'],\n",
       " '2ff664': [u'warriorman300', u'ageisp0lis', u'ARMIGER1'],\n",
       " '17x3rv': [],\n",
       " '1e9ggy': [u'emp7'],\n",
       " '2jg7j7': [],\n",
       " '20ok63': [],\n",
       " '26ffoi': [u'[deleted]', u'SufferingGradStudent'],\n",
       " '3e0pv9': [u'suffocatingly'],\n",
       " '19bvnb': [u'JumpingTurtles'],\n",
       " '29njf5': [u'the_wheaty'],\n",
       " '1us7g1': [u'Tianjin'],\n",
       " '2h6h73': [u'losinitfast'],\n",
       " '38eq8z': [],\n",
       " '23qgbl': [u'Suicidethrow1'],\n",
       " '2vgh9t': [u'altimatealt'],\n",
       " '84qz8': [u'[deleted]', u'MonkeyPilot'],\n",
       " '1x54sw': [u'tommyjohnpauljones'],\n",
       " '2o48t2': [u'[deleted]', u'JTHousek1'],\n",
       " '2frgqw': [u'nickw255'],\n",
       " 'd4sqy': [],\n",
       " '2uac1l': [u'DolanBrah'],\n",
       " '1hdvwm': [],\n",
       " '268ukb': [u'DragonsOfUganda'],\n",
       " '2413ye': [u'Hateforlove'],\n",
       " '1gevci': [u'I_AM_INTELIGENT'],\n",
       " '3i8sbf': [],\n",
       " '30ntxt': [u'Thefailuresthrowaway'],\n",
       " 'qrlvi': [u'uswduz'],\n",
       " '1col3x': [u'Codadd'],\n",
       " '130428': [],\n",
       " 'u3rog': [u'[deleted]', u'BurntFlower'],\n",
       " '2cmx44': [u'suicideormurdered'],\n",
       " '27zdoo': [u'the_wheaty'],\n",
       " 'icaib': [],\n",
       " '110n9b': [u'helpmybrother2012'],\n",
       " '2pcuxl': [u'spectrephoenix'],\n",
       " '2qcjim': [],\n",
       " 'dz030': [u'[deleted]', u'Iczznow', u'amajestikmoose'],\n",
       " 'ir361': [u'rwvfa3ek22'],\n",
       " 'n60z8': [],\n",
       " '1a9c88': [u'wtfbbqwhatev'],\n",
       " '1qi9v1': [u'[deleted]', u'awESOMEkward', u'circinia'],\n",
       " 'o3f9i': [u'Quitelonelynow'],\n",
       " '3bpczz': [u'finallycheckingout'],\n",
       " '26ih25': [u'Oldchap226'],\n",
       " '1az9a7': [u'[deleted]', u'LookCloserMyFriend', u'boccob'],\n",
       " 'f1djt': [u'vrava'],\n",
       " '101y8s': [u'NicoleDaisy'],\n",
       " '3351at': [u'itsliketwaaah'],\n",
       " 'mkwry': [u'CivilCJ'],\n",
       " '22l0vs': [u'Jesse402', u'[deleted]'],\n",
       " '17ksgq': [u'Decent-84'],\n",
       " '39w14w': [u'sonofherb'],\n",
       " '2xims6': [u'That_GareBear'],\n",
       " '39wk19': [u'neuuutral', u'TheBahamaLlama'],\n",
       " '19ea20': [u'ifeellikecrapreddit'],\n",
       " '3fcg8z': [u'yelracenna'],\n",
       " '37tbyv': [u'GolldenFalcon'],\n",
       " 'adolz': [u'IstayAway'],\n",
       " '2qnp0f': [u'IThinkItsAllOverNow'],\n",
       " '1sro3g': [u'soundsanxious'],\n",
       " '3czbvf': [],\n",
       " '32ajns': [u'TrevorCoreyLaheyy', u'RadicalMGuy', u'eminemi'],\n",
       " '1g1nmb': [u'BadWithPeoplesNames', u'ReyasWI'],\n",
       " 'bmqzq': [u'Ruby__Tuesday'],\n",
       " 'ui2pn': [],\n",
       " '9ey9i': [],\n",
       " '20lypp': [],\n",
       " 'fqu63': [u'Shattershift', u'cutitouttt'],\n",
       " '2re1as': [u'bamfbanki'],\n",
       " 'awwc1': [],\n",
       " '291rgl': [u'Troic'],\n",
       " '7tx29': [],\n",
       " 'mm6qt': [u'hugsforeveryone', u'MissRambeau', u'DiableJambe'],\n",
       " '3a8pwh': [u'gcdream'],\n",
       " 'pxzgt': [u'failure4lasttime'],\n",
       " '19uwzt': [u'icanusethis', u'[deleted]', u'Raymond890'],\n",
       " '20j7sq': [],\n",
       " '2bra4y': [u'[deleted]', u'ctrl_alt_believe'],\n",
       " 'auykj': [],\n",
       " '950dn': [],\n",
       " '2dawrm': [u'letsgoiowa'],\n",
       " '2om8vt': [u'walktotheedgeoflife'],\n",
       " '1hex8t': [u'sssyyynnn'],\n",
       " '13kjee': [u'[deleted]',\n",
       "  u'return-of-the-mac',\n",
       "  u'MrsVentura83',\n",
       "  u'Holmesymcgee',\n",
       "  u'sotiredofdarkness77'],\n",
       " 'yqg9w': [],\n",
       " '1w0230': [],\n",
       " '15hi3m': [u'swqq'],\n",
       " 'lulak': [u'Imsecretlyfapping'],\n",
       " '12ythh': [],\n",
       " '1v5v0s': [u'onethirteenforteen'],\n",
       " '1rognw': [u'[deleted]', u'Delixcroix', u'myowmyow', u'XisanXbeforeitsakiss'],\n",
       " '2ds6pr': [u'Queen_of_France69'],\n",
       " '2b90b3': [u'fifthninjaturtle'],\n",
       " 'mmf72': [],\n",
       " '3f4i4q': [],\n",
       " 'fhd2s': [],\n",
       " '2ug0xw': [u'BookWormBeccy'],\n",
       " '8lag0': [u'someoneotherthanelse'],\n",
       " 'qf7ty': [u'whatsthepointcharlie'],\n",
       " '2xvnbf': [],\n",
       " '14ktsw': [],\n",
       " 'iz3na': [u'throwingthislifeaway'],\n",
       " '3gfrvo': [u'[deleted]'],\n",
       " 'gdftk': [u'newtonsapple',\n",
       "  u'[deleted]',\n",
       "  u'The_Other_Me_Too',\n",
       "  u'bangsecks',\n",
       "  u'CannieAnnie'],\n",
       " '1wvf24': [u'throwaway383637'],\n",
       " '1pd0ax': [],\n",
       " '8oruk': [u'[deleted]'],\n",
       " '1pvxqn': [u'[deleted]', u'breathalicious'],\n",
       " '1sxrpb': [u'A_Great_Fool'],\n",
       " '1hv03j': [u'imwaistingaway'],\n",
       " 'zns7v': [u'Greevees'],\n",
       " '12jn0q': [u'throwawaysheba'],\n",
       " '24u5la': [u'youcaughtthelight'],\n",
       " '2gxenj': [u'upbeatdinosaur'],\n",
       " 'd7f38': [u'352174'],\n",
       " 'dcs2y': [u'wubwubwub'],\n",
       " '33jyf4': [],\n",
       " '320dq6': [u'TrevorCoreyLaheyy',\n",
       "  u'youngandconfused97',\n",
       "  u'KiKi011',\n",
       "  u'LupoBorracio'],\n",
       " '25xoqz': [u'nickmcnick'],\n",
       " 'th4kj': [],\n",
       " 'hz854': [],\n",
       " '1w01kk': [u'sublimeone'],\n",
       " '1o394u': [u'elliot148'],\n",
       " '16u0fw': [u'I_do_not_know_anymor'],\n",
       " '3gfbzh': [u'BurntRussian'],\n",
       " '189fid': [],\n",
       " '1of5yz': [u'Charmandzard'],\n",
       " 'q87d8': [u'Black_Visions'],\n",
       " 'ybkei': [u'hangman2000'],\n",
       " 'tpq4s': [u'65412356051'],\n",
       " '2ibvlx': [u'absolutelynothing0'],\n",
       " '3e5p5x': [],\n",
       " '1ym8gu': [u'c-dogg11'],\n",
       " '23707e': [u'sakfnklasfn'],\n",
       " '24iffl': [],\n",
       " '2a6jbw': [u'luxdesigns'],\n",
       " 'o8hib': [u'backpackwayne'],\n",
       " '119wsi': [u'Midnight-Raver'],\n",
       " 'c3ewk': [u'Orangutan',\n",
       "  u'OrthogonalThoughts',\n",
       "  u'[deleted]',\n",
       "  u'antimatter_16',\n",
       "  u'mrrandomman420'],\n",
       " '2cxspk': [u'flyersneversaydie'],\n",
       " '3aj2fd': [u'dramaoflife'],\n",
       " 'xb5dd': [],\n",
       " '2id0dv': [],\n",
       " '1grfk3': [u'[deleted]'],\n",
       " '1zkv02': [],\n",
       " 'e85sx': [u'dnieper'],\n",
       " 'iva22': [u'throwaway2694'],\n",
       " '1sqle7': [u'athrowaway4567'],\n",
       " 'tby5k': [u'[deleted]'],\n",
       " '2pqwts': [u'X-23'],\n",
       " 'deawh': [],\n",
       " '2jyjpe': [u'helpisnear', u'save_the_pigs', u'[deleted]'],\n",
       " '16omvx': [u'[deleted]'],\n",
       " 'rq46n': [u'eliotmc'],\n",
       " '2ntyta': [u'throwmeawaysoon666'],\n",
       " '1iy9rc': [],\n",
       " 'q4fcp': [],\n",
       " '2pwufb': [u'[deleted]', u'Terex80'],\n",
       " '1v05ua': [u'AMA_please'],\n",
       " '30y0rw': [u'BWwithYellowFever'],\n",
       " 'lt0p7': [],\n",
       " '3geoqw': [u'lokilullaby'],\n",
       " '1gtd34': [],\n",
       " '2578jh': [u'[deleted]', u'oldandgreat'],\n",
       " '1dpr3u': [u'thisisathrowaway44'],\n",
       " '2q0sah': [u'LordOfXixalba', u'hornless_unicorn_'],\n",
       " '2bh0rw': [u'[deleted]',\n",
       "  u'Applesauce136',\n",
       "  u'GoddessOfSecrets',\n",
       "  u'ligthing_and_light',\n",
       "  u'ugly_fatass'],\n",
       " '23owjs': [],\n",
       " '3aqs9o': [u'sibig99', u'soupastar'],\n",
       " '1keyda': [u'NetCracker'],\n",
       " 'ejrpr': [],\n",
       " '1tfnf4': [],\n",
       " '15u964': [],\n",
       " '2teet0': [u'minimalistperson'],\n",
       " '3a74qp': [],\n",
       " '1xn84n': [u'[deleted]', u'swanyMcswan'],\n",
       " '2l7f23': [],\n",
       " '2dyinr': [u'Lysca'],\n",
       " 'e6a6h': [u'wanttothrowitaway'],\n",
       " '1dkhmq': [u'l337chica'],\n",
       " '1gmtmt': [u'idontcareifhesees'],\n",
       " '1ofovq': [u'Why_Wouldnt_I'],\n",
       " '1etl3l': [u'Labasura67'],\n",
       " '32y4cd': [u'worthless247'],\n",
       " '2vrocq': [u'[deleted]', u'meffbag', u'joshw220'],\n",
       " 'guwvi': [u'brembeew'],\n",
       " 'ubicw': [u'why_should_I_exist'],\n",
       " '3cgiji': [u'[deleted]', u'ArarielFett'],\n",
       " '2apw3b': [u'dyingsoon2014'],\n",
       " '3781sr': [u'[deleted]'],\n",
       " '235ofa': [u'Throwaway842946'],\n",
       " 't1rrk': [u'cantescape'],\n",
       " '1vxfsb': [u'brutallybipolar'],\n",
       " '1ivdhm': [u'Thrownaway125'],\n",
       " '15sjaa': [u'KrovUbiitsy'],\n",
       " 'jqf95': [u'rockon4life45'],\n",
       " '2ljq26': [u'ThrowawayEachDay'],\n",
       " '3gfg66': [],\n",
       " '1dpwg9': [],\n",
       " 'zzgv3': [u'throwingitaway32'],\n",
       " 'rvyp0': [u'Mahshelf'],\n",
       " '8f6wk': [],\n",
       " '20spdz': [u'Dawnkeeper'],\n",
       " 'ji7to': [u'[deleted]', u'limabeans45', u'sgnmac'],\n",
       " '34a8wo': [u'JackSylvane'],\n",
       " '1kb743': [u'Axemurdererpenguin', u'entdave'],\n",
       " '1ojsjo': [u'FallsLikeAFeather'],\n",
       " '2kub8g': [u'WhyTry3'],\n",
       " 'zjkpk': [u'[deleted]', u'DC_Law', u'errbodiesmad'],\n",
       " '3ak5mn': [u'Losingthebattleagain'],\n",
       " 'xkm29': [u'[deleted]', u'BombTheFuckers'],\n",
       " 'tagtc': [u'AnonAndNotProud'],\n",
       " 'gtxpm': [u'ThrowawaySWmk'],\n",
       " '2jpsp4': [u'PawnMakesTheWaves'],\n",
       " 'h0gwj': [u'desperationthrowaway'],\n",
       " '2jvi8j': [u'[deleted]', u'Evilista', u'ThatGuyFromOhio'],\n",
       " 'mduan': [u'WhenItRainsItPours2'],\n",
       " 'qvo3i': [u'Krysis'],\n",
       " '99tte': [u'bluegerm'],\n",
       " '2wn34i': [u'[deleted]', u'redeen', u'tyrannis'],\n",
       " '3bkf2b': [u'VeryManyDisorders'],\n",
       " '30uccn': [u'anotherdepressedcunt'],\n",
       " '9w0m8': [u'Neuraxis', u'RoundSparrow', u'[deleted]'],\n",
       " '1d7c2c': [],\n",
       " '22926q': [u'firstsnowfall',\n",
       "  u'ja18960',\n",
       "  u'Throwitallaway333',\n",
       "  u'ThaneAquilon'],\n",
       " '2a172z': [u'pointlessaccount09'],\n",
       " '1n1ln2': [u'Anti74'],\n",
       " 'twr9l': [u'omnipotant', u'[deleted]'],\n",
       " '2zvf90': [u'[deleted]', u'memory_card'],\n",
       " 'ku5ua': [u'stapleherdick'],\n",
       " '2mmgqn': [],\n",
       " 'alhyu': [u'jfadz', u'Eschomp', u'[deleted]', u'RoundSparrow'],\n",
       " '2aos12': [u'[deleted]'],\n",
       " '22m9a1': [],\n",
       " '1t2hxd': [],\n",
       " '8oi5g': [u'bleepitybleep', u'defrost', u'bluegerm', u'countingspoons'],\n",
       " '1637qm': [u'[deleted]', u'thatgayguyfromnz'],\n",
       " '2to3ev': [u'Razors_and_Ink'],\n",
       " '2w5f25': [],\n",
       " '2e1y38': [u'DebtAndDeath'],\n",
       " '2iccsa': [u'onemorebackpack'],\n",
       " 'do1tc': [u'Kulikant'],\n",
       " '2xrpj3': [u'Absyrd'],\n",
       " 'gm04l': [u'[deleted]', u'evilhemptress'],\n",
       " 'dz956': [u'lonelylonelysoul'],\n",
       " 'aa5e2': [u'itsaShillalright'],\n",
       " '379n6y': [u'we_will_be_fine'],\n",
       " 'ytvf7': [u'Jasperodus'],\n",
       " '26k0f4': [u'haalidoodi'],\n",
       " '2lt8oo': [],\n",
       " 'jjvi1': [],\n",
       " 'pxcky': [u'anaturalend88'],\n",
       " '1nccgk': [u'iwishicouldchangeit'],\n",
       " '13o4i5': [u'ProcrastinatingDeath'],\n",
       " '1nw0fr': [],\n",
       " '2ulx96': [],\n",
       " 'qq4h8': [],\n",
       " '7zv39': [u'stilesjp', u'sundogdayze'],\n",
       " '30f1zr': [u'agentcodyburke', u'Cousinsal23'],\n",
       " '2crn3j': [u'Omalleytac'],\n",
       " '3dnb4b': [u'Iapetos', u'skydart'],\n",
       " '1kv2hj': [u'foreverofbff'],\n",
       " '2ibkg0': [u'eliitti', u'jmont723'],\n",
       " '351z0g': [u'IamLonelyBrokenAngel'],\n",
       " '12khz8': [u'kandikittens'],\n",
       " '2brg9x': [u'No_Rope_Left'],\n",
       " '2qjrzd': [u'Max_d', u'[deleted]'],\n",
       " 'wbd0g': [u'[deleted]'],\n",
       " '2udgdd': [u'Eric_The_Red629'],\n",
       " '9d9o3': [],\n",
       " 'yzraq': [],\n",
       " 'q38ua': [],\n",
       " '11thnb': [u'Darkrai_'],\n",
       " 'hgx2r': [u'throwawaynametaken'],\n",
       " '1fscnv': [],\n",
       " 'y17c3': [u'SMora'],\n",
       " '7znvy': [u'[deleted]'],\n",
       " '18cwvz': [],\n",
       " 'e26xn': [],\n",
       " '36d3lg': [u'andrewfootos48'],\n",
       " '27s7fa': [u'The_Body', u'LittleNidorino'],\n",
       " '3ha8ce': [u'Lostgirl90'],\n",
       " 'd7bad': [],\n",
       " '3ak9qt': [],\n",
       " 'sc00m': [u'alltogether', u'[deleted]'],\n",
       " '3dybxq': [u'RotarySeven'],\n",
       " '3aa5rr': [u'[deleted]', u'omgitsaliv55'],\n",
       " '1howoc': [u'luckythegamer'],\n",
       " '1ctydv': [u'AlyceApocalypse'],\n",
       " '27cou5': [u'sad11234'],\n",
       " 'y8wsk': [u'Scraypeeraypees'],\n",
       " '2rtto1': [u'ArchHero'],\n",
       " '129p0v': [u'Throwaway98753231'],\n",
       " 'n0z9f': [u'qweennala'],\n",
       " '2snvk5': [u'sbinsandiego'],\n",
       " '1rqbgg': [u'j6sh'],\n",
       " '1kz5b2': [u'zesha'],\n",
       " 'u9yv6': [u'[deleted]'],\n",
       " 'gf2xw': [],\n",
       " 'wyiv8': [u'Rysona', u'[deleted]'],\n",
       " 'j6qmx': [],\n",
       " '2x33s1': [],\n",
       " '2w3its': [u'ThrownOfLies'],\n",
       " 'l3gn7': [u'anon33a'],\n",
       " '1cslue': [u'BenevolentSlutshamer'],\n",
       " '33psah': [u'pm-naked-indians'],\n",
       " '23vnzh': [u'throawaybears1234', u'Max616'],\n",
       " '10o85u': [u'youcantfiremeiquit'],\n",
       " 'wwtc2': [],\n",
       " 'du9wx': [u'jhnhines'],\n",
       " '2jkrea': [u'tigerpie9982'],\n",
       " '2ch6yd': [u'rya11111'],\n",
       " '1j0dsf': [u'nem2k'],\n",
       " 'feyjz': [],\n",
       " '1l8r8z': [u'[deleted]', u'irmavep'],\n",
       " 'hn1l3': [u'throwaway975312468'],\n",
       " '1hss1f': [],\n",
       " '8g23b': [u'Buckleydog'],\n",
       " '1xyzoz': [u'Savemethrownaway'],\n",
       " '2x83j0': [u'allthebees', u'arenotme'],\n",
       " '32aqf8': [],\n",
       " '2gtq5o': [u'deytookmyshell'],\n",
       " '1xbuwj': [u'Afeland'],\n",
       " '1mguws': [],\n",
       " '2iusvi': [u'obxtany'],\n",
       " '2bttpq': [],\n",
       " '2divro': [],\n",
       " '1fgfd4': [u'alixze', u'[deleted]'],\n",
       " '1yzozl': [u'needautorepair'],\n",
       " '2lfy1d': [u'laseralex', u'ja18960'],\n",
       " '37oyay': [u'[deleted]', u'deogy'],\n",
       " '31w4lj': [u'[deleted]',\n",
       "  u'montezumasleeping',\n",
       "  u'benusmc',\n",
       "  u'PintsizedPachyderm'],\n",
       " '2yv88t': [u'rossz-csillag'],\n",
       " 'ar5zc': [u'dwalkingwounded'],\n",
       " '3f963u': [u'[deleted]', u'lollerkeet', u'Camoral'],\n",
       " '33ryuf': [u'SuperNinja74'],\n",
       " '1r9h8t': [u'Throaway1234567891'],\n",
       " '1p6287': [u'throooooooooow_away'],\n",
       " 'tsg4t': [],\n",
       " ...}"
      ]
     },
     "execution_count": 9,
     "metadata": {},
     "output_type": "execute_result"
    }
   ],
   "source": [
    "BPUserDict"
   ]
  },
  {
   "cell_type": "code",
   "execution_count": 10,
   "metadata": {
    "ExecuteTime": {
     "end_time": "2018-02-16T17:01:09.760825Z",
     "start_time": "2018-02-16T17:01:09.751490Z"
    },
    "collapsed": true
   },
   "outputs": [],
   "source": [
    "bpnames = []\n",
    "for k in BPUserDict:\n",
    "    bpnames+=BPUserDict[k]"
   ]
  },
  {
   "cell_type": "code",
   "execution_count": 11,
   "metadata": {
    "ExecuteTime": {
     "end_time": "2018-02-16T17:01:10.450363Z",
     "start_time": "2018-02-16T17:01:10.444255Z"
    },
    "collapsed": true
   },
   "outputs": [],
   "source": [
    "bpnames = list(set(bpnames))"
   ]
  },
  {
   "cell_type": "code",
   "execution_count": 12,
   "metadata": {
    "ExecuteTime": {
     "end_time": "2018-02-16T17:01:10.971102Z",
     "start_time": "2018-02-16T17:01:10.968267Z"
    },
    "collapsed": true
   },
   "outputs": [],
   "source": [
    "# print bpnames"
   ]
  },
  {
   "cell_type": "code",
   "execution_count": 13,
   "metadata": {
    "ExecuteTime": {
     "end_time": "2018-02-16T17:01:11.455052Z",
     "start_time": "2018-02-16T17:01:11.452203Z"
    },
    "collapsed": true
   },
   "outputs": [],
   "source": [
    "# drawUserGraph(SW_Graphs.keys()[8])"
   ]
  },
  {
   "cell_type": "code",
   "execution_count": 14,
   "metadata": {
    "ExecuteTime": {
     "end_time": "2018-02-16T17:01:11.962746Z",
     "start_time": "2018-02-16T17:01:11.936328Z"
    },
    "collapsed": true
   },
   "outputs": [],
   "source": [
    "EmbeddingDir = \"/work/sagarj/Work/node2vec/emb_V2/\"\n",
    "\n",
    "embeddings = os.listdir(EmbeddingDir)\n",
    "\n",
    "embeddingDict = {}\n",
    "for emb in embeddings:\n",
    "    embId = emb.split('.')[0]\n",
    "    embeddingDict[embId] = EmbeddingDir + emb"
   ]
  },
  {
   "cell_type": "code",
   "execution_count": 15,
   "metadata": {
    "ExecuteTime": {
     "end_time": "2018-02-16T17:01:13.024637Z",
     "start_time": "2018-02-16T17:01:13.021198Z"
    },
    "collapsed": true
   },
   "outputs": [],
   "source": [
    "# embeddings=pd.read_csv(\"/work/sagarj/Work/node2vec/emb_V2/topicGiantGraph.emb\",sep=' ',skiprows=1,header=None)\n",
    "\n",
    "# len(embeddings)"
   ]
  },
  {
   "cell_type": "code",
   "execution_count": 16,
   "metadata": {
    "ExecuteTime": {
     "end_time": "2018-02-16T17:01:13.537582Z",
     "start_time": "2018-02-16T17:01:13.527722Z"
    },
    "collapsed": true
   },
   "outputs": [],
   "source": [
    "commonKeys = [k for k in BPUserDict if k in SW_Graphs]"
   ]
  },
  {
   "cell_type": "code",
   "execution_count": 17,
   "metadata": {
    "ExecuteTime": {
     "end_time": "2018-02-16T17:01:16.325286Z",
     "start_time": "2018-02-16T17:01:16.320455Z"
    }
   },
   "outputs": [
    {
     "data": {
      "text/plain": [
       "10157"
      ]
     },
     "execution_count": 17,
     "metadata": {},
     "output_type": "execute_result"
    }
   ],
   "source": [
    "len(commonKeys)"
   ]
  },
  {
   "cell_type": "code",
   "execution_count": 18,
   "metadata": {
    "ExecuteTime": {
     "end_time": "2018-02-16T17:01:18.063299Z",
     "start_time": "2018-02-16T17:01:18.059370Z"
    },
    "collapsed": true
   },
   "outputs": [],
   "source": [
    "# embeddings.head()\n",
    "\n",
    "# embDict = {}\n",
    "# for i in range(len(embeddings)):\n",
    "#     embDict[embeddings.iloc[i][0]] = np.asarray(embeddings.iloc[i][1:],dtype='float')                                         \n",
    "    "
   ]
  },
  {
   "cell_type": "code",
   "execution_count": 20,
   "metadata": {
    "ExecuteTime": {
     "end_time": "2018-02-16T17:01:33.531086Z",
     "start_time": "2018-02-16T17:01:33.527944Z"
    },
    "collapsed": true
   },
   "outputs": [],
   "source": [
    "# embDict['turdsandwich12345678']"
   ]
  },
  {
   "cell_type": "code",
   "execution_count": 21,
   "metadata": {
    "ExecuteTime": {
     "end_time": "2018-02-16T17:01:35.488172Z",
     "start_time": "2018-02-16T17:01:35.485110Z"
    },
    "collapsed": true
   },
   "outputs": [],
   "source": [
    "# embDict['SQLwitch']"
   ]
  },
  {
   "cell_type": "code",
   "execution_count": 29,
   "metadata": {
    "ExecuteTime": {
     "end_time": "2018-02-16T17:05:10.306690Z",
     "start_time": "2018-02-16T17:04:06.809716Z"
    },
    "collapsed": true
   },
   "outputs": [],
   "source": [
    "embDict = {}\n",
    "for k in commonKeys:\n",
    "    if(len(SW_Graphs[k].nodes()) > 1):\n",
    "        embDict[k] = {}\n",
    "        e = pd.read_csv(embeddingDict[k],sep=' ',skiprows=1,header=None)\n",
    "        for i in range(len(e)):\n",
    "            embDict[k][e.iloc[i][0]] = np.asarray(e.iloc[i][1:])"
   ]
  },
  {
   "cell_type": "code",
   "execution_count": 30,
   "metadata": {
    "ExecuteTime": {
     "end_time": "2018-02-16T17:05:13.083657Z",
     "start_time": "2018-02-16T17:05:13.078665Z"
    }
   },
   "outputs": [
    {
     "data": {
      "text/plain": [
       "8128"
      ]
     },
     "execution_count": 30,
     "metadata": {},
     "output_type": "execute_result"
    }
   ],
   "source": [
    "len(embDicts)"
   ]
  },
  {
   "cell_type": "code",
   "execution_count": 40,
   "metadata": {
    "ExecuteTime": {
     "end_time": "2018-02-16T17:07:26.214010Z",
     "start_time": "2018-02-16T17:07:26.200597Z"
    }
   },
   "outputs": [
    {
     "data": {
      "text/plain": [
       "{'Philofelinist': array([-0.007451, -0.039577, 0.096584, -0.166533, -0.0021579999999999998,\n",
       "        0.061472000000000006, -0.042688, -0.121477, -0.017478, -0.11796,\n",
       "        0.11326199999999999, -0.046428, 0.016294, -0.001009, -0.049175,\n",
       "        -0.039545, 0.020505000000000002, 0.060828, -0.032622000000000005,\n",
       "        0.070774, -0.024731, -0.13097899999999998, 0.096498, -0.163131,\n",
       "        -0.050852999999999995, -0.079599, 0.044863, 0.077044, -0.090964,\n",
       "        0.074741, -0.042436, 0.013685, 0.029639, 0.011420999999999999,\n",
       "        -0.068893, -0.009533, -0.12209500000000001, 0.085025,\n",
       "        -0.09513300000000001, -0.053116, -0.016587, -0.072737, -0.02054,\n",
       "        0.071825, -0.11534100000000001, 0.060386, 0.009506, -0.030099,\n",
       "        0.08304199999999999, 0.10599000000000001, -0.070561, -0.071675,\n",
       "        0.086427, -0.027944, 0.002414, 0.044247, -0.057061,\n",
       "        -0.009243000000000001, 0.053548, -0.026466000000000003, -0.133697,\n",
       "        -0.109926, 0.135681, -0.059783, -0.072025, -0.076788, 0.108472,\n",
       "        0.023719999999999998, -0.13073900000000002, -0.10862100000000001,\n",
       "        0.082005, -0.0019510000000000003, 0.037192, -0.063417, 0.064514,\n",
       "        0.025365000000000002, 0.038648, 0.149377, -0.172052, 0.144259,\n",
       "        -0.10467, 0.002803, 0.129695, -0.070576, 0.008359, -0.129382,\n",
       "        -0.029914999999999997, 0.10578299999999999, 0.054835,\n",
       "        0.11493199999999999, -0.070607, -0.020723, -0.044183,\n",
       "        0.024990000000000002, 0.13960999999999998, -0.11413499999999999,\n",
       "        0.133951, 0.086642, -0.019834, 0.086753, 0.016794, 0.140226,\n",
       "        0.065045, -0.105327, 0.065096, -0.018061, 0.0454,\n",
       "        0.033063999999999996, -0.032467, -0.138799, 0.042629, 0.121047,\n",
       "        0.011583, -0.062747, 0.09251799999999999, 0.048003, 0.065372,\n",
       "        0.079251, 0.010902, 0.124748, 0.065425, 0.072095, 0.010544,\n",
       "        -0.027087, -0.140901, 0.023148, -0.073558, 0.032188], dtype=object),\n",
       " 'TheDeluxeScar': array([-0.004122, -0.034325, 0.090541, -0.165154, 0.0008150000000000001,\n",
       "        0.058563, -0.041727, -0.122224, -0.017661000000000003, -0.118103,\n",
       "        0.114791, -0.048387, 0.019532, 0.0026899999999999997, -0.042178,\n",
       "        -0.036925, 0.027549, 0.062301, -0.028686, 0.07055800000000001,\n",
       "        -0.023368, -0.128832, 0.091967, -0.157379, -0.052836,\n",
       "        -0.07406499999999999, 0.037525, 0.069563, -0.091713, 0.068453,\n",
       "        -0.047764999999999995, 0.012205, 0.030422, 0.007279000000000001,\n",
       "        -0.07234299999999999, -0.0028079999999999997, -0.124223, 0.083107,\n",
       "        -0.089517, -0.055642, -0.010176000000000001, -0.067245,\n",
       "        -0.015508000000000001, 0.069469, -0.11433399999999999, 0.061915,\n",
       "        0.01201, -0.029468, 0.076464, 0.10257100000000001, -0.070985,\n",
       "        -0.070589, 0.08358, -0.032027999999999994, 0.006719, 0.038068,\n",
       "        -0.05655, -0.010312, 0.052457000000000004, -0.029764, -0.125099,\n",
       "        -0.103929, 0.127532, -0.052953999999999994, -0.06721, -0.069472,\n",
       "        0.101504, 0.020007, -0.127382, -0.109252, 0.079484, -0.002297,\n",
       "        0.034785, -0.061440999999999996, 0.063799, 0.028652999999999998,\n",
       "        0.032208999999999995, 0.14815599999999998, -0.163218, 0.136786,\n",
       "        -0.104307, -0.0030800000000000003, 0.12061, -0.06390499999999999,\n",
       "        0.00772, -0.13083699999999998, -0.027313999999999998,\n",
       "        0.10412300000000001, 0.052275, 0.115442, -0.06726599999999999,\n",
       "        -0.015438, -0.046127, 0.02025, 0.1311, -0.107089, 0.133206,\n",
       "        0.087484, -0.015328999999999999, 0.0801, 0.017174000000000002,\n",
       "        0.134494, 0.063058, -0.102159, 0.063859, -0.016091,\n",
       "        0.049897000000000004, 0.031094, -0.034762, -0.13633900000000002,\n",
       "        0.037279, 0.123399, 0.007916, -0.065381, 0.08712, 0.046147,\n",
       "        0.061443, 0.080373, 0.016477000000000002, 0.116926, 0.064224,\n",
       "        0.067634, 0.012888, -0.025827999999999997, -0.137759,\n",
       "        0.016515000000000002, -0.06737, 0.032632], dtype=object),\n",
       " '[deleted]': array([-0.004082, -0.032291, 0.0811, -0.143301, 1e-05,\n",
       "        0.056974000000000004, -0.039755, -0.10945799999999999, -0.016527,\n",
       "        -0.10507899999999999, 0.097838, -0.038027, 0.017199000000000002,\n",
       "        -0.002971, -0.040137, -0.035606, 0.024635, 0.053038, -0.027879,\n",
       "        0.06436499999999999, -0.021633000000000003, -0.114747, 0.081094,\n",
       "        -0.14379, -0.046494, -0.06503300000000001, 0.039956, 0.065929,\n",
       "        -0.07896399999999999, 0.067817, -0.040257999999999995,\n",
       "        0.012941999999999999, 0.028512, 0.009604000000000001, -0.062825,\n",
       "        -0.0059, -0.11208199999999999, 0.073739, -0.080836, -0.046807,\n",
       "        -0.008095, -0.06598, -0.017736000000000002, 0.058677, -0.098906,\n",
       "        0.057947000000000005, 0.012922999999999999, -0.026694, 0.072738,\n",
       "        0.089303, -0.066327, -0.059823, 0.07919, -0.026958999999999997,\n",
       "        0.002878, 0.034237000000000004, -0.055425, -0.011295999999999999,\n",
       "        0.041424, -0.028143, -0.11608800000000001, -0.093459, 0.116549,\n",
       "        -0.051754999999999995, -0.060712999999999996, -0.069868, 0.092336,\n",
       "        0.016316999999999998, -0.11218199999999999, -0.098633,\n",
       "        0.07522999999999999, -0.002437, 0.02882, -0.056724000000000004,\n",
       "        0.05380700000000001, 0.026948000000000003, 0.036114999999999994,\n",
       "        0.13403099999999998, -0.153835, 0.127831, -0.094989, -0.004416,\n",
       "        0.11315599999999999, -0.05848, 0.007548, -0.114247, -0.026806,\n",
       "        0.09201000000000001, 0.042588, 0.105154, -0.059519, -0.015596,\n",
       "        -0.036213, 0.018683, 0.124824, -0.10292000000000001, 0.118574,\n",
       "        0.073879, -0.017307, 0.074726, 0.01242, 0.125444, 0.058641,\n",
       "        -0.087008, 0.051705999999999995, -0.018987, 0.045453, 0.030675,\n",
       "        -0.028299, -0.120398, 0.034857, 0.1118, 0.011533, -0.057137,\n",
       "        0.084313, 0.041760000000000005, 0.051859, 0.07034, 0.015758,\n",
       "        0.10476400000000001, 0.057567999999999994, 0.065222, 0.008042,\n",
       "        -0.026320999999999997, -0.119834, 0.016208, -0.061187, 0.02456],\n",
       "       dtype=object),\n",
       " 'sadsexthrowaway': array([-0.001559, -0.038518000000000004, 0.09785, -0.174176, 3.8e-05,\n",
       "        0.066013, -0.042782, -0.129549, -0.017658, -0.125637,\n",
       "        0.12167599999999999, -0.047593, 0.017896000000000002, -0.003638,\n",
       "        -0.049781, -0.041832, 0.029042000000000002, 0.06191699999999999,\n",
       "        -0.029702999999999997, 0.080029, -0.026565, -0.135,\n",
       "        0.09816799999999999, -0.169004, -0.060176, -0.079024, 0.041848,\n",
       "        0.081876, -0.097574, 0.076664, -0.053176, 0.013456000000000001,\n",
       "        0.032205000000000004, 0.013305, -0.077165, -0.005908, -0.132556,\n",
       "        0.089736, -0.098049, -0.057821000000000004, -0.012527, -0.08115,\n",
       "        -0.022323, 0.072399, -0.12329100000000001, 0.068627, 0.01605,\n",
       "        -0.034151, 0.086088, 0.111159, -0.07739, -0.074186, 0.089874,\n",
       "        -0.032283, 0.007742, 0.038689999999999995, -0.062456,\n",
       "        -0.009512999999999999, 0.052320000000000005, -0.031702999999999995,\n",
       "        -0.13959000000000002, -0.11151099999999999, 0.14060999999999998,\n",
       "        -0.057612000000000003, -0.07215, -0.076004, 0.11288599999999999,\n",
       "        0.021504, -0.134572, -0.119272, 0.082038, -0.00534, 0.033844,\n",
       "        -0.06669800000000001, 0.066227, 0.02669, 0.037912, 0.157005,\n",
       "        -0.180288, 0.153344, -0.110928, -0.0026969999999999997,\n",
       "        0.13283299999999998, -0.070526, 0.013793999999999999, -0.139514,\n",
       "        -0.027175, 0.109867, 0.057711, 0.121268, -0.07191, -0.017373,\n",
       "        -0.046729, 0.019257, 0.14638900000000002, -0.118835,\n",
       "        0.14016800000000001, 0.088575, -0.017041, 0.089399,\n",
       "        0.020058000000000003, 0.148805, 0.06793300000000001,\n",
       "        -0.10986199999999999, 0.06525, -0.023324, 0.050523, 0.036426,\n",
       "        -0.033989, -0.145759, 0.043532, 0.131617, 0.014256, -0.065078,\n",
       "        0.09754199999999999, 0.05595, 0.065839, 0.078863,\n",
       "        0.012365000000000001, 0.12917, 0.066488, 0.078287, 0.00847,\n",
       "        -0.028373000000000002, -0.145517, 0.019219, -0.071301,\n",
       "        0.037018999999999996], dtype=object),\n",
       " 'tryify': array([-0.006658, -0.036406, 0.098687, -0.177051, 0.002592, 0.06201,\n",
       "        -0.041752, -0.127356, -0.014386000000000001, -0.123108, 0.116425,\n",
       "        -0.042866, 0.012073, -0.0008289999999999999, -0.052371, -0.037417,\n",
       "        0.025308, 0.060562, -0.032699, 0.072901, -0.030562, -0.139586,\n",
       "        0.100108, -0.17210799999999998, -0.052897, -0.080545, 0.047105,\n",
       "        0.075883, -0.090259, 0.074925, -0.043725, 0.012725, 0.035688,\n",
       "        0.011225, -0.073188, -0.002183, -0.12601199999999999, 0.091073,\n",
       "        -0.099636, -0.052171, -0.015413, -0.073672, -0.01744,\n",
       "        0.07318200000000001, -0.116409, 0.06714500000000001,\n",
       "        0.013291999999999998, -0.031276, 0.089149, 0.113605, -0.077231,\n",
       "        -0.070292, 0.092504, -0.032396, 0.002425, 0.043048, -0.063999,\n",
       "        -0.0045590000000000006, 0.052816999999999996, -0.025112, -0.139482,\n",
       "        -0.11243, 0.139714, -0.06422, -0.076022, -0.080961,\n",
       "        0.11207400000000001, 0.028189, -0.13731600000000002,\n",
       "        -0.11019300000000001, 0.087154, 0.000678, 0.033456, -0.065929,\n",
       "        0.06436900000000001, 0.024128999999999998, 0.039777, 0.156589,\n",
       "        -0.181065, 0.147983, -0.10869000000000001, -0.0041530000000000004,\n",
       "        0.134499, -0.07399700000000001, 0.010888, -0.132297,\n",
       "        -0.028161000000000002, 0.11402799999999999, 0.053357, 0.121476,\n",
       "        -0.068516, -0.021159, -0.04964, 0.026652999999999996, 0.14445,\n",
       "        -0.12157899999999999, 0.139281, 0.08956599999999999, -0.018574,\n",
       "        0.08971, 0.022208000000000002, 0.148291, 0.06474099999999999,\n",
       "        -0.107994, 0.065179, -0.017515, 0.049455, 0.032565, -0.028011,\n",
       "        -0.145189, 0.03961, 0.12775899999999998, 0.017152, -0.069376,\n",
       "        0.095764, 0.048415, 0.06740800000000001, 0.083256, 0.013656,\n",
       "        0.132577, 0.070528, 0.07131699999999999, 0.012072,\n",
       "        -0.027554000000000002, -0.14894000000000002, 0.026082, -0.075774,\n",
       "        0.034319], dtype=object)}"
      ]
     },
     "execution_count": 40,
     "metadata": {},
     "output_type": "execute_result"
    }
   ],
   "source": [
    "embDicts[embDicts.keys()[1]]"
   ]
  },
  {
   "cell_type": "code",
   "execution_count": 31,
   "metadata": {
    "ExecuteTime": {
     "end_time": "2018-02-16T17:05:15.540583Z",
     "start_time": "2018-02-16T17:05:15.537389Z"
    },
    "collapsed": true
   },
   "outputs": [],
   "source": [
    "# with open(\"SW_Whole_EmbeddingDictionary.pkl\",'wb') as f:\n",
    "#     pickle.dump(embDict,f)"
   ]
  },
  {
   "cell_type": "code",
   "execution_count": 32,
   "metadata": {
    "ExecuteTime": {
     "end_time": "2018-02-16T17:05:17.090193Z",
     "start_time": "2018-02-16T17:05:17.083219Z"
    }
   },
   "outputs": [
    {
     "data": {
      "text/plain": [
       "{u'Philofelinist': 0.5,\n",
       " u'TheDeluxeScar': 0.4444444444444444,\n",
       " u'[deleted]': 0.5,\n",
       " u'sadsexthrowaway': 0.8,\n",
       " u'tryify': 0.6666666666666666}"
      ]
     },
     "execution_count": 32,
     "metadata": {},
     "output_type": "execute_result"
    }
   ],
   "source": [
    "nx.closeness_centrality(SW_Graphs[SW_Graphs.keys()[1]].to_undirected())"
   ]
  },
  {
   "cell_type": "code",
   "execution_count": 43,
   "metadata": {
    "ExecuteTime": {
     "end_time": "2018-02-16T17:11:41.954130Z",
     "start_time": "2018-02-16T17:11:39.328026Z"
    },
    "collapsed": true
   },
   "outputs": [],
   "source": [
    "BPFeats=[]\n",
    "SPFeats=[]\n",
    "medianClusteringBP = []\n",
    "medianClusteringSP = []\n",
    "BPsizes = []\n",
    "SPsizes = []\n",
    "for k in embDict:\n",
    "    medClustering = np.median(nx.closeness_centrality(SW_Graphs[k].to_undirected()).values())\n",
    "    if len(BPUserDict[k]) > 0:\n",
    "        users = SW_Graphs[k].nodes()\n",
    "        i = random.choice(users)\n",
    "        if(len(SW_Graphs[k].nodes()) > 1):\n",
    "            medianClusteringBP.append(medClustering)\n",
    "        for i in BPUserDict[k]:\n",
    "            if i in embDict[k]:\n",
    "                a = np.concatenate((embDict[k][i], np.array([1])))\n",
    "                BPFeats.append(a)\n",
    "            else:\n",
    "                print \"user not found in the embeddings\"\n",
    "    else:\n",
    "        for i in SW_Graphs[k].nodes():\n",
    "            if(len(SW_Graphs[k].nodes()) > 1):\n",
    "                medianClusteringSP.append(medClustering)\n",
    "            if i in embDict[k]:\n",
    "                a = np.concatenate((embDict[k][i], np.array([0])))\n",
    "                SPFeats.append(a)\n",
    "            else:\n",
    "                print \"user not found in the embeddings\""
   ]
  },
  {
   "cell_type": "code",
   "execution_count": 44,
   "metadata": {
    "ExecuteTime": {
     "end_time": "2018-02-16T17:11:45.591806Z",
     "start_time": "2018-02-16T17:11:45.296041Z"
    }
   },
   "outputs": [
    {
     "data": {
      "image/png": "[encoded data removed]",
      "text/plain": [
       "<matplotlib.figure.Figure at 0x7fc03602bed0>"
      ]
     },
     "metadata": {},
     "output_type": "display_data"
    }
   ],
   "source": [
    "fig, ax = plt.subplots()\n",
    "fig.set_size_inches(15, 10)\n",
    "n1 , bins1 , patches1 = plt.hist(medianClusteringBP, 1000, normed=1,histtype='step', cumulative=True,linewidth = 2.0)\n",
    "n2 , bins2 , patches2 = plt.hist(medianClusteringSP, 1000, normed=1,histtype='step', cumulative=True,linewidth = 2.0)\n",
    "\n",
    "plt.title(\"Closeness Centrality of User interaction Graphs\", fontsize = 20)\n",
    "plt.xlabel(\"Median Centrality\",fontsize = 20)\n",
    "plt.ylabel(\"CDF\",fontsize = 20)\n",
    "plt.legend(['SW Graphs with BP','SW Graphs without BP'], loc='lower right',fontsize=15)\n",
    "plt.xticks(fontsize=15)\n",
    "plt.yticks(fontsize=15)\n",
    "# plt.grid()\n",
    "plt.show()"
   ]
  },
  {
   "cell_type": "code",
   "execution_count": 45,
   "metadata": {
    "ExecuteTime": {
     "end_time": "2018-02-16T17:11:50.568820Z",
     "start_time": "2018-02-16T17:11:50.563605Z"
    }
   },
   "outputs": [
    {
     "data": {
      "text/plain": [
       "(11018, 25951)"
      ]
     },
     "execution_count": 45,
     "metadata": {},
     "output_type": "execute_result"
    }
   ],
   "source": [
    "len(BPFeats) , len(SPFeats)"
   ]
  },
  {
   "cell_type": "code",
   "execution_count": 46,
   "metadata": {
    "ExecuteTime": {
     "end_time": "2018-02-16T17:11:52.047198Z",
     "start_time": "2018-02-16T17:11:52.030525Z"
    }
   },
   "outputs": [
    {
     "name": "stdout",
     "output_type": "stream",
     "text": [
      "22036\n"
     ]
    }
   ],
   "source": [
    "sampledSPFeats = random.sample(SPFeats,len(BPFeats))\n",
    "# sampledBPFeats = random.sample(BPFeats,len(SPFeats))\n",
    "\n",
    "totFeats = BPFeats + sampledSPFeats\n",
    "# totFeats = sampledBPFeats + SPFeats\n",
    "print len(totFeats)\n"
   ]
  },
  {
   "cell_type": "code",
   "execution_count": 47,
   "metadata": {
    "ExecuteTime": {
     "end_time": "2018-02-16T17:11:53.664254Z",
     "start_time": "2018-02-16T17:11:53.214027Z"
    }
   },
   "outputs": [
    {
     "name": "stdout",
     "output_type": "stream",
     "text": [
      "(22036, 129)\n"
     ]
    }
   ],
   "source": [
    "featMatrix = np.asmatrix(totFeats,dtype=float)\n",
    "print featMatrix.shape\n",
    "np.random.shuffle(featMatrix)"
   ]
  },
  {
   "cell_type": "code",
   "execution_count": 48,
   "metadata": {
    "ExecuteTime": {
     "end_time": "2018-02-16T17:11:54.555676Z",
     "start_time": "2018-02-16T17:11:54.534202Z"
    },
    "collapsed": true
   },
   "outputs": [],
   "source": [
    "from sklearn import cross_validation\n",
    "from sklearn.metrics import mean_squared_error\n",
    "from sklearn.ensemble import RandomForestClassifier \n",
    "from sklearn.cross_validation import cross_val_score\n",
    "from sklearn.metrics import f1_score\n",
    "from sklearn.metrics import accuracy_score\n",
    "from sklearn.metrics import precision_recall_fscore_support"
   ]
  },
  {
   "cell_type": "code",
   "execution_count": 49,
   "metadata": {
    "ExecuteTime": {
     "end_time": "2018-02-16T17:12:19.972673Z",
     "start_time": "2018-02-16T17:11:56.026135Z"
    },
    "collapsed": true
   },
   "outputs": [],
   "source": [
    "X_train, X_test, y_train, y_test = cross_validation.train_test_split(featMatrix[:,:-1], featMatrix[:,-1], test_size=0.2, random_state=9876)\n",
    "\n",
    "clfRF = RandomForestClassifier(n_estimators=1000 , max_features = 'sqrt', random_state = 9386, n_jobs=12)\n",
    "clfRF.fit(X_train, y_train)\n",
    "RF_predict = clfRF.predict(X_test)"
   ]
  },
  {
   "cell_type": "code",
   "execution_count": 50,
   "metadata": {
    "ExecuteTime": {
     "end_time": "2018-02-16T17:12:19.988399Z",
     "start_time": "2018-02-16T17:12:19.975821Z"
    }
   },
   "outputs": [
    {
     "name": "stdout",
     "output_type": "stream",
     "text": [
      "0.914533622559653 0.9768303985171455 0.9446560609455524\n"
     ]
    },
    {
     "data": {
      "text/plain": [
       "0.9439655172413793"
      ]
     },
     "execution_count": 50,
     "metadata": {},
     "output_type": "execute_result"
    }
   ],
   "source": [
    "precision , recall , fscore , _ = precision_recall_fscore_support(y_test, RF_predict, average='binary')\n",
    "\n",
    "print precision,recall,fscore\n",
    "\n",
    "accuracy_score(y_test , RF_predict)"
   ]
  },
  {
   "cell_type": "code",
   "execution_count": 51,
   "metadata": {
    "ExecuteTime": {
     "end_time": "2018-02-16T17:12:27.323480Z",
     "start_time": "2018-02-16T17:12:27.320156Z"
    },
    "collapsed": true
   },
   "outputs": [],
   "source": [
    "from sklearn.decomposition import PCA"
   ]
  },
  {
   "cell_type": "code",
   "execution_count": 52,
   "metadata": {
    "ExecuteTime": {
     "end_time": "2018-02-16T17:12:28.577498Z",
     "start_time": "2018-02-16T17:12:28.335885Z"
    },
    "collapsed": true
   },
   "outputs": [],
   "source": [
    "pca = PCA(n_components=2)\n",
    "pca_result = pca.fit_transform(featMatrix[:,:-1])"
   ]
  },
  {
   "cell_type": "code",
   "execution_count": 53,
   "metadata": {
    "ExecuteTime": {
     "end_time": "2018-02-16T17:12:30.078851Z",
     "start_time": "2018-02-16T17:12:30.073956Z"
    }
   },
   "outputs": [
    {
     "name": "stdout",
     "output_type": "stream",
     "text": [
      "Explained variation per principal component: [0.10082673 0.01364065]\n"
     ]
    }
   ],
   "source": [
    "print 'Explained variation per principal component: {}'.format(pca.explained_variance_ratio_)"
   ]
  },
  {
   "cell_type": "code",
   "execution_count": 73,
   "metadata": {
    "ExecuteTime": {
     "end_time": "2018-02-16T17:30:13.391996Z",
     "start_time": "2018-02-16T17:29:20.798919Z"
    }
   },
   "outputs": [
    {
     "name": "stdout",
     "output_type": "stream",
     "text": [
      "[t-SNE] Computing pairwise distances...\n",
      "[t-SNE] Computing 241 nearest neighbors...\n",
      "[t-SNE] Computed conditional probabilities for sample 1000 / 3000\n",
      "[t-SNE] Computed conditional probabilities for sample 2000 / 3000\n",
      "[t-SNE] Computed conditional probabilities for sample 3000 / 3000\n",
      "[t-SNE] Mean sigma: 0.022950\n",
      "[t-SNE] KL divergence after 100 iterations with early exaggeration: 0.763411\n",
      "[t-SNE] Error after 300 iterations: 0.763411\n",
      "t-SNE done! Time elapsed: 52.583990097 seconds\n"
     ]
    }
   ],
   "source": [
    "import time\n",
    "\n",
    "from sklearn.manifold import TSNE\n",
    "\n",
    "n_sne = 3000\n",
    "\n",
    "time_start = time.time()\n",
    "tsne = TSNE(n_components=2, verbose=1, perplexity=80, n_iter=300)\n",
    "tsne_results = tsne.fit_transform(featMatrix[:3000,:-1])\n",
    "\n",
    "print 't-SNE done! Time elapsed: {} seconds'.format(time.time()-time_start) "
   ]
  },
  {
   "cell_type": "code",
   "execution_count": 74,
   "metadata": {
    "ExecuteTime": {
     "end_time": "2018-02-16T17:30:13.756454Z",
     "start_time": "2018-02-16T17:30:13.394332Z"
    }
   },
   "outputs": [
    {
     "data": {
      "image/png": "[encoded data removed]",
      "text/plain": [
       "<matplotlib.figure.Figure at 0x7fc0bbbbffd0>"
      ]
     },
     "metadata": {},
     "output_type": "display_data"
    },
    {
     "data": {
      "text/plain": [
       "<ggplot: (8779110010089)>"
      ]
     },
     "execution_count": 74,
     "metadata": {},
     "output_type": "execute_result"
    }
   ],
   "source": [
    "from ggplot import *\n",
    "df_tsne = pd.DataFrame()\n",
    "df_tsne['x-tsne'] = tsne_results[:3000,0]\n",
    "df_tsne['y-tsne'] = tsne_results[:3000,1]\n",
    "df_tsne['label'] = featMatrix[:3000,-1]\n",
    "\n",
    "chart = ggplot( df_tsne, aes(x='x-tsne', y='y-tsne', color='label') ) + geom_point(size=40,alpha=0.2) + ggtitle(\"tSNE dimensions coloured by category membership\")\n",
    "chart"
   ]
  },
  {
   "cell_type": "code",
   "execution_count": 335,
   "metadata": {
    "ExecuteTime": {
     "end_time": "2018-02-15T09:56:31.756149Z",
     "start_time": "2018-02-15T09:56:30.228126Z"
    },
    "collapsed": true
   },
   "outputs": [],
   "source": [
    "SW_AllGraph= pickle.load(open(\"/work/sagarj/Work/node2vec/graph/SW_GiantTopicGraph.pkl\",'rb'))"
   ]
  },
  {
   "cell_type": "code",
   "execution_count": 76,
   "metadata": {
    "ExecuteTime": {
     "end_time": "2018-02-16T18:25:12.254154Z",
     "start_time": "2018-02-16T18:25:12.241918Z"
    }
   },
   "outputs": [],
   "source": [
    "def findMedianCentrality(graph):\n",
    "    return np.median(nx.closeness_centrality(graph.to_undirected()).values())\n",
    "\n",
    "def findTopicalEdgeWeight(graph):\n",
    "    edges = graph.edges(data=True)\n",
    "    meantopical = float(sum([e[2]['weight'] for e in edges]))/float(len(edges))\n",
    "    return meantopical\n",
    "\n",
    "def findTopicSpread(graph):\n",
    "    edges = graph.edges(data=True)\n",
    "    edgeTopics = [e[2]['weight'] for e in edges]\n",
    "    return (float(max(edgeTopics)) - float(min(edgeTopics)))\n",
    "    "
   ]
  },
  {
   "cell_type": "code",
   "execution_count": 86,
   "metadata": {
    "ExecuteTime": {
     "end_time": "2018-02-16T18:27:14.517525Z",
     "start_time": "2018-02-16T18:27:14.510862Z"
    }
   },
   "outputs": [
    {
     "name": "stdout",
     "output_type": "stream",
     "text": [
      "0.4666666666666667 0.0566973467709 0.344755244755\n"
     ]
    }
   ],
   "source": [
    "k = SW_Graphs.keys()[134]\n",
    "print findMedianCentrality(SW_Graphs[k]) ,findTopicalEdgeWeight(SW_Graphs[k]), findTopicSpread(SW_Graphs[k])"
   ]
  },
  {
   "cell_type": "code",
   "execution_count": 99,
   "metadata": {
    "ExecuteTime": {
     "end_time": "2018-02-16T18:58:00.615159Z",
     "start_time": "2018-02-16T18:57:58.110440Z"
    }
   },
   "outputs": [],
   "source": [
    "BPNWFeats=[]\n",
    "SPNWFeats=[]\n",
    "for k in BPUserDict:\n",
    "    if len(SW_Graphs[k].edges()) > 0:\n",
    "        a= [findMedianCentrality(SW_Graphs[k]), findTopicalEdgeWeight(SW_Graphs[k]) , findTopicSpread(SW_Graphs[k])]\n",
    "        if len(BPUserDict[k]) > 0:\n",
    "            a.append(1.0)\n",
    "            BPNWFeats.append(a)\n",
    "        else:\n",
    "            a.append(0.0)\n",
    "            SPNWFeats.append(a)"
   ]
  },
  {
   "cell_type": "code",
   "execution_count": 100,
   "metadata": {
    "ExecuteTime": {
     "end_time": "2018-02-16T18:58:00.620159Z",
     "start_time": "2018-02-16T18:58:00.616899Z"
    }
   },
   "outputs": [
    {
     "data": {
      "text/plain": [
       "(7331, 2823)"
      ]
     },
     "execution_count": 100,
     "metadata": {},
     "output_type": "execute_result"
    }
   ],
   "source": [
    "len(BPNWFeats) , len(SPNWFeats)"
   ]
  },
  {
   "cell_type": "code",
   "execution_count": 101,
   "metadata": {
    "ExecuteTime": {
     "end_time": "2018-02-16T18:58:01.526400Z",
     "start_time": "2018-02-16T18:58:01.518884Z"
    }
   },
   "outputs": [
    {
     "name": "stdout",
     "output_type": "stream",
     "text": [
      "5646\n"
     ]
    }
   ],
   "source": [
    "sampledBPFeats = random.sample(BPNWFeats,len(SPNWFeats))\n",
    "# sampledBPFeats = random.sample(BPFeats,len(SPFeats))\n",
    "\n",
    "totFeats = sampledBPFeats + SPNWFeats\n",
    "print len(totFeats)\n"
   ]
  },
  {
   "cell_type": "code",
   "execution_count": 102,
   "metadata": {
    "ExecuteTime": {
     "end_time": "2018-02-16T18:58:07.230101Z",
     "start_time": "2018-02-16T18:58:02.758516Z"
    }
   },
   "outputs": [
    {
     "name": "stdout",
     "output_type": "stream",
     "text": [
      "(5646, 5)\n",
      "1.0 1.0 1.0\n"
     ]
    },
    {
     "data": {
      "text/plain": [
       "1.0"
      ]
     },
     "execution_count": 102,
     "metadata": {},
     "output_type": "execute_result"
    }
   ],
   "source": [
    "featMatrix = np.asmatrix(totFeats,dtype=float)\n",
    "print featMatrix.shape\n",
    "np.random.shuffle(featMatrix)\n",
    "X_train, X_test, y_train, y_test = cross_validation.train_test_split(featMatrix[:,:-1], featMatrix[:,-1], test_size=0.2, random_state=9876)\n",
    "\n",
    "clfRF = RandomForestClassifier(n_estimators=1000 , max_features = 'sqrt', random_state = 9386, n_jobs=12)\n",
    "clfRF.fit(X_train, y_train)\n",
    "RF_predict = clfRF.predict(X_test)\n",
    "\n",
    "precision , recall , fscore , _ = precision_recall_fscore_support(y_test, RF_predict, average='binary')\n",
    "\n",
    "print precision,recall,fscore\n",
    "\n",
    "accuracy_score(y_test , RF_predict)"
   ]
  },
  {
   "cell_type": "code",
   "execution_count": 336,
   "metadata": {
    "ExecuteTime": {
     "end_time": "2018-02-15T09:56:32.333319Z",
     "start_time": "2018-02-15T09:56:32.326124Z"
    }
   },
   "outputs": [
    {
     "data": {
      "text/plain": [
       "31049"
      ]
     },
     "execution_count": 336,
     "metadata": {},
     "output_type": "execute_result"
    }
   ],
   "source": [
    "len(SW_AllGraph.nodes())"
   ]
  },
  {
   "cell_type": "code",
   "execution_count": 337,
   "metadata": {
    "ExecuteTime": {
     "end_time": "2018-02-15T09:56:36.994718Z",
     "start_time": "2018-02-15T09:56:36.969861Z"
    },
    "collapsed": true
   },
   "outputs": [],
   "source": [
    "selfLoops =  SW_AllGraph.selfloop_edges()"
   ]
  },
  {
   "cell_type": "code",
   "execution_count": 341,
   "metadata": {
    "ExecuteTime": {
     "end_time": "2018-02-15T09:58:17.315346Z",
     "start_time": "2018-02-15T09:58:17.305767Z"
    },
    "collapsed": true
   },
   "outputs": [],
   "source": [
    "SW_AllGraph.remove_edges_from(selfLoops)"
   ]
  },
  {
   "cell_type": "code",
   "execution_count": 342,
   "metadata": {
    "ExecuteTime": {
     "end_time": "2018-02-15T09:59:12.638551Z",
     "start_time": "2018-02-15T09:58:18.228125Z"
    }
   },
   "outputs": [
    {
     "ename": "KeyboardInterrupt",
     "evalue": "",
     "output_type": "error",
     "traceback": [
      "\u001b[0;31m\u001b[0m",
      "\u001b[0;31mKeyboardInterrupt\u001b[0mTraceback (most recent call last)",
      "\u001b[0;32m<ipython-input-342-bc8cfc82a59e>\u001b[0m in \u001b[0;36m<module>\u001b[0;34m()\u001b[0m\n\u001b[0;32m----> 1\u001b[0;31m \u001b[0mrich_club\u001b[0m \u001b[0;34m=\u001b[0m \u001b[0mnx\u001b[0m\u001b[0;34m.\u001b[0m\u001b[0mrich_club_coefficient\u001b[0m\u001b[0;34m(\u001b[0m\u001b[0mSW_AllGraph\u001b[0m\u001b[0;34m.\u001b[0m\u001b[0mto_undirected\u001b[0m\u001b[0;34m(\u001b[0m\u001b[0;34m)\u001b[0m\u001b[0;34m,\u001b[0m \u001b[0mnormalized\u001b[0m\u001b[0;34m=\u001b[0m\u001b[0mTrue\u001b[0m  \u001b[0;34m,\u001b[0m \u001b[0mQ\u001b[0m \u001b[0;34m=\u001b[0m \u001b[0;36m500\u001b[0m \u001b[0;34m)\u001b[0m\u001b[0;34m\u001b[0m\u001b[0m\n\u001b[0m",
      "\u001b[0;32m/usr/local/lib/python2.7/dist-packages/networkx/algorithms/richclub.pyc\u001b[0m in \u001b[0;36mrich_club_coefficient\u001b[0;34m(G, normalized, Q)\u001b[0m\n\u001b[1;32m     72\u001b[0m         \u001b[0mR\u001b[0m \u001b[0;34m=\u001b[0m \u001b[0mG\u001b[0m\u001b[0;34m.\u001b[0m\u001b[0mcopy\u001b[0m\u001b[0;34m(\u001b[0m\u001b[0;34m)\u001b[0m\u001b[0;34m\u001b[0m\u001b[0m\n\u001b[1;32m     73\u001b[0m         \u001b[0mE\u001b[0m \u001b[0;34m=\u001b[0m \u001b[0mR\u001b[0m\u001b[0;34m.\u001b[0m\u001b[0mnumber_of_edges\u001b[0m\u001b[0;34m(\u001b[0m\u001b[0;34m)\u001b[0m\u001b[0;34m\u001b[0m\u001b[0m\n\u001b[0;32m---> 74\u001b[0;31m         \u001b[0mnx\u001b[0m\u001b[0;34m.\u001b[0m\u001b[0mdouble_edge_swap\u001b[0m\u001b[0;34m(\u001b[0m\u001b[0mR\u001b[0m\u001b[0;34m,\u001b[0m\u001b[0mQ\u001b[0m\u001b[0;34m*\u001b[0m\u001b[0mE\u001b[0m\u001b[0;34m,\u001b[0m\u001b[0mmax_tries\u001b[0m\u001b[0;34m=\u001b[0m\u001b[0mQ\u001b[0m\u001b[0;34m*\u001b[0m\u001b[0mE\u001b[0m\u001b[0;34m*\u001b[0m\u001b[0;36m10\u001b[0m\u001b[0;34m)\u001b[0m\u001b[0;34m\u001b[0m\u001b[0m\n\u001b[0m\u001b[1;32m     75\u001b[0m         \u001b[0mrcran\u001b[0m\u001b[0;34m=\u001b[0m\u001b[0m_compute_rc\u001b[0m\u001b[0;34m(\u001b[0m\u001b[0mR\u001b[0m\u001b[0;34m)\u001b[0m\u001b[0;34m\u001b[0m\u001b[0m\n\u001b[1;32m     76\u001b[0m         \u001b[0;32mfor\u001b[0m \u001b[0md\u001b[0m \u001b[0;32min\u001b[0m \u001b[0mrc\u001b[0m\u001b[0;34m:\u001b[0m\u001b[0;34m\u001b[0m\u001b[0m\n",
      "\u001b[0;32m/usr/local/lib/python2.7/dist-packages/networkx/algorithms/swap.pyc\u001b[0m in \u001b[0;36mdouble_edge_swap\u001b[0;34m(G, nswap, max_tries)\u001b[0m\n\u001b[1;32m     85\u001b[0m         \u001b[0;31m# choose target uniformly from neighbors\u001b[0m\u001b[0;34m\u001b[0m\u001b[0;34m\u001b[0m\u001b[0m\n\u001b[1;32m     86\u001b[0m         \u001b[0mv\u001b[0m\u001b[0;34m=\u001b[0m\u001b[0mrandom\u001b[0m\u001b[0;34m.\u001b[0m\u001b[0mchoice\u001b[0m\u001b[0;34m(\u001b[0m\u001b[0mlist\u001b[0m\u001b[0;34m(\u001b[0m\u001b[0mG\u001b[0m\u001b[0;34m[\u001b[0m\u001b[0mu\u001b[0m\u001b[0;34m]\u001b[0m\u001b[0;34m)\u001b[0m\u001b[0;34m)\u001b[0m\u001b[0;34m\u001b[0m\u001b[0m\n\u001b[0;32m---> 87\u001b[0;31m         \u001b[0my\u001b[0m\u001b[0;34m=\u001b[0m\u001b[0mrandom\u001b[0m\u001b[0;34m.\u001b[0m\u001b[0mchoice\u001b[0m\u001b[0;34m(\u001b[0m\u001b[0mlist\u001b[0m\u001b[0;34m(\u001b[0m\u001b[0mG\u001b[0m\u001b[0;34m[\u001b[0m\u001b[0mx\u001b[0m\u001b[0;34m]\u001b[0m\u001b[0;34m)\u001b[0m\u001b[0;34m)\u001b[0m\u001b[0;34m\u001b[0m\u001b[0m\n\u001b[0m\u001b[1;32m     88\u001b[0m         \u001b[0;32mif\u001b[0m \u001b[0mv\u001b[0m\u001b[0;34m==\u001b[0m\u001b[0my\u001b[0m\u001b[0;34m:\u001b[0m\u001b[0;34m\u001b[0m\u001b[0m\n\u001b[1;32m     89\u001b[0m             \u001b[0;32mcontinue\u001b[0m \u001b[0;31m# same target, skip\u001b[0m\u001b[0;34m\u001b[0m\u001b[0m\n",
      "\u001b[0;31mKeyboardInterrupt\u001b[0m: "
     ]
    }
   ],
   "source": [
    "rich_club = nx.rich_club_coefficient(SW_AllGraph.to_undirected(), normalized=True  , Q = 100 )"
   ]
  },
  {
   "cell_type": "code",
   "execution_count": null,
   "metadata": {
    "ExecuteTime": {
     "end_time": "2018-02-15T09:59:12.639682Z",
     "start_time": "2018-02-15T09:58:20.178Z"
    },
    "collapsed": true
   },
   "outputs": [],
   "source": [
    "rich_club = pickle.load(open(\"RichCLubSWALL.pkl\",'rb'))"
   ]
  },
  {
   "cell_type": "code",
   "execution_count": null,
   "metadata": {
    "ExecuteTime": {
     "end_time": "2018-02-15T09:59:12.640895Z",
     "start_time": "2018-02-15T09:58:20.742Z"
    },
    "collapsed": true
   },
   "outputs": [],
   "source": [
    "rich_club_values = [rich_club[k] for k in rich_club if k < 600]"
   ]
  },
  {
   "cell_type": "code",
   "execution_count": null,
   "metadata": {
    "ExecuteTime": {
     "end_time": "2018-02-15T09:59:12.642032Z",
     "start_time": "2018-02-15T09:58:21.384Z"
    },
    "collapsed": true
   },
   "outputs": [],
   "source": [
    "fig, ax = plt.subplots()\n",
    "fig.set_size_inches(15, 10)\n",
    "plt.plot(rich_club_values,'b-',linewidth = 2.0)\n",
    "plt.title(\"Unweighted Normalized Rich Club coefficients for Suicide watch SubReddit\", fontsize = 20)\n",
    "plt.xlabel(\"Degree\",fontsize = 20)\n",
    "plt.ylabel(\"Coefficient value\",fontsize = 20)\n",
    "#plt.legend(['pMatrix' , 'mMatrix'], loc='upper left')\n",
    "plt.yticks(np.arange(0,1.2,0.1))\n",
    "plt.xticks(np.arange(0,650 ,20),rotation=45 ,fontsize=12)\n",
    "# plt.grid()\n",
    "plt.show()"
   ]
  },
  {
   "cell_type": "code",
   "execution_count": null,
   "metadata": {
    "ExecuteTime": {
     "end_time": "2018-02-15T09:59:12.643290Z",
     "start_time": "2018-02-15T09:58:21.917Z"
    },
    "collapsed": true
   },
   "outputs": [],
   "source": [
    "# with open(\"RichCLubSWALL.pkl\",'wb') as f: \n",
    "#     pickle.dump(rich_club,f)"
   ]
  },
  {
   "cell_type": "code",
   "execution_count": 343,
   "metadata": {
    "ExecuteTime": {
     "end_time": "2018-02-15T09:59:31.194871Z",
     "start_time": "2018-02-15T09:59:19.106184Z"
    },
    "collapsed": true
   },
   "outputs": [],
   "source": [
    "SW_clustering = nx.clustering(SW_AllGraph.to_undirected())"
   ]
  },
  {
   "cell_type": "code",
   "execution_count": 344,
   "metadata": {
    "ExecuteTime": {
     "end_time": "2018-02-15T09:59:31.228856Z",
     "start_time": "2018-02-15T09:59:31.196486Z"
    },
    "collapsed": true
   },
   "outputs": [],
   "source": [
    "SW_degrees = nx.degree(SW_AllGraph)"
   ]
  },
  {
   "cell_type": "code",
   "execution_count": 345,
   "metadata": {
    "ExecuteTime": {
     "end_time": "2018-02-15T09:59:45.797532Z",
     "start_time": "2018-02-15T09:59:31.230542Z"
    },
    "collapsed": true
   },
   "outputs": [],
   "source": [
    "BP_degree = [SW_degrees[k]+1 for k in SW_degrees if k in bpnames]\n",
    "BL_degree = random.sample([SW_degrees[k]+1 for k in SW_degrees if k not in bpnames],len(BP_degree))"
   ]
  },
  {
   "cell_type": "code",
   "execution_count": 346,
   "metadata": {
    "ExecuteTime": {
     "end_time": "2018-02-15T09:59:45.809384Z",
     "start_time": "2018-02-15T09:59:45.799172Z"
    },
    "collapsed": true
   },
   "outputs": [],
   "source": [
    "# print SW_clustering"
   ]
  },
  {
   "cell_type": "code",
   "execution_count": 347,
   "metadata": {
    "ExecuteTime": {
     "end_time": "2018-02-15T10:00:00.658508Z",
     "start_time": "2018-02-15T09:59:45.812367Z"
    },
    "collapsed": true
   },
   "outputs": [],
   "source": [
    "BP_clustering = [SW_clustering[k] for k in SW_clustering if k in bpnames]\n",
    "BL_clustering = random.sample([SW_clustering[k] for k in SW_clustering if k not in bpnames],len(BP_clustering))"
   ]
  },
  {
   "cell_type": "code",
   "execution_count": 348,
   "metadata": {
    "ExecuteTime": {
     "end_time": "2018-02-15T10:00:00.890886Z",
     "start_time": "2018-02-15T10:00:00.660248Z"
    }
   },
   "outputs": [
    {
     "data": {
      "image/png": "[encoded data removed]",
      "text/plain": [
       "<matplotlib.figure.Figure at 0x7f14adecf650>"
      ]
     },
     "metadata": {},
     "output_type": "display_data"
    }
   ],
   "source": [
    "fig, ax = plt.subplots()\n",
    "fig.set_size_inches(15, 10)\n",
    "n1 , bins1 , patches1 = plt.hist(BP_clustering, 1000, normed=1,histtype='step', cumulative=True,linewidth = 2.0)\n",
    "n2 , bins2 , patches2 = plt.hist(BL_clustering, 1000, normed=1,histtype='step', cumulative=True,linewidth = 2.0)\n",
    "plt.title(\"Clustering coefficients of BP/non-BP users across SW dataset\", fontsize = 20)\n",
    "plt.xlabel(\"Clustering coefficient\",fontsize = 20)\n",
    "plt.ylabel(\"CDF\",fontsize = 20)\n",
    "plt.legend(['Clustering coefficients of BP','Clustering Coefficients of non-BP'], loc='lower right',fontsize=15)\n",
    "plt.xticks(fontsize=15)\n",
    "plt.yticks(fontsize=15)\n",
    "# plt.grid()\n",
    "plt.show()"
   ]
  },
  {
   "cell_type": "code",
   "execution_count": 349,
   "metadata": {
    "ExecuteTime": {
     "end_time": "2018-02-15T10:00:01.131327Z",
     "start_time": "2018-02-15T10:00:00.892367Z"
    }
   },
   "outputs": [
    {
     "data": {
      "image/png": "[encoded data removed]",
      "text/plain": [
       "<matplotlib.figure.Figure at 0x7f14f8799ed0>"
      ]
     },
     "metadata": {},
     "output_type": "display_data"
    }
   ],
   "source": [
    "fig, ax = plt.subplots()\n",
    "fig.set_size_inches(15, 10)\n",
    "n1 , bins1 , patches1 = plt.hist(np.log10(BP_degree), 1000, normed=1,histtype='step', cumulative=True,linewidth = 2.0)\n",
    "n2 , bins2 , patches2 = plt.hist(np.log10(BL_degree), 1000, normed=1,histtype='step', cumulative=True,linewidth = 2.0)\n",
    "\n",
    "plt.title(\"Degree distributions of BP/non-BP users across SW dataset\", fontsize = 20)\n",
    "plt.xlabel(\"Degree log10\",fontsize = 20)\n",
    "plt.ylabel(\"CDF\",fontsize = 20)\n",
    "plt.legend(['Degree Distribution of BP','Degree Distribution of non-BP'], loc='lower right',fontsize=15)\n",
    "plt.xticks(fontsize=15)\n",
    "plt.yticks(fontsize=15)\n",
    "# plt.grid()\n",
    "plt.show()"
   ]
  },
  {
   "cell_type": "code",
   "execution_count": null,
   "metadata": {
    "collapsed": true
   },
   "outputs": [],
   "source": []
  }
 ],
 "metadata": {
  "kernelspec": {
   "display_name": "Python 2",
   "language": "python",
   "name": "python2"
  },
  "language_info": {
   "codemirror_mode": {
    "name": "ipython",
    "version": 2
   },
   "file_extension": ".py",
   "mimetype": "text/x-python",
   "name": "python",
   "nbconvert_exporter": "python",
   "pygments_lexer": "ipython2",
   "version": "2.7.12"
  },
  "toc": {
   "colors": {
    "hover_highlight": "#DAA520",
    "navigate_num": "#000000",
    "navigate_text": "#333333",
    "running_highlight": "#FF0000",
    "selected_highlight": "#FFD700",
    "sidebar_border": "#EEEEEE",
    "wrapper_background": "#FFFFFF"
   },
   "moveMenuLeft": true,
   "nav_menu": {
    "height": "12px",
    "width": "252px"
   },
   "navigate_menu": true,
   "number_sections": true,
   "sideBar": true,
   "threshold": 4,
   "toc_cell": false,
   "toc_section_display": "block",
   "toc_window_display": false,
   "widenNotebook": false
  }
 },
 "nbformat": 4,
 "nbformat_minor": 2
}
